{
 "cells": [
  {
   "cell_type": "code",
   "execution_count": 1,
   "metadata": {},
   "outputs": [],
   "source": [
    "import numpy as np\n",
    "import matplotlib.pyplot as plt\n",
    "import torch\n",
    "import torch.distributions as torchdist\n",
    "import torch.nn as nn\n",
    "import pandas as pd\n",
    "import numpy as np\n",
    "from tqdm import tqdm\n",
    "\n",
    "from torch.utils.data import DataLoader, Dataset\n",
    "from sklearn.model_selection import train_test_split\n",
    "from sklearn.preprocessing import LabelEncoder, StandardScaler"
   ]
  },
  {
   "cell_type": "code",
   "execution_count": 2,
   "metadata": {},
   "outputs": [],
   "source": [
    "pd.set_option('display.max_columns', 100)"
   ]
  },
  {
   "cell_type": "markdown",
   "metadata": {},
   "source": [
    "## EDA"
   ]
  },
  {
   "cell_type": "code",
   "execution_count": 16,
   "metadata": {
    "scrolled": true
   },
   "outputs": [
    {
     "data": {
      "text/html": [
       "<div>\n",
       "<style scoped>\n",
       "    .dataframe tbody tr th:only-of-type {\n",
       "        vertical-align: middle;\n",
       "    }\n",
       "\n",
       "    .dataframe tbody tr th {\n",
       "        vertical-align: top;\n",
       "    }\n",
       "\n",
       "    .dataframe thead th {\n",
       "        text-align: right;\n",
       "    }\n",
       "</style>\n",
       "<table border=\"1\" class=\"dataframe\">\n",
       "  <thead>\n",
       "    <tr style=\"text-align: right;\">\n",
       "      <th></th>\n",
       "      <th>id</th>\n",
       "      <th>種類</th>\n",
       "      <th>地域</th>\n",
       "      <th>市区町村コード</th>\n",
       "      <th>都道府県名</th>\n",
       "      <th>市区町村名</th>\n",
       "      <th>地区名</th>\n",
       "      <th>最寄駅：名称</th>\n",
       "      <th>最寄駅：距離（分）</th>\n",
       "      <th>間取り</th>\n",
       "      <th>面積（㎡）</th>\n",
       "      <th>土地の形状</th>\n",
       "      <th>間口</th>\n",
       "      <th>延床面積（㎡）</th>\n",
       "      <th>建築年</th>\n",
       "      <th>建物の構造</th>\n",
       "      <th>用途</th>\n",
       "      <th>今後の利用目的</th>\n",
       "      <th>前面道路：方位</th>\n",
       "      <th>前面道路：種類</th>\n",
       "      <th>前面道路：幅員（ｍ）</th>\n",
       "      <th>都市計画</th>\n",
       "      <th>建ぺい率（％）</th>\n",
       "      <th>容積率（％）</th>\n",
       "      <th>取引時点</th>\n",
       "      <th>改装</th>\n",
       "      <th>取引の事情等</th>\n",
       "      <th>y</th>\n",
       "    </tr>\n",
       "  </thead>\n",
       "  <tbody>\n",
       "    <tr>\n",
       "      <th>0</th>\n",
       "      <td>1</td>\n",
       "      <td>中古マンション等</td>\n",
       "      <td>NaN</td>\n",
       "      <td>13101</td>\n",
       "      <td>東京都</td>\n",
       "      <td>千代田区</td>\n",
       "      <td>飯田橋</td>\n",
       "      <td>飯田橋</td>\n",
       "      <td>1</td>\n",
       "      <td>２ＬＤＫ</td>\n",
       "      <td>55</td>\n",
       "      <td>NaN</td>\n",
       "      <td>NaN</td>\n",
       "      <td>NaN</td>\n",
       "      <td>昭和59年</td>\n",
       "      <td>ＳＲＣ</td>\n",
       "      <td>NaN</td>\n",
       "      <td>住宅</td>\n",
       "      <td>NaN</td>\n",
       "      <td>NaN</td>\n",
       "      <td>NaN</td>\n",
       "      <td>商業地域</td>\n",
       "      <td>80.0</td>\n",
       "      <td>600.0</td>\n",
       "      <td>2017年第４四半期</td>\n",
       "      <td>改装済</td>\n",
       "      <td>NaN</td>\n",
       "      <td>66.0</td>\n",
       "    </tr>\n",
       "    <tr>\n",
       "      <th>1</th>\n",
       "      <td>2</td>\n",
       "      <td>中古マンション等</td>\n",
       "      <td>NaN</td>\n",
       "      <td>13101</td>\n",
       "      <td>東京都</td>\n",
       "      <td>千代田区</td>\n",
       "      <td>飯田橋</td>\n",
       "      <td>飯田橋</td>\n",
       "      <td>5</td>\n",
       "      <td>１Ｋ</td>\n",
       "      <td>20</td>\n",
       "      <td>NaN</td>\n",
       "      <td>NaN</td>\n",
       "      <td>NaN</td>\n",
       "      <td>平成15年</td>\n",
       "      <td>ＲＣ</td>\n",
       "      <td>NaN</td>\n",
       "      <td>住宅</td>\n",
       "      <td>NaN</td>\n",
       "      <td>NaN</td>\n",
       "      <td>NaN</td>\n",
       "      <td>商業地域</td>\n",
       "      <td>80.0</td>\n",
       "      <td>500.0</td>\n",
       "      <td>2017年第４四半期</td>\n",
       "      <td>未改装</td>\n",
       "      <td>NaN</td>\n",
       "      <td>19.0</td>\n",
       "    </tr>\n",
       "    <tr>\n",
       "      <th>2</th>\n",
       "      <td>3</td>\n",
       "      <td>中古マンション等</td>\n",
       "      <td>NaN</td>\n",
       "      <td>13101</td>\n",
       "      <td>東京都</td>\n",
       "      <td>千代田区</td>\n",
       "      <td>飯田橋</td>\n",
       "      <td>飯田橋</td>\n",
       "      <td>3</td>\n",
       "      <td>１ＬＤＫ</td>\n",
       "      <td>45</td>\n",
       "      <td>NaN</td>\n",
       "      <td>NaN</td>\n",
       "      <td>NaN</td>\n",
       "      <td>平成24年</td>\n",
       "      <td>ＲＣ</td>\n",
       "      <td>住宅</td>\n",
       "      <td>その他</td>\n",
       "      <td>NaN</td>\n",
       "      <td>NaN</td>\n",
       "      <td>NaN</td>\n",
       "      <td>商業地域</td>\n",
       "      <td>80.0</td>\n",
       "      <td>500.0</td>\n",
       "      <td>2017年第３四半期</td>\n",
       "      <td>未改装</td>\n",
       "      <td>NaN</td>\n",
       "      <td>37.0</td>\n",
       "    </tr>\n",
       "    <tr>\n",
       "      <th>3</th>\n",
       "      <td>4</td>\n",
       "      <td>中古マンション等</td>\n",
       "      <td>NaN</td>\n",
       "      <td>13101</td>\n",
       "      <td>東京都</td>\n",
       "      <td>千代田区</td>\n",
       "      <td>飯田橋</td>\n",
       "      <td>飯田橋</td>\n",
       "      <td>5</td>\n",
       "      <td>１Ｒ</td>\n",
       "      <td>20</td>\n",
       "      <td>NaN</td>\n",
       "      <td>NaN</td>\n",
       "      <td>NaN</td>\n",
       "      <td>平成15年</td>\n",
       "      <td>ＲＣ</td>\n",
       "      <td>住宅</td>\n",
       "      <td>住宅</td>\n",
       "      <td>NaN</td>\n",
       "      <td>NaN</td>\n",
       "      <td>NaN</td>\n",
       "      <td>商業地域</td>\n",
       "      <td>80.0</td>\n",
       "      <td>500.0</td>\n",
       "      <td>2017年第３四半期</td>\n",
       "      <td>未改装</td>\n",
       "      <td>NaN</td>\n",
       "      <td>18.0</td>\n",
       "    </tr>\n",
       "    <tr>\n",
       "      <th>4</th>\n",
       "      <td>5</td>\n",
       "      <td>宅地(土地と建物)</td>\n",
       "      <td>商業地</td>\n",
       "      <td>13101</td>\n",
       "      <td>東京都</td>\n",
       "      <td>千代田区</td>\n",
       "      <td>飯田橋</td>\n",
       "      <td>飯田橋</td>\n",
       "      <td>3</td>\n",
       "      <td>NaN</td>\n",
       "      <td>80</td>\n",
       "      <td>ほぼ台形</td>\n",
       "      <td>6.8</td>\n",
       "      <td>330</td>\n",
       "      <td>昭和61年</td>\n",
       "      <td>ＲＣ</td>\n",
       "      <td>住宅、事務所、店舗</td>\n",
       "      <td>事務所</td>\n",
       "      <td>南西</td>\n",
       "      <td>区道</td>\n",
       "      <td>8.0</td>\n",
       "      <td>商業地域</td>\n",
       "      <td>80.0</td>\n",
       "      <td>500.0</td>\n",
       "      <td>2017年第２四半期</td>\n",
       "      <td>NaN</td>\n",
       "      <td>NaN</td>\n",
       "      <td>240.0</td>\n",
       "    </tr>\n",
       "  </tbody>\n",
       "</table>\n",
       "</div>"
      ],
      "text/plain": [
       "   id         種類   地域  市区町村コード 都道府県名 市区町村名  地区名 最寄駅：名称 最寄駅：距離（分）   間取り 面積（㎡）  \\\n",
       "0   1   中古マンション等  NaN    13101   東京都  千代田区  飯田橋    飯田橋         1  ２ＬＤＫ    55   \n",
       "1   2   中古マンション等  NaN    13101   東京都  千代田区  飯田橋    飯田橋         5    １Ｋ    20   \n",
       "2   3   中古マンション等  NaN    13101   東京都  千代田区  飯田橋    飯田橋         3  １ＬＤＫ    45   \n",
       "3   4   中古マンション等  NaN    13101   東京都  千代田区  飯田橋    飯田橋         5    １Ｒ    20   \n",
       "4   5  宅地(土地と建物)  商業地    13101   東京都  千代田区  飯田橋    飯田橋         3   NaN    80   \n",
       "\n",
       "  土地の形状   間口 延床面積（㎡）    建築年 建物の構造         用途 今後の利用目的 前面道路：方位 前面道路：種類  \\\n",
       "0   NaN  NaN     NaN  昭和59年   ＳＲＣ        NaN      住宅     NaN     NaN   \n",
       "1   NaN  NaN     NaN  平成15年    ＲＣ        NaN      住宅     NaN     NaN   \n",
       "2   NaN  NaN     NaN  平成24年    ＲＣ         住宅     その他     NaN     NaN   \n",
       "3   NaN  NaN     NaN  平成15年    ＲＣ         住宅      住宅     NaN     NaN   \n",
       "4  ほぼ台形  6.8     330  昭和61年    ＲＣ  住宅、事務所、店舗     事務所      南西      区道   \n",
       "\n",
       "   前面道路：幅員（ｍ）  都市計画  建ぺい率（％）  容積率（％）        取引時点   改装 取引の事情等      y  \n",
       "0         NaN  商業地域     80.0   600.0  2017年第４四半期  改装済    NaN   66.0  \n",
       "1         NaN  商業地域     80.0   500.0  2017年第４四半期  未改装    NaN   19.0  \n",
       "2         NaN  商業地域     80.0   500.0  2017年第３四半期  未改装    NaN   37.0  \n",
       "3         NaN  商業地域     80.0   500.0  2017年第３四半期  未改装    NaN   18.0  \n",
       "4         8.0  商業地域     80.0   500.0  2017年第２四半期  NaN    NaN  240.0  "
      ]
     },
     "execution_count": 16,
     "metadata": {},
     "output_type": "execute_result"
    }
   ],
   "source": [
    "df_train = pd.read_csv('../data/real_estate/train_data.csv')\n",
    "df_train.head()"
   ]
  },
  {
   "cell_type": "markdown",
   "metadata": {},
   "source": [
    "種類ごとに分ける\n",
    "とりあえず使える特徴量\n",
    "\n",
    "|列名|データ型|欠損割合|検討|備考|\n",
    "|:--|---|---|---|\n",
    "|市区町村名          |object|0.000000|〇|\n",
    "|地区名            |object|0.000690|〇|NaN->\"miss_area\"\n",
    "|最寄り駅名：名称   |object|0.004353|〇|NaN->\"miss_station\"\n",
    "|最寄駅：距離（分） |object|0.028425|〇|30分?60分->30, 1H?1H30->60, 1H30?2H->90, 2H?->120<br>NaNの種類：その駅の距離（時間）の中央値で置換\n",
    "|間取り            |object|0.568462|X|マンション以外だと欠損<br>部屋ごとのone-hotに変えたい。\n",
    "|面積（㎡）        |object|0.000000|〇|「2000㎡以上」->2000,「5000㎡以上」->5000<br>標準化するために対数とって左右対称の分布に\n",
    "|土地の形状         |object|0.448446|〇|「ほぼ台形」「ほぼ長方形」など\n",
    "|間口              |object|0.494132|X|'50.0m以上'->50\n",
    "|延床面積（㎡）     |object|0.662845|X|「2000㎡以上」->2000,「10m^2未満」->100\n",
    "|建築年            |object|0.232475|X|カテゴリのまま使用する+昭和、平成を西暦に変換<br>\"宅地(土地と建物)\"と\"中古マンション等\"以外はNaN\n",
    "|建物の構造         |object|0.221216|X|「ＲＣ」「ＳＲＣ」「ＲＣ、鉄骨造」など。one-hotにしたい\n",
    "|用途              |object|0.227480|X|「住宅」「住宅、事務所、店舗」など。one-hotにしたい\n",
    "|今後の利用目的     |object|0.687440|〇|「住宅」「その他」「事務所」など\n",
    "|前面道路：方位     |object|0.448527|〇|「南西」など\n",
    "|前面道路：種類     |object|0.454536|〇|「区道」など\n",
    "|前面道路：幅員（ｍ）|float64|0.457606|〇|\n",
    "|都市計画           |object|0.009673|〇|「商業地域」など\n",
    "|建ぺい率（％）     |float64|0.015115|X|\n",
    "|容積率（％）       |float64|0.015115|X|\n",
    "|取引時点           |object|0.000000|〇|\n",
    "|改装               |object|0.595130|〇|「改装済」「未改装」\n",
    "|取引の事情等        |object|0.921043|X|「隣地の購入」「関係者間取引」「調停・競売等」など。<br>結構情報はありそう"
   ]
  },
  {
   "cell_type": "code",
   "execution_count": null,
   "metadata": {},
   "outputs": [],
   "source": [
    "numeric_features = ['最寄駅：距離（分）', '面積（㎡）']\n",
    "categorical_features = ['市区町村名', '地区名', '最寄り駅名：名称']"
   ]
  },
  {
   "cell_type": "markdown",
   "metadata": {},
   "source": [
    "欠損値"
   ]
  },
  {
   "cell_type": "code",
   "execution_count": 91,
   "metadata": {
    "scrolled": true
   },
   "outputs": [],
   "source": [
    "# df_train.isnull().mean()"
   ]
  },
  {
   "cell_type": "markdown",
   "metadata": {},
   "source": [
    "データ型"
   ]
  },
  {
   "cell_type": "code",
   "execution_count": 92,
   "metadata": {
    "scrolled": true
   },
   "outputs": [],
   "source": [
    "# df_train.dtypes"
   ]
  },
  {
   "cell_type": "markdown",
   "metadata": {
    "heading_collapsed": true
   },
   "source": [
    "### 取引金額y"
   ]
  },
  {
   "cell_type": "code",
   "execution_count": 8,
   "metadata": {
    "hidden": true
   },
   "outputs": [
    {
     "data": {
      "image/png": "[encoded data removed]",
      "text/plain": [
       "<Figure size 432x288 with 1 Axes>"
      ]
     },
     "metadata": {
      "needs_background": "light"
     },
     "output_type": "display_data"
    }
   ],
   "source": [
    "plt.hist(df_train['y'], bins=100);"
   ]
  },
  {
   "cell_type": "code",
   "execution_count": 13,
   "metadata": {
    "hidden": true
   },
   "outputs": [
    {
     "data": {
      "image/png": "[encoded data removed]",
      "text/plain": [
       "<Figure size 432x288 with 1 Axes>"
      ]
     },
     "metadata": {
      "needs_background": "light"
     },
     "output_type": "display_data"
    }
   ],
   "source": [
    "plt.hist(df_train.loc[df_train['y']<500, 'y'], bins=100);"
   ]
  },
  {
   "cell_type": "markdown",
   "metadata": {
    "hidden": true
   },
   "source": [
    "偏りが大きいので対数をとる"
   ]
  },
  {
   "cell_type": "code",
   "execution_count": 15,
   "metadata": {
    "hidden": true
   },
   "outputs": [
    {
     "data": {
      "image/png": "[encoded data removed]",
      "text/plain": [
       "<Figure size 432x288 with 1 Axes>"
      ]
     },
     "metadata": {
      "needs_background": "light"
     },
     "output_type": "display_data"
    }
   ],
   "source": [
    "plt.hist(np.log10(df_train['y']), bins=100);"
   ]
  },
  {
   "cell_type": "markdown",
   "metadata": {
    "heading_collapsed": true
   },
   "source": [
    "### 種類"
   ]
  },
  {
   "cell_type": "markdown",
   "metadata": {
    "hidden": true
   },
   "source": [
    "不動産の種類  \n",
    "（「宅地(土地/土地と建物)」「中古マンション等」「農地」「林地」など）  \n",
    "「宅地（土地）」:土地のみの取引  \n",
    "定義は下記の通り  \n",
    "「宅地（土地と建物）」:土地と建物等を一括して取引  \n",
    "「中古マンション等」:区分所有物件（戸単位）の取引"
   ]
  },
  {
   "cell_type": "code",
   "execution_count": 25,
   "metadata": {
    "hidden": true
   },
   "outputs": [
    {
     "data": {
      "text/plain": [
       "中古マンション等     158943\n",
       "宅地(土地と建物)    125344\n",
       "宅地(土地)        71594\n",
       "林地              381\n",
       "農地               82\n",
       "Name: 種類, dtype: int64"
      ]
     },
     "execution_count": 25,
     "metadata": {},
     "output_type": "execute_result"
    }
   ],
   "source": [
    "df_train['種類'].value_counts()"
   ]
  },
  {
   "cell_type": "code",
   "execution_count": 24,
   "metadata": {
    "hidden": true
   },
   "outputs": [
    {
     "data": {
      "image/png": "[encoded data removed]",
      "text/plain": [
       "<Figure size 720x720 with 5 Axes>"
      ]
     },
     "metadata": {
      "needs_background": "light"
     },
     "output_type": "display_data"
    }
   ],
   "source": [
    "fig, axes = plt.subplots(5, figsize=(10, 10))\n",
    "for i, estate_type in enumerate(df_train['種類'].unique()):\n",
    "    is_the_type = df_train['種類'] == estate_type\n",
    "    axes[i].hist(np.log10(df_train.loc[is_the_type, 'y']), bins=100)"
   ]
  },
  {
   "cell_type": "markdown",
   "metadata": {
    "heading_collapsed": true
   },
   "source": [
    "### 市区町村名"
   ]
  },
  {
   "cell_type": "code",
   "execution_count": 26,
   "metadata": {
    "hidden": true,
    "scrolled": true
   },
   "outputs": [
    {
     "data": {
      "text/plain": [
       "世田谷区        23288\n",
       "大田区         19705\n",
       "練馬区         19655\n",
       "足立区         16309\n",
       "杉並区         15654\n",
       "板橋区         13973\n",
       "八王子市        13212\n",
       "江戸川区        12670\n",
       "江東区         12540\n",
       "新宿区         12121\n",
       "品川区         11771\n",
       "葛飾区         11151\n",
       "港区          11001\n",
       "町田市          9910\n",
       "豊島区          8928\n",
       "中野区          8548\n",
       "文京区          8498\n",
       "中央区          8421\n",
       "渋谷区          8169\n",
       "墨田区          7909\n",
       "北区           7337\n",
       "目黒区          7191\n",
       "台東区          6828\n",
       "府中市          5841\n",
       "調布市          5359\n",
       "荒川区          5356\n",
       "西東京市         4570\n",
       "小平市          4516\n",
       "日野市          4179\n",
       "立川市          4146\n",
       "三鷹市          3754\n",
       "千代田区         3673\n",
       "青梅市          3661\n",
       "東村山市         3452\n",
       "国分寺市         2988\n",
       "多摩市          2901\n",
       "東久留米市        2681\n",
       "小金井市         2681\n",
       "武蔵野市         2571\n",
       "昭島市          2437\n",
       "あきる野市        2083\n",
       "東大和市         1821\n",
       "狛江市          1811\n",
       "稲城市          1766\n",
       "国立市          1648\n",
       "武蔵村山市        1601\n",
       "清瀬市          1586\n",
       "羽村市          1235\n",
       "福生市          1109\n",
       "西多摩郡瑞穂町       796\n",
       "西多摩郡日の出町      449\n",
       "大島町           295\n",
       "八丈町           233\n",
       "西多摩郡奥多摩町      141\n",
       "三宅村            72\n",
       "小笠原村           52\n",
       "西多摩郡檜原村        47\n",
       "新島村            26\n",
       "神津島村           18\n",
       "Name: 市区町村名, dtype: int64"
      ]
     },
     "execution_count": 26,
     "metadata": {},
     "output_type": "execute_result"
    }
   ],
   "source": [
    "df_train['市区町村名'].value_counts()"
   ]
  },
  {
   "cell_type": "code",
   "execution_count": 83,
   "metadata": {
    "hidden": true,
    "scrolled": true
   },
   "outputs": [
    {
     "data": {
      "image/png": "[encoded data removed]",
      "text/plain": [
       "<Figure size 720x720 with 5 Axes>"
      ]
     },
     "metadata": {
      "needs_background": "light"
     },
     "output_type": "display_data"
    }
   ],
   "source": [
    "fig, axes = plt.subplots(5, figsize=(10, 10))\n",
    "for i, estate_type in enumerate(df_train['種類'].unique()):\n",
    "    is_the_type = df_train['種類'] == estate_type\n",
    "    axes[i].hist(np.log10(df_train.loc[is_the_type & is_ku, 'y']), bins=100, color='blue', alpha=0.5)\n",
    "    axes[i].hist(np.log10(df_train.loc[is_the_type & ~is_ku, 'y']), bins=100, color='red', alpha=0.5)"
   ]
  },
  {
   "cell_type": "markdown",
   "metadata": {
    "heading_collapsed": true
   },
   "source": [
    "### 地区名"
   ]
  },
  {
   "cell_type": "code",
   "execution_count": 158,
   "metadata": {
    "hidden": true
   },
   "outputs": [
    {
     "data": {
      "text/html": [
       "<div>\n",
       "<style scoped>\n",
       "    .dataframe tbody tr th:only-of-type {\n",
       "        vertical-align: middle;\n",
       "    }\n",
       "\n",
       "    .dataframe tbody tr th {\n",
       "        vertical-align: top;\n",
       "    }\n",
       "\n",
       "    .dataframe thead th {\n",
       "        text-align: right;\n",
       "    }\n",
       "</style>\n",
       "<table border=\"1\" class=\"dataframe\">\n",
       "  <thead>\n",
       "    <tr style=\"text-align: right;\">\n",
       "      <th></th>\n",
       "      <th>id</th>\n",
       "      <th>種類</th>\n",
       "      <th>地域</th>\n",
       "      <th>市区町村コード</th>\n",
       "      <th>都道府県名</th>\n",
       "      <th>市区町村名</th>\n",
       "      <th>地区名</th>\n",
       "      <th>最寄駅：名称</th>\n",
       "      <th>最寄駅：距離（分）</th>\n",
       "      <th>間取り</th>\n",
       "      <th>面積（㎡）</th>\n",
       "      <th>土地の形状</th>\n",
       "      <th>間口</th>\n",
       "      <th>延床面積（㎡）</th>\n",
       "      <th>建築年</th>\n",
       "      <th>建物の構造</th>\n",
       "      <th>用途</th>\n",
       "      <th>今後の利用目的</th>\n",
       "      <th>前面道路：方位</th>\n",
       "      <th>前面道路：種類</th>\n",
       "      <th>前面道路：幅員（ｍ）</th>\n",
       "      <th>都市計画</th>\n",
       "      <th>建ぺい率（％）</th>\n",
       "      <th>容積率（％）</th>\n",
       "      <th>取引時点</th>\n",
       "      <th>改装</th>\n",
       "      <th>取引の事情等</th>\n",
       "      <th>y</th>\n",
       "    </tr>\n",
       "  </thead>\n",
       "  <tbody>\n",
       "    <tr>\n",
       "      <th>39020</th>\n",
       "      <td>39021</td>\n",
       "      <td>宅地(土地)</td>\n",
       "      <td>商業地</td>\n",
       "      <td>13101</td>\n",
       "      <td>東京都</td>\n",
       "      <td>千代田区</td>\n",
       "      <td>NaN</td>\n",
       "      <td>神保町</td>\n",
       "      <td>6</td>\n",
       "      <td>NaN</td>\n",
       "      <td>95</td>\n",
       "      <td>長方形</td>\n",
       "      <td>7.0</td>\n",
       "      <td>NaN</td>\n",
       "      <td>NaN</td>\n",
       "      <td>NaN</td>\n",
       "      <td>NaN</td>\n",
       "      <td>NaN</td>\n",
       "      <td>南東</td>\n",
       "      <td>区道</td>\n",
       "      <td>11.0</td>\n",
       "      <td>商業地域</td>\n",
       "      <td>80.0</td>\n",
       "      <td>500.0</td>\n",
       "      <td>2010年第４四半期</td>\n",
       "      <td>NaN</td>\n",
       "      <td>NaN</td>\n",
       "      <td>120.0</td>\n",
       "    </tr>\n",
       "    <tr>\n",
       "      <th>39021</th>\n",
       "      <td>39022</td>\n",
       "      <td>中古マンション等</td>\n",
       "      <td>NaN</td>\n",
       "      <td>13101</td>\n",
       "      <td>東京都</td>\n",
       "      <td>千代田区</td>\n",
       "      <td>NaN</td>\n",
       "      <td>神保町</td>\n",
       "      <td>7</td>\n",
       "      <td>１Ｒ</td>\n",
       "      <td>25</td>\n",
       "      <td>NaN</td>\n",
       "      <td>NaN</td>\n",
       "      <td>NaN</td>\n",
       "      <td>平成21年</td>\n",
       "      <td>ＲＣ</td>\n",
       "      <td>住宅</td>\n",
       "      <td>NaN</td>\n",
       "      <td>NaN</td>\n",
       "      <td>NaN</td>\n",
       "      <td>NaN</td>\n",
       "      <td>商業地域</td>\n",
       "      <td>80.0</td>\n",
       "      <td>600.0</td>\n",
       "      <td>2010年第２四半期</td>\n",
       "      <td>未改装</td>\n",
       "      <td>NaN</td>\n",
       "      <td>27.0</td>\n",
       "    </tr>\n",
       "    <tr>\n",
       "      <th>39546</th>\n",
       "      <td>39547</td>\n",
       "      <td>宅地(土地と建物)</td>\n",
       "      <td>商業地</td>\n",
       "      <td>13101</td>\n",
       "      <td>東京都</td>\n",
       "      <td>千代田区</td>\n",
       "      <td>NaN</td>\n",
       "      <td>水道橋</td>\n",
       "      <td>4</td>\n",
       "      <td>NaN</td>\n",
       "      <td>165</td>\n",
       "      <td>ほぼ長方形</td>\n",
       "      <td>15.5</td>\n",
       "      <td>370</td>\n",
       "      <td>昭和47年</td>\n",
       "      <td>ＲＣ</td>\n",
       "      <td>共同住宅、事務所、店舗</td>\n",
       "      <td>NaN</td>\n",
       "      <td>南東</td>\n",
       "      <td>私道</td>\n",
       "      <td>2.7</td>\n",
       "      <td>商業地域</td>\n",
       "      <td>80.0</td>\n",
       "      <td>700.0</td>\n",
       "      <td>2010年第４四半期</td>\n",
       "      <td>NaN</td>\n",
       "      <td>NaN</td>\n",
       "      <td>500.0</td>\n",
       "    </tr>\n",
       "    <tr>\n",
       "      <th>39547</th>\n",
       "      <td>39548</td>\n",
       "      <td>宅地(土地と建物)</td>\n",
       "      <td>商業地</td>\n",
       "      <td>13101</td>\n",
       "      <td>東京都</td>\n",
       "      <td>千代田区</td>\n",
       "      <td>NaN</td>\n",
       "      <td>水道橋</td>\n",
       "      <td>4</td>\n",
       "      <td>NaN</td>\n",
       "      <td>600</td>\n",
       "      <td>不整形</td>\n",
       "      <td>11.0</td>\n",
       "      <td>2000㎡以上</td>\n",
       "      <td>昭和62年</td>\n",
       "      <td>ＳＲＣ</td>\n",
       "      <td>事務所</td>\n",
       "      <td>NaN</td>\n",
       "      <td>北東</td>\n",
       "      <td>区道</td>\n",
       "      <td>22.0</td>\n",
       "      <td>商業地域</td>\n",
       "      <td>80.0</td>\n",
       "      <td>600.0</td>\n",
       "      <td>2010年第４四半期</td>\n",
       "      <td>NaN</td>\n",
       "      <td>NaN</td>\n",
       "      <td>2700.0</td>\n",
       "    </tr>\n",
       "    <tr>\n",
       "      <th>39548</th>\n",
       "      <td>39549</td>\n",
       "      <td>宅地(土地と建物)</td>\n",
       "      <td>商業地</td>\n",
       "      <td>13101</td>\n",
       "      <td>東京都</td>\n",
       "      <td>千代田区</td>\n",
       "      <td>NaN</td>\n",
       "      <td>水道橋</td>\n",
       "      <td>4</td>\n",
       "      <td>NaN</td>\n",
       "      <td>115</td>\n",
       "      <td>長方形</td>\n",
       "      <td>8.0</td>\n",
       "      <td>370</td>\n",
       "      <td>昭和43年</td>\n",
       "      <td>ＲＣ</td>\n",
       "      <td>住宅、事務所、作業場</td>\n",
       "      <td>NaN</td>\n",
       "      <td>南東</td>\n",
       "      <td>区道</td>\n",
       "      <td>5.5</td>\n",
       "      <td>商業地域</td>\n",
       "      <td>80.0</td>\n",
       "      <td>500.0</td>\n",
       "      <td>2010年第４四半期</td>\n",
       "      <td>NaN</td>\n",
       "      <td>NaN</td>\n",
       "      <td>150.0</td>\n",
       "    </tr>\n",
       "  </tbody>\n",
       "</table>\n",
       "</div>"
      ],
      "text/plain": [
       "          id         種類   地域  市区町村コード 都道府県名 市区町村名  地区名 最寄駅：名称 最寄駅：距離（分）  間取り  \\\n",
       "39020  39021     宅地(土地)  商業地    13101   東京都  千代田区  NaN    神保町         6  NaN   \n",
       "39021  39022   中古マンション等  NaN    13101   東京都  千代田区  NaN    神保町         7   １Ｒ   \n",
       "39546  39547  宅地(土地と建物)  商業地    13101   東京都  千代田区  NaN    水道橋         4  NaN   \n",
       "39547  39548  宅地(土地と建物)  商業地    13101   東京都  千代田区  NaN    水道橋         4  NaN   \n",
       "39548  39549  宅地(土地と建物)  商業地    13101   東京都  千代田区  NaN    水道橋         4  NaN   \n",
       "\n",
       "      面積（㎡）  土地の形状    間口  延床面積（㎡）    建築年 建物の構造           用途 今後の利用目的 前面道路：方位  \\\n",
       "39020    95    長方形   7.0      NaN    NaN   NaN          NaN     NaN      南東   \n",
       "39021    25    NaN   NaN      NaN  平成21年    ＲＣ           住宅     NaN     NaN   \n",
       "39546   165  ほぼ長方形  15.5      370  昭和47年    ＲＣ  共同住宅、事務所、店舗     NaN      南東   \n",
       "39547   600    不整形  11.0  2000㎡以上  昭和62年   ＳＲＣ          事務所     NaN      北東   \n",
       "39548   115    長方形   8.0      370  昭和43年    ＲＣ   住宅、事務所、作業場     NaN      南東   \n",
       "\n",
       "      前面道路：種類  前面道路：幅員（ｍ）  都市計画  建ぺい率（％）  容積率（％）        取引時点   改装 取引の事情等  \\\n",
       "39020      区道        11.0  商業地域     80.0   500.0  2010年第４四半期  NaN    NaN   \n",
       "39021     NaN         NaN  商業地域     80.0   600.0  2010年第２四半期  未改装    NaN   \n",
       "39546      私道         2.7  商業地域     80.0   700.0  2010年第４四半期  NaN    NaN   \n",
       "39547      区道        22.0  商業地域     80.0   600.0  2010年第４四半期  NaN    NaN   \n",
       "39548      区道         5.5  商業地域     80.0   500.0  2010年第４四半期  NaN    NaN   \n",
       "\n",
       "            y  \n",
       "39020   120.0  \n",
       "39021    27.0  \n",
       "39546   500.0  \n",
       "39547  2700.0  \n",
       "39548   150.0  "
      ]
     },
     "execution_count": 158,
     "metadata": {},
     "output_type": "execute_result"
    }
   ],
   "source": [
    "df_train[df_train['地区名'].isnull()].head()"
   ]
  },
  {
   "cell_type": "code",
   "execution_count": 138,
   "metadata": {
    "hidden": true
   },
   "outputs": [
    {
     "data": {
      "text/html": [
       "<div>\n",
       "<style scoped>\n",
       "    .dataframe tbody tr th:only-of-type {\n",
       "        vertical-align: middle;\n",
       "    }\n",
       "\n",
       "    .dataframe tbody tr th {\n",
       "        vertical-align: top;\n",
       "    }\n",
       "\n",
       "    .dataframe thead th {\n",
       "        text-align: right;\n",
       "    }\n",
       "</style>\n",
       "<table border=\"1\" class=\"dataframe\">\n",
       "  <thead>\n",
       "    <tr style=\"text-align: right;\">\n",
       "      <th></th>\n",
       "      <th>id</th>\n",
       "      <th>種類</th>\n",
       "      <th>地域</th>\n",
       "      <th>市区町村コード</th>\n",
       "      <th>都道府県名</th>\n",
       "      <th>市区町村名</th>\n",
       "      <th>地区名</th>\n",
       "      <th>最寄駅：名称</th>\n",
       "      <th>最寄駅：距離（分）</th>\n",
       "      <th>間取り</th>\n",
       "      <th>面積（㎡）</th>\n",
       "      <th>土地の形状</th>\n",
       "      <th>間口</th>\n",
       "      <th>延床面積（㎡）</th>\n",
       "      <th>建築年</th>\n",
       "      <th>建物の構造</th>\n",
       "      <th>用途</th>\n",
       "      <th>今後の利用目的</th>\n",
       "      <th>前面道路：方位</th>\n",
       "      <th>前面道路：種類</th>\n",
       "      <th>前面道路：幅員（ｍ）</th>\n",
       "      <th>都市計画</th>\n",
       "      <th>建ぺい率（％）</th>\n",
       "      <th>容積率（％）</th>\n",
       "      <th>取引時点</th>\n",
       "      <th>改装</th>\n",
       "      <th>取引の事情等</th>\n",
       "      <th>y</th>\n",
       "    </tr>\n",
       "  </thead>\n",
       "  <tbody>\n",
       "    <tr>\n",
       "      <th>61</th>\n",
       "      <td>62</td>\n",
       "      <td>宅地(土地と建物)</td>\n",
       "      <td>商業地</td>\n",
       "      <td>13101</td>\n",
       "      <td>東京都</td>\n",
       "      <td>千代田区</td>\n",
       "      <td>飯田橋</td>\n",
       "      <td>水道橋</td>\n",
       "      <td>2</td>\n",
       "      <td>NaN</td>\n",
       "      <td>80</td>\n",
       "      <td>ほぼ台形</td>\n",
       "      <td>6.7</td>\n",
       "      <td>55</td>\n",
       "      <td>平成5年</td>\n",
       "      <td>鉄骨造</td>\n",
       "      <td>駐車場</td>\n",
       "      <td>その他</td>\n",
       "      <td>東</td>\n",
       "      <td>区道</td>\n",
       "      <td>11.7</td>\n",
       "      <td>商業地域</td>\n",
       "      <td>80.0</td>\n",
       "      <td>500.0</td>\n",
       "      <td>2016年第４四半期</td>\n",
       "      <td>NaN</td>\n",
       "      <td>NaN</td>\n",
       "      <td>250.0</td>\n",
       "    </tr>\n",
       "    <tr>\n",
       "      <th>462</th>\n",
       "      <td>463</td>\n",
       "      <td>中古マンション等</td>\n",
       "      <td>NaN</td>\n",
       "      <td>13101</td>\n",
       "      <td>東京都</td>\n",
       "      <td>千代田区</td>\n",
       "      <td>神田猿楽町</td>\n",
       "      <td>水道橋</td>\n",
       "      <td>4</td>\n",
       "      <td>１ＬＤＫ</td>\n",
       "      <td>40</td>\n",
       "      <td>NaN</td>\n",
       "      <td>NaN</td>\n",
       "      <td>NaN</td>\n",
       "      <td>平成25年</td>\n",
       "      <td>ＲＣ</td>\n",
       "      <td>NaN</td>\n",
       "      <td>その他</td>\n",
       "      <td>NaN</td>\n",
       "      <td>NaN</td>\n",
       "      <td>NaN</td>\n",
       "      <td>商業地域</td>\n",
       "      <td>80.0</td>\n",
       "      <td>500.0</td>\n",
       "      <td>2017年第４四半期</td>\n",
       "      <td>NaN</td>\n",
       "      <td>NaN</td>\n",
       "      <td>39.0</td>\n",
       "    </tr>\n",
       "    <tr>\n",
       "      <th>463</th>\n",
       "      <td>464</td>\n",
       "      <td>中古マンション等</td>\n",
       "      <td>NaN</td>\n",
       "      <td>13101</td>\n",
       "      <td>東京都</td>\n",
       "      <td>千代田区</td>\n",
       "      <td>神田猿楽町</td>\n",
       "      <td>水道橋</td>\n",
       "      <td>4</td>\n",
       "      <td>１Ｋ</td>\n",
       "      <td>20</td>\n",
       "      <td>NaN</td>\n",
       "      <td>NaN</td>\n",
       "      <td>NaN</td>\n",
       "      <td>平成14年</td>\n",
       "      <td>ＳＲＣ</td>\n",
       "      <td>NaN</td>\n",
       "      <td>住宅</td>\n",
       "      <td>NaN</td>\n",
       "      <td>NaN</td>\n",
       "      <td>NaN</td>\n",
       "      <td>商業地域</td>\n",
       "      <td>80.0</td>\n",
       "      <td>500.0</td>\n",
       "      <td>2017年第４四半期</td>\n",
       "      <td>未改装</td>\n",
       "      <td>NaN</td>\n",
       "      <td>25.0</td>\n",
       "    </tr>\n",
       "    <tr>\n",
       "      <th>464</th>\n",
       "      <td>465</td>\n",
       "      <td>中古マンション等</td>\n",
       "      <td>NaN</td>\n",
       "      <td>13101</td>\n",
       "      <td>東京都</td>\n",
       "      <td>千代田区</td>\n",
       "      <td>神田猿楽町</td>\n",
       "      <td>水道橋</td>\n",
       "      <td>4</td>\n",
       "      <td>１Ｋ</td>\n",
       "      <td>20</td>\n",
       "      <td>NaN</td>\n",
       "      <td>NaN</td>\n",
       "      <td>NaN</td>\n",
       "      <td>平成14年</td>\n",
       "      <td>ＳＲＣ</td>\n",
       "      <td>住宅</td>\n",
       "      <td>その他</td>\n",
       "      <td>NaN</td>\n",
       "      <td>NaN</td>\n",
       "      <td>NaN</td>\n",
       "      <td>商業地域</td>\n",
       "      <td>80.0</td>\n",
       "      <td>500.0</td>\n",
       "      <td>2017年第３四半期</td>\n",
       "      <td>NaN</td>\n",
       "      <td>NaN</td>\n",
       "      <td>24.0</td>\n",
       "    </tr>\n",
       "    <tr>\n",
       "      <th>465</th>\n",
       "      <td>466</td>\n",
       "      <td>中古マンション等</td>\n",
       "      <td>NaN</td>\n",
       "      <td>13101</td>\n",
       "      <td>東京都</td>\n",
       "      <td>千代田区</td>\n",
       "      <td>神田猿楽町</td>\n",
       "      <td>水道橋</td>\n",
       "      <td>4</td>\n",
       "      <td>１ＬＤＫ</td>\n",
       "      <td>40</td>\n",
       "      <td>NaN</td>\n",
       "      <td>NaN</td>\n",
       "      <td>NaN</td>\n",
       "      <td>平成25年</td>\n",
       "      <td>ＲＣ</td>\n",
       "      <td>住宅</td>\n",
       "      <td>住宅</td>\n",
       "      <td>NaN</td>\n",
       "      <td>NaN</td>\n",
       "      <td>NaN</td>\n",
       "      <td>商業地域</td>\n",
       "      <td>80.0</td>\n",
       "      <td>500.0</td>\n",
       "      <td>2017年第１四半期</td>\n",
       "      <td>未改装</td>\n",
       "      <td>NaN</td>\n",
       "      <td>37.0</td>\n",
       "    </tr>\n",
       "  </tbody>\n",
       "</table>\n",
       "</div>"
      ],
      "text/plain": [
       "      id         種類   地域  市区町村コード 都道府県名 市区町村名    地区名 最寄駅：名称 最寄駅：距離（分）   間取り  \\\n",
       "61    62  宅地(土地と建物)  商業地    13101   東京都  千代田区    飯田橋    水道橋         2   NaN   \n",
       "462  463   中古マンション等  NaN    13101   東京都  千代田区  神田猿楽町    水道橋         4  １ＬＤＫ   \n",
       "463  464   中古マンション等  NaN    13101   東京都  千代田区  神田猿楽町    水道橋         4    １Ｋ   \n",
       "464  465   中古マンション等  NaN    13101   東京都  千代田区  神田猿楽町    水道橋         4    １Ｋ   \n",
       "465  466   中古マンション等  NaN    13101   東京都  千代田区  神田猿楽町    水道橋         4  １ＬＤＫ   \n",
       "\n",
       "    面積（㎡） 土地の形状   間口 延床面積（㎡）    建築年 建物の構造   用途 今後の利用目的 前面道路：方位 前面道路：種類  \\\n",
       "61     80  ほぼ台形  6.7      55   平成5年   鉄骨造  駐車場     その他       東      区道   \n",
       "462    40   NaN  NaN     NaN  平成25年    ＲＣ  NaN     その他     NaN     NaN   \n",
       "463    20   NaN  NaN     NaN  平成14年   ＳＲＣ  NaN      住宅     NaN     NaN   \n",
       "464    20   NaN  NaN     NaN  平成14年   ＳＲＣ   住宅     その他     NaN     NaN   \n",
       "465    40   NaN  NaN     NaN  平成25年    ＲＣ   住宅      住宅     NaN     NaN   \n",
       "\n",
       "     前面道路：幅員（ｍ）  都市計画  建ぺい率（％）  容積率（％）        取引時点   改装 取引の事情等      y  \n",
       "61         11.7  商業地域     80.0   500.0  2016年第４四半期  NaN    NaN  250.0  \n",
       "462         NaN  商業地域     80.0   500.0  2017年第４四半期  NaN    NaN   39.0  \n",
       "463         NaN  商業地域     80.0   500.0  2017年第４四半期  未改装    NaN   25.0  \n",
       "464         NaN  商業地域     80.0   500.0  2017年第３四半期  NaN    NaN   24.0  \n",
       "465         NaN  商業地域     80.0   500.0  2017年第１四半期  未改装    NaN   37.0  "
      ]
     },
     "execution_count": 138,
     "metadata": {},
     "output_type": "execute_result"
    }
   ],
   "source": [
    "df_train[df_train['最寄駅：名称'] == '水道橋'].head()"
   ]
  },
  {
   "cell_type": "markdown",
   "metadata": {
    "heading_collapsed": true
   },
   "source": [
    "### 最寄駅：距離（分）"
   ]
  },
  {
   "cell_type": "markdown",
   "metadata": {
    "hidden": true
   },
   "source": [
    "「30分?60分」というデータがあるのでどうにか対処する"
   ]
  },
  {
   "cell_type": "code",
   "execution_count": 104,
   "metadata": {
    "hidden": true
   },
   "outputs": [
    {
     "data": {
      "text/plain": [
       "10007"
      ]
     },
     "execution_count": 104,
     "metadata": {},
     "output_type": "execute_result"
    }
   ],
   "source": [
    "(df_train['最寄駅：距離（分）'] == '30分?60分').sum()"
   ]
  },
  {
   "cell_type": "code",
   "execution_count": 185,
   "metadata": {
    "hidden": true
   },
   "outputs": [
    {
     "name": "stderr",
     "output_type": "stream",
     "text": [
      "C:\\Users\\galois\\Anaconda3\\envs\\py36\\lib\\site-packages\\ipykernel_launcher.py:3: SettingWithCopyWarning: \n",
      "A value is trying to be set on a copy of a slice from a DataFrame\n",
      "\n",
      "See the caveats in the documentation: http://pandas.pydata.org/pandas-docs/stable/indexing.html#indexing-view-versus-copy\n",
      "  This is separate from the ipykernel package so we can avoid doing imports until\n",
      "C:\\Users\\galois\\Anaconda3\\envs\\py36\\lib\\site-packages\\ipykernel_launcher.py:4: SettingWithCopyWarning: \n",
      "A value is trying to be set on a copy of a slice from a DataFrame\n",
      "\n",
      "See the caveats in the documentation: http://pandas.pydata.org/pandas-docs/stable/indexing.html#indexing-view-versus-copy\n",
      "  after removing the cwd from sys.path.\n",
      "C:\\Users\\galois\\Anaconda3\\envs\\py36\\lib\\site-packages\\ipykernel_launcher.py:5: SettingWithCopyWarning: \n",
      "A value is trying to be set on a copy of a slice from a DataFrame\n",
      "\n",
      "See the caveats in the documentation: http://pandas.pydata.org/pandas-docs/stable/indexing.html#indexing-view-versus-copy\n",
      "  \"\"\"\n",
      "C:\\Users\\galois\\Anaconda3\\envs\\py36\\lib\\site-packages\\ipykernel_launcher.py:6: SettingWithCopyWarning: \n",
      "A value is trying to be set on a copy of a slice from a DataFrame\n",
      "\n",
      "See the caveats in the documentation: http://pandas.pydata.org/pandas-docs/stable/indexing.html#indexing-view-versus-copy\n",
      "  \n"
     ]
    }
   ],
   "source": [
    "def feat_moyori(df):\n",
    "    tmp = df['最寄駅：距離（分）']\n",
    "    tmp[tmp == '30分?60分'] = '30'\n",
    "    tmp[tmp == '1H?1H30'] = '60'\n",
    "    tmp[tmp == '1H30?2H'] = '90'\n",
    "    tmp[tmp == '2H?'] = '120'\n",
    "    tmp = tmp.astype(np.float64)\n",
    "    df['最寄駅：距離（分）'] = tmp\n",
    "    return df\n",
    "# plt.hist(df_train.loc[df_train['最寄駅：距離（分）'].notnull(), '最寄駅：距離（分）'])\n",
    "df_train = feat_moyori(df_train)"
   ]
  },
  {
   "cell_type": "code",
   "execution_count": 154,
   "metadata": {
    "hidden": true
   },
   "outputs": [
    {
     "data": {
      "image/png": "[encoded data removed]",
      "text/plain": [
       "<Figure size 432x288 with 1 Axes>"
      ]
     },
     "metadata": {
      "needs_background": "light"
     },
     "output_type": "display_data"
    }
   ],
   "source": [
    "plt.hist(tmp[tmp.notnull()], bins=100);"
   ]
  },
  {
   "cell_type": "code",
   "execution_count": 171,
   "metadata": {
    "hidden": true,
    "scrolled": true
   },
   "outputs": [
    {
     "name": "stdout",
     "output_type": "stream",
     "text": [
      "10129\n"
     ]
    },
    {
     "data": {
      "text/html": [
       "<div>\n",
       "<style scoped>\n",
       "    .dataframe tbody tr th:only-of-type {\n",
       "        vertical-align: middle;\n",
       "    }\n",
       "\n",
       "    .dataframe tbody tr th {\n",
       "        vertical-align: top;\n",
       "    }\n",
       "\n",
       "    .dataframe thead th {\n",
       "        text-align: right;\n",
       "    }\n",
       "</style>\n",
       "<table border=\"1\" class=\"dataframe\">\n",
       "  <thead>\n",
       "    <tr style=\"text-align: right;\">\n",
       "      <th></th>\n",
       "      <th>id</th>\n",
       "      <th>種類</th>\n",
       "      <th>地域</th>\n",
       "      <th>市区町村コード</th>\n",
       "      <th>都道府県名</th>\n",
       "      <th>市区町村名</th>\n",
       "      <th>地区名</th>\n",
       "      <th>最寄駅：名称</th>\n",
       "      <th>最寄駅：距離（分）</th>\n",
       "      <th>間取り</th>\n",
       "      <th>面積（㎡）</th>\n",
       "      <th>土地の形状</th>\n",
       "      <th>間口</th>\n",
       "      <th>延床面積（㎡）</th>\n",
       "      <th>建築年</th>\n",
       "      <th>建物の構造</th>\n",
       "      <th>用途</th>\n",
       "      <th>今後の利用目的</th>\n",
       "      <th>前面道路：方位</th>\n",
       "      <th>前面道路：種類</th>\n",
       "      <th>前面道路：幅員（ｍ）</th>\n",
       "      <th>都市計画</th>\n",
       "      <th>建ぺい率（％）</th>\n",
       "      <th>容積率（％）</th>\n",
       "      <th>取引時点</th>\n",
       "      <th>改装</th>\n",
       "      <th>取引の事情等</th>\n",
       "      <th>y</th>\n",
       "    </tr>\n",
       "  </thead>\n",
       "  <tbody>\n",
       "    <tr>\n",
       "      <th>190057</th>\n",
       "      <td>190058</td>\n",
       "      <td>中古マンション等</td>\n",
       "      <td>NaN</td>\n",
       "      <td>13111</td>\n",
       "      <td>東京都</td>\n",
       "      <td>大田区</td>\n",
       "      <td>多摩川</td>\n",
       "      <td>矢口渡</td>\n",
       "      <td>NaN</td>\n",
       "      <td>１Ｋ</td>\n",
       "      <td>20</td>\n",
       "      <td>NaN</td>\n",
       "      <td>NaN</td>\n",
       "      <td>NaN</td>\n",
       "      <td>平成18年</td>\n",
       "      <td>ＲＣ</td>\n",
       "      <td>住宅</td>\n",
       "      <td>NaN</td>\n",
       "      <td>NaN</td>\n",
       "      <td>NaN</td>\n",
       "      <td>NaN</td>\n",
       "      <td>第１種住居地域</td>\n",
       "      <td>60.0</td>\n",
       "      <td>200.0</td>\n",
       "      <td>2006年第３四半期</td>\n",
       "      <td>未改装</td>\n",
       "      <td>NaN</td>\n",
       "      <td>21.0</td>\n",
       "    </tr>\n",
       "    <tr>\n",
       "      <th>190059</th>\n",
       "      <td>190060</td>\n",
       "      <td>中古マンション等</td>\n",
       "      <td>NaN</td>\n",
       "      <td>13111</td>\n",
       "      <td>東京都</td>\n",
       "      <td>大田区</td>\n",
       "      <td>多摩川</td>\n",
       "      <td>矢口渡</td>\n",
       "      <td>NaN</td>\n",
       "      <td>１Ｋ</td>\n",
       "      <td>20</td>\n",
       "      <td>NaN</td>\n",
       "      <td>NaN</td>\n",
       "      <td>NaN</td>\n",
       "      <td>平成18年</td>\n",
       "      <td>ＲＣ</td>\n",
       "      <td>住宅</td>\n",
       "      <td>NaN</td>\n",
       "      <td>NaN</td>\n",
       "      <td>NaN</td>\n",
       "      <td>NaN</td>\n",
       "      <td>近隣商業地域</td>\n",
       "      <td>80.0</td>\n",
       "      <td>300.0</td>\n",
       "      <td>2006年第３四半期</td>\n",
       "      <td>未改装</td>\n",
       "      <td>NaN</td>\n",
       "      <td>22.0</td>\n",
       "    </tr>\n",
       "    <tr>\n",
       "      <th>190061</th>\n",
       "      <td>190062</td>\n",
       "      <td>中古マンション等</td>\n",
       "      <td>NaN</td>\n",
       "      <td>13111</td>\n",
       "      <td>東京都</td>\n",
       "      <td>大田区</td>\n",
       "      <td>多摩川</td>\n",
       "      <td>矢口渡</td>\n",
       "      <td>NaN</td>\n",
       "      <td>１Ｋ</td>\n",
       "      <td>20</td>\n",
       "      <td>NaN</td>\n",
       "      <td>NaN</td>\n",
       "      <td>NaN</td>\n",
       "      <td>平成18年</td>\n",
       "      <td>ＲＣ</td>\n",
       "      <td>住宅</td>\n",
       "      <td>NaN</td>\n",
       "      <td>NaN</td>\n",
       "      <td>NaN</td>\n",
       "      <td>NaN</td>\n",
       "      <td>近隣商業地域</td>\n",
       "      <td>80.0</td>\n",
       "      <td>300.0</td>\n",
       "      <td>2006年第３四半期</td>\n",
       "      <td>未改装</td>\n",
       "      <td>NaN</td>\n",
       "      <td>23.0</td>\n",
       "    </tr>\n",
       "    <tr>\n",
       "      <th>190063</th>\n",
       "      <td>190064</td>\n",
       "      <td>中古マンション等</td>\n",
       "      <td>NaN</td>\n",
       "      <td>13111</td>\n",
       "      <td>東京都</td>\n",
       "      <td>大田区</td>\n",
       "      <td>多摩川</td>\n",
       "      <td>矢口渡</td>\n",
       "      <td>NaN</td>\n",
       "      <td>１Ｋ</td>\n",
       "      <td>20</td>\n",
       "      <td>NaN</td>\n",
       "      <td>NaN</td>\n",
       "      <td>NaN</td>\n",
       "      <td>平成18年</td>\n",
       "      <td>ＲＣ</td>\n",
       "      <td>住宅</td>\n",
       "      <td>NaN</td>\n",
       "      <td>NaN</td>\n",
       "      <td>NaN</td>\n",
       "      <td>NaN</td>\n",
       "      <td>近隣商業地域</td>\n",
       "      <td>80.0</td>\n",
       "      <td>300.0</td>\n",
       "      <td>2006年第３四半期</td>\n",
       "      <td>未改装</td>\n",
       "      <td>NaN</td>\n",
       "      <td>23.0</td>\n",
       "    </tr>\n",
       "    <tr>\n",
       "      <th>190065</th>\n",
       "      <td>190066</td>\n",
       "      <td>中古マンション等</td>\n",
       "      <td>NaN</td>\n",
       "      <td>13111</td>\n",
       "      <td>東京都</td>\n",
       "      <td>大田区</td>\n",
       "      <td>多摩川</td>\n",
       "      <td>矢口渡</td>\n",
       "      <td>NaN</td>\n",
       "      <td>１Ｋ</td>\n",
       "      <td>20</td>\n",
       "      <td>NaN</td>\n",
       "      <td>NaN</td>\n",
       "      <td>NaN</td>\n",
       "      <td>平成18年</td>\n",
       "      <td>ＲＣ</td>\n",
       "      <td>住宅</td>\n",
       "      <td>NaN</td>\n",
       "      <td>NaN</td>\n",
       "      <td>NaN</td>\n",
       "      <td>NaN</td>\n",
       "      <td>準工業地域</td>\n",
       "      <td>60.0</td>\n",
       "      <td>200.0</td>\n",
       "      <td>2006年第３四半期</td>\n",
       "      <td>未改装</td>\n",
       "      <td>NaN</td>\n",
       "      <td>24.0</td>\n",
       "    </tr>\n",
       "    <tr>\n",
       "      <th>190067</th>\n",
       "      <td>190068</td>\n",
       "      <td>中古マンション等</td>\n",
       "      <td>NaN</td>\n",
       "      <td>13111</td>\n",
       "      <td>東京都</td>\n",
       "      <td>大田区</td>\n",
       "      <td>多摩川</td>\n",
       "      <td>矢口渡</td>\n",
       "      <td>NaN</td>\n",
       "      <td>１Ｋ</td>\n",
       "      <td>20</td>\n",
       "      <td>NaN</td>\n",
       "      <td>NaN</td>\n",
       "      <td>NaN</td>\n",
       "      <td>平成18年</td>\n",
       "      <td>ＲＣ</td>\n",
       "      <td>住宅</td>\n",
       "      <td>NaN</td>\n",
       "      <td>NaN</td>\n",
       "      <td>NaN</td>\n",
       "      <td>NaN</td>\n",
       "      <td>準工業地域</td>\n",
       "      <td>60.0</td>\n",
       "      <td>200.0</td>\n",
       "      <td>2006年第３四半期</td>\n",
       "      <td>未改装</td>\n",
       "      <td>NaN</td>\n",
       "      <td>16.0</td>\n",
       "    </tr>\n",
       "    <tr>\n",
       "      <th>190071</th>\n",
       "      <td>190072</td>\n",
       "      <td>中古マンション等</td>\n",
       "      <td>NaN</td>\n",
       "      <td>13111</td>\n",
       "      <td>東京都</td>\n",
       "      <td>大田区</td>\n",
       "      <td>多摩川</td>\n",
       "      <td>矢口渡</td>\n",
       "      <td>NaN</td>\n",
       "      <td>２ＬＤＫ</td>\n",
       "      <td>40</td>\n",
       "      <td>NaN</td>\n",
       "      <td>NaN</td>\n",
       "      <td>NaN</td>\n",
       "      <td>平成18年</td>\n",
       "      <td>ＲＣ</td>\n",
       "      <td>住宅</td>\n",
       "      <td>NaN</td>\n",
       "      <td>NaN</td>\n",
       "      <td>NaN</td>\n",
       "      <td>NaN</td>\n",
       "      <td>準工業地域</td>\n",
       "      <td>60.0</td>\n",
       "      <td>300.0</td>\n",
       "      <td>2006年第２四半期</td>\n",
       "      <td>NaN</td>\n",
       "      <td>NaN</td>\n",
       "      <td>34.0</td>\n",
       "    </tr>\n",
       "    <tr>\n",
       "      <th>190077</th>\n",
       "      <td>190078</td>\n",
       "      <td>中古マンション等</td>\n",
       "      <td>NaN</td>\n",
       "      <td>13111</td>\n",
       "      <td>東京都</td>\n",
       "      <td>大田区</td>\n",
       "      <td>多摩川</td>\n",
       "      <td>矢口渡</td>\n",
       "      <td>NaN</td>\n",
       "      <td>１Ｋ</td>\n",
       "      <td>25</td>\n",
       "      <td>NaN</td>\n",
       "      <td>NaN</td>\n",
       "      <td>NaN</td>\n",
       "      <td>平成18年</td>\n",
       "      <td>ＲＣ</td>\n",
       "      <td>住宅</td>\n",
       "      <td>NaN</td>\n",
       "      <td>NaN</td>\n",
       "      <td>NaN</td>\n",
       "      <td>NaN</td>\n",
       "      <td>準工業地域</td>\n",
       "      <td>60.0</td>\n",
       "      <td>200.0</td>\n",
       "      <td>2006年第２四半期</td>\n",
       "      <td>未改装</td>\n",
       "      <td>NaN</td>\n",
       "      <td>22.0</td>\n",
       "    </tr>\n",
       "    <tr>\n",
       "      <th>190079</th>\n",
       "      <td>190080</td>\n",
       "      <td>中古マンション等</td>\n",
       "      <td>NaN</td>\n",
       "      <td>13111</td>\n",
       "      <td>東京都</td>\n",
       "      <td>大田区</td>\n",
       "      <td>多摩川</td>\n",
       "      <td>矢口渡</td>\n",
       "      <td>NaN</td>\n",
       "      <td>１Ｋ</td>\n",
       "      <td>20</td>\n",
       "      <td>NaN</td>\n",
       "      <td>NaN</td>\n",
       "      <td>NaN</td>\n",
       "      <td>平成18年</td>\n",
       "      <td>ＲＣ</td>\n",
       "      <td>住宅</td>\n",
       "      <td>NaN</td>\n",
       "      <td>NaN</td>\n",
       "      <td>NaN</td>\n",
       "      <td>NaN</td>\n",
       "      <td>準工業地域</td>\n",
       "      <td>60.0</td>\n",
       "      <td>200.0</td>\n",
       "      <td>2006年第２四半期</td>\n",
       "      <td>未改装</td>\n",
       "      <td>NaN</td>\n",
       "      <td>21.0</td>\n",
       "    </tr>\n",
       "    <tr>\n",
       "      <th>190083</th>\n",
       "      <td>190084</td>\n",
       "      <td>中古マンション等</td>\n",
       "      <td>NaN</td>\n",
       "      <td>13111</td>\n",
       "      <td>東京都</td>\n",
       "      <td>大田区</td>\n",
       "      <td>多摩川</td>\n",
       "      <td>矢口渡</td>\n",
       "      <td>NaN</td>\n",
       "      <td>１Ｋ</td>\n",
       "      <td>20</td>\n",
       "      <td>NaN</td>\n",
       "      <td>NaN</td>\n",
       "      <td>NaN</td>\n",
       "      <td>平成18年</td>\n",
       "      <td>ＲＣ</td>\n",
       "      <td>住宅</td>\n",
       "      <td>NaN</td>\n",
       "      <td>NaN</td>\n",
       "      <td>NaN</td>\n",
       "      <td>NaN</td>\n",
       "      <td>準工業地域</td>\n",
       "      <td>60.0</td>\n",
       "      <td>200.0</td>\n",
       "      <td>2006年第２四半期</td>\n",
       "      <td>未改装</td>\n",
       "      <td>NaN</td>\n",
       "      <td>23.0</td>\n",
       "    </tr>\n",
       "    <tr>\n",
       "      <th>190085</th>\n",
       "      <td>190086</td>\n",
       "      <td>中古マンション等</td>\n",
       "      <td>NaN</td>\n",
       "      <td>13111</td>\n",
       "      <td>東京都</td>\n",
       "      <td>大田区</td>\n",
       "      <td>多摩川</td>\n",
       "      <td>矢口渡</td>\n",
       "      <td>NaN</td>\n",
       "      <td>１Ｋ</td>\n",
       "      <td>20</td>\n",
       "      <td>NaN</td>\n",
       "      <td>NaN</td>\n",
       "      <td>NaN</td>\n",
       "      <td>平成18年</td>\n",
       "      <td>ＲＣ</td>\n",
       "      <td>住宅</td>\n",
       "      <td>NaN</td>\n",
       "      <td>NaN</td>\n",
       "      <td>NaN</td>\n",
       "      <td>NaN</td>\n",
       "      <td>準工業地域</td>\n",
       "      <td>60.0</td>\n",
       "      <td>200.0</td>\n",
       "      <td>2006年第２四半期</td>\n",
       "      <td>未改装</td>\n",
       "      <td>NaN</td>\n",
       "      <td>25.0</td>\n",
       "    </tr>\n",
       "    <tr>\n",
       "      <th>190459</th>\n",
       "      <td>190460</td>\n",
       "      <td>中古マンション等</td>\n",
       "      <td>NaN</td>\n",
       "      <td>13111</td>\n",
       "      <td>東京都</td>\n",
       "      <td>大田区</td>\n",
       "      <td>千鳥</td>\n",
       "      <td>千鳥町</td>\n",
       "      <td>NaN</td>\n",
       "      <td>１Ｋ</td>\n",
       "      <td>15</td>\n",
       "      <td>NaN</td>\n",
       "      <td>NaN</td>\n",
       "      <td>NaN</td>\n",
       "      <td>平成3年</td>\n",
       "      <td>ＲＣ</td>\n",
       "      <td>住宅</td>\n",
       "      <td>NaN</td>\n",
       "      <td>NaN</td>\n",
       "      <td>NaN</td>\n",
       "      <td>NaN</td>\n",
       "      <td>近隣商業地域</td>\n",
       "      <td>80.0</td>\n",
       "      <td>300.0</td>\n",
       "      <td>2006年第３四半期</td>\n",
       "      <td>未改装</td>\n",
       "      <td>NaN</td>\n",
       "      <td>11.0</td>\n",
       "    </tr>\n",
       "    <tr>\n",
       "      <th>190471</th>\n",
       "      <td>190472</td>\n",
       "      <td>中古マンション等</td>\n",
       "      <td>NaN</td>\n",
       "      <td>13111</td>\n",
       "      <td>東京都</td>\n",
       "      <td>大田区</td>\n",
       "      <td>千鳥</td>\n",
       "      <td>千鳥町</td>\n",
       "      <td>NaN</td>\n",
       "      <td>１ＤＫ</td>\n",
       "      <td>25</td>\n",
       "      <td>NaN</td>\n",
       "      <td>NaN</td>\n",
       "      <td>NaN</td>\n",
       "      <td>昭和50年</td>\n",
       "      <td>NaN</td>\n",
       "      <td>住宅</td>\n",
       "      <td>NaN</td>\n",
       "      <td>NaN</td>\n",
       "      <td>NaN</td>\n",
       "      <td>NaN</td>\n",
       "      <td>NaN</td>\n",
       "      <td>NaN</td>\n",
       "      <td>NaN</td>\n",
       "      <td>2006年第２四半期</td>\n",
       "      <td>未改装</td>\n",
       "      <td>NaN</td>\n",
       "      <td>6.8</td>\n",
       "    </tr>\n",
       "    <tr>\n",
       "      <th>190498</th>\n",
       "      <td>190499</td>\n",
       "      <td>中古マンション等</td>\n",
       "      <td>NaN</td>\n",
       "      <td>13111</td>\n",
       "      <td>東京都</td>\n",
       "      <td>大田区</td>\n",
       "      <td>千鳥</td>\n",
       "      <td>千鳥町</td>\n",
       "      <td>NaN</td>\n",
       "      <td>２ＤＫ</td>\n",
       "      <td>40</td>\n",
       "      <td>NaN</td>\n",
       "      <td>NaN</td>\n",
       "      <td>NaN</td>\n",
       "      <td>平成8年</td>\n",
       "      <td>ＲＣ</td>\n",
       "      <td>住宅</td>\n",
       "      <td>NaN</td>\n",
       "      <td>NaN</td>\n",
       "      <td>NaN</td>\n",
       "      <td>NaN</td>\n",
       "      <td>NaN</td>\n",
       "      <td>NaN</td>\n",
       "      <td>NaN</td>\n",
       "      <td>2005年第４四半期</td>\n",
       "      <td>未改装</td>\n",
       "      <td>NaN</td>\n",
       "      <td>24.0</td>\n",
       "    </tr>\n",
       "    <tr>\n",
       "      <th>190745</th>\n",
       "      <td>190746</td>\n",
       "      <td>中古マンション等</td>\n",
       "      <td>NaN</td>\n",
       "      <td>13111</td>\n",
       "      <td>東京都</td>\n",
       "      <td>大田区</td>\n",
       "      <td>中央</td>\n",
       "      <td>池上</td>\n",
       "      <td>NaN</td>\n",
       "      <td>２ＬＤＫ</td>\n",
       "      <td>50</td>\n",
       "      <td>NaN</td>\n",
       "      <td>NaN</td>\n",
       "      <td>NaN</td>\n",
       "      <td>昭和45年</td>\n",
       "      <td>ＳＲＣ</td>\n",
       "      <td>住宅</td>\n",
       "      <td>NaN</td>\n",
       "      <td>NaN</td>\n",
       "      <td>NaN</td>\n",
       "      <td>NaN</td>\n",
       "      <td>第１種住居地域</td>\n",
       "      <td>60.0</td>\n",
       "      <td>200.0</td>\n",
       "      <td>2007年第１四半期</td>\n",
       "      <td>未改装</td>\n",
       "      <td>NaN</td>\n",
       "      <td>17.0</td>\n",
       "    </tr>\n",
       "    <tr>\n",
       "      <th>190792</th>\n",
       "      <td>190793</td>\n",
       "      <td>中古マンション等</td>\n",
       "      <td>NaN</td>\n",
       "      <td>13111</td>\n",
       "      <td>東京都</td>\n",
       "      <td>大田区</td>\n",
       "      <td>中央</td>\n",
       "      <td>池上</td>\n",
       "      <td>NaN</td>\n",
       "      <td>１Ｋ</td>\n",
       "      <td>20</td>\n",
       "      <td>NaN</td>\n",
       "      <td>NaN</td>\n",
       "      <td>NaN</td>\n",
       "      <td>平成17年</td>\n",
       "      <td>ＲＣ</td>\n",
       "      <td>住宅</td>\n",
       "      <td>NaN</td>\n",
       "      <td>NaN</td>\n",
       "      <td>NaN</td>\n",
       "      <td>NaN</td>\n",
       "      <td>NaN</td>\n",
       "      <td>NaN</td>\n",
       "      <td>NaN</td>\n",
       "      <td>2005年第４四半期</td>\n",
       "      <td>NaN</td>\n",
       "      <td>NaN</td>\n",
       "      <td>20.0</td>\n",
       "    </tr>\n",
       "    <tr>\n",
       "      <th>190960</th>\n",
       "      <td>190961</td>\n",
       "      <td>中古マンション等</td>\n",
       "      <td>NaN</td>\n",
       "      <td>13111</td>\n",
       "      <td>東京都</td>\n",
       "      <td>大田区</td>\n",
       "      <td>中央</td>\n",
       "      <td>大森(東京)</td>\n",
       "      <td>NaN</td>\n",
       "      <td>１ＤＫ</td>\n",
       "      <td>30</td>\n",
       "      <td>NaN</td>\n",
       "      <td>NaN</td>\n",
       "      <td>NaN</td>\n",
       "      <td>昭和64年</td>\n",
       "      <td>ＲＣ</td>\n",
       "      <td>住宅</td>\n",
       "      <td>NaN</td>\n",
       "      <td>NaN</td>\n",
       "      <td>NaN</td>\n",
       "      <td>NaN</td>\n",
       "      <td>近隣商業地域</td>\n",
       "      <td>80.0</td>\n",
       "      <td>300.0</td>\n",
       "      <td>2007年第２四半期</td>\n",
       "      <td>未改装</td>\n",
       "      <td>NaN</td>\n",
       "      <td>12.0</td>\n",
       "    </tr>\n",
       "    <tr>\n",
       "      <th>190979</th>\n",
       "      <td>190980</td>\n",
       "      <td>中古マンション等</td>\n",
       "      <td>NaN</td>\n",
       "      <td>13111</td>\n",
       "      <td>東京都</td>\n",
       "      <td>大田区</td>\n",
       "      <td>中央</td>\n",
       "      <td>大森(東京)</td>\n",
       "      <td>NaN</td>\n",
       "      <td>１Ｋ</td>\n",
       "      <td>30</td>\n",
       "      <td>NaN</td>\n",
       "      <td>NaN</td>\n",
       "      <td>NaN</td>\n",
       "      <td>昭和47年</td>\n",
       "      <td>ＳＲＣ</td>\n",
       "      <td>住宅</td>\n",
       "      <td>NaN</td>\n",
       "      <td>NaN</td>\n",
       "      <td>NaN</td>\n",
       "      <td>NaN</td>\n",
       "      <td>第１種住居地域</td>\n",
       "      <td>60.0</td>\n",
       "      <td>200.0</td>\n",
       "      <td>2007年第１四半期</td>\n",
       "      <td>未改装</td>\n",
       "      <td>NaN</td>\n",
       "      <td>8.5</td>\n",
       "    </tr>\n",
       "    <tr>\n",
       "      <th>191002</th>\n",
       "      <td>191003</td>\n",
       "      <td>中古マンション等</td>\n",
       "      <td>NaN</td>\n",
       "      <td>13111</td>\n",
       "      <td>東京都</td>\n",
       "      <td>大田区</td>\n",
       "      <td>中央</td>\n",
       "      <td>大森(東京)</td>\n",
       "      <td>NaN</td>\n",
       "      <td>１Ｋ</td>\n",
       "      <td>20</td>\n",
       "      <td>NaN</td>\n",
       "      <td>NaN</td>\n",
       "      <td>NaN</td>\n",
       "      <td>平成18年</td>\n",
       "      <td>ＲＣ</td>\n",
       "      <td>住宅</td>\n",
       "      <td>NaN</td>\n",
       "      <td>NaN</td>\n",
       "      <td>NaN</td>\n",
       "      <td>NaN</td>\n",
       "      <td>近隣商業地域</td>\n",
       "      <td>80.0</td>\n",
       "      <td>300.0</td>\n",
       "      <td>2006年第３四半期</td>\n",
       "      <td>未改装</td>\n",
       "      <td>NaN</td>\n",
       "      <td>23.0</td>\n",
       "    </tr>\n",
       "    <tr>\n",
       "      <th>191005</th>\n",
       "      <td>191006</td>\n",
       "      <td>中古マンション等</td>\n",
       "      <td>NaN</td>\n",
       "      <td>13111</td>\n",
       "      <td>東京都</td>\n",
       "      <td>大田区</td>\n",
       "      <td>中央</td>\n",
       "      <td>大森(東京)</td>\n",
       "      <td>NaN</td>\n",
       "      <td>１Ｋ</td>\n",
       "      <td>20</td>\n",
       "      <td>NaN</td>\n",
       "      <td>NaN</td>\n",
       "      <td>NaN</td>\n",
       "      <td>平成18年</td>\n",
       "      <td>ＲＣ</td>\n",
       "      <td>住宅</td>\n",
       "      <td>NaN</td>\n",
       "      <td>NaN</td>\n",
       "      <td>NaN</td>\n",
       "      <td>NaN</td>\n",
       "      <td>近隣商業地域</td>\n",
       "      <td>80.0</td>\n",
       "      <td>300.0</td>\n",
       "      <td>2006年第３四半期</td>\n",
       "      <td>未改装</td>\n",
       "      <td>NaN</td>\n",
       "      <td>19.0</td>\n",
       "    </tr>\n",
       "  </tbody>\n",
       "</table>\n",
       "</div>"
      ],
      "text/plain": [
       "            id        種類   地域  市区町村コード 都道府県名 市区町村名  地区名  最寄駅：名称 最寄駅：距離（分）  \\\n",
       "190057  190058  中古マンション等  NaN    13111   東京都   大田区  多摩川     矢口渡       NaN   \n",
       "190059  190060  中古マンション等  NaN    13111   東京都   大田区  多摩川     矢口渡       NaN   \n",
       "190061  190062  中古マンション等  NaN    13111   東京都   大田区  多摩川     矢口渡       NaN   \n",
       "190063  190064  中古マンション等  NaN    13111   東京都   大田区  多摩川     矢口渡       NaN   \n",
       "190065  190066  中古マンション等  NaN    13111   東京都   大田区  多摩川     矢口渡       NaN   \n",
       "190067  190068  中古マンション等  NaN    13111   東京都   大田区  多摩川     矢口渡       NaN   \n",
       "190071  190072  中古マンション等  NaN    13111   東京都   大田区  多摩川     矢口渡       NaN   \n",
       "190077  190078  中古マンション等  NaN    13111   東京都   大田区  多摩川     矢口渡       NaN   \n",
       "190079  190080  中古マンション等  NaN    13111   東京都   大田区  多摩川     矢口渡       NaN   \n",
       "190083  190084  中古マンション等  NaN    13111   東京都   大田区  多摩川     矢口渡       NaN   \n",
       "190085  190086  中古マンション等  NaN    13111   東京都   大田区  多摩川     矢口渡       NaN   \n",
       "190459  190460  中古マンション等  NaN    13111   東京都   大田区   千鳥     千鳥町       NaN   \n",
       "190471  190472  中古マンション等  NaN    13111   東京都   大田区   千鳥     千鳥町       NaN   \n",
       "190498  190499  中古マンション等  NaN    13111   東京都   大田区   千鳥     千鳥町       NaN   \n",
       "190745  190746  中古マンション等  NaN    13111   東京都   大田区   中央      池上       NaN   \n",
       "190792  190793  中古マンション等  NaN    13111   東京都   大田区   中央      池上       NaN   \n",
       "190960  190961  中古マンション等  NaN    13111   東京都   大田区   中央  大森(東京)       NaN   \n",
       "190979  190980  中古マンション等  NaN    13111   東京都   大田区   中央  大森(東京)       NaN   \n",
       "191002  191003  中古マンション等  NaN    13111   東京都   大田区   中央  大森(東京)       NaN   \n",
       "191005  191006  中古マンション等  NaN    13111   東京都   大田区   中央  大森(東京)       NaN   \n",
       "\n",
       "         間取り 面積（㎡） 土地の形状   間口 延床面積（㎡）    建築年 建物の構造  用途 今後の利用目的 前面道路：方位  \\\n",
       "190057    １Ｋ    20   NaN  NaN     NaN  平成18年    ＲＣ  住宅     NaN     NaN   \n",
       "190059    １Ｋ    20   NaN  NaN     NaN  平成18年    ＲＣ  住宅     NaN     NaN   \n",
       "190061    １Ｋ    20   NaN  NaN     NaN  平成18年    ＲＣ  住宅     NaN     NaN   \n",
       "190063    １Ｋ    20   NaN  NaN     NaN  平成18年    ＲＣ  住宅     NaN     NaN   \n",
       "190065    １Ｋ    20   NaN  NaN     NaN  平成18年    ＲＣ  住宅     NaN     NaN   \n",
       "190067    １Ｋ    20   NaN  NaN     NaN  平成18年    ＲＣ  住宅     NaN     NaN   \n",
       "190071  ２ＬＤＫ    40   NaN  NaN     NaN  平成18年    ＲＣ  住宅     NaN     NaN   \n",
       "190077    １Ｋ    25   NaN  NaN     NaN  平成18年    ＲＣ  住宅     NaN     NaN   \n",
       "190079    １Ｋ    20   NaN  NaN     NaN  平成18年    ＲＣ  住宅     NaN     NaN   \n",
       "190083    １Ｋ    20   NaN  NaN     NaN  平成18年    ＲＣ  住宅     NaN     NaN   \n",
       "190085    １Ｋ    20   NaN  NaN     NaN  平成18年    ＲＣ  住宅     NaN     NaN   \n",
       "190459    １Ｋ    15   NaN  NaN     NaN   平成3年    ＲＣ  住宅     NaN     NaN   \n",
       "190471   １ＤＫ    25   NaN  NaN     NaN  昭和50年   NaN  住宅     NaN     NaN   \n",
       "190498   ２ＤＫ    40   NaN  NaN     NaN   平成8年    ＲＣ  住宅     NaN     NaN   \n",
       "190745  ２ＬＤＫ    50   NaN  NaN     NaN  昭和45年   ＳＲＣ  住宅     NaN     NaN   \n",
       "190792    １Ｋ    20   NaN  NaN     NaN  平成17年    ＲＣ  住宅     NaN     NaN   \n",
       "190960   １ＤＫ    30   NaN  NaN     NaN  昭和64年    ＲＣ  住宅     NaN     NaN   \n",
       "190979    １Ｋ    30   NaN  NaN     NaN  昭和47年   ＳＲＣ  住宅     NaN     NaN   \n",
       "191002    １Ｋ    20   NaN  NaN     NaN  平成18年    ＲＣ  住宅     NaN     NaN   \n",
       "191005    １Ｋ    20   NaN  NaN     NaN  平成18年    ＲＣ  住宅     NaN     NaN   \n",
       "\n",
       "       前面道路：種類  前面道路：幅員（ｍ）     都市計画  建ぺい率（％）  容積率（％）        取引時点   改装 取引の事情等  \\\n",
       "190057     NaN         NaN  第１種住居地域     60.0   200.0  2006年第３四半期  未改装    NaN   \n",
       "190059     NaN         NaN   近隣商業地域     80.0   300.0  2006年第３四半期  未改装    NaN   \n",
       "190061     NaN         NaN   近隣商業地域     80.0   300.0  2006年第３四半期  未改装    NaN   \n",
       "190063     NaN         NaN   近隣商業地域     80.0   300.0  2006年第３四半期  未改装    NaN   \n",
       "190065     NaN         NaN    準工業地域     60.0   200.0  2006年第３四半期  未改装    NaN   \n",
       "190067     NaN         NaN    準工業地域     60.0   200.0  2006年第３四半期  未改装    NaN   \n",
       "190071     NaN         NaN    準工業地域     60.0   300.0  2006年第２四半期  NaN    NaN   \n",
       "190077     NaN         NaN    準工業地域     60.0   200.0  2006年第２四半期  未改装    NaN   \n",
       "190079     NaN         NaN    準工業地域     60.0   200.0  2006年第２四半期  未改装    NaN   \n",
       "190083     NaN         NaN    準工業地域     60.0   200.0  2006年第２四半期  未改装    NaN   \n",
       "190085     NaN         NaN    準工業地域     60.0   200.0  2006年第２四半期  未改装    NaN   \n",
       "190459     NaN         NaN   近隣商業地域     80.0   300.0  2006年第３四半期  未改装    NaN   \n",
       "190471     NaN         NaN      NaN      NaN     NaN  2006年第２四半期  未改装    NaN   \n",
       "190498     NaN         NaN      NaN      NaN     NaN  2005年第４四半期  未改装    NaN   \n",
       "190745     NaN         NaN  第１種住居地域     60.0   200.0  2007年第１四半期  未改装    NaN   \n",
       "190792     NaN         NaN      NaN      NaN     NaN  2005年第４四半期  NaN    NaN   \n",
       "190960     NaN         NaN   近隣商業地域     80.0   300.0  2007年第２四半期  未改装    NaN   \n",
       "190979     NaN         NaN  第１種住居地域     60.0   200.0  2007年第１四半期  未改装    NaN   \n",
       "191002     NaN         NaN   近隣商業地域     80.0   300.0  2006年第３四半期  未改装    NaN   \n",
       "191005     NaN         NaN   近隣商業地域     80.0   300.0  2006年第３四半期  未改装    NaN   \n",
       "\n",
       "           y  \n",
       "190057  21.0  \n",
       "190059  22.0  \n",
       "190061  23.0  \n",
       "190063  23.0  \n",
       "190065  24.0  \n",
       "190067  16.0  \n",
       "190071  34.0  \n",
       "190077  22.0  \n",
       "190079  21.0  \n",
       "190083  23.0  \n",
       "190085  25.0  \n",
       "190459  11.0  \n",
       "190471   6.8  \n",
       "190498  24.0  \n",
       "190745  17.0  \n",
       "190792  20.0  \n",
       "190960  12.0  \n",
       "190979   8.5  \n",
       "191002  23.0  \n",
       "191005  19.0  "
      ]
     },
     "execution_count": 171,
     "metadata": {},
     "output_type": "execute_result"
    }
   ],
   "source": [
    "print(tmp.isnull().sum())\n",
    "df_train[tmp.isnull()][5000:5020]"
   ]
  },
  {
   "cell_type": "code",
   "execution_count": 178,
   "metadata": {
    "hidden": true
   },
   "outputs": [
    {
     "data": {
      "image/png": "[encoded data removed]",
      "text/plain": [
       "<Figure size 432x288 with 1 Axes>"
      ]
     },
     "metadata": {
      "needs_background": "light"
     },
     "output_type": "display_data"
    }
   ],
   "source": [
    "is_omori = df_train['最寄駅：名称'] == '大森(東京)'\n",
    "is_null = df_train['最寄駅：距離（分）'].isnull()\n",
    "\n",
    "plt.hist(df_train.loc[is_omori & ~is_null, '最寄駅：距離（分）'].astype(np.float64), bins=50);"
   ]
  },
  {
   "cell_type": "markdown",
   "metadata": {
    "heading_collapsed": true
   },
   "source": [
    "### 間取り"
   ]
  },
  {
   "cell_type": "code",
   "execution_count": 38,
   "metadata": {
    "hidden": true
   },
   "outputs": [
    {
     "data": {
      "text/plain": [
       "array([nan], dtype=object)"
      ]
     },
     "execution_count": 38,
     "metadata": {},
     "output_type": "execute_result"
    }
   ],
   "source": [
    "df_train.loc[df_train['種類'] == '宅地(土地)', '間取り'].unique()"
   ]
  },
  {
   "cell_type": "code",
   "execution_count": 39,
   "metadata": {
    "hidden": true
   },
   "outputs": [
    {
     "data": {
      "text/plain": [
       "array([nan], dtype=object)"
      ]
     },
     "execution_count": 39,
     "metadata": {},
     "output_type": "execute_result"
    }
   ],
   "source": [
    "df_train.loc[df_train['種類'] == '宅地(土地と建物)', '間取り'].unique()"
   ]
  },
  {
   "cell_type": "code",
   "execution_count": 40,
   "metadata": {
    "hidden": true
   },
   "outputs": [
    {
     "data": {
      "text/plain": [
       "array(['２ＬＤＫ', '１Ｋ', '１ＬＤＫ', '１Ｒ', nan, '３ＬＤＫ', '１ＤＫ＋Ｓ', '３ＤＫ', '１ＤＫ',\n",
       "       '２ＤＫ', 'オープンフロア', '４ＬＤＫ', '１Ｋ＋Ｓ', '１ＬＤＫ＋Ｓ', '２ＬＤＫ＋Ｓ', 'スタジオ', '２Ｋ',\n",
       "       '２ＤＫ＋Ｓ', '３ＬＤＫ＋Ｓ', '３Ｋ', '４ＤＫ', '５ＬＤＫ＋Ｓ', '７ＬＤＫ', '２Ｋ＋Ｓ', 'メゾネット',\n",
       "       '５ＬＤＫ', '３ＤＫ＋Ｓ', '４Ｋ', '４ＬＤＫ＋Ｓ', '２ＬＤ', '３ＬＫ', '１Ｒ＋Ｓ', '１ＬＫ',\n",
       "       '２ＬＤ＋Ｓ', '５ＤＫ', '１Ｌ', '２ＬＫ＋Ｓ', '６ＬＤＫ', '２ＬＫ', '１Ｌ＋Ｓ', '６ＬＤＫ＋Ｓ',\n",
       "       '６ＤＫ', '４ＤＫ＋Ｓ', '３Ｋ＋Ｓ', '３ＬＤ＋Ｓ', '１ＬＤ＋Ｓ', '３ＬＤ', '２Ｄ', '３ＬＤＫ＋Ｋ'],\n",
       "      dtype=object)"
      ]
     },
     "execution_count": 40,
     "metadata": {},
     "output_type": "execute_result"
    }
   ],
   "source": [
    "df_train.loc[df_train['種類'] == '中古マンション等', '間取り'].unique()"
   ]
  },
  {
   "cell_type": "code",
   "execution_count": 41,
   "metadata": {
    "hidden": true
   },
   "outputs": [
    {
     "data": {
      "text/plain": [
       "array([nan], dtype=object)"
      ]
     },
     "execution_count": 41,
     "metadata": {},
     "output_type": "execute_result"
    }
   ],
   "source": [
    "df_train.loc[df_train['種類'] == '林地', '間取り'].unique()"
   ]
  },
  {
   "cell_type": "code",
   "execution_count": 42,
   "metadata": {
    "hidden": true
   },
   "outputs": [
    {
     "data": {
      "text/plain": [
       "array([nan], dtype=object)"
      ]
     },
     "execution_count": 42,
     "metadata": {},
     "output_type": "execute_result"
    }
   ],
   "source": [
    "df_train.loc[df_train['種類'] == '農地', '間取り'].unique()             "
   ]
  },
  {
   "cell_type": "markdown",
   "metadata": {
    "heading_collapsed": true
   },
   "source": [
    "### 面積"
   ]
  },
  {
   "cell_type": "code",
   "execution_count": 49,
   "metadata": {
    "hidden": true
   },
   "outputs": [
    {
     "data": {
      "text/plain": [
       "0    55\n",
       "1    20\n",
       "2    45\n",
       "3    20\n",
       "4    80\n",
       "Name: 面積（㎡）, dtype: object"
      ]
     },
     "execution_count": 49,
     "metadata": {},
     "output_type": "execute_result"
    }
   ],
   "source": [
    "df_train['面積（㎡）'].head()"
   ]
  },
  {
   "cell_type": "code",
   "execution_count": 50,
   "metadata": {
    "hidden": true
   },
   "outputs": [],
   "source": [
    "s = pd.to_numeric(df_train['面積（㎡）'], errors='coerce')"
   ]
  },
  {
   "cell_type": "markdown",
   "metadata": {
    "hidden": true
   },
   "source": [
    "全体の0.366%は、面積が数値でない"
   ]
  },
  {
   "cell_type": "code",
   "execution_count": 51,
   "metadata": {
    "hidden": true
   },
   "outputs": [
    {
     "name": "stdout",
     "output_type": "stream",
     "text": [
      "0(0.000000)\n"
     ]
    }
   ],
   "source": [
    "print('%d(%f)' % (s.isnull().sum(), s.isnull().mean()))"
   ]
  },
  {
   "cell_type": "markdown",
   "metadata": {
    "hidden": true
   },
   "source": [
    "面積が文字列となっているレコードは、2000㎡以上か5000㎡以上の値になっている"
   ]
  },
  {
   "cell_type": "code",
   "execution_count": 52,
   "metadata": {
    "hidden": true
   },
   "outputs": [
    {
     "data": {
      "text/plain": [
       "Series([], Name: 面積（㎡）, dtype: int64)"
      ]
     },
     "execution_count": 52,
     "metadata": {},
     "output_type": "execute_result"
    }
   ],
   "source": [
    "df_train.loc[s.isnull(), '面積（㎡）'].value_counts()"
   ]
  },
  {
   "cell_type": "code",
   "execution_count": 53,
   "metadata": {
    "hidden": true
   },
   "outputs": [
    {
     "data": {
      "text/plain": [
       "Series([], Name: 種類, dtype: int64)"
      ]
     },
     "execution_count": 53,
     "metadata": {},
     "output_type": "execute_result"
    }
   ],
   "source": [
    "df_train.loc[s.isnull(), '種類'].value_counts()"
   ]
  },
  {
   "cell_type": "code",
   "execution_count": 54,
   "metadata": {
    "hidden": true
   },
   "outputs": [
    {
     "data": {
      "text/html": [
       "<div>\n",
       "<style scoped>\n",
       "    .dataframe tbody tr th:only-of-type {\n",
       "        vertical-align: middle;\n",
       "    }\n",
       "\n",
       "    .dataframe tbody tr th {\n",
       "        vertical-align: top;\n",
       "    }\n",
       "\n",
       "    .dataframe thead th {\n",
       "        text-align: right;\n",
       "    }\n",
       "</style>\n",
       "<table border=\"1\" class=\"dataframe\">\n",
       "  <thead>\n",
       "    <tr style=\"text-align: right;\">\n",
       "      <th></th>\n",
       "      <th>id</th>\n",
       "      <th>種類</th>\n",
       "      <th>地域</th>\n",
       "      <th>市区町村コード</th>\n",
       "      <th>都道府県名</th>\n",
       "      <th>市区町村名</th>\n",
       "      <th>地区名</th>\n",
       "      <th>最寄駅：名称</th>\n",
       "      <th>最寄駅：距離（分）</th>\n",
       "      <th>間取り</th>\n",
       "      <th>面積（㎡）</th>\n",
       "      <th>土地の形状</th>\n",
       "      <th>間口</th>\n",
       "      <th>延床面積（㎡）</th>\n",
       "      <th>建築年</th>\n",
       "      <th>建物の構造</th>\n",
       "      <th>用途</th>\n",
       "      <th>今後の利用目的</th>\n",
       "      <th>前面道路：方位</th>\n",
       "      <th>前面道路：種類</th>\n",
       "      <th>前面道路：幅員（ｍ）</th>\n",
       "      <th>都市計画</th>\n",
       "      <th>建ぺい率（％）</th>\n",
       "      <th>容積率（％）</th>\n",
       "      <th>取引時点</th>\n",
       "      <th>改装</th>\n",
       "      <th>取引の事情等</th>\n",
       "      <th>y</th>\n",
       "      <th>面積</th>\n",
       "    </tr>\n",
       "  </thead>\n",
       "  <tbody>\n",
       "  </tbody>\n",
       "</table>\n",
       "</div>"
      ],
      "text/plain": [
       "Empty DataFrame\n",
       "Columns: [id, 種類, 地域, 市区町村コード, 都道府県名, 市区町村名, 地区名, 最寄駅：名称, 最寄駅：距離（分）, 間取り, 面積（㎡）, 土地の形状, 間口, 延床面積（㎡）, 建築年, 建物の構造, 用途, 今後の利用目的, 前面道路：方位, 前面道路：種類, 前面道路：幅員（ｍ）, 都市計画, 建ぺい率（％）, 容積率（％）, 取引時点, 改装, 取引の事情等, y, 面積]\n",
       "Index: []"
      ]
     },
     "execution_count": 54,
     "metadata": {},
     "output_type": "execute_result"
    }
   ],
   "source": [
    "df_train[(df_train['種類']=='中古マンション等') & s.isnull()]"
   ]
  },
  {
   "cell_type": "code",
   "execution_count": 55,
   "metadata": {
    "hidden": true
   },
   "outputs": [
    {
     "data": {
      "image/png": "[encoded data removed]",
      "text/plain": [
       "<Figure size 432x288 with 1 Axes>"
      ]
     },
     "metadata": {
      "needs_background": "light"
     },
     "output_type": "display_data"
    }
   ],
   "source": [
    "is_the = (df_train['種類']=='宅地(土地)') & s.notnull()\n",
    "s[is_the].head()\n",
    "\n",
    "# tmp = df_train[(df_train['種類']=='宅地(土地)') & s.notnull()]\n",
    "plt.plot(s[is_the], np.log10(df_train.loc[is_the, 'y']), 'o');"
   ]
  },
  {
   "cell_type": "code",
   "execution_count": 59,
   "metadata": {
    "hidden": true
   },
   "outputs": [
    {
     "data": {
      "image/png": "[encoded data removed]",
      "text/plain": [
       "<Figure size 432x288 with 1 Axes>"
      ]
     },
     "metadata": {
      "needs_background": "light"
     },
     "output_type": "display_data"
    }
   ],
   "source": [
    "plt.hist(s[is_the], bins=100);"
   ]
  },
  {
   "cell_type": "code",
   "execution_count": 60,
   "metadata": {
    "hidden": true
   },
   "outputs": [
    {
     "data": {
      "image/png": "[encoded data removed]",
      "text/plain": [
       "<Figure size 432x288 with 1 Axes>"
      ]
     },
     "metadata": {
      "needs_background": "light"
     },
     "output_type": "display_data"
    }
   ],
   "source": [
    "plt.hist(np.log10(s[is_the]), bins=100);"
   ]
  },
  {
   "cell_type": "markdown",
   "metadata": {
    "heading_collapsed": true
   },
   "source": [
    "### 間口, 延床面積（㎡）"
   ]
  },
  {
   "cell_type": "code",
   "execution_count": 120,
   "metadata": {
    "hidden": true
   },
   "outputs": [
    {
     "ename": "ValueError",
     "evalue": "could not convert string to float: '50.0m以上'",
     "output_type": "error",
     "traceback": [
      "\u001b[1;31m---------------------------------------------------------------------------\u001b[0m",
      "\u001b[1;31mValueError\u001b[0m                                Traceback (most recent call last)",
      "\u001b[1;32m<ipython-input-120-56b3f121cf7d>\u001b[0m in \u001b[0;36m<module>\u001b[1;34m\u001b[0m\n\u001b[1;32m----> 1\u001b[1;33m \u001b[0mdf_train\u001b[0m\u001b[1;33m[\u001b[0m\u001b[1;34m'間口'\u001b[0m\u001b[1;33m]\u001b[0m\u001b[1;33m.\u001b[0m\u001b[0mastype\u001b[0m\u001b[1;33m(\u001b[0m\u001b[0mnp\u001b[0m\u001b[1;33m.\u001b[0m\u001b[0mfloat64\u001b[0m\u001b[1;33m)\u001b[0m\u001b[1;33m\u001b[0m\u001b[0m\n\u001b[0m",
      "\u001b[1;32m~\\Anaconda3\\envs\\py36\\lib\\site-packages\\pandas\\core\\generic.py\u001b[0m in \u001b[0;36mastype\u001b[1;34m(self, dtype, copy, errors, **kwargs)\u001b[0m\n\u001b[0;32m   5689\u001b[0m             \u001b[1;31m# else, only a single dtype is given\u001b[0m\u001b[1;33m\u001b[0m\u001b[1;33m\u001b[0m\u001b[0m\n\u001b[0;32m   5690\u001b[0m             new_data = self._data.astype(dtype=dtype, copy=copy, errors=errors,\n\u001b[1;32m-> 5691\u001b[1;33m                                          **kwargs)\n\u001b[0m\u001b[0;32m   5692\u001b[0m             \u001b[1;32mreturn\u001b[0m \u001b[0mself\u001b[0m\u001b[1;33m.\u001b[0m\u001b[0m_constructor\u001b[0m\u001b[1;33m(\u001b[0m\u001b[0mnew_data\u001b[0m\u001b[1;33m)\u001b[0m\u001b[1;33m.\u001b[0m\u001b[0m__finalize__\u001b[0m\u001b[1;33m(\u001b[0m\u001b[0mself\u001b[0m\u001b[1;33m)\u001b[0m\u001b[1;33m\u001b[0m\u001b[0m\n\u001b[0;32m   5693\u001b[0m \u001b[1;33m\u001b[0m\u001b[0m\n",
      "\u001b[1;32m~\\Anaconda3\\envs\\py36\\lib\\site-packages\\pandas\\core\\internals\\managers.py\u001b[0m in \u001b[0;36mastype\u001b[1;34m(self, dtype, **kwargs)\u001b[0m\n\u001b[0;32m    529\u001b[0m \u001b[1;33m\u001b[0m\u001b[0m\n\u001b[0;32m    530\u001b[0m     \u001b[1;32mdef\u001b[0m \u001b[0mastype\u001b[0m\u001b[1;33m(\u001b[0m\u001b[0mself\u001b[0m\u001b[1;33m,\u001b[0m \u001b[0mdtype\u001b[0m\u001b[1;33m,\u001b[0m \u001b[1;33m**\u001b[0m\u001b[0mkwargs\u001b[0m\u001b[1;33m)\u001b[0m\u001b[1;33m:\u001b[0m\u001b[1;33m\u001b[0m\u001b[0m\n\u001b[1;32m--> 531\u001b[1;33m         \u001b[1;32mreturn\u001b[0m \u001b[0mself\u001b[0m\u001b[1;33m.\u001b[0m\u001b[0mapply\u001b[0m\u001b[1;33m(\u001b[0m\u001b[1;34m'astype'\u001b[0m\u001b[1;33m,\u001b[0m \u001b[0mdtype\u001b[0m\u001b[1;33m=\u001b[0m\u001b[0mdtype\u001b[0m\u001b[1;33m,\u001b[0m \u001b[1;33m**\u001b[0m\u001b[0mkwargs\u001b[0m\u001b[1;33m)\u001b[0m\u001b[1;33m\u001b[0m\u001b[0m\n\u001b[0m\u001b[0;32m    532\u001b[0m \u001b[1;33m\u001b[0m\u001b[0m\n\u001b[0;32m    533\u001b[0m     \u001b[1;32mdef\u001b[0m \u001b[0mconvert\u001b[0m\u001b[1;33m(\u001b[0m\u001b[0mself\u001b[0m\u001b[1;33m,\u001b[0m \u001b[1;33m**\u001b[0m\u001b[0mkwargs\u001b[0m\u001b[1;33m)\u001b[0m\u001b[1;33m:\u001b[0m\u001b[1;33m\u001b[0m\u001b[0m\n",
      "\u001b[1;32m~\\Anaconda3\\envs\\py36\\lib\\site-packages\\pandas\\core\\internals\\managers.py\u001b[0m in \u001b[0;36mapply\u001b[1;34m(self, f, axes, filter, do_integrity_check, consolidate, **kwargs)\u001b[0m\n\u001b[0;32m    393\u001b[0m                                             copy=align_copy)\n\u001b[0;32m    394\u001b[0m \u001b[1;33m\u001b[0m\u001b[0m\n\u001b[1;32m--> 395\u001b[1;33m             \u001b[0mapplied\u001b[0m \u001b[1;33m=\u001b[0m \u001b[0mgetattr\u001b[0m\u001b[1;33m(\u001b[0m\u001b[0mb\u001b[0m\u001b[1;33m,\u001b[0m \u001b[0mf\u001b[0m\u001b[1;33m)\u001b[0m\u001b[1;33m(\u001b[0m\u001b[1;33m**\u001b[0m\u001b[0mkwargs\u001b[0m\u001b[1;33m)\u001b[0m\u001b[1;33m\u001b[0m\u001b[0m\n\u001b[0m\u001b[0;32m    396\u001b[0m             \u001b[0mresult_blocks\u001b[0m \u001b[1;33m=\u001b[0m \u001b[0m_extend_blocks\u001b[0m\u001b[1;33m(\u001b[0m\u001b[0mapplied\u001b[0m\u001b[1;33m,\u001b[0m \u001b[0mresult_blocks\u001b[0m\u001b[1;33m)\u001b[0m\u001b[1;33m\u001b[0m\u001b[0m\n\u001b[0;32m    397\u001b[0m \u001b[1;33m\u001b[0m\u001b[0m\n",
      "\u001b[1;32m~\\Anaconda3\\envs\\py36\\lib\\site-packages\\pandas\\core\\internals\\blocks.py\u001b[0m in \u001b[0;36mastype\u001b[1;34m(self, dtype, copy, errors, values, **kwargs)\u001b[0m\n\u001b[0;32m    532\u001b[0m     \u001b[1;32mdef\u001b[0m \u001b[0mastype\u001b[0m\u001b[1;33m(\u001b[0m\u001b[0mself\u001b[0m\u001b[1;33m,\u001b[0m \u001b[0mdtype\u001b[0m\u001b[1;33m,\u001b[0m \u001b[0mcopy\u001b[0m\u001b[1;33m=\u001b[0m\u001b[1;32mFalse\u001b[0m\u001b[1;33m,\u001b[0m \u001b[0merrors\u001b[0m\u001b[1;33m=\u001b[0m\u001b[1;34m'raise'\u001b[0m\u001b[1;33m,\u001b[0m \u001b[0mvalues\u001b[0m\u001b[1;33m=\u001b[0m\u001b[1;32mNone\u001b[0m\u001b[1;33m,\u001b[0m \u001b[1;33m**\u001b[0m\u001b[0mkwargs\u001b[0m\u001b[1;33m)\u001b[0m\u001b[1;33m:\u001b[0m\u001b[1;33m\u001b[0m\u001b[0m\n\u001b[0;32m    533\u001b[0m         return self._astype(dtype, copy=copy, errors=errors, values=values,\n\u001b[1;32m--> 534\u001b[1;33m                             **kwargs)\n\u001b[0m\u001b[0;32m    535\u001b[0m \u001b[1;33m\u001b[0m\u001b[0m\n\u001b[0;32m    536\u001b[0m     def _astype(self, dtype, copy=False, errors='raise', values=None,\n",
      "\u001b[1;32m~\\Anaconda3\\envs\\py36\\lib\\site-packages\\pandas\\core\\internals\\blocks.py\u001b[0m in \u001b[0;36m_astype\u001b[1;34m(self, dtype, copy, errors, values, **kwargs)\u001b[0m\n\u001b[0;32m    631\u001b[0m \u001b[1;33m\u001b[0m\u001b[0m\n\u001b[0;32m    632\u001b[0m                     \u001b[1;31m# _astype_nansafe works fine with 1-d only\u001b[0m\u001b[1;33m\u001b[0m\u001b[1;33m\u001b[0m\u001b[0m\n\u001b[1;32m--> 633\u001b[1;33m                     \u001b[0mvalues\u001b[0m \u001b[1;33m=\u001b[0m \u001b[0mastype_nansafe\u001b[0m\u001b[1;33m(\u001b[0m\u001b[0mvalues\u001b[0m\u001b[1;33m.\u001b[0m\u001b[0mravel\u001b[0m\u001b[1;33m(\u001b[0m\u001b[1;33m)\u001b[0m\u001b[1;33m,\u001b[0m \u001b[0mdtype\u001b[0m\u001b[1;33m,\u001b[0m \u001b[0mcopy\u001b[0m\u001b[1;33m=\u001b[0m\u001b[1;32mTrue\u001b[0m\u001b[1;33m)\u001b[0m\u001b[1;33m\u001b[0m\u001b[0m\n\u001b[0m\u001b[0;32m    634\u001b[0m \u001b[1;33m\u001b[0m\u001b[0m\n\u001b[0;32m    635\u001b[0m                 \u001b[1;31m# TODO(extension)\u001b[0m\u001b[1;33m\u001b[0m\u001b[1;33m\u001b[0m\u001b[0m\n",
      "\u001b[1;32m~\\Anaconda3\\envs\\py36\\lib\\site-packages\\pandas\\core\\dtypes\\cast.py\u001b[0m in \u001b[0;36mastype_nansafe\u001b[1;34m(arr, dtype, copy, skipna)\u001b[0m\n\u001b[0;32m    700\u001b[0m     \u001b[1;32mif\u001b[0m \u001b[0mcopy\u001b[0m \u001b[1;32mor\u001b[0m \u001b[0mis_object_dtype\u001b[0m\u001b[1;33m(\u001b[0m\u001b[0marr\u001b[0m\u001b[1;33m)\u001b[0m \u001b[1;32mor\u001b[0m \u001b[0mis_object_dtype\u001b[0m\u001b[1;33m(\u001b[0m\u001b[0mdtype\u001b[0m\u001b[1;33m)\u001b[0m\u001b[1;33m:\u001b[0m\u001b[1;33m\u001b[0m\u001b[0m\n\u001b[0;32m    701\u001b[0m         \u001b[1;31m# Explicit copy, or required since NumPy can't view from / to object.\u001b[0m\u001b[1;33m\u001b[0m\u001b[1;33m\u001b[0m\u001b[0m\n\u001b[1;32m--> 702\u001b[1;33m         \u001b[1;32mreturn\u001b[0m \u001b[0marr\u001b[0m\u001b[1;33m.\u001b[0m\u001b[0mastype\u001b[0m\u001b[1;33m(\u001b[0m\u001b[0mdtype\u001b[0m\u001b[1;33m,\u001b[0m \u001b[0mcopy\u001b[0m\u001b[1;33m=\u001b[0m\u001b[1;32mTrue\u001b[0m\u001b[1;33m)\u001b[0m\u001b[1;33m\u001b[0m\u001b[0m\n\u001b[0m\u001b[0;32m    703\u001b[0m \u001b[1;33m\u001b[0m\u001b[0m\n\u001b[0;32m    704\u001b[0m     \u001b[1;32mreturn\u001b[0m \u001b[0marr\u001b[0m\u001b[1;33m.\u001b[0m\u001b[0mview\u001b[0m\u001b[1;33m(\u001b[0m\u001b[0mdtype\u001b[0m\u001b[1;33m)\u001b[0m\u001b[1;33m\u001b[0m\u001b[0m\n",
      "\u001b[1;31mValueError\u001b[0m: could not convert string to float: '50.0m以上'"
     ]
    }
   ],
   "source": [
    "df_train['間口'].astype(np.float64)"
   ]
  },
  {
   "cell_type": "code",
   "execution_count": 118,
   "metadata": {
    "hidden": true
   },
   "outputs": [],
   "source": [
    "# \n",
    "s = pd.to_numeric(df_train['延床面積（㎡）'], errors='coerce')"
   ]
  },
  {
   "cell_type": "code",
   "execution_count": 119,
   "metadata": {
    "hidden": true
   },
   "outputs": [
    {
     "data": {
      "text/plain": [
       "array([nan, '2000㎡以上', '10m^2未満'], dtype=object)"
      ]
     },
     "execution_count": 119,
     "metadata": {},
     "output_type": "execute_result"
    }
   ],
   "source": [
    "df_train.loc[s.isnull(), '延床面積（㎡）'].unique()"
   ]
  },
  {
   "cell_type": "markdown",
   "metadata": {
    "heading_collapsed": true
   },
   "source": [
    "### 建築年"
   ]
  },
  {
   "cell_type": "code",
   "execution_count": 121,
   "metadata": {
    "hidden": true
   },
   "outputs": [
    {
     "data": {
      "text/plain": [
       "array(['昭和59年', '平成15年', '平成24年', '昭和61年', '平成11年', '昭和60年', '平成19年',\n",
       "       '平成10年', nan, '昭和57年', '昭和45年', '昭和47年', '昭和43年', '昭和64年', '平成25年',\n",
       "       '平成16年', '平成9年', '平成5年', '昭和51年', '平成13年', '昭和52年', '昭和55年',\n",
       "       '昭和54年', '平成2年', '平成21年', '平成22年', '平成18年', '平成14年', '平成6年',\n",
       "       '平成17年', '昭和62年', '平成12年', '昭和38年', '昭和41年', '昭和48年', '平成20年',\n",
       "       '昭和53年', '昭和49年', '平成26年', '昭和58年', '昭和56年', '昭和35年', '昭和50年',\n",
       "       '昭和37年', '平成23年', '平成7年', '平成3年', '昭和63年', '戦前', '平成29年', '昭和36年',\n",
       "       '平成28年', '昭和39年', '平成4年', '平成27年', '昭和42年', '昭和31年', '平成30年',\n",
       "       '昭和44年', '昭和29年', '平成8年', '昭和27年', '昭和46年', '昭和30年', '昭和33年',\n",
       "       '昭和32年', '昭和40年', '昭和26年', '昭和34年', '昭和25年', '昭和28年', '昭和22年',\n",
       "       '昭和24年', '昭和23年', '昭和21年', '平成31年'], dtype=object)"
      ]
     },
     "execution_count": 121,
     "metadata": {},
     "output_type": "execute_result"
    }
   ],
   "source": [
    "df_train['建築年'].unique()"
   ]
  },
  {
   "cell_type": "code",
   "execution_count": 43,
   "metadata": {
    "hidden": true
   },
   "outputs": [
    {
     "data": {
      "text/plain": [
       "array([nan], dtype=object)"
      ]
     },
     "execution_count": 43,
     "metadata": {},
     "output_type": "execute_result"
    }
   ],
   "source": [
    "df_train.loc[df_train['種類'] == '宅地(土地)', '建築年'].unique()"
   ]
  },
  {
   "cell_type": "code",
   "execution_count": 44,
   "metadata": {
    "hidden": true
   },
   "outputs": [
    {
     "data": {
      "text/plain": [
       "array(['昭和59年', '平成15年', '平成24年', '平成11年', '昭和60年', '平成19年', '平成10年', nan,\n",
       "       '昭和57年', '平成25年', '平成16年', '平成9年', '昭和51年', '昭和47年', '平成13年',\n",
       "       '昭和52年', '昭和45年', '昭和54年', '平成21年', '平成18年', '平成14年', '平成17年',\n",
       "       '平成12年', '平成20年', '平成26年', '昭和56年', '平成23年', '平成22年', '昭和55年',\n",
       "       '平成27年', '平成28年', '昭和53年', '昭和63年', '昭和50年', '昭和61年', '平成3年',\n",
       "       '昭和58年', '平成4年', '昭和46年', '昭和44年', '平成8年', '昭和48年', '昭和49年',\n",
       "       '平成5年', '平成6年', '平成29年', '平成7年', '平成2年', '昭和64年', '昭和62年', '昭和39年',\n",
       "       '昭和35年', '昭和34年', '昭和41年', '戦前', '昭和43年', '昭和40年', '昭和42年',\n",
       "       '昭和25年', '昭和38年', '平成30年', '昭和37年', '昭和36年', '昭和24年', '昭和31年',\n",
       "       '昭和33年', '昭和22年', '昭和21年', '昭和28年'], dtype=object)"
      ]
     },
     "execution_count": 44,
     "metadata": {},
     "output_type": "execute_result"
    }
   ],
   "source": [
    "df_train.loc[df_train['種類'] == '中古マンション等', '建築年'].unique()"
   ]
  },
  {
   "cell_type": "code",
   "execution_count": 45,
   "metadata": {
    "hidden": true
   },
   "outputs": [
    {
     "data": {
      "text/plain": [
       "array(['昭和61年', '昭和57年', '昭和45年', '昭和47年', '昭和43年', '昭和64年', '平成5年',\n",
       "       '昭和55年', nan, '平成11年', '平成2年', '平成22年', '平成6年', '昭和62年', '昭和38年',\n",
       "       '昭和60年', '昭和41年', '昭和48年', '昭和53年', '昭和49年', '昭和58年', '昭和59年',\n",
       "       '昭和35年', '平成12年', '昭和50年', '昭和37年', '平成15年', '平成7年', '平成3年',\n",
       "       '昭和63年', '昭和56年', '平成26年', '戦前', '平成29年', '昭和36年', '平成28年', '平成9年',\n",
       "       '昭和39年', '平成4年', '昭和51年', '昭和42年', '昭和31年', '平成30年', '平成16年',\n",
       "       '昭和44年', '平成18年', '平成25年', '昭和29年', '昭和54年', '平成8年', '昭和27年',\n",
       "       '平成20年', '昭和52年', '平成10年', '平成17年', '平成19年', '平成21年', '昭和30年',\n",
       "       '昭和33年', '昭和32年', '昭和46年', '平成27年', '昭和40年', '昭和26年', '平成23年',\n",
       "       '昭和34年', '昭和25年', '平成13年', '平成14年', '昭和28年', '昭和22年', '平成24年',\n",
       "       '昭和24年', '昭和23年', '昭和21年', '平成31年'], dtype=object)"
      ]
     },
     "execution_count": 45,
     "metadata": {},
     "output_type": "execute_result"
    }
   ],
   "source": [
    "df_train.loc[df_train['種類'] == '宅地(土地と建物)', '建築年'].unique()"
   ]
  },
  {
   "cell_type": "code",
   "execution_count": 46,
   "metadata": {
    "hidden": true
   },
   "outputs": [
    {
     "data": {
      "text/plain": [
       "array([nan], dtype=object)"
      ]
     },
     "execution_count": 46,
     "metadata": {},
     "output_type": "execute_result"
    }
   ],
   "source": [
    "df_train.loc[df_train['種類'] == '林地', '建築年'].unique()"
   ]
  },
  {
   "cell_type": "code",
   "execution_count": 47,
   "metadata": {
    "hidden": true
   },
   "outputs": [
    {
     "data": {
      "text/plain": [
       "array([nan], dtype=object)"
      ]
     },
     "execution_count": 47,
     "metadata": {},
     "output_type": "execute_result"
    }
   ],
   "source": [
    "df_train.loc[df_train['種類'] == '農地', '建築年'].unique()"
   ]
  },
  {
   "cell_type": "markdown",
   "metadata": {
    "heading_collapsed": true
   },
   "source": [
    "### 建物の構造, 用途, 今後の利用目的, 都市計画, 取引時点, 改装"
   ]
  },
  {
   "cell_type": "code",
   "execution_count": 105,
   "metadata": {
    "hidden": true
   },
   "outputs": [
    {
     "data": {
      "text/plain": [
       "array(['ＳＲＣ', 'ＲＣ', nan, '鉄骨造', '木造', '鉄骨造、軽量鉄骨造', 'ＳＲＣ、ＲＣ', '軽量鉄骨造',\n",
       "       '鉄骨造、木造', 'ＲＣ、鉄骨造', 'ＲＣ、木造', '木造、ブロック造', 'ＳＲＣ、鉄骨造', '木造、軽量鉄骨造',\n",
       "       'ブロック造', 'ＲＣ、木造、ブロック造', '鉄骨造、ブロック造', 'ＲＣ、鉄骨造、木造', 'ＳＲＣ、木造',\n",
       "       'ＲＣ、ブロック造', 'ＲＣ、軽量鉄骨造', 'ブロック造、軽量鉄骨造', '鉄骨造、木造、軽量鉄骨造',\n",
       "       'ＲＣ、鉄骨造、ブロック造', 'ＲＣ、鉄骨造、木造、ブロック造'], dtype=object)"
      ]
     },
     "execution_count": 105,
     "metadata": {},
     "output_type": "execute_result"
    }
   ],
   "source": [
    "df_train['建物の構造'].unique()"
   ]
  },
  {
   "cell_type": "code",
   "execution_count": 106,
   "metadata": {
    "hidden": true,
    "scrolled": true
   },
   "outputs": [
    {
     "data": {
      "text/plain": [
       "array([nan, '住宅', '住宅、事務所、店舗', 'その他', '事務所、倉庫', '事務所', '事務所、倉庫、駐車場、その他',\n",
       "       '駐車場', '共同住宅', '共同住宅、店舗', '事務所、店舗', '住宅、店舗', '共同住宅、事務所、倉庫、店舗',\n",
       "       '住宅、作業場、店舗', '共同住宅、事務所、店舗', '住宅、事務所', '事務所、倉庫、駐車場', '住宅、事務所、その他',\n",
       "       '店舗', '事務所、その他', '事務所、倉庫、店舗', '住宅、倉庫、店舗、その他', '住宅、事務所、倉庫、店舗',\n",
       "       '事務所、作業場、倉庫', '事務所、駐車場', '工場', '住宅、倉庫', '住宅、共同住宅、工場、倉庫', '倉庫',\n",
       "       '事務所、駐車場、店舗', '住宅、工場、事務所', '共同住宅、事務所、倉庫、駐車場', '住宅、事務所、倉庫',\n",
       "       '住宅、作業場', '共同住宅、事務所', '住宅、事務所、店舗、その他', '住宅、駐車場、店舗', '住宅、工場',\n",
       "       '住宅、事務所、駐車場', '事務所、倉庫、その他', '住宅、その他', '住宅、作業場、倉庫、店舗',\n",
       "       '住宅、共同住宅、事務所、店舗', '共同住宅、事務所、倉庫', '事務所、店舗、その他', '店舗、その他',\n",
       "       '住宅、事務所、倉庫、駐車場', '共同住宅、その他', '住宅、事務所、作業場', '作業場、倉庫、駐車場', '工場、事務所',\n",
       "       '住宅、共同住宅、工場、事務所', '住宅、作業場、倉庫', '倉庫、店舗', '事務所、作業場、店舗',\n",
       "       '住宅、事務所、駐車場、店舗', '共同住宅、駐車場', '共同住宅、作業場', '住宅、店舗、その他', '住宅、倉庫、店舗',\n",
       "       '住宅、事務所、作業場、店舗', '住宅、共同住宅、事務所、倉庫', '共同住宅、事務所、作業場', '住宅、駐車場',\n",
       "       '住宅、倉庫、その他', '住宅、共同住宅、店舗', '事務所、駐車場、その他', '住宅、共同住宅、作業場',\n",
       "       '住宅、共同住宅、工場、事務所、作業場、倉庫', '共同住宅、工場、事務所、駐車場', '住宅、共同住宅、駐車場',\n",
       "       '事務所、作業場', '住宅、倉庫、駐車場、店舗', '共同住宅、工場、事務所', '共同住宅、駐車場、店舗',\n",
       "       '共同住宅、事務所、倉庫、駐車場、店舗', '住宅、共同住宅、作業場、店舗', '共同住宅、倉庫、駐車場',\n",
       "       '共同住宅、事務所、駐車場', '住宅、共同住宅', '駐車場、店舗', '共同住宅、倉庫、店舗',\n",
       "       '住宅、共同住宅、事務所、作業場', '駐車場、その他', '住宅、倉庫、駐車場', '住宅、共同住宅、駐車場、その他',\n",
       "       '事務所、倉庫、駐車場、店舗', '工場、作業場', '共同住宅、工場', '共同住宅、倉庫', '共同住宅、事務所、その他',\n",
       "       '住宅、事務所、倉庫、駐車場、店舗', '共同住宅、事務所、駐車場、店舗', '共同住宅、工場、店舗',\n",
       "       '住宅、作業場、倉庫、駐車場', '住宅、事務所、倉庫、店舗、その他', '住宅、工場、事務所、店舗', '工場、事務所、その他',\n",
       "       '共同住宅、作業場、店舗', '住宅、共同住宅、事務所、倉庫、駐車場', '共同住宅、店舗、その他', '共同住宅、作業場、倉庫',\n",
       "       '工場、倉庫', '共同住宅、工場、倉庫', '工場、事務所、作業場、駐車場', '住宅、事務所、作業場、駐車場',\n",
       "       '倉庫、駐車場', '住宅、工場、店舗', '事務所、作業場、倉庫、駐車場', '住宅、共同住宅、店舗、その他',\n",
       "       '住宅、共同住宅、事務所、駐車場', '住宅、共同住宅、事務所', '共同住宅、駐車場、その他', '作業場',\n",
       "       '共同住宅、事務所、作業場、倉庫', '住宅、共同住宅、倉庫、店舗', '住宅、工場、倉庫',\n",
       "       '共同住宅、事務所、作業場、駐車場、店舗', '住宅、工場、事務所、倉庫', '住宅、事務所、駐車場、その他',\n",
       "       '住宅、事務所、作業場、倉庫、駐車場', '住宅、共同住宅、工場、事務所、倉庫', '住宅、事務所、作業場、倉庫',\n",
       "       '住宅、共同住宅、作業場、倉庫', '住宅、共同住宅、工場', '工場、事務所、倉庫', '工場、事務所、倉庫、店舗',\n",
       "       '共同住宅、倉庫、その他', '住宅、共同住宅、倉庫', '住宅、作業場、駐車場', '事務所、作業場、駐車場、その他',\n",
       "       '住宅、作業場、その他', '事務所、作業場、その他', '共同住宅、工場、事務所、倉庫', '共同住宅、倉庫、店舗、その他',\n",
       "       '工場、作業場、その他', '住宅、工場、その他', '工場、店舗', '住宅、駐車場、その他', '共同住宅、作業場、倉庫、店舗',\n",
       "       '住宅、事務所、駐車場、店舗、その他', '共同住宅、工場、駐車場', '作業場、倉庫', '工場、事務所、倉庫、駐車場',\n",
       "       '工場、事務所、倉庫、駐車場、店舗', '住宅、共同住宅、その他', '共同住宅、事務所、倉庫、店舗、その他', '作業場、店舗',\n",
       "       '事務所、駐車場、店舗、その他', '共同住宅、倉庫、駐車場、店舗、その他', '住宅、共同住宅、倉庫、駐車場',\n",
       "       '住宅、駐車場、店舗、その他', '事務所、作業場、店舗、その他', '作業場、その他', '住宅、工場、事務所、その他',\n",
       "       '共同住宅、事務所、作業場、店舗', '工場、事務所、駐車場、店舗', '作業場、倉庫、店舗', '事務所、作業場、駐車場',\n",
       "       '共同住宅、事務所、作業場、倉庫、店舗', '工場、作業場、倉庫', '事務所、作業場、倉庫、店舗',\n",
       "       '住宅、事務所、作業場、倉庫、店舗', '共同住宅、駐車場、店舗、その他', '共同住宅、事務所、店舗、その他',\n",
       "       '共同住宅、事務所、作業場、倉庫、駐車場', '住宅、共同住宅、作業場、駐車場', '工場、事務所、駐車場',\n",
       "       '事務所、倉庫、店舗、その他', '倉庫、その他', '共同住宅、倉庫、駐車場、店舗', '共同住宅、事務所、倉庫、その他',\n",
       "       '工場、その他', '工場、事務所、店舗', '共同住宅、工場、倉庫、その他', '共同住宅、作業場、倉庫、駐車場',\n",
       "       '工場、事務所、作業場', '工場、倉庫、駐車場', '共同住宅、作業場、駐車場', '住宅、工場、倉庫、店舗',\n",
       "       '住宅、共同住宅、事務所、倉庫、店舗', '共同住宅、事務所、作業場、倉庫、その他', '工場、事務所、作業場、倉庫',\n",
       "       '工場、事務所、倉庫、その他', '共同住宅、工場、事務所、倉庫、その他', '共同住宅、工場、事務所、その他',\n",
       "       '共同住宅、作業場、その他', '住宅、工場、作業場', '住宅、工場、事務所、作業場', '倉庫、駐車場、店舗',\n",
       "       '作業場、駐車場、店舗、その他', '住宅、工場、事務所、駐車場', '駐車場、店舗、その他',\n",
       "       '住宅、事務所、倉庫、駐車場、その他', '住宅、共同住宅、駐車場、店舗', '住宅、事務所、倉庫、その他', '工場、倉庫、店舗',\n",
       "       '住宅、共同住宅、工場、店舗', '共同住宅、工場、事務所、駐車場、店舗', '事務所、作業場、倉庫、その他',\n",
       "       '事務所、作業場、倉庫、駐車場、その他', '作業場、店舗、その他', '倉庫、店舗、その他'], dtype=object)"
      ]
     },
     "execution_count": 106,
     "metadata": {},
     "output_type": "execute_result"
    }
   ],
   "source": [
    "df_train['用途'].unique()"
   ]
  },
  {
   "cell_type": "code",
   "execution_count": 108,
   "metadata": {
    "hidden": true
   },
   "outputs": [
    {
     "data": {
      "text/plain": [
       "array(['住宅', 'その他', '事務所', nan, '店舗', '倉庫', '工場'], dtype=object)"
      ]
     },
     "execution_count": 108,
     "metadata": {},
     "output_type": "execute_result"
    }
   ],
   "source": [
    "df_train['今後の利用目的'].unique()"
   ]
  },
  {
   "cell_type": "code",
   "execution_count": 109,
   "metadata": {
    "hidden": true,
    "scrolled": true
   },
   "outputs": [
    {
     "data": {
      "text/plain": [
       "array(['商業地域', nan, '第１種住居地域', '第２種住居地域', '準工業地域', '準住居地域',\n",
       "       '第１種中高層住居専用地域', '第２種中高層住居専用地域', '近隣商業地域', '第１種低層住居専用地域',\n",
       "       '第２種低層住居専用地域', '工業地域', '工業専用地域', '市街化調整区域', '準都市計画区域', '都市計画区域外',\n",
       "       '市街化区域及び市街化調整区域外の都市計画区域'], dtype=object)"
      ]
     },
     "execution_count": 109,
     "metadata": {},
     "output_type": "execute_result"
    }
   ],
   "source": [
    "df_train['都市計画'].unique()"
   ]
  },
  {
   "cell_type": "code",
   "execution_count": 110,
   "metadata": {
    "hidden": true
   },
   "outputs": [
    {
     "data": {
      "text/plain": [
       "array(['2017年第４四半期', '2017年第３四半期', '2017年第２四半期', '2017年第１四半期',\n",
       "       '2016年第４四半期', '2016年第３四半期', '2016年第２四半期', '2016年第１四半期',\n",
       "       '2015年第４四半期', '2015年第３四半期', '2015年第２四半期', '2015年第１四半期',\n",
       "       '2014年第４四半期', '2014年第３四半期', '2014年第２四半期', '2014年第１四半期',\n",
       "       '2010年第４四半期', '2010年第３四半期', '2010年第２四半期', '2010年第１四半期',\n",
       "       '2011年第４四半期', '2011年第３四半期', '2011年第２四半期', '2011年第１四半期',\n",
       "       '2012年第４四半期', '2012年第３四半期', '2012年第１四半期', '2012年第２四半期',\n",
       "       '2013年第４四半期', '2013年第３四半期', '2013年第２四半期', '2013年第１四半期',\n",
       "       '2009年第４四半期', '2009年第３四半期', '2009年第２四半期', '2009年第１四半期',\n",
       "       '2008年第４四半期', '2008年第３四半期', '2008年第２四半期', '2007年第４四半期',\n",
       "       '2007年第３四半期', '2007年第１四半期', '2006年第４四半期', '2006年第３四半期',\n",
       "       '2006年第２四半期', '2006年第１四半期', '2005年第４四半期', '2005年第３四半期',\n",
       "       '2008年第１四半期', '2007年第２四半期'], dtype=object)"
      ]
     },
     "execution_count": 110,
     "metadata": {},
     "output_type": "execute_result"
    }
   ],
   "source": [
    "df_train['取引時点'].unique()"
   ]
  },
  {
   "cell_type": "code",
   "execution_count": 111,
   "metadata": {
    "hidden": true
   },
   "outputs": [
    {
     "data": {
      "text/plain": [
       "array(['改装済', '未改装', nan], dtype=object)"
      ]
     },
     "execution_count": 111,
     "metadata": {},
     "output_type": "execute_result"
    }
   ],
   "source": [
    "df_train['改装'].unique()"
   ]
  },
  {
   "cell_type": "code",
   "execution_count": 113,
   "metadata": {
    "hidden": true
   },
   "outputs": [
    {
     "data": {
      "text/plain": [
       "array([nan, '私道を含む取引', '隣地の購入', '関係者間取引', '調停・競売等', '隣地の購入、私道を含む取引',\n",
       "       '隣地の購入、関係者間取引、私道を含む取引', '関係者間取引、私道を含む取引', 'その他事情有り',\n",
       "       '調停・競売等、私道を含む取引', '瑕疵有りの可能性', '古屋付き・取壊し前提', '隣地の購入、関係者間取引',\n",
       "       '私道を含む取引、その他事情有り', '他の権利・負担付き', '隣地の購入、その他事情有り',\n",
       "       '瑕疵有りの可能性、私道を含む取引', '隣地の購入、調停・競売等、私道を含む取引', '古屋付き・取壊し前提、私道を含む取引',\n",
       "       '他の権利・負担付き、私道を含む取引', '関係者間取引、調停・競売等、私道を含む取引', '他の権利・負担付き、調停・競売等',\n",
       "       '調停・競売等、その他事情有り', '古屋付き・取壊し前提、瑕疵有りの可能性', '隣地の購入、瑕疵有りの可能性',\n",
       "       '隣地の購入、調停・競売等'], dtype=object)"
      ]
     },
     "execution_count": 113,
     "metadata": {},
     "output_type": "execute_result"
    }
   ],
   "source": [
    "df_train['取引の事情等'].unique()"
   ]
  },
  {
   "cell_type": "markdown",
   "metadata": {
    "heading_collapsed": true
   },
   "source": [
    "## publish price"
   ]
  },
  {
   "cell_type": "code",
   "execution_count": 163,
   "metadata": {
    "hidden": true
   },
   "outputs": [],
   "source": [
    "df_pub = pd.read_csv('../data/real_estate/published_land_price.csv')"
   ]
  },
  {
   "cell_type": "code",
   "execution_count": null,
   "metadata": {
    "hidden": true,
    "scrolled": false
   },
   "outputs": [],
   "source": [
    "# df_pub.iloc[:5, :50]"
   ]
  },
  {
   "cell_type": "code",
   "execution_count": null,
   "metadata": {
    "hidden": true
   },
   "outputs": [],
   "source": []
  },
  {
   "cell_type": "code",
   "execution_count": null,
   "metadata": {
    "hidden": true
   },
   "outputs": [],
   "source": []
  },
  {
   "cell_type": "code",
   "execution_count": null,
   "metadata": {
    "hidden": true
   },
   "outputs": [],
   "source": []
  },
  {
   "cell_type": "code",
   "execution_count": null,
   "metadata": {
    "hidden": true
   },
   "outputs": [],
   "source": []
  },
  {
   "cell_type": "code",
   "execution_count": null,
   "metadata": {
    "hidden": true
   },
   "outputs": [],
   "source": []
  },
  {
   "cell_type": "code",
   "execution_count": null,
   "metadata": {
    "hidden": true
   },
   "outputs": [],
   "source": []
  },
  {
   "cell_type": "code",
   "execution_count": null,
   "metadata": {
    "hidden": true
   },
   "outputs": [],
   "source": []
  },
  {
   "cell_type": "markdown",
   "metadata": {},
   "source": [
    "## Train"
   ]
  },
  {
   "cell_type": "markdown",
   "metadata": {},
   "source": [
    "### common"
   ]
  },
  {
   "cell_type": "code",
   "execution_count": 3,
   "metadata": {},
   "outputs": [],
   "source": [
    "import logging\n",
    "import logging.handlers\n",
    "\n",
    "\n",
    "def create_logger(log_file_name):\n",
    "    logger_ = logging.getLogger('main')\n",
    "    logger_.setLevel(logging.DEBUG)\n",
    "    fh = logging.handlers.RotatingFileHandler(\n",
    "        log_file_name, maxBytes=100000, backupCount=8)\n",
    "    fh.setLevel(logging.DEBUG)\n",
    "    ch = logging.StreamHandler()\n",
    "    ch.setLevel(logging.DEBUG)\n",
    "    formatter = logging.Formatter(\n",
    "        '[%(levelname)s]%(asctime)s:%(name)s:%(message)s')\n",
    "    fh.setFormatter(formatter)\n",
    "    ch.setFormatter(formatter)\n",
    "    # add the handlers to the logger\n",
    "    logger_.addHandler(fh)\n",
    "    logger_.addHandler(ch)\n",
    "\n",
    "\n",
    "def get_logger():\n",
    "    return logging.getLogger('main')"
   ]
  },
  {
   "cell_type": "markdown",
   "metadata": {},
   "source": [
    "### process"
   ]
  },
  {
   "cell_type": "code",
   "execution_count": 4,
   "metadata": {},
   "outputs": [],
   "source": [
    "# 整形\n",
    "\n",
    "def transform_y(df):\n",
    "    df['y'] = np.log10(df['y'])\n",
    "\n",
    "def feat_district_nan(df):\n",
    "    df['地区名'].fillna('miss_area', inplace=True)\n",
    "\n",
    "def feat_area_transform(df):\n",
    "    df.loc[df['面積（㎡）'] == '2000㎡以上', '面積（㎡）'] = 2000\n",
    "    df.loc[df['面積（㎡）'] == '5000㎡以上', '面積（㎡）'] = 5000    \n",
    "\n",
    "    df['面積（㎡）'] = np.log10(df['面積（㎡）'].astype(np.float32))\n",
    "    \n",
    "def feat_station_nan(df):    \n",
    "    df['最寄駅：名称'].fillna('miss_station', inplace=True)\n",
    "\n",
    "def feat_moyori_transform(df):\n",
    "    tmp = df['最寄駅：距離（分）']\n",
    "    tmp[tmp == '30分?60分'] = '30'\n",
    "    tmp[tmp == '1H?1H30'] = '60'\n",
    "    tmp[tmp == '1H30?2H'] = '90'\n",
    "    tmp[tmp == '2H?'] = '120'\n",
    "    tmp = tmp.astype(np.float64)\n",
    "    df['最寄駅：距離（分）'] = tmp    \n",
    "\n",
    "def feat_moyori_nan(df):\n",
    "    tostation_dict = {}\n",
    "    \n",
    "    is_null = df['最寄駅：距離（分）'].isnull()\n",
    "    stations = df.loc[is_null, '最寄駅：名称'].unique()\n",
    "    for st in tqdm(stations):\n",
    "        is_station = df['最寄駅：名称'] == st\n",
    "        is_notnull_station = is_station & ~is_null\n",
    "        \n",
    "        n_notnull = is_notnull_station.sum()\n",
    "        if n_notnull == 0:\n",
    "            # 最寄り駅までの時間の全体の中央値\n",
    "            moyori_minute = 8.0\n",
    "        else:\n",
    "            moyori_minute = df.loc[is_notnull_station, '最寄駅：距離（分）'].median()\n",
    "            \n",
    "        df.loc[is_station & is_null, '最寄駅：距離（分）'] = moyori_minute\n",
    "        tostation_dict[st] = moyori_minute\n",
    "        \n",
    "        return tostation_dict\n",
    "\n",
    "def feat_maguchi_transform(df):\n",
    "    df.loc[df['間口'] == '50.0m以上', '間口'] = 50\n",
    "\n",
    "def feat_nobeyuka_transform(df):\n",
    "    df.loc[df['延床面積（㎡）'] == '2000㎡以上', '延床面積（㎡）'] = 2000\n",
    "    df.loc[df['延床面積（㎡）'] == '10m^2未満', '延床面積（㎡）'] = 10\n",
    "    \n",
    "def preprocess(df, mode):\n",
    "    if mode == 'train':\n",
    "        transform_y(df)\n",
    "        \n",
    "    # 地区名\n",
    "    feat_district_nan(df)\n",
    "    \n",
    "    # 面積（㎡）\n",
    "    feat_area_transform(df)\n",
    "    \n",
    "    # 最寄駅：距離（分）\n",
    "    feat_moyori_transform(df)\n",
    "    feat_moyori_nan(df)\n",
    "    \n",
    "    return df\n",
    "\n",
    "def std_scale(df, num_feat):\n",
    "    num_x = df[num_feat]\n",
    "    scaler = StandardScaler()\n",
    "    df[num_feat] = scaler.fit_transform(num_x)\n",
    "    \n",
    "    return scaler"
   ]
  },
  {
   "cell_type": "code",
   "execution_count": 5,
   "metadata": {},
   "outputs": [],
   "source": [
    "def label_encode(df, categorical_features):\n",
    "    label_encoders = {}\n",
    "    for cat_col in categorical_features:\n",
    "        label_encoders[cat_col] = LabelEncoder()\n",
    "        # fill missing values with <Miising> tokens\n",
    "        # train[cat_col] = train[cat_col].fillna('<Missing>')\n",
    "        df[cat_col] = label_encoders[cat_col].fit_transform(df[cat_col])\n",
    "    \n",
    "    return label_encoders\n",
    "\n",
    "def get_emb_dims(df, categorical_features):\n",
    "    cat_dims = [int(df[col].nunique()) for col in categorical_features]\n",
    "    emb_dims = [(x, min(50, (x + 1) // 2)) for x in cat_dims]\n",
    "    return emb_dims"
   ]
  },
  {
   "cell_type": "code",
   "execution_count": 6,
   "metadata": {},
   "outputs": [],
   "source": [
    "class RealEstateDataset(Dataset):\n",
    "\n",
    "    def __init__(self, df, mode, num_feat, cat_feat):\n",
    "        # self.data_size = data_size\n",
    "        self.mode = mode\n",
    "        self.num_feat = num_feat\n",
    "        self.cat_feat = cat_feat\n",
    "        \n",
    "        # preprocess\n",
    "        df = preprocess(df, mode)\n",
    "        \n",
    "        self.std_scaler = std_scale(df, num_feat)\n",
    "        \n",
    "        self.encoders = label_encode(df, cat_feat)\n",
    "        self.emb_dims = get_emb_dims(df, cat_feat)\n",
    "        \n",
    "        self.df = df\n",
    "\n",
    "    def __len__(self):\n",
    "        return len(self.df)\n",
    "\n",
    "    def __getitem__(self, idx):\n",
    "        if self.mode in ['train', 'valid']:\n",
    "            num_x = self.df[self.num_feat]\n",
    "            cat_x = self.df[self.cat_feat]\n",
    "            y = self.df['y']\n",
    "            \n",
    "        elif self.mode in ['predict']:\n",
    "            num_x = self.df[self.num_feat]\n",
    "            cat_x = self.df[self.cat_feat]\n",
    "            y = None\n",
    "            \n",
    "        else:\n",
    "            raise ValueError('unkown mode')\n",
    "            \n",
    "        return num_x, cat_x, y\n",
    "        "
   ]
  },
  {
   "cell_type": "code",
   "execution_count": 7,
   "metadata": {},
   "outputs": [],
   "source": [
    "class NNModel(torch.nn.Module):\n",
    "    def __init__(self, emb_dims, n_num_x):\n",
    "        super(NNModel, self).__init__()\n",
    "        \n",
    "        self.emb_layers = torch.nn.ModuleList([torch.nn.Embedding(x, y) for x, y in emb_dims])\n",
    "        n_cat_x = sum([y for _, y in emb_dims])\n",
    "        self.layer1 = torch.nn.Sequence(\n",
    "            torch.nn.Linear(n_cat_x + n_num_x, 16),\n",
    "            torch.nn.ReLU(),\n",
    "            torch.nn.BatchNorm1d(16)\n",
    "        )\n",
    "        self.out_layer = torch.nn.Linear(16, 1)\n",
    "        \n",
    "    def forward(self, num_x, cat_x):\n",
    "        cat_x = [emb_layer(cat_x[:, i]) for i, emb_layer in enumerate(self.emb_layers)]\n",
    "        cat_x = torch.cat(cat_x, 1)\n",
    "        \n",
    "        x = torch.cat([num_x, cat_x], 1)\n",
    "        x = self.layer1(x)\n",
    "        x = self.out_layer(x)\n",
    "        return x"
   ]
  },
  {
   "cell_type": "code",
   "execution_count": 8,
   "metadata": {
    "code_folding": [
     0
    ]
   },
   "outputs": [],
   "source": [
    "class AverageMeter(object):\n",
    "    \"\"\"Computes and stores the average and current value\"\"\"\n",
    "\n",
    "    def __init__(self):\n",
    "        self.reset()\n",
    "\n",
    "    def reset(self):\n",
    "        self.val = 0\n",
    "        self.avg = 0\n",
    "        self.sum = 0\n",
    "        self.count = 0\n",
    "\n",
    "    def update(self, val, n):\n",
    "        self.val = val\n",
    "        self.sum += val * n\n",
    "        self.count += n\n",
    "        self.avg = self.sum / self.count"
   ]
  },
  {
   "cell_type": "code",
   "execution_count": 14,
   "metadata": {},
   "outputs": [],
   "source": [
    "class config:\n",
    "    TRAIN_PATH = '../data/real_estate/train_data.csv'\n",
    "    OUTDIR_PATH = '../model/best_model.pth'\n",
    "    \n",
    "    EPOCHS = 20\n",
    "    \n",
    "    NUM_WORKERS = 1\n",
    "    BATCH_SIZE_TRAIN = 32\n",
    "    BATCH_SIZE_TEST = BATCH_SIZE_TRAIN\n",
    "    \n",
    "    ADAM_LR = 1e-4\n",
    "\n",
    "def train():\n",
    "    # Load csv\n",
    "    df_all = pd.read_csv(config.TRAIN_PATH)\n",
    "    # TODO: \n",
    "    df_trn, df_val = train_test_split(df_all, train_size=0.8, random_state=2020)\n",
    "    print('train data')\n",
    "    print(df_trn.head(2))\n",
    "    print('validate data')\n",
    "    print(df_val.head(2))\n",
    "    \n",
    "    numeric_features = ['最寄駅：距離（分）', '面積（㎡）']\n",
    "    categorical_features = ['市区町村名', '地区名', '最寄り駅名：名称']\n",
    "\n",
    "    train_dataset = RealEstateDataset(\n",
    "        df_trn, 'train', numeric_features, categorical_features)\n",
    "    train_loader = DataLoader(train_dataset,\n",
    "                              batch_size=config.BATCH_SIZE_TRAIN,\n",
    "                              num_workers=config.NUM_WORKERS,\n",
    "                              pin_memory=True,\n",
    "                              drop_last=True,\n",
    "                              shuffle=True\n",
    "                              )    \n",
    "    valid_dataset = RealEstateDataset(\n",
    "        df_val, 'valid', numeric_features, categorical_features)\n",
    "    valid_loader = DataLoader(valid_dataset,\n",
    "                              batch_size=config.BATCH_SIZE_TEST,\n",
    "                              num_workers=config.NUM_WORKERS,\n",
    "                              pin_memory=True,\n",
    "                              drop_last=False,\n",
    "                              shuffle=False\n",
    "                              )\n",
    "\n",
    "    device = torch.device(\"cuda:0\" if torch.cuda.is_available() else \"cpu\")\n",
    "    model, criterion, optimizer, scheduler = init_model()\n",
    "    start_epoch = 0\n",
    "\n",
    "    get_logger().info('[Start] Training')\n",
    "    best_score = 1e+8\n",
    "    train_history = {'loss': []}\n",
    "    valid_history = {'loss': []}\n",
    "    for epoch in range(start_epoch + 1, config.EPOCHS + 1):\n",
    "\n",
    "        train_loss = train_one_epoch(\n",
    "            epoch, model, train_loader, criterion, optimizer, device)\n",
    "        train_history['loss'].append(train_loss)\n",
    "\n",
    "        valid_loss = validate_one_epoch(epoch, model, valid_loader, criterion, device)\n",
    "        valid_history['loss'].append(valid_loss)\n",
    "\n",
    "        is_best = valid_loss < best_score\n",
    "        if is_best:\n",
    "            best_score = valid_loss\n",
    "        get_logger().info('best score (%f) at epoch (%d)' % (best_score, epoch))\n",
    "        '''\n",
    "        save_checkpoint({\n",
    "            'epoch': epoch,\n",
    "            'state_dict': model.state_dict(),\n",
    "            'optimizer': optimizer.state_dict(),\n",
    "            'scheduler': scheduler.state_dict(),\n",
    "        }, is_best, config.OUTDIR_PATH)\n",
    "        '''\n",
    "        scheduler.step()\n",
    "\n",
    "    return train_history, valid_history"
   ]
  },
  {
   "cell_type": "code",
   "execution_count": 10,
   "metadata": {},
   "outputs": [],
   "source": [
    "def init_model(capsule):\n",
    "    torch.backends.cudnn.benchmark = True\n",
    "    get_logger().info('Initializing model...')\n",
    "    \n",
    "    model = NNModel(capsule['emb_dims'], n_num_x)\n",
    "\n",
    "    \n",
    "    # criterion = SmoothL1Loss()\n",
    "    criterion = MSELoss()\n",
    "\n",
    "    '''\n",
    "    optimizer = torch.optim.SGD([{'params': model.parameters()}],\n",
    "                                lr=config.SGD_LR,\n",
    "                                momentum=config.MOMENTUM,\n",
    "                                weight_decay=config.WEIGHT_DECAY)\n",
    "    scheduler = torch.optim.lr_scheduler.CosineAnnealingLR(\n",
    "        optimizer, config.ITER_PER_CYCLE, config.MIN_LR)\n",
    "    '''\n",
    "    optimizer = optim.Adam([{'params': model.parameters()}], lr=config.ADAM_LR)\n",
    "    mile_stones = [5, 10]\n",
    "    scheduler = optim.lr_scheduler.MultiStepLR(\n",
    "        optimizer, mile_stones, gamma=0.5, last_epoch=-1)\n",
    "\n",
    "    return model, criterion, optimizer, scheduler"
   ]
  },
  {
   "cell_type": "code",
   "execution_count": 11,
   "metadata": {},
   "outputs": [],
   "source": [
    "def train_one_epoch(epoch,\n",
    "                    model,\n",
    "                    loader,\n",
    "                    criterion,\n",
    "                    optimizer,\n",
    "                    device):\n",
    "    loss_meter = AverageMeter()\n",
    "    lr = optimizer.state_dict()['param_groups'][0]['lr']\n",
    "\n",
    "    get_logger().info('[Start] epoch: %d' % epoch)\n",
    "    get_logger().info('lr: %f' % lr)\n",
    "\n",
    "    # train phase\n",
    "    model.train()\n",
    "    for i, (num_x, cat_x, y_true) in enumerate(tqdm(loader)):\n",
    "        num_x, cat_x, y_true = num_x.to(device), cat_x.to(device), y_true.to(device)\n",
    "\n",
    "        with torch.set_grad_enabled(True):\n",
    "            \n",
    "            logit = model(num_x, cat_x)\n",
    "            # print(logit.size())\n",
    "            loss = criterion(logit, y_true)\n",
    "            # loss = mixup_criterion(criterion, logit, label_a, label_b, lam)\n",
    "\n",
    "            # backward\n",
    "            loss.backward()\n",
    "\n",
    "            optimizer.step()\n",
    "            optimizer.zero_grad()\n",
    "\n",
    "        loss_meter.update(loss.item(), img.size(0))\n",
    "\n",
    "        # print\n",
    "        if i % config.PRINT_FREQ == 0:\n",
    "            logit_cpu = logit.detach().cpu()\n",
    "            get_logger().info('\\n' + str_stats(logit_cpu.numpy()))            \n",
    "            get_logger().info('train: %d loss: %f (just now)' % (i, loss_meter.val))\n",
    "            get_logger().info('train: %d loss: %f' % (i, loss_meter.avg))\n",
    "\n",
    "    get_logger().info(\"Epoch %d/%d train loss %f\" %\n",
    "                      (epoch, config.EPOCHS, loss_meter.avg))\n",
    "\n",
    "    return loss_meter.avg"
   ]
  },
  {
   "cell_type": "code",
   "execution_count": 13,
   "metadata": {},
   "outputs": [
    {
     "name": "stderr",
     "output_type": "stream",
     "text": [
      "C:\\Users\\galois\\Anaconda3\\envs\\py36\\lib\\site-packages\\sklearn\\model_selection\\_split.py:2179: FutureWarning: From version 0.21, test_size will always complement train_size unless both are specified.\n",
      "  FutureWarning)\n",
      "C:\\Users\\galois\\Anaconda3\\envs\\py36\\lib\\site-packages\\ipykernel_launcher.py:4: SettingWithCopyWarning: \n",
      "A value is trying to be set on a copy of a slice from a DataFrame.\n",
      "Try using .loc[row_indexer,col_indexer] = value instead\n",
      "\n",
      "See the caveats in the documentation: http://pandas.pydata.org/pandas-docs/stable/indexing.html#indexing-view-versus-copy\n",
      "  after removing the cwd from sys.path.\n",
      "C:\\Users\\galois\\Anaconda3\\envs\\py36\\lib\\site-packages\\pandas\\core\\generic.py:6130: SettingWithCopyWarning: \n",
      "A value is trying to be set on a copy of a slice from a DataFrame\n",
      "\n",
      "See the caveats in the documentation: http://pandas.pydata.org/pandas-docs/stable/indexing.html#indexing-view-versus-copy\n",
      "  self._update_inplace(new_data)\n",
      "C:\\Users\\galois\\Anaconda3\\envs\\py36\\lib\\site-packages\\pandas\\core\\indexing.py:543: SettingWithCopyWarning: \n",
      "A value is trying to be set on a copy of a slice from a DataFrame.\n",
      "Try using .loc[row_indexer,col_indexer] = value instead\n",
      "\n",
      "See the caveats in the documentation: http://pandas.pydata.org/pandas-docs/stable/indexing.html#indexing-view-versus-copy\n",
      "  self.obj[item] = s\n"
     ]
    },
    {
     "ename": "AttributeError",
     "evalue": "'str' object has no attribute 'log10'",
     "output_type": "error",
     "traceback": [
      "\u001b[1;31m---------------------------------------------------------------------------\u001b[0m",
      "\u001b[1;31mAttributeError\u001b[0m                            Traceback (most recent call last)",
      "\u001b[1;32m<ipython-input-13-53fab541d6eb>\u001b[0m in \u001b[0;36m<module>\u001b[1;34m\u001b[0m\n\u001b[0;32m      1\u001b[0m \u001b[0mcreate_logger\u001b[0m\u001b[1;33m(\u001b[0m\u001b[1;34m'../log/real_estate.log'\u001b[0m\u001b[1;33m)\u001b[0m\u001b[1;33m\u001b[0m\u001b[0m\n\u001b[0;32m      2\u001b[0m \u001b[1;33m\u001b[0m\u001b[0m\n\u001b[1;32m----> 3\u001b[1;33m \u001b[0mtrain\u001b[0m\u001b[1;33m(\u001b[0m\u001b[1;33m)\u001b[0m\u001b[1;33m\u001b[0m\u001b[0m\n\u001b[0m",
      "\u001b[1;32m<ipython-input-9-ce49c4d28ed6>\u001b[0m in \u001b[0;36mtrain\u001b[1;34m()\u001b[0m\n\u001b[0;32m     21\u001b[0m \u001b[1;33m\u001b[0m\u001b[0m\n\u001b[0;32m     22\u001b[0m     train_dataset = RealEstateDataset(\n\u001b[1;32m---> 23\u001b[1;33m         df_trn, 'train', numeric_features, categorical_features)\n\u001b[0m\u001b[0;32m     24\u001b[0m     train_loader = DataLoader(train_dataset,\n\u001b[0;32m     25\u001b[0m                               \u001b[0mbatch_size\u001b[0m\u001b[1;33m=\u001b[0m\u001b[0mconfig\u001b[0m\u001b[1;33m.\u001b[0m\u001b[0mBATCH_SIZE_TRAIN\u001b[0m\u001b[1;33m,\u001b[0m\u001b[1;33m\u001b[0m\u001b[0m\n",
      "\u001b[1;32m<ipython-input-6-bcd4bcf19b51>\u001b[0m in \u001b[0;36m__init__\u001b[1;34m(self, df, mode, num_feat, cat_feat)\u001b[0m\n\u001b[0;32m      8\u001b[0m \u001b[1;33m\u001b[0m\u001b[0m\n\u001b[0;32m      9\u001b[0m         \u001b[1;31m# preprocess\u001b[0m\u001b[1;33m\u001b[0m\u001b[1;33m\u001b[0m\u001b[0m\n\u001b[1;32m---> 10\u001b[1;33m         \u001b[0mdf\u001b[0m \u001b[1;33m=\u001b[0m \u001b[0mpreprocess\u001b[0m\u001b[1;33m(\u001b[0m\u001b[0mdf\u001b[0m\u001b[1;33m,\u001b[0m \u001b[0mmode\u001b[0m\u001b[1;33m)\u001b[0m\u001b[1;33m\u001b[0m\u001b[0m\n\u001b[0m\u001b[0;32m     11\u001b[0m \u001b[1;33m\u001b[0m\u001b[0m\n\u001b[0;32m     12\u001b[0m         \u001b[0mself\u001b[0m\u001b[1;33m.\u001b[0m\u001b[0mstd_scaler\u001b[0m \u001b[1;33m=\u001b[0m \u001b[0mstd_scale\u001b[0m\u001b[1;33m(\u001b[0m\u001b[0mdf\u001b[0m\u001b[1;33m,\u001b[0m \u001b[0mnum_feat\u001b[0m\u001b[1;33m)\u001b[0m\u001b[1;33m\u001b[0m\u001b[0m\n",
      "\u001b[1;32m<ipython-input-4-c813b126ddd8>\u001b[0m in \u001b[0;36mpreprocess\u001b[1;34m(df, mode)\u001b[0m\n\u001b[0;32m     61\u001b[0m \u001b[1;33m\u001b[0m\u001b[0m\n\u001b[0;32m     62\u001b[0m     \u001b[1;31m# 面積（㎡）\u001b[0m\u001b[1;33m\u001b[0m\u001b[1;33m\u001b[0m\u001b[0m\n\u001b[1;32m---> 63\u001b[1;33m     \u001b[0mfeat_area_transform\u001b[0m\u001b[1;33m(\u001b[0m\u001b[0mdf\u001b[0m\u001b[1;33m)\u001b[0m\u001b[1;33m\u001b[0m\u001b[0m\n\u001b[0m\u001b[0;32m     64\u001b[0m \u001b[1;33m\u001b[0m\u001b[0m\n\u001b[0;32m     65\u001b[0m     \u001b[1;31m# 最寄駅：距離（分）\u001b[0m\u001b[1;33m\u001b[0m\u001b[1;33m\u001b[0m\u001b[0m\n",
      "\u001b[1;32m<ipython-input-4-c813b126ddd8>\u001b[0m in \u001b[0;36mfeat_area_transform\u001b[1;34m(df)\u001b[0m\n\u001b[0;32m     11\u001b[0m     \u001b[0mdf\u001b[0m\u001b[1;33m.\u001b[0m\u001b[0mloc\u001b[0m\u001b[1;33m[\u001b[0m\u001b[0mdf\u001b[0m\u001b[1;33m[\u001b[0m\u001b[1;34m'面積（㎡）'\u001b[0m\u001b[1;33m]\u001b[0m \u001b[1;33m==\u001b[0m \u001b[1;34m'5000㎡以上'\u001b[0m\u001b[1;33m,\u001b[0m \u001b[1;34m'面積（㎡）'\u001b[0m\u001b[1;33m]\u001b[0m \u001b[1;33m=\u001b[0m \u001b[1;36m5000\u001b[0m\u001b[1;33m\u001b[0m\u001b[0m\n\u001b[0;32m     12\u001b[0m \u001b[1;33m\u001b[0m\u001b[0m\n\u001b[1;32m---> 13\u001b[1;33m     \u001b[0mdf\u001b[0m\u001b[1;33m[\u001b[0m\u001b[1;34m'面積（㎡）'\u001b[0m\u001b[1;33m]\u001b[0m \u001b[1;33m=\u001b[0m \u001b[0mnp\u001b[0m\u001b[1;33m.\u001b[0m\u001b[0mlog10\u001b[0m\u001b[1;33m(\u001b[0m\u001b[0mdf\u001b[0m\u001b[1;33m[\u001b[0m\u001b[1;34m'面積（㎡）'\u001b[0m\u001b[1;33m]\u001b[0m\u001b[1;33m)\u001b[0m\u001b[1;33m\u001b[0m\u001b[0m\n\u001b[0m\u001b[0;32m     14\u001b[0m \u001b[1;33m\u001b[0m\u001b[0m\n\u001b[0;32m     15\u001b[0m \u001b[1;32mdef\u001b[0m \u001b[0mfeat_station_nan\u001b[0m\u001b[1;33m(\u001b[0m\u001b[0mdf\u001b[0m\u001b[1;33m)\u001b[0m\u001b[1;33m:\u001b[0m\u001b[1;33m\u001b[0m\u001b[0m\n",
      "\u001b[1;31mAttributeError\u001b[0m: 'str' object has no attribute 'log10'"
     ]
    }
   ],
   "source": [
    "create_logger('../log/real_estate.log')\n",
    "\n",
    "train()"
   ]
  },
  {
   "cell_type": "code",
   "execution_count": 15,
   "metadata": {},
   "outputs": [
    {
     "data": {
      "text/plain": [
       "<module 'numpy' from 'C:\\\\Users\\\\galois\\\\Anaconda3\\\\envs\\\\py36\\\\lib\\\\site-packages\\\\numpy\\\\__init__.py'>"
      ]
     },
     "execution_count": 15,
     "metadata": {},
     "output_type": "execute_result"
    }
   ],
   "source": [
    "np"
   ]
  },
  {
   "cell_type": "code",
   "execution_count": null,
   "metadata": {},
   "outputs": [],
   "source": []
  },
  {
   "cell_type": "code",
   "execution_count": null,
   "metadata": {},
   "outputs": [],
   "source": []
  },
  {
   "cell_type": "code",
   "execution_count": null,
   "metadata": {},
   "outputs": [],
   "source": []
  },
  {
   "cell_type": "code",
   "execution_count": null,
   "metadata": {},
   "outputs": [],
   "source": []
  },
  {
   "cell_type": "code",
   "execution_count": null,
   "metadata": {},
   "outputs": [],
   "source": []
  },
  {
   "cell_type": "code",
   "execution_count": null,
   "metadata": {},
   "outputs": [],
   "source": []
  }
 ],
 "metadata": {
  "kernelspec": {
   "display_name": "py36",
   "language": "python",
   "name": "py36"
  },
  "language_info": {
   "codemirror_mode": {
    "name": "ipython",
    "version": 3
   },
   "file_extension": ".py",
   "mimetype": "text/x-python",
   "name": "python",
   "nbconvert_exporter": "python",
   "pygments_lexer": "ipython3",
   "version": "3.6.4"
  },
  "toc": {
   "base_numbering": 1,
   "nav_menu": {},
   "number_sections": true,
   "sideBar": true,
   "skip_h1_title": false,
   "title_cell": "Table of Contents",
   "title_sidebar": "Contents",
   "toc_cell": false,
   "toc_position": {},
   "toc_section_display": true,
   "toc_window_display": false
  }
 },
 "nbformat": 4,
 "nbformat_minor": 2
}
