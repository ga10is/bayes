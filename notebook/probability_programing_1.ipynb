{
 "cells": [
  {
   "cell_type": "code",
   "execution_count": 1,
   "metadata": {},
   "outputs": [],
   "source": [
    "import numpy as np\n",
    "import matplotlib.pyplot as plt\n",
    "import torch\n",
    "import torch.distributions as torchdist\n",
    "import torch.nn as nn"
   ]
  },
  {
   "cell_type": "code",
   "execution_count": 2,
   "metadata": {},
   "outputs": [],
   "source": [
    "normal_dist = torchdist.Normal(loc=torch.tensor(0.), scale=torch.tensor(1.))"
   ]
  },
  {
   "cell_type": "code",
   "execution_count": 3,
   "metadata": {},
   "outputs": [],
   "source": [
    "x = normal_dist.sample()"
   ]
  },
  {
   "cell_type": "code",
   "execution_count": 4,
   "metadata": {},
   "outputs": [
    {
     "data": {
      "text/plain": [
       "tensor(-2.0130)"
      ]
     },
     "execution_count": 4,
     "metadata": {},
     "output_type": "execute_result"
    }
   ],
   "source": [
    "x"
   ]
  },
  {
   "cell_type": "code",
   "execution_count": 5,
   "metadata": {},
   "outputs": [],
   "source": [
    "x = normal_dist.sample([100])"
   ]
  },
  {
   "cell_type": "code",
   "execution_count": 6,
   "metadata": {},
   "outputs": [
    {
     "data": {
      "text/plain": [
       "tensor([ 0.9616,  0.3605, -0.4014, -0.4002, -0.1052,  0.5479,  0.1007, -0.2665,\n",
       "        -0.1262, -1.1332, -1.4415,  0.0764,  2.2187,  1.5111,  0.6196,  0.4089,\n",
       "         0.2174, -3.0862, -0.8464,  0.6394, -1.1484,  0.5680, -0.3714, -0.2363,\n",
       "         2.2509,  0.9918, -0.2697,  0.1127,  0.1268,  1.0830,  0.2780, -0.7702,\n",
       "        -1.2388, -0.6926,  0.0843,  0.1200,  1.7642,  0.3699, -1.5614, -1.0109,\n",
       "         0.3798, -0.3530, -0.6837, -0.0781,  0.8037,  1.1383,  0.5346,  2.0912,\n",
       "        -0.7815,  0.7456, -1.4438, -1.4000, -0.9568, -0.1315, -0.1923,  0.7989,\n",
       "         0.9012, -0.2797, -1.5690, -0.5770, -1.4596,  1.2425,  0.8491,  0.4676,\n",
       "        -2.1965, -0.9050,  0.4784,  0.0970,  1.3199, -0.2216, -0.1236,  0.4936,\n",
       "         1.1316, -0.3278, -0.3336,  1.6048, -1.4840,  0.8303, -1.7853, -0.2966,\n",
       "        -0.0899, -0.7539, -1.0077,  2.1583,  0.5253,  0.5420, -0.8863, -1.8048,\n",
       "        -0.8786, -0.5517,  1.3378,  0.4700, -0.1762,  0.6921, -0.1897, -1.0111,\n",
       "        -0.1833,  0.6649,  1.8458,  2.4124])"
      ]
     },
     "execution_count": 6,
     "metadata": {},
     "output_type": "execute_result"
    }
   ],
   "source": [
    "x"
   ]
  },
  {
   "cell_type": "code",
   "execution_count": 7,
   "metadata": {},
   "outputs": [
    {
     "data": {
      "text/plain": [
       "(array([ 1.,  1.,  8.,  9., 14., 25., 20., 11.,  6.,  5.]),\n",
       " array([-3.0862331 , -2.5363674 , -1.9865016 , -1.4366359 , -0.88677007,\n",
       "        -0.3369043 ,  0.21296148,  0.7628273 ,  1.312693  ,  1.8625588 ,\n",
       "         2.4124246 ], dtype=float32),\n",
       " <a list of 10 Patch objects>)"
      ]
     },
     "execution_count": 7,
     "metadata": {},
     "output_type": "execute_result"
    },
    {
     "data": {
      "image/png": "[encoded data removed]",
      "text/plain": [
       "<Figure size 432x288 with 1 Axes>"
      ]
     },
     "metadata": {
      "needs_background": "light"
     },
     "output_type": "display_data"
    }
   ],
   "source": [
    "plt.hist(x.detach().numpy())"
   ]
  },
  {
   "cell_type": "code",
   "execution_count": 8,
   "metadata": {},
   "outputs": [],
   "source": [
    "def toy_poly():\n",
    "    x = 5 * torch.rand(100, 1)\n",
    "    linear_op = -3 - 4*x + x**2\n",
    "    y = torchdist.Normal(linear_op, 1).sample()\n",
    "    return x, y\n",
    "\n",
    "x_train, y_train = toy_poly()"
   ]
  },
  {
   "cell_type": "code",
   "execution_count": 9,
   "metadata": {},
   "outputs": [
    {
     "data": {
      "text/plain": [
       "[<matplotlib.lines.Line2D at 0x1e5520967f0>]"
      ]
     },
     "execution_count": 9,
     "metadata": {},
     "output_type": "execute_result"
    },
    {
     "data": {
      "image/png": "[encoded data removed]",
      "text/plain": [
       "<Figure size 432x288 with 1 Axes>"
      ]
     },
     "metadata": {
      "needs_background": "light"
     },
     "output_type": "display_data"
    }
   ],
   "source": [
    "plt.plot(x_train.numpy(), y_train.numpy(), 'o')"
   ]
  },
  {
   "cell_type": "markdown",
   "metadata": {},
   "source": [
    "## model"
   ]
  },
  {
   "cell_type": "code",
   "execution_count": 10,
   "metadata": {},
   "outputs": [],
   "source": [
    "class LinearNet(nn.Module):\n",
    "    def __init__(self):\n",
    "        super(LinearNet, self).__init__()\n",
    "        \n",
    "    def forward(self, w, x):\n",
    "        \"\"\"\n",
    "        w: shape of (3,)\n",
    "        x: shape of (batch,)\n",
    "        \"\"\"\n",
    "        #         phi_x = torch.tensor([])\n",
    "        y = w[0] + w[1]*x + w[2]*x**2\n",
    "        return y"
   ]
  },
  {
   "cell_type": "code",
   "execution_count": 11,
   "metadata": {},
   "outputs": [],
   "source": [
    "class VImodel(nn.Module):\n",
    "    \"\"\"\n",
    "    q(w; eta)\n",
    "    \"\"\"\n",
    "    def __init__(self):\n",
    "        super(VImodel, self).__init__()\n",
    "        self.eta_mu = nn.Parameter(torch.tensor([0., 0., 0.]))\n",
    "        self.eta_log_sigma = nn.Parameter(torch.tensor([0., 0., 0.]))\n",
    "    \n",
    "    def dist(self):\n",
    "        eta_sigma = torch.exp(self.eta_log_sigma)\n",
    "        q_w = torchdist.Normal(self.eta_mu, eta_sigma)\n",
    "        \n",
    "        return q_w\n",
    "    '''\n",
    "    def rsample(self):\n",
    "        eta_sigma = torch.exp(self.eta_log_sigma)\n",
    "        q_w = torchdist.Normal(self.eta_mu, eta_sigma)\n",
    "        \n",
    "        # shape of w: (3,)\n",
    "        w = q_w.rsample()\n",
    "        \n",
    "        return w\n",
    "    '''"
   ]
  },
  {
   "cell_type": "code",
   "execution_count": 12,
   "metadata": {},
   "outputs": [],
   "source": [
    "def kl_divergence(vmodel, model, x, y):\n",
    "    \n",
    "    q_w = vmodel.dist()\n",
    "        \n",
    "    # sampling from q(w)\n",
    "    w_sample = q_w.rsample()\n",
    "    # calculate f(x)\n",
    "    output = model(w_sample, x)    \n",
    "\n",
    "    # p(y|x,w) = N(f(x; w), 1)\n",
    "    p_y_xw = torchdist.Normal(output, torch.ones_like(output))\n",
    "    # p(w) = N(0, 10)\n",
    "    p_w = torchdist.Normal(torch.tensor([0., 0., 0.]), torch.tensor([10., 10., 10.]))\n",
    "\n",
    "    # log(p(w, x, y)) = log(p(w)) + 1/n * sigma(log(p(y|x,w)))\n",
    "    # val_log_joint_prob = p_w.log_prob(w_sample).sum() + p_y_xw.log_prob(y).mean()\n",
    "    val_log_joint_prob = p_w.log_prob(w_sample).sum() + p_y_xw.log_prob(y).sum()\n",
    "\n",
    "    val_log_q_w = q_w.log_prob(w_sample).sum()\n",
    "    \n",
    "    return val_log_q_w - val_log_joint_prob"
   ]
  },
  {
   "cell_type": "code",
   "execution_count": 13,
   "metadata": {},
   "outputs": [],
   "source": [
    "vimodel = VImodel()\n",
    "model = LinearNet()\n",
    "optimizer = torch.optim.SGD(params=vimodel.parameters(), lr=1e-4)"
   ]
  },
  {
   "cell_type": "code",
   "execution_count": 14,
   "metadata": {
    "scrolled": true
   },
   "outputs": [
    {
     "name": "stdout",
     "output_type": "stream",
     "text": [
      "loss: 2013.091431 mu: [-0.001784    0.07505579  0.4468731 ] sigma: [1.0003848 1.0103233 0.7889307]\n",
      "loss: 155.298401 mu: [-3.1582713  -3.6653945   0.90946466] sigma: [0.32767153 0.11272953 0.02774067]\n",
      "loss: 164.769775 mu: [-3.0553288 -3.8243906  0.8766083] sigma: [0.23775788 0.08225481 0.01870991]\n",
      "loss: 167.511002 mu: [-2.9662483  -3.9140136   0.93826866] sigma: [0.19818291 0.06609749 0.01623783]\n",
      "loss: 173.606277 mu: [-2.8785098 -3.9505038  1.010163 ] sigma: [0.1754278  0.05838028 0.01467777]\n",
      "loss: 155.678009 mu: [-2.8215501 -4.002786   1.0033052] sigma: [0.158059   0.05372329 0.01345732]\n",
      "loss: 156.706207 mu: [-2.797296   -4.0616984   0.97065324] sigma: [0.14900793 0.05013194 0.01281194]\n",
      "loss: 154.561813 mu: [-2.7644842  -4.0806713   0.99493927] sigma: [0.14143    0.04753701 0.01225158]\n",
      "loss: 165.628937 mu: [-2.7406933 -4.0928645  1.0245788] sigma: [0.13427655 0.0449599  0.01167005]\n",
      "loss: 159.293854 mu: [-2.7272048 -4.1085777  1.0350555] sigma: [0.12865755 0.04286072 0.01123711]\n",
      "loss: 154.069153 mu: [-2.7252405 -4.131436   1.0041368] sigma: [0.12585802 0.04275768 0.01099849]\n",
      "loss: 153.128143 mu: [-2.7151494 -4.13683    1.0103315] sigma: [0.1207976  0.04093859 0.0106578 ]\n",
      "loss: 162.061661 mu: [-2.7118917 -4.1533036  0.9665027] sigma: [0.11842728 0.04050326 0.01030763]\n",
      "loss: 161.354599 mu: [-2.6964295 -4.135877   1.0403826] sigma: [0.11435355 0.03928603 0.01014577]\n",
      "loss: 163.231339 mu: [-2.6975007 -4.149495   1.0017872] sigma: [0.11284102 0.03860373 0.01007777]\n",
      "loss: 165.561508 mu: [-2.6938474 -4.1408854  1.0572575] sigma: [0.11205542 0.03756614 0.00991049]\n",
      "loss: 154.579651 mu: [-2.687897  -4.144083   1.0188724] sigma: [0.11007666 0.0375115  0.00971313]\n",
      "loss: 181.532425 mu: [-2.6875105 -4.1381555  1.056591 ] sigma: [0.1089526  0.03722651 0.00937094]\n",
      "loss: 152.844543 mu: [-2.7023823 -4.163596   1.0025802] sigma: [0.10840654 0.03721883 0.00938635]\n",
      "loss: 163.777985 mu: [-2.6959882 -4.162692   0.9740773] sigma: [0.10788974 0.03681909 0.00926485]\n",
      "loss: 154.923187 mu: [-2.6898627 -4.148394   1.0206074] sigma: [0.10730311 0.03678558 0.00914648]\n"
     ]
    }
   ],
   "source": [
    "for i in range(10000):\n",
    "    optimizer.zero_grad()\n",
    "    loss = kl_divergence(vimodel, model, x_train, y_train)\n",
    "    loss.backward()\n",
    "    optimizer.step()\n",
    "    \n",
    "    if (i+1) % 500 == 0 or (i==0):\n",
    "        mu = vimodel.eta_mu.detach().numpy()\n",
    "        sigma = torch.exp(vimodel.eta_log_sigma.detach()).numpy()\n",
    "        print('loss: %f mu: %s sigma: %s' % (loss.detach().numpy(), str(mu), str(sigma)))"
   ]
  },
  {
   "cell_type": "code",
   "execution_count": 15,
   "metadata": {},
   "outputs": [
    {
     "data": {
      "text/plain": [
       "Parameter containing:\n",
       "tensor([-2.6899, -4.1484,  1.0206], requires_grad=True)"
      ]
     },
     "execution_count": 15,
     "metadata": {},
     "output_type": "execute_result"
    }
   ],
   "source": [
    "vimodel.eta_mu"
   ]
  },
  {
   "cell_type": "code",
   "execution_count": 16,
   "metadata": {},
   "outputs": [
    {
     "data": {
      "text/plain": [
       "tensor([0.1073, 0.0368, 0.0091], grad_fn=<ExpBackward>)"
      ]
     },
     "execution_count": 16,
     "metadata": {},
     "output_type": "execute_result"
    }
   ],
   "source": [
    "torch.exp(vimodel.eta_log_sigma)"
   ]
  },
  {
   "cell_type": "code",
   "execution_count": null,
   "metadata": {},
   "outputs": [],
   "source": []
  },
  {
   "cell_type": "markdown",
   "metadata": {},
   "source": [
    "## prediction\n",
    "\n",
    "Calculate prediction distribution\n",
    "$$\n",
    "\\begin{align}\n",
    "p(y_*| x_*, X, Y) &= \\int p(y_*| x_*, W) p(W| X, Y) dW \\\\\n",
    "&\\approx \\int p(y_*| x_*, W) q(W; \\eta) dW \n",
    "\\end{align}\n",
    "$$"
   ]
  },
  {
   "cell_type": "code",
   "execution_count": 34,
   "metadata": {},
   "outputs": [],
   "source": [
    "def predict(vmodel, model, x, n_samples):\n",
    "    q_w = vmodel.dist()\n",
    "    \n",
    "    approx_y = 0    \n",
    "    with torch.no_grad():\n",
    "        for i in range(n_samples):\n",
    "            # sampling from q(w)\n",
    "            w_sample = q_w.sample()            \n",
    "            # calculate f(x)\n",
    "            output = model(w_sample, x)\n",
    "\n",
    "            # p(y|x,w) = N(f(x; w), 1)\n",
    "            p_y_xw = torchdist.Normal(output, torch.ones_like(output))\n",
    "\n",
    "            # sampling from p(y, w)\n",
    "            y_sample = p_y_xw.sample()\n",
    "\n",
    "            approx_y += y_sample / n_samples\n",
    "    \n",
    "    return approx_y"
   ]
  },
  {
   "cell_type": "code",
   "execution_count": 35,
   "metadata": {},
   "outputs": [],
   "source": [
    "def predict_data(vmodel, model):\n",
    "    n_samples = 100\n",
    "    x_pred = 5 * torch.rand(100, 1)\n",
    "    y_pred = predict(vmodel, model, x_pred, n_samples)\n",
    "    \n",
    "    return x_pred, y_pred\n",
    "\n",
    "x_pred, y_pred = predict_data(vimodel, model)"
   ]
  },
  {
   "cell_type": "code",
   "execution_count": 48,
   "metadata": {},
   "outputs": [
    {
     "name": "stdout",
     "output_type": "stream",
     "text": [
      "2\n"
     ]
    },
    {
     "data": {
      "text/plain": [
       "[<matplotlib.lines.Line2D at 0x1e554b06240>]"
      ]
     },
     "execution_count": 48,
     "metadata": {},
     "output_type": "execute_result"
    },
    {
     "data": {
      "image/png": "[encoded data removed]",
      "text/plain": [
       "<Figure size 864x360 with 2 Axes>"
      ]
     },
     "metadata": {
      "needs_background": "light"
     },
     "output_type": "display_data"
    }
   ],
   "source": [
    "fig, axes = plt.subplots(1, 2, figsize=(12, 5))\n",
    "print(len(axes))\n",
    "axes[0].plot(x_train.numpy(), y_train.numpy(), 'o')\n",
    "axes[1].plot(x_pred.numpy(), y_pred.numpy(), 'o')"
   ]
  },
  {
   "cell_type": "code",
   "execution_count": null,
   "metadata": {},
   "outputs": [],
   "source": []
  },
  {
   "cell_type": "code",
   "execution_count": null,
   "metadata": {},
   "outputs": [],
   "source": [
    "def log_joint_prob(w0, w1, w2, x, y):\n",
    "    prior_w0 = torchdist.Normal(torch.tensor(0.), 10*torch.tensor(1.))\n",
    "    prior_w1 = torchdist.Normal(torch.tensor(0.), 10*torch.tensor(1.))\n",
    "    prior_w2 = torchdist.Normal(torch.tensor(0.), 10*torch.tensor(1.))\n",
    "    \n",
    "    linear = w0 + w1*x + w2*x**2\n",
    "    likelihood = torchdist.Normal(linear, torch.ones_like(linear))\n",
    "    \n",
    "    return (\n",
    "        prior_w0.log_prob(w0) +\n",
    "        prior_w1.log_prob(w1) +\n",
    "        prior_w2.log_prob(w2) +\n",
    "        likelihood.log_prob(y).mean()\n",
    "    )"
   ]
  },
  {
   "cell_type": "code",
   "execution_count": 49,
   "metadata": {},
   "outputs": [
    {
     "data": {
      "text/plain": [
       "'\\nw0 = torch.nn.Parameter(torch.tensor(1.))\\nw1 = torch.nn.Parameter(torch.tensor(1.))\\nw2 = torch.nn.Parameter(torch.tensor(1.))\\n\\noptimizer = torch.optim.Adam(params=[w0, w1, w2], lr=1e-3)\\n\\nfor i in range(30000):\\n    optimizer.zero_grad()\\n    log_joint_prob_value = log_joint_prob(w0, w1, w2, x_train, y_train)\\n    loss_value = - log_joint_prob_value\\n    loss_value.backward()\\n    optimizer.step()\\n    \\n    if (i+1) % 1000 == 0 or (i==0):\\n        print(loss_value.detach().numpy())\\n'"
      ]
     },
     "execution_count": 49,
     "metadata": {},
     "output_type": "execute_result"
    }
   ],
   "source": [
    "'''\n",
    "w0 = torch.nn.Parameter(torch.tensor(1.))\n",
    "w1 = torch.nn.Parameter(torch.tensor(1.))\n",
    "w2 = torch.nn.Parameter(torch.tensor(1.))\n",
    "\n",
    "optimizer = torch.optim.Adam(params=[w0, w1, w2], lr=1e-3)\n",
    "\n",
    "for i in range(30000):\n",
    "    optimizer.zero_grad()\n",
    "    log_joint_prob_value = log_joint_prob(w0, w1, w2, x_train, y_train)\n",
    "    loss_value = - log_joint_prob_value\n",
    "    loss_value.backward()\n",
    "    optimizer.step()\n",
    "    \n",
    "    if (i+1) % 1000 == 0 or (i==0):\n",
    "        print(loss_value.detach().numpy())\n",
    "'''"
   ]
  },
  {
   "cell_type": "code",
   "execution_count": null,
   "metadata": {},
   "outputs": [],
   "source": []
  }
 ],
 "metadata": {
  "kernelspec": {
   "display_name": "py36",
   "language": "python",
   "name": "py36"
  },
  "language_info": {
   "codemirror_mode": {
    "name": "ipython",
    "version": 3
   },
   "file_extension": ".py",
   "mimetype": "text/x-python",
   "name": "python",
   "nbconvert_exporter": "python",
   "pygments_lexer": "ipython3",
   "version": "3.6.4"
  },
  "toc": {
   "base_numbering": 1,
   "nav_menu": {},
   "number_sections": true,
   "sideBar": true,
   "skip_h1_title": false,
   "title_cell": "Table of Contents",
   "title_sidebar": "Contents",
   "toc_cell": false,
   "toc_position": {},
   "toc_section_display": true,
   "toc_window_display": false
  }
 },
 "nbformat": 4,
 "nbformat_minor": 2
}
