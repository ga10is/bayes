{
  "nbformat": 4,
  "nbformat_minor": 0,
  "metadata": {
    "kernelspec": {
      "display_name": "py36",
      "language": "python",
      "name": "py36"
    },
    "language_info": {
      "codemirror_mode": {
        "name": "ipython",
        "version": 3
      },
      "file_extension": ".py",
      "mimetype": "text/x-python",
      "name": "python",
      "nbconvert_exporter": "python",
      "pygments_lexer": "ipython3",
      "version": "3.6.4"
    },
    "toc": {
      "base_numbering": 1,
      "nav_menu": {},
      "number_sections": true,
      "sideBar": true,
      "skip_h1_title": false,
      "title_cell": "Table of Contents",
      "title_sidebar": "Contents",
      "toc_cell": false,
      "toc_position": {},
      "toc_section_display": true,
      "toc_window_display": false
    },
    "colab": {
      "name": "probability_programing_1.ipynb",
      "provenance": [],
      "collapsed_sections": []
    }
  },
  "cells": [
    {
      "cell_type": "code",
      "metadata": {
        "id": "-FHS5gW_4KcW",
        "colab_type": "code",
        "colab": {}
      },
      "source": [
        "import numpy as np\n",
        "import matplotlib.pyplot as plt\n",
        "import torch\n",
        "import torch.distributions as torchdist\n",
        "import torch.nn as nn\n",
        "import torch.nn.functional as F\n",
        "import itertools\n",
        "from collections import OrderedDict\n",
        "from sklearn.preprocessing import StandardScaler"
      ],
      "execution_count": 0,
      "outputs": []
    },
    {
      "cell_type": "code",
      "metadata": {
        "id": "HHXusc_94Kce",
        "colab_type": "code",
        "colab": {}
      },
      "source": [
        "normal_dist = torchdist.Normal(loc=torch.tensor(0.), scale=torch.tensor(1.))"
      ],
      "execution_count": 0,
      "outputs": []
    },
    {
      "cell_type": "code",
      "metadata": {
        "id": "arqd0dwN4Kcj",
        "colab_type": "code",
        "colab": {}
      },
      "source": [
        "x = normal_dist.sample()"
      ],
      "execution_count": 0,
      "outputs": []
    },
    {
      "cell_type": "code",
      "metadata": {
        "id": "bRUN8aC74Kcn",
        "colab_type": "code",
        "outputId": "3a980e80-db1f-4cfb-feb1-2ca6f139c670",
        "colab": {
          "base_uri": "https://localhost:8080/",
          "height": 34
        }
      },
      "source": [
        "x"
      ],
      "execution_count": 4,
      "outputs": [
        {
          "output_type": "execute_result",
          "data": {
            "text/plain": [
              "tensor(-0.2467)"
            ]
          },
          "metadata": {
            "tags": []
          },
          "execution_count": 4
        }
      ]
    },
    {
      "cell_type": "code",
      "metadata": {
        "id": "EHfTqG-_4Kcu",
        "colab_type": "code",
        "colab": {}
      },
      "source": [
        "x = normal_dist.sample([100])"
      ],
      "execution_count": 0,
      "outputs": []
    },
    {
      "cell_type": "code",
      "metadata": {
        "id": "RUcBotC74Kcw",
        "colab_type": "code",
        "outputId": "9e0ca449-04f3-4352-baa1-c23e9de6f52e",
        "colab": {
          "base_uri": "https://localhost:8080/",
          "height": 238
        }
      },
      "source": [
        "x"
      ],
      "execution_count": 6,
      "outputs": [
        {
          "output_type": "execute_result",
          "data": {
            "text/plain": [
              "tensor([-0.0039, -0.6072, -0.0499,  0.2434,  0.0555,  1.1085, -0.5407,  1.4288,\n",
              "        -0.2906, -0.8580, -1.1555,  0.1911, -1.8304,  0.6317, -2.1588,  0.0785,\n",
              "        -0.0528,  1.1719, -0.5611,  1.1465, -0.8860,  0.7723, -0.2446, -0.4424,\n",
              "         0.8104,  0.5759,  0.1446, -0.1810,  1.0606,  0.4968,  1.1721, -1.6795,\n",
              "        -0.0783,  1.0111, -1.3167,  0.5399, -0.3805,  0.7745, -0.0339,  0.4120,\n",
              "        -1.2020,  0.7187,  0.1804, -0.5991, -0.8909,  0.1342,  1.7338,  0.9825,\n",
              "        -0.2494,  2.0308, -1.0124,  0.2327, -1.0596, -0.8525, -1.1575, -0.7132,\n",
              "         2.1505,  1.4635, -1.1252, -0.0763, -0.9091, -1.3588,  1.2012,  0.7295,\n",
              "         0.7134, -0.5438, -0.9415, -1.8905,  0.4930,  0.8277, -0.6578, -2.1340,\n",
              "        -0.1116,  1.0500, -3.1145,  0.7736, -2.1156,  0.6481,  1.9114, -0.5694,\n",
              "         0.2766, -0.9770, -0.0790, -0.0442,  2.0805,  0.4845,  0.7801, -2.1815,\n",
              "        -1.2237, -0.1804,  1.5438, -1.8616, -1.6724,  1.4687, -0.3104, -0.7871,\n",
              "        -0.1153,  0.5101, -0.3921,  0.7217])"
            ]
          },
          "metadata": {
            "tags": []
          },
          "execution_count": 6
        }
      ]
    },
    {
      "cell_type": "code",
      "metadata": {
        "id": "7vqfszqY4Kc0",
        "colab_type": "code",
        "outputId": "63fd3b39-cd83-4ce0-bccc-cb850da317f9",
        "colab": {
          "base_uri": "https://localhost:8080/",
          "height": 350
        }
      },
      "source": [
        "plt.hist(x.detach().numpy())"
      ],
      "execution_count": 7,
      "outputs": [
        {
          "output_type": "execute_result",
          "data": {
            "text/plain": [
              "(array([ 1.,  4.,  5.,  9., 16., 19., 15., 17.,  9.,  5.]),\n",
              " array([-3.1145463 , -2.5880368 , -2.0615275 , -1.535018  , -1.0085084 ,\n",
              "        -0.48199904,  0.04451041,  0.5710199 ,  1.0975293 ,  1.6240388 ,\n",
              "         2.1505482 ], dtype=float32),\n",
              " <a list of 10 Patch objects>)"
            ]
          },
          "metadata": {
            "tags": []
          },
          "execution_count": 7
        },
        {
          "output_type": "display_data",
          "data": {
            "image/png": "[encoded data removed]",
            "text/plain": [
              "<Figure size 432x288 with 1 Axes>"
            ]
          },
          "metadata": {
            "tags": [],
            "needs_background": "light"
          }
        }
      ]
    },
    {
      "cell_type": "code",
      "metadata": {
        "id": "8T29uQgj4Kc3",
        "colab_type": "code",
        "colab": {}
      },
      "source": [
        "def toy_poly():\n",
        "    x = 5 * torch.rand(100, 1)\n",
        "    # linear_op = -3 - 4*x + x**2\n",
        "    linear_op = 4 * torch.sin(x*2)\n",
        "    y = torchdist.Normal(linear_op, 1).sample()\n",
        "    return x, y\n",
        "\n",
        "x_train, y_train = toy_poly()"
      ],
      "execution_count": 0,
      "outputs": []
    },
    {
      "cell_type": "code",
      "metadata": {
        "id": "-uBU48pX4Kc9",
        "colab_type": "code",
        "outputId": "6977aacb-bc89-4771-8d70-e407a35c4a64",
        "colab": {
          "base_uri": "https://localhost:8080/",
          "height": 282
        }
      },
      "source": [
        "plt.plot(x_train.numpy(), y_train.numpy(), 'o')"
      ],
      "execution_count": 9,
      "outputs": [
        {
          "output_type": "execute_result",
          "data": {
            "text/plain": [
              "[<matplotlib.lines.Line2D at 0x7f33fd8d1940>]"
            ]
          },
          "metadata": {
            "tags": []
          },
          "execution_count": 9
        },
        {
          "output_type": "display_data",
          "data": {
            "image/png": "[encoded data removed]",
            "text/plain": [
              "<Figure size 432x288 with 1 Axes>"
            ]
          },
          "metadata": {
            "tags": [],
            "needs_background": "light"
          }
        }
      ]
    },
    {
      "cell_type": "markdown",
      "metadata": {
        "id": "H1o0zKSIvJGJ",
        "colab_type": "text"
      },
      "source": [
        "## module"
      ]
    },
    {
      "cell_type": "code",
      "metadata": {
        "id": "kHSGmEYg94QU",
        "colab_type": "code",
        "colab": {}
      },
      "source": [
        "class CustomNormal(torch.distributions.Normal):\n",
        "    def __init__(self, loc, scale, validate_args=None, eps=1e-4):\n",
        "        super(CustomNormal, self).__init__(loc, scale, validate_args)\n",
        "        self.eps = eps\n",
        "\n",
        "    def __getattribute__(self, name):        \n",
        "        if name == 'scale':            \n",
        "            return torch.clamp(torch.exp(object.__getattribute__(self, name)), min=self.eps)\n",
        "        else:            \n",
        "            return object.__getattribute__(self, name)\n"
      ],
      "execution_count": 0,
      "outputs": []
    },
    {
      "cell_type": "code",
      "metadata": {
        "id": "cTV0IcEsvItt",
        "colab_type": "code",
        "colab": {}
      },
      "source": [
        "class TensorModule:\n",
        "    def __init__(self):\n",
        "        self.training = True\n",
        "        self._parameters = OrderedDict()\n",
        "        self._modules = OrderedDict()\n",
        "        self._tmodules = OrderedDict()\n",
        "        self._buffers = OrderedDict()\n",
        "\n",
        "    def __call__(self, *input, **kwargs):\n",
        "        result = self.forward(*input, **kwargs)\n",
        "        return result\n",
        "    \n",
        "    def forward(self, *input):\n",
        "        raise NotImplementedError\n",
        "\n",
        "    def __setattr__(self, name, value):\n",
        "        def remove_from(*dicts):\n",
        "            for d in dicts:\n",
        "                if name in d:\n",
        "                    del d[name]\n",
        "\n",
        "        params = self.__dict__.get('_parameters')\n",
        "        if name.startswith('p_') and isinstance(value, torch.Tensor):\n",
        "            if params is None:\n",
        "                raise AttributeError\n",
        "            remove_from(self.__dict__, self._buffers, self._modules)\n",
        "            self.register_parameter(name, value)\n",
        "        elif params is not None and name in params:\n",
        "            if value is not None:\n",
        "                raise TypeError\n",
        "            self.register_parameter(name, value)\n",
        "        else:\n",
        "            modules = self.__dict__.get('_modules')\n",
        "            if isinstance(value, TensorModule):\n",
        "                if modules is None:\n",
        "                    raise AttributeError\n",
        "                remove_from(self.__dict__, self._parameters, self._buffers)\n",
        "                modules[name] = value\n",
        "            elif modules is not None and name in modules:\n",
        "                if value is not None:\n",
        "                    raise TypeError\n",
        "                modules[name] = value\n",
        "            else:\n",
        "                buffers = self.__dict__.get('_buffers')\n",
        "                if buffers is not None and name in buffers:\n",
        "                    if value is not None and not isinstance(value, torch.Tensor):\n",
        "                        raise TypeError\n",
        "                    buffers[name] = value\n",
        "                else:\n",
        "                    object.__setattr__(self, name, value)\n",
        "\n",
        "    def __getattr__(self, name):\n",
        "        if '_parameters' in self.__dict__:\n",
        "            _parameters = self.__dict__['_parameters']\n",
        "            if name in _parameters:\n",
        "                return _parameters[name]\n",
        "\n",
        "        if '_buffers' in self.__dict__:\n",
        "            _buffers = self.__dict__['_buffers']\n",
        "            if name in _buffers:\n",
        "                return _buffers[name]\n",
        "        \n",
        "        if '_modules' in self.__dict__:\n",
        "            _modules = self.__dict__['_modules']\n",
        "            if name in _modules:\n",
        "                return _modules[name]\n",
        "\n",
        "    def register_parameter(self, name, param):\n",
        "        # debug\n",
        "        if name in self._parameters:\n",
        "            prev_param = self._parameters[name]\n",
        "        else:\n",
        "            prev_param = None\n",
        "        # print('%s: %s -> %s' % (name, str(prev_param), str(param)))\n",
        "\n",
        "        if '.' in name:\n",
        "            raise KeyError\n",
        "\n",
        "        if param is None:\n",
        "            self._parameters[name] = None\n",
        "        elif not isinstance(param, torch.Tensor):\n",
        "            raise TypeError\n",
        "        else:\n",
        "            self._parameters[name] = param\n",
        "\n",
        "    def register_buffer(self, name, tensor):\n",
        "        if '.' in name:\n",
        "            raise KeyError\n",
        "        elif tensor is not None and not isinstance(tensor, torch.Tensor):\n",
        "            raise TypeError\n",
        "        else:\n",
        "            self._buffers[name] = tensor\n",
        "\n",
        "    def named_modules(self, memo=None, prefix=''):\n",
        "        if memo is None:\n",
        "            memo = set()\n",
        "        if self not in memo:\n",
        "            memo.add(self)\n",
        "            yield prefix, self\n",
        "            for name, module in self._modules.items():\n",
        "                if module is None:\n",
        "                    continue\n",
        "                submodule_prefix = prefix + ('.' if prefix else '') + name\n",
        "                for m in module.named_modules(memo, submodule_prefix):\n",
        "                    yield m   \n",
        "\n",
        "    def _named_members(self, get_members_fn, prefix='', recurse=True):\n",
        "        memo = set()\n",
        "        modules = self.named_modules(prefix=prefix) if recurse else [(prefix, self)]\n",
        "        for module_prefix, module in modules:\n",
        "            members = get_members_fn(module)\n",
        "            for k, v in members:\n",
        "                if v is None or v in memo:\n",
        "                    continue\n",
        "                memo.add(v)\n",
        "                name = module_prefix + ('.' if module_prefix else '') + k\n",
        "                yield name, v\n",
        "\n",
        "    def named_parameters(self, prefix='', recurse=True):\n",
        "        gen = self._named_members(\n",
        "            lambda module: module._parameters.items(),\n",
        "            prefix=prefix, recurse=True\n",
        "        )\n",
        "        for elem in gen:\n",
        "            yield elem\n",
        "\n",
        "    def _load_from_state_dict(self, state_dict, prefix):\n",
        "        local_name_params = itertools.chain(self._parameters.items(), self._buffers.items())\n",
        "        local_state = {k: v for k, v in local_name_params if v is not None}\n",
        "\n",
        "        for name, param in local_state.items():\n",
        "            key = prefix + name\n",
        "            if key in state_dict:\n",
        "                input_param = state_dict[key]\n",
        "                setattr(self, name, input_param)\n",
        "                # with torch.no_grad():                        \n",
        "                # param.copy_(input_param)\n",
        "\n",
        "    def set_params(self, state_dict):\n",
        "        def load(module, prefix=''):\n",
        "            module._load_from_state_dict(state_dict, prefix)\n",
        "        \n",
        "            for name, child in module._modules.items():\n",
        "                if child is not None:\n",
        "                    load(child, prefix + name + '.')\n",
        "        load(self)\n",
        "        load = None\n",
        "        \n",
        "    def train(self, mode=True):\n",
        "        self.training =  mode\n",
        "        for module in self.children():\n",
        "            module.train(mode)\n",
        "        return self\n",
        "\n",
        "    def eval(self):\n",
        "        return self.train(False)\n",
        "\n",
        "    def children(self):\n",
        "        for name, module in self.named_children():\n",
        "            yield module\n",
        "\n",
        "    def named_children(self):\n",
        "        memo = set()\n",
        "        for name, module in self._modules.items():\n",
        "            if module is not None and module not in memo:\n",
        "                memo.add(module)\n",
        "                yield name, module\n",
        "\n",
        "class TensorLinear(TensorModule):\n",
        "    def __init__(self, in_features, out_features, bias=True):\n",
        "        super(TensorLinear, self).__init__()\n",
        "\n",
        "        self.in_features = in_features\n",
        "        self.out_features = out_features\n",
        "        # self.weight = TensorParameter((out_features, in_features))\n",
        "        self.p_weight = torch.zeros((out_features, in_features), dtype=torch.float32)\n",
        "        if bias:\n",
        "            self.p_bias = torch.zeros((out_features, ), dtype=torch.float32)\n",
        "        else:\n",
        "            # original self.register_parameter('bias', None)\n",
        "            self.p_bias = None\n",
        "\n",
        "    def forward(self, input):\n",
        "        return F.linear(input, self.p_weight, self.p_bias)"
      ],
      "execution_count": 0,
      "outputs": []
    },
    {
      "cell_type": "code",
      "metadata": {
        "id": "Sq8VmrS7g_WM",
        "colab_type": "code",
        "colab": {}
      },
      "source": [
        "class _NormBase(TensorModule):\n",
        "    def __init__(self, num_features, eps=1e-5, momentum=0.1, affine=True,\n",
        "                 track_running_stats=True):\n",
        "        super(_NormBase, self).__init__()\n",
        "        self.num_features = num_features\n",
        "        self.eps = eps\n",
        "        self.momentum = momentum\n",
        "        self.affine = affine\n",
        "        self.track_running_stats = track_running_stats\n",
        "        if self.affine:\n",
        "            self.p_weight = torch.Tensor(num_features)\n",
        "            self.p_bias = torch.Tensor(num_features)\n",
        "        else:\n",
        "            self.register_parameter('p_weight', None)\n",
        "            self.register_parameter('p_bias', None)\n",
        "        if self.track_running_stats:\n",
        "            self.register_buffer('running_mean', torch.zeros(num_features))\n",
        "            self.register_buffer('running_var', torch.ones(num_features))\n",
        "            self.register_buffer('num_batches_tracked', torch.tensor(0, dtype=torch.long))\n",
        "        else:\n",
        "            self.register_parameter('running_mean', None)\n",
        "            self.register_parameter('running_var', None)\n",
        "            self.register_parameter('num_batches_tracked', None)\n",
        "        self.reset_parameters()\n",
        "\n",
        "    def reset_running_stats(self):\n",
        "        if self.track_running_stats:\n",
        "            self.running_mean.zero_()\n",
        "            self.running_var.fill_(1)\n",
        "            self.num_batches_tracked.zero_()\n",
        "\n",
        "    def reset_parameters(self):\n",
        "        self.reset_running_stats()\n",
        "        if self.affine:\n",
        "            torch.nn.init.ones_(self.p_weight)\n",
        "            torch.nn.init.zeros_(self.p_bias)\n",
        "\n",
        "class _BatchNorm(_NormBase):\n",
        "    def __init__(self, num_features, eps=1e-5, momentum=0.1, affine=True, \n",
        "                 track_running_stats=True):\n",
        "        super(_BatchNorm, self).__init__(num_features, eps, momentum, affine,\n",
        "                                         track_running_stats)\n",
        "    \n",
        "    def forward(self, input):\n",
        "        self._check_input_dim(input)\n",
        "\n",
        "        if self.momentum is None:\n",
        "            exponential_average_factor = 0.0\n",
        "        else:\n",
        "            exponential_average_factor = self.momentum\n",
        "\n",
        "        if self.training and self.track_running_stats:            \n",
        "            if self.num_batches_tracked is not None:\n",
        "                self.num_batches_tracked = self.num_batches_tracked + 1\n",
        "                if self.momentum is None:  # use cumulative moving average\n",
        "                    exponential_average_factor = 1.0 / float(self.num_batches_tracked)\n",
        "                else:  # use exponential moving average\n",
        "                    exponential_average_factor = self.momentum\n",
        "\n",
        "        return F.batch_norm(\n",
        "            input, self.running_mean, self.running_var, self.p_weight, self.p_bias,\n",
        "            self.training or not self.track_running_stats,\n",
        "            exponential_average_factor, self.eps)\n",
        "        \n",
        "\n",
        "class TensorBatchNorm1d(_BatchNorm):\n",
        "    def _check_input_dim(self, input):\n",
        "        if input.dim() != 2 and input.dim() !=3:\n",
        "            raise ValueError('invalid dim')"
      ],
      "execution_count": 0,
      "outputs": []
    },
    {
      "cell_type": "code",
      "metadata": {
        "id": "rnsg0P_Kttn6",
        "colab_type": "code",
        "colab": {}
      },
      "source": [
        "class TensorLinearNet(TensorModule):\n",
        "    def __init__(self):\n",
        "        super(TensorLinearNet, self).__init__()\n",
        "        self.linear1 = TensorLinear(1, 8)\n",
        "        self.bn1 = TensorBatchNorm1d(8)\n",
        "        self.linear2 = TensorLinear(8, 8)\n",
        "        self.bn2 = TensorBatchNorm1d(8)\n",
        "        self.linear3 = TensorLinear(8, 8)\n",
        "        self.bn3 = TensorBatchNorm1d(8)\n",
        "        self.linear4 = TensorLinear(8, 1)\n",
        "        self.relu = nn.ReLU()\n",
        "        # self.linear_sigma = TensorLinear(16, 1)\n",
        "\n",
        "    def forward(self, x):\n",
        "        x = self.linear1(x)\n",
        "        x = self.bn1(x)\n",
        "        x = self.relu(x)\n",
        "\n",
        "        x = self.linear2(x)\n",
        "        x = self.bn2(x)\n",
        "        x = self.relu(x)\n",
        "\n",
        "        x = self.linear3(x)\n",
        "        x = self.bn3(x)\n",
        "        x = self.relu(x)\n",
        "        x1 = self.linear4(x)\n",
        "\n",
        "        # x2 = self.linear_sigma(x)        \n",
        "        # x2 = torch.clamp(torch.exp(x2), min=1.0, max=5.0)\n",
        "        x2 = None\n",
        "\n",
        "        return x1, x2\n",
        "\n",
        "class TensorLinearNet2(TensorModule):\n",
        "    def __init__(self):\n",
        "        super(TensorLinearNet2, self).__init__()\n",
        "        self.linear11 = TensorLinear(1, 8)\n",
        "        self.linear12 = TensorLinear(8, 1)\n",
        "        self.linear21 = TensorLinear(1, 8)\n",
        "        self.linear22 = TensorLinear(8, 1)\n",
        "        self.relu = nn.ReLU()\n",
        "        \n",
        "    def forward(self, x):\n",
        "        x = self.linear11(x)        \n",
        "        x = self.relu(x)\n",
        "        x = self.linear12(x)\n",
        "\n",
        "        x2 = x*x\n",
        "        x2 = self.linear21(x2)\n",
        "        x2 = self.relu(x2)\n",
        "        x2 = self.linear22(x2)\n",
        "        \n",
        "        x = x + x2\n",
        "        \n",
        "        return x, None"
      ],
      "execution_count": 0,
      "outputs": []
    },
    {
      "cell_type": "markdown",
      "metadata": {
        "id": "ezTSw0Np4KdA",
        "colab_type": "text"
      },
      "source": [
        "## model"
      ]
    },
    {
      "cell_type": "code",
      "metadata": {
        "id": "4_vkvU5W4KdA",
        "colab_type": "code",
        "colab": {}
      },
      "source": [
        "class LinearNet(nn.Module):\n",
        "    def __init__(self):\n",
        "        super(LinearNet, self).__init__()\n",
        "        \n",
        "    def forward(self, w, x):\n",
        "        \"\"\"\n",
        "        w: shape of (3,)\n",
        "        x: shape of (batch,)\n",
        "        \"\"\"\n",
        "        #         phi_x = torch.tensor([])\n",
        "        y = w[0] + w[1]*x + w[2]*x**2\n",
        "        return y\n",
        "\n",
        "class LinearNet2(nn.Module):\n",
        "    def __init__(self):\n",
        "        super(LinearNet2, self).__init__()\n",
        "\n",
        "        self.linear1 = nn.Linear(1, 8)\n",
        "        self.linear2 = nn.Linear(8, 1)\n",
        "\n",
        "    def forward(self, x):\n",
        "        x = self.linear1(x)\n",
        "        x = self.linear2(x)\n",
        "\n",
        "        return x"
      ],
      "execution_count": 0,
      "outputs": []
    },
    {
      "cell_type": "code",
      "metadata": {
        "id": "N7fdgqQI4KdD",
        "colab_type": "code",
        "colab": {}
      },
      "source": [
        "class ParameterDistribution:\n",
        "    def __init__(self, dist):\n",
        "        \"\"\"\n",
        "        Parameters\n",
        "        ----------\n",
        "        dist: dict\n",
        "            key: paramter name\n",
        "            value: torch.distributions.distribution.Distribution\n",
        "        \"\"\"\n",
        "        if not isinstance(dist, OrderedDict):\n",
        "            raise ValueError('dist must be OrderedDict')\n",
        "        self.dist = dist\n",
        "\n",
        "    def sample(self):\n",
        "        w_sample = OrderedDict()\n",
        "        for n, d in self.dist.items():\n",
        "            w_sample[n] = d.sample()\n",
        "\n",
        "        return w_sample\n",
        "\n",
        "    def rsample(self):\n",
        "        w_sample = OrderedDict()\n",
        "        for n, d in self.dist.items():\n",
        "            w_sample[n] = d.rsample()\n",
        "\n",
        "        return w_sample\n",
        "\n",
        "    def log_prob(self, w):\n",
        "        \"\"\"\n",
        "        Parameters\n",
        "        ----------\n",
        "        w: dict\n",
        "            key: parameter name\n",
        "            value: torch.Tensor\n",
        "        \"\"\"\n",
        "        sum_log_prob = 0\n",
        "        for k, v in w.items():\n",
        "            distribution = self.dist[k]\n",
        "            sum_log_prob += distribution.log_prob(v).sum()\n",
        "\n",
        "        return sum_log_prob\n",
        "\n",
        "class VIModel(nn.Module):\n",
        "    def __init__(self, model):\n",
        "        super(VIModel, self).__init__()\n",
        "        # set param\n",
        "\n",
        "        param_dict = self.get_params(model)\n",
        "        self.dist = self.normal_dist(param_dict)        \n",
        "        self.__setparams(param_dict)        \n",
        "\n",
        "    def get_params(self, model):\n",
        "        param_dict = OrderedDict()\n",
        "        for n, p in model.named_parameters():\n",
        "            mu = nn.Parameter(torch.zeros_like(p.data))\n",
        "            log_sigma = nn.Parameter(torch.zeros_like(p.data))\n",
        "            \n",
        "            eta_dict = {\n",
        "                'mu': mu,\n",
        "                'log_sigma': log_sigma\n",
        "            }\n",
        "            param_dict[n] = eta_dict\n",
        "\n",
        "        return param_dict\n",
        "\n",
        "    def normal_dist(self, param_dict):\n",
        "        dist = OrderedDict()\n",
        "        for n, eta_dict in param_dict.items():\n",
        "            mu = eta_dict['mu']\n",
        "            log_sigma = eta_dict['log_sigma']\n",
        "            # sigma = torch.exp(log_sigma)\n",
        "\n",
        "            # dist[n] = torchdist.Normal(mu, sigma)\n",
        "            dist[n] = CustomNormal(mu, log_sigma)\n",
        "\n",
        "        return dist\n",
        "\n",
        "    def __setparams(self, param_dict):\n",
        "        for n, eta_dict in param_dict.items():\n",
        "            for eta_name, eta_param in eta_dict.items():\n",
        "                # parameter\n",
        "                name =  '_'.join([n.replace('.', '_'), eta_name])\n",
        "                setattr(self, name, eta_param)\n",
        "                \n",
        "\n",
        "def normal_dist(model):\n",
        "    dist = OrderedDict()\n",
        "    for n, p in model.named_parameters():\n",
        "        mu = nn.Parameter(torch.zeros_like(p.data))\n",
        "        sigma = torch.exp(nn.Parameter(torch.zeros_like(p.data)))        \n",
        "        dist[n] = torchdist.Normal(mu, sigma)\n",
        "\n",
        "    return dist\n",
        "\n",
        "def normal_prior_dist(model):\n",
        "    dist = OrderedDict()\n",
        "    for n, p in model.named_parameters():\n",
        "        param_size = p.size()        \n",
        "        mu = torch.zeros(param_size)\n",
        "        # [10, 10, ...]\n",
        "        sigma = torch.zeros((1,)).new_full(param_size, 10.0)\n",
        "        dist[n] = torchdist.Normal(mu, sigma)\n",
        "\n",
        "    return dist"
      ],
      "execution_count": 0,
      "outputs": []
    },
    {
      "cell_type": "code",
      "metadata": {
        "id": "LjMlRDMN4KdH",
        "colab_type": "code",
        "colab": {}
      },
      "source": [
        "def kl_divergence(q_w, p_w, model, x, y, n_params, idx):\n",
        "\n",
        "    # sampling from q(w)\n",
        "    w_sample = q_w.rsample()\n",
        "    \n",
        "    model.set_params(w_sample)\n",
        "\n",
        "    # calculate f(x)\n",
        "    # p(y|x,w) = N(f(x; w), 1)\n",
        "    out1, out2 = model(x)\n",
        "\n",
        "    # print('output', output)\n",
        "    p_y_xw = torchdist.Normal(out1, torch.ones_like(out1) / 2)\n",
        "    # p_y_xw = torchdist.Normal(out1, out2)\n",
        "\n",
        "    # log(p(w, x, y)) = log(p(w)) + sum(log(p(y|x,w)))    \n",
        "    # val_log_joint_prob = p_w.log_prob(w_sample) + p_y_xw.log_prob(y).sum()    \n",
        "    val_log_p_w = p_w.log_prob(w_sample) / n_params\n",
        "    # val_log_p_w = p_w.log_prob(w_sample)\n",
        "    val_log_p_y_xw = p_y_xw.log_prob(y).mean()\n",
        "    val_log_q_w = q_w.log_prob(w_sample) / n_params\n",
        "    # val_log_q_w = q_w.log_prob(w_sample)\n",
        "\n",
        "    if (idx+1) % 100 == 0:\n",
        "        print('%d loss q(w) %f p(w) %f p(y|xw) %f' \n",
        "              % (idx, val_log_q_w.item(), val_log_p_w.item(), val_log_p_y_xw.item()))\n",
        "    \n",
        "    return val_log_q_w - val_log_p_w - val_log_p_y_xw\n",
        "    # return - val_log_p_y_xw\n",
        "\n",
        "def kl_divergence2(q_w, p_w, model, x, y, n_params, idx):\n",
        "\n",
        "    val_loss = 0\n",
        "    n_samples = 1\n",
        "    for _ in range(n_samples):\n",
        "        val_loss += kl_divergence(q_w, p_w, model, x, y, n_params, idx) / n_samples\n",
        "    return val_loss\n",
        "\n",
        "\n",
        "def loss_func(model, x, y):\n",
        "    y_pred = model(x)\n",
        "    loss = ((y - y_pred)**2).mean()\n",
        "    return loss\n",
        "\n",
        "def freeze_param(model):\n",
        "    for p in model.parameters():\n",
        "        p.requires_grad = False\n",
        "\n",
        "def setw(module, w_dict, prefix):\n",
        "    var_names = list(module._parameters.keys())\n",
        "    for var_name in var_names:\n",
        "        if prefix == '':\n",
        "            full_name = var_name\n",
        "        else:\n",
        "            full_name = '.'.join([prefix, var_name])\n",
        "        print(full_name)\n",
        "        value = w_dict[full_name]        \n",
        "        # module.__setattr__ == \n",
        "        \n",
        "        # value_param =  nn.Parameter(value, requires_grad=False)\n",
        "        # dengerous process\n",
        "        value.__class__ = nn.Parameter\n",
        "        setattr(module, var_name, value)\n",
        "        print('test')\n",
        "        # module.register_parameter(var_name, value_param)\n",
        "        # module._parameters[var_name] = value\n",
        "        \n",
        "    for child_name, child_module in module._modules.items():\n",
        "        if prefix == '':\n",
        "            child_full_name = child_name\n",
        "        else:\n",
        "            child_full_name = '.'.join([prefix, child_name])\n",
        "        setw(child_module, w_dict, child_full_name)\n",
        "\n",
        "def printw(module, prefix=''):\n",
        "    var_names = list(module._parameters.keys())\n",
        "    for var_name in var_names:        \n",
        "        if prefix == '':\n",
        "            full_name = var_name\n",
        "        else:\n",
        "            full_name = '.'.join([prefix, var_name])\n",
        "        print(full_name)\n",
        "        print(getattr(module, var_name))        \n",
        "\n",
        "    for child_name, child_module in module._modules.items():\n",
        "        if prefix == '':\n",
        "            child_full_name = child_name\n",
        "        else:\n",
        "            child_full_name = '.'.join([prefix, child_name])\n",
        "        printw(child_module, child_full_name)\n",
        "\n",
        "def write_graph(writer, model, x):\n",
        "    writer.add_graph(model, input_to_model=x)\n",
        "\n",
        "def get_n_params(model):\n",
        "    n_all_params = 0\n",
        "    for n, p in model.named_parameters():\n",
        "        if p is not None:\n",
        "            n_params = 1\n",
        "            for dim in p.size():\n",
        "                n_params *= dim\n",
        "            n_all_params += n_params\n",
        "    return n_all_params"
      ],
      "execution_count": 0,
      "outputs": []
    },
    {
      "cell_type": "markdown",
      "metadata": {
        "id": "IEMKHByHrdgv",
        "colab_type": "text"
      },
      "source": [
        "## exec"
      ]
    },
    {
      "cell_type": "markdown",
      "metadata": {
        "id": "3xDgvNTsoAN-",
        "colab_type": "text"
      },
      "source": [
        "Calculate prediction distribution\n",
        "$$\n",
        "\\begin{align}\n",
        "& KL[q(W; \\eta)||p(W|X, Y)] \\\\\n",
        "&= \\int q(W; \\eta) \\log \\frac{q(W; \\eta)}{p(W|X, Y)} dW\\\\\n",
        "&= \\int q(W; \\eta) \\log q(W; \\eta)dW - \\int q(W; \\eta) \\log \\frac{p(Y|W, X)p(W)}{p(Y|X)}dW \\\\\n",
        "&= \\int q(W; \\eta) \\log q(W; \\eta)dW - \\int q(W; \\eta) \\log p(Y|W, X)dW - \\int q(W; \\eta) \\log p(W)dW + const.\\\\\n",
        "&= E[\\log q(W; \\eta)] - E[\\log p(Y|W, X)] - E[\\log p(W)] + const.\n",
        "\\end{align}\n",
        "$$"
      ]
    },
    {
      "cell_type": "code",
      "metadata": {
        "id": "1Pn6FEfV4KdQ",
        "colab_type": "code",
        "colab": {}
      },
      "source": [
        "scaler = StandardScaler()\n",
        "x_train_norm = torch.tensor(scaler.fit_transform(x_train), dtype=torch.float32)\n",
        "\n",
        "# model = LinearNet2()\n",
        "model = TensorLinearNet()\n",
        "vimodel = VIModel(model)\n",
        "q_w = ParameterDistribution(vimodel.dist)\n",
        "p_w = ParameterDistribution(normal_prior_dist(model))\n",
        "\n",
        "# optimizer = torch.optim.Adam(params=vimodel.parameters(), lr=1e-3)\n",
        "optimizer = torch.optim.SGD(params=vimodel.parameters(), lr=1e-2, \n",
        "                            momentum=0.9,\n",
        "                            weight_decay=1e-4)"
      ],
      "execution_count": 0,
      "outputs": []
    },
    {
      "cell_type": "code",
      "metadata": {
        "scrolled": true,
        "id": "87ydpXz34KdS",
        "colab_type": "code",
        "outputId": "425fd3ae-f64a-47eb-df99-703da9d47987",
        "colab": {
          "base_uri": "https://localhost:8080/",
          "height": 1000
        }
      },
      "source": [
        "n_params = get_n_params(model)\n",
        "model.train()\n",
        "for i in range(5000):    \n",
        "    with torch.set_grad_enabled(True):    \n",
        "        optimizer.zero_grad()        \n",
        "        loss = kl_divergence2(q_w, p_w, model, x_train_norm, y_train, n_params, i)\n",
        "        loss.backward()\n",
        "        optimizer.step()        \n",
        "        \n",
        "    if str(loss.item()) == 'nan':\n",
        "        break\n",
        "\n",
        "    if (i+1) % 100== 0:\n",
        "        # mu = vimodel.eta_mu.detach().numpy()\n",
        "        # sigma = torch.exp(vimodel.eta_log_sigma.detach()).numpy()\n",
        "        # print('loss: %f mu: %s sigma: %s' % (loss.detach().numpy(), str(mu), str(sigma)))\n",
        "        # print(loss.size())\n",
        "        print('iter: %d loss: %f ' % (i, loss.item(),))\n"
      ],
      "execution_count": 26,
      "outputs": [
        {
          "output_type": "stream",
          "text": [
            "99 loss q(w) -0.774509 p(w) -3.386632 p(y|xw) -17.566381\n",
            "iter: 99 loss: 20.178505 \n",
            "199 loss q(w) -0.941815 p(w) -3.447644 p(y|xw) -17.563683\n",
            "iter: 199 loss: 20.069511 \n",
            "299 loss q(w) -0.915947 p(w) -3.329076 p(y|xw) -17.581398\n",
            "iter: 299 loss: 19.994528 \n",
            "399 loss q(w) -0.933209 p(w) -3.281402 p(y|xw) -17.562300\n",
            "iter: 399 loss: 19.910494 \n",
            "499 loss q(w) -0.971385 p(w) -3.305728 p(y|xw) -17.562651\n",
            "iter: 499 loss: 19.896996 \n",
            "599 loss q(w) -1.053232 p(w) -3.312378 p(y|xw) -17.610647\n",
            "iter: 599 loss: 19.869793 \n",
            "699 loss q(w) -1.040579 p(w) -3.282735 p(y|xw) -17.565319\n",
            "iter: 699 loss: 19.807474 \n",
            "799 loss q(w) -1.110865 p(w) -3.313310 p(y|xw) -17.564463\n",
            "iter: 799 loss: 19.766909 \n",
            "899 loss q(w) -1.125081 p(w) -3.300714 p(y|xw) -17.571077\n",
            "iter: 899 loss: 19.746710 \n",
            "999 loss q(w) -1.177661 p(w) -3.298456 p(y|xw) -16.907869\n",
            "iter: 999 loss: 19.028664 \n",
            "1099 loss q(w) -1.206756 p(w) -3.385569 p(y|xw) -16.732454\n",
            "iter: 1099 loss: 18.911268 \n",
            "1199 loss q(w) -1.162978 p(w) -3.397939 p(y|xw) -16.906733\n",
            "iter: 1199 loss: 19.141693 \n",
            "1299 loss q(w) -1.145020 p(w) -3.290266 p(y|xw) -15.372856\n",
            "iter: 1299 loss: 17.518103 \n",
            "1399 loss q(w) -1.306612 p(w) -3.322081 p(y|xw) -17.930710\n",
            "iter: 1399 loss: 19.946178 \n",
            "1499 loss q(w) -1.190727 p(w) -3.308730 p(y|xw) -17.555243\n",
            "iter: 1499 loss: 19.673246 \n",
            "1599 loss q(w) -1.271806 p(w) -3.306234 p(y|xw) -17.170542\n",
            "iter: 1599 loss: 19.204971 \n",
            "1699 loss q(w) -1.339830 p(w) -3.541028 p(y|xw) -17.498741\n",
            "iter: 1699 loss: 19.699940 \n",
            "1799 loss q(w) -1.355152 p(w) -3.347777 p(y|xw) -19.032248\n",
            "iter: 1799 loss: 21.024872 \n",
            "1899 loss q(w) -1.341941 p(w) -3.329106 p(y|xw) -7.041167\n",
            "iter: 1899 loss: 9.028332 \n",
            "1999 loss q(w) -1.327962 p(w) -3.418303 p(y|xw) -23.853271\n",
            "iter: 1999 loss: 25.943613 \n",
            "2099 loss q(w) -1.392570 p(w) -3.316970 p(y|xw) -17.594398\n",
            "iter: 2099 loss: 19.518799 \n",
            "2199 loss q(w) -1.404372 p(w) -3.441373 p(y|xw) -16.166061\n",
            "iter: 2199 loss: 18.203064 \n",
            "2299 loss q(w) -1.470093 p(w) -3.330116 p(y|xw) -17.147493\n",
            "iter: 2299 loss: 19.007517 \n",
            "2399 loss q(w) -1.395551 p(w) -3.334192 p(y|xw) -17.562588\n",
            "iter: 2399 loss: 19.501228 \n",
            "2499 loss q(w) -1.420484 p(w) -3.313745 p(y|xw) -17.002987\n",
            "iter: 2499 loss: 18.896248 \n",
            "2599 loss q(w) -1.495978 p(w) -3.354138 p(y|xw) -17.457695\n",
            "iter: 2599 loss: 19.315855 \n",
            "2699 loss q(w) -1.500294 p(w) -3.325577 p(y|xw) -14.083833\n",
            "iter: 2699 loss: 15.909116 \n",
            "2799 loss q(w) -1.493128 p(w) -3.338337 p(y|xw) -23.569351\n",
            "iter: 2799 loss: 25.414560 \n",
            "2899 loss q(w) -1.535829 p(w) -3.362044 p(y|xw) -10.978535\n",
            "iter: 2899 loss: 12.804749 \n",
            "2999 loss q(w) -1.551997 p(w) -3.386145 p(y|xw) -7.206905\n",
            "iter: 2999 loss: 9.041054 \n",
            "3099 loss q(w) -1.459517 p(w) -3.361571 p(y|xw) -8.603174\n",
            "iter: 3099 loss: 10.505229 \n",
            "3199 loss q(w) -1.615873 p(w) -3.375936 p(y|xw) -7.170335\n",
            "iter: 3199 loss: 8.930399 \n",
            "3299 loss q(w) -1.628997 p(w) -3.380646 p(y|xw) -7.792596\n",
            "iter: 3299 loss: 9.544245 \n",
            "3399 loss q(w) -1.587888 p(w) -3.368634 p(y|xw) -7.722688\n",
            "iter: 3399 loss: 9.503433 \n",
            "3499 loss q(w) -1.637084 p(w) -3.364774 p(y|xw) -8.055221\n",
            "iter: 3499 loss: 9.782910 \n",
            "3599 loss q(w) -1.683483 p(w) -3.415389 p(y|xw) -7.161667\n",
            "iter: 3599 loss: 8.893574 \n",
            "3699 loss q(w) -1.696636 p(w) -3.424284 p(y|xw) -7.041246\n",
            "iter: 3699 loss: 8.768893 \n",
            "3799 loss q(w) -1.635774 p(w) -3.385306 p(y|xw) -6.696669\n",
            "iter: 3799 loss: 8.446201 \n",
            "3899 loss q(w) -1.724471 p(w) -17.087492 p(y|xw) -5.826539\n",
            "iter: 3899 loss: 21.189560 \n",
            "3999 loss q(w) -1.610113 p(w) -17.080564 p(y|xw) -5.670355\n",
            "iter: 3999 loss: 21.140806 \n",
            "4099 loss q(w) -1.672068 p(w) -17.037302 p(y|xw) -5.712908\n",
            "iter: 4099 loss: 21.078142 \n",
            "4199 loss q(w) -1.762065 p(w) -17.017580 p(y|xw) -5.631828\n",
            "iter: 4199 loss: 20.887342 \n",
            "4299 loss q(w) -1.805263 p(w) -17.007284 p(y|xw) -5.695792\n",
            "iter: 4299 loss: 20.897812 \n",
            "4399 loss q(w) -1.778996 p(w) -16.980379 p(y|xw) -5.846334\n",
            "iter: 4399 loss: 21.047716 \n",
            "4499 loss q(w) -1.834377 p(w) -17.004515 p(y|xw) -5.618789\n",
            "iter: 4499 loss: 20.788927 \n",
            "4599 loss q(w) -1.844295 p(w) -16.858067 p(y|xw) -5.674981\n",
            "iter: 4599 loss: 20.688753 \n",
            "4699 loss q(w) -1.729319 p(w) -16.810839 p(y|xw) -5.653943\n",
            "iter: 4699 loss: 20.735462 \n",
            "4799 loss q(w) -1.985017 p(w) -16.856260 p(y|xw) -5.887215\n",
            "iter: 4799 loss: 20.758459 \n",
            "4899 loss q(w) -1.873845 p(w) -16.859167 p(y|xw) -8.563839\n",
            "iter: 4899 loss: 23.549160 \n",
            "4999 loss q(w) -1.883837 p(w) -16.747021 p(y|xw) -3.817944\n",
            "iter: 4999 loss: 18.681128 \n"
          ],
          "name": "stdout"
        }
      ]
    },
    {
      "cell_type": "code",
      "metadata": {
        "id": "vRu7Nbrn2gFl",
        "colab_type": "code",
        "outputId": "4fee154a-6bcd-4701-a84a-99055b116ce8",
        "colab": {
          "base_uri": "https://localhost:8080/",
          "height": 1000
        }
      },
      "source": [
        "for n, p in vimodel.named_parameters():\n",
        "    print(n, p)"
      ],
      "execution_count": 27,
      "outputs": [
        {
          "output_type": "stream",
          "text": [
            "linear1_p_weight_mu Parameter containing:\n",
            "tensor([[ 1.0189e+01],\n",
            "        [-3.1312e-02],\n",
            "        [ 3.8203e-01],\n",
            "        [ 7.5987e+02],\n",
            "        [-1.1634e+01],\n",
            "        [ 5.9744e+00],\n",
            "        [-9.2757e+00],\n",
            "        [-1.9815e+00]], requires_grad=True)\n",
            "linear1_p_weight_log_sigma Parameter containing:\n",
            "tensor([[-5.0237e-01],\n",
            "        [ 1.9219e+00],\n",
            "        [ 1.8888e+00],\n",
            "        [-6.7426e+03],\n",
            "        [ 1.9747e+00],\n",
            "        [-2.3345e+00],\n",
            "        [-2.9864e+01],\n",
            "        [ 2.0438e+00]], requires_grad=True)\n",
            "linear1_p_bias_mu Parameter containing:\n",
            "tensor([-1.3441e-03, -3.6522e-04,  1.4868e-03, -1.3507e-03, -1.4535e-03,\n",
            "        -4.4582e-05,  3.5148e-03,  1.5073e-04], requires_grad=True)\n",
            "linear1_p_bias_log_sigma Parameter containing:\n",
            "tensor([1.9190, 1.9147, 1.9297, 1.9047, 1.9250, 1.9255, 1.9373, 1.9247],\n",
            "       requires_grad=True)\n",
            "bn1_p_weight_mu Parameter containing:\n",
            "tensor([ -2.5159,  -0.0705,  -8.4622,  18.3811, -12.0606,  -8.4262,   9.4578,\n",
            "          0.1652], requires_grad=True)\n",
            "bn1_p_weight_log_sigma Parameter containing:\n",
            "tensor([ 1.2421e+00, -8.3957e-01, -1.3188e+01, -1.0244e+03, -1.8674e+01,\n",
            "         2.7150e-01, -1.9915e+00, -1.2330e-01], requires_grad=True)\n",
            "bn1_p_bias_mu Parameter containing:\n",
            "tensor([  1.4638,  -2.5865,  -6.8928,   6.0342, -12.1243,   4.2868,   2.6819,\n",
            "          0.0609], requires_grad=True)\n",
            "bn1_p_bias_log_sigma Parameter containing:\n",
            "tensor([ 0.7341,  0.1001,  1.1691, -2.1648, -0.0105, -1.6456, -1.2178,  2.0564],\n",
            "       requires_grad=True)\n",
            "linear2_p_weight_mu Parameter containing:\n",
            "tensor([[ -0.1580,  -0.2542,  -0.4316,   0.5289,   0.1808,  -0.2276,   0.1298,\n",
            "          -0.0229],\n",
            "        [  0.2768,  -0.1093,  -0.4419,  -9.4194,   0.2033,  -1.4077,   0.5301,\n",
            "           0.0868],\n",
            "        [  0.2001,  -8.4504,   0.0519,   9.4691,  -2.3197,  -0.0482,   8.8645,\n",
            "           0.3147],\n",
            "        [  0.0276,  -0.5263,  -0.0782,   0.5934,   0.1852,   0.1124,  -0.5209,\n",
            "           0.0165],\n",
            "        [ -0.8993,  11.3394,   0.7815, -12.4437,  -9.2700,  -0.0470, -10.5021,\n",
            "          -0.1339],\n",
            "        [ -0.3768,   0.8078,   0.2967,  -1.4968,  -0.8198,  -0.7757,  -0.0945,\n",
            "          -0.1864],\n",
            "        [ -0.0226,  -0.1943,   0.2162,   0.2917,  -0.0898,   0.2525,   1.4507,\n",
            "           0.1494],\n",
            "        [  0.0756,   0.1028,  -0.6007,   0.1416,   0.0950,  -0.8903,  -0.5092,\n",
            "          -0.0381]], requires_grad=True)\n",
            "linear2_p_weight_log_sigma Parameter containing:\n",
            "tensor([[  1.9391,   1.7900,   1.4292,   0.5918,   2.1395,   1.4078,   2.7205,\n",
            "           1.9070],\n",
            "        [  2.1885,   1.9486,   1.9331,   1.2601,   0.9185,   1.9682,   2.1970,\n",
            "           1.9210],\n",
            "        [ -1.1153,   2.0140,  -1.0051, -11.1228,  -0.5801,  -2.1702,  -2.0800,\n",
            "           0.1927],\n",
            "        [  2.1619,   2.0131,   2.1793,   1.3657,   2.1166,   1.0537,   1.9300,\n",
            "           1.7463],\n",
            "        [  1.8167,  -1.2223,   1.9354,  -0.8439, -15.9203,   1.6905,  -8.0494,\n",
            "           1.9878],\n",
            "        [  1.6537,   2.1460,   1.9722,   2.3464,   1.6920,   1.7579,   0.9602,\n",
            "           1.8233],\n",
            "        [  2.1149,   1.9814,   1.8798,   1.4328,   2.3564,   1.4085,   1.3928,\n",
            "           1.9103],\n",
            "        [  2.2959,   1.8797,   2.1928,   3.3206,   1.3501,  -1.3826,   1.8770,\n",
            "           1.9648]], requires_grad=True)\n",
            "linear2_p_bias_mu Parameter containing:\n",
            "tensor([ 5.4506e-05, -3.5330e-04, -3.2342e-04,  1.3424e-03, -1.9861e-04,\n",
            "        -2.9447e-03, -9.3983e-04,  3.3653e-04], requires_grad=True)\n",
            "linear2_p_bias_log_sigma Parameter containing:\n",
            "tensor([1.9336, 1.9267, 1.9254, 1.9144, 1.9284, 1.9241, 1.9225, 1.9268],\n",
            "       requires_grad=True)\n",
            "bn2_p_weight_mu Parameter containing:\n",
            "tensor([ 0.4149, -1.1621, -5.2111,  0.1708, -0.4448, -0.2358,  0.1105,  1.2038],\n",
            "       requires_grad=True)\n",
            "bn2_p_weight_log_sigma Parameter containing:\n",
            "tensor([-0.7762, -0.1861, -2.7370, -0.1226,  0.6336, -0.3716, -0.1636,  1.4141],\n",
            "       requires_grad=True)\n",
            "bn2_p_bias_mu Parameter containing:\n",
            "tensor([-0.0976,  0.2072,  4.5604, -0.2060, -0.8542, -0.9549, -2.1230, -1.3904],\n",
            "       requires_grad=True)\n",
            "bn2_p_bias_log_sigma Parameter containing:\n",
            "tensor([ 1.8941,  2.0107, -1.3885,  1.6267,  2.3764,  1.7834,  0.5013,  0.3671],\n",
            "       requires_grad=True)\n",
            "linear3_p_weight_mu Parameter containing:\n",
            "tensor([[ 2.0983e-01, -9.7548e-02, -5.4570e-02, -4.7068e-02, -1.4505e-01,\n",
            "         -1.3700e-02, -2.3864e-02,  2.9992e-02],\n",
            "        [-4.2883e-01,  3.7559e-02,  1.4215e+00, -5.3444e-01, -9.2157e-02,\n",
            "          4.6168e-02,  4.4219e-03, -1.0936e-01],\n",
            "        [ 4.7067e-02, -3.8388e-01,  7.0191e+00,  2.4718e-01,  9.0310e-02,\n",
            "          3.4040e-01,  6.2504e-01, -1.3042e-01],\n",
            "        [ 1.5096e+00,  1.9083e-01, -3.5486e+00,  2.8617e-01, -5.1978e-01,\n",
            "          2.3785e+00, -5.2066e-01, -2.5403e-01],\n",
            "        [-1.9199e-01,  1.4563e+00,  2.0705e-01,  2.3735e-01, -5.1851e-01,\n",
            "          1.7031e-01, -2.4285e-01, -1.1008e+00],\n",
            "        [ 3.6811e-01,  2.0851e-01, -2.5230e-01,  3.7413e-01,  4.4813e-02,\n",
            "          5.0611e-01,  1.3604e-01, -1.3628e-01],\n",
            "        [-1.2334e-01,  3.4336e-03,  4.5111e-03, -7.0542e-02,  8.1949e-01,\n",
            "          4.1458e-02, -2.8895e-02, -2.8673e-01],\n",
            "        [ 5.1408e-01,  1.2059e+00,  4.5316e+00,  1.6177e-01,  4.1801e-02,\n",
            "         -1.6657e-01,  7.6973e-01,  5.3268e-03]], requires_grad=True)\n",
            "linear3_p_weight_log_sigma Parameter containing:\n",
            "tensor([[ 1.8119,  1.9358,  1.8827,  1.9926,  2.1485,  1.9263,  1.8706,  1.8907],\n",
            "        [ 1.5521,  2.2422,  1.2359,  1.6824,  1.8204,  1.8360,  1.8787,  2.2815],\n",
            "        [-0.3844, -0.5565, -0.4035, -0.4095, -0.0687,  0.2911, -0.2000, -1.4558],\n",
            "        [ 2.1898,  1.8395,  2.3569,  2.0795,  1.4004,  0.0749,  1.5310,  1.5449],\n",
            "        [ 1.2139,  1.5997,  0.8106,  1.7533,  2.6900,  2.0817,  2.2381,  2.6509],\n",
            "        [ 1.7753,  1.9340,  2.3127,  1.7450,  2.0050,  1.6058,  1.9234,  1.7825],\n",
            "        [ 2.2040,  1.8870,  1.6686,  1.8545,  2.1754,  1.6640,  1.9131,  1.7707],\n",
            "        [ 1.5489,  1.4198,  1.3524,  1.5564,  1.8852,  1.6138,  1.6768,  1.9359]],\n",
            "       requires_grad=True)\n",
            "linear3_p_bias_mu Parameter containing:\n",
            "tensor([ 0.0007,  0.0022, -0.0016,  0.0011, -0.0005,  0.0007, -0.0015,  0.0006],\n",
            "       requires_grad=True)\n",
            "linear3_p_bias_log_sigma Parameter containing:\n",
            "tensor([1.9273, 1.9184, 1.9271, 1.9172, 1.9306, 1.9110, 1.9234, 1.9379],\n",
            "       requires_grad=True)\n",
            "bn3_p_weight_mu Parameter containing:\n",
            "tensor([ 0.0452, -0.2422,  4.9779,  0.2831, -2.6341,  0.1721, -0.3008, -0.3105],\n",
            "       requires_grad=True)\n",
            "bn3_p_weight_log_sigma Parameter containing:\n",
            "tensor([-0.7055, -0.6690, -3.3995, -0.1169, -2.3979, -1.0853, -0.6238, -1.2570],\n",
            "       requires_grad=True)\n",
            "bn3_p_bias_mu Parameter containing:\n",
            "tensor([ -3.9351,  -3.0554,  -1.8926,  -4.1798,  -3.1581,  -3.5291, -14.7534,\n",
            "         -2.6715], requires_grad=True)\n",
            "bn3_p_bias_log_sigma Parameter containing:\n",
            "tensor([-11.8307,  -0.8766,  -3.0541,  -3.0960,  -1.0727,  -0.4013, -90.9952,\n",
            "         -0.6701], requires_grad=True)\n",
            "linear4_p_weight_mu Parameter containing:\n",
            "tensor([[ -8.2480,  -0.3579,  -1.2832,  -1.9092,  -1.1432,   1.0572, -20.0454,\n",
            "           1.0579]], requires_grad=True)\n",
            "linear4_p_weight_log_sigma Parameter containing:\n",
            "tensor([[-14.5099,  -0.3355,  -4.1851,  -2.6925,  -2.6800,   0.0912,  -1.0393,\n",
            "          -1.4301]], requires_grad=True)\n",
            "linear4_p_bias_mu Parameter containing:\n",
            "tensor([2.6709], requires_grad=True)\n",
            "linear4_p_bias_log_sigma Parameter containing:\n",
            "tensor([-3.3305], requires_grad=True)\n"
          ],
          "name": "stdout"
        }
      ]
    },
    {
      "cell_type": "markdown",
      "metadata": {
        "id": "d9mOfcn24Kdg",
        "colab_type": "text"
      },
      "source": [
        "## prediction\n",
        "\n",
        "Calculate prediction distribution\n",
        "$$\n",
        "\\begin{align}\n",
        "p(y_*| x_*, X, Y) &= \\int p(y_*| x_*, W) p(W| X, Y) dW \\\\\n",
        "&\\approx \\int p(y_*| x_*, W) q(W; \\eta) dW \n",
        "\\end{align}\n",
        "$$"
      ]
    },
    {
      "cell_type": "code",
      "metadata": {
        "id": "skswvUkj4Kdg",
        "colab_type": "code",
        "colab": {}
      },
      "source": [
        "def predict(q_w, model, x, n_samples):    \n",
        "    \n",
        "    approx_y = 0  \n",
        "    model.eval()  \n",
        "    with torch.no_grad():\n",
        "        for i in range(n_samples):\n",
        "            # sampling from q(w)\n",
        "            w_sample = q_w.sample()\n",
        "            model.set_params(w_sample)\n",
        "            # calculate f(x)\n",
        "            out1, out2 = model(x)\n",
        "\n",
        "            # p(y|x,w) = N(f(x; w), 1)\n",
        "            p_y_xw = torchdist.Normal(out1, torch.ones_like(out1) / 2)\n",
        "            # p_y_xw = torchdist.Normal(out1, out2)\n",
        "\n",
        "            # sampling from p(y, w)\n",
        "            y_sample = p_y_xw.sample()\n",
        "\n",
        "            approx_y += y_sample / n_samples\n",
        "    \n",
        "    return approx_y"
      ],
      "execution_count": 0,
      "outputs": []
    },
    {
      "cell_type": "code",
      "metadata": {
        "id": "O-T_EbsM4Kdj",
        "colab_type": "code",
        "colab": {}
      },
      "source": [
        "def predict_data(q_w, model):\n",
        "    n_samples = 10\n",
        "    x_pred = 5 * torch.rand(100, 1)\n",
        "    x_pred = torch.tensor(scaler.transform(x_pred), dtype=torch.float32)\n",
        "    y_pred = predict(q_w, model, x_pred, n_samples)\n",
        "    \n",
        "    return x_pred, y_pred\n"
      ],
      "execution_count": 0,
      "outputs": []
    },
    {
      "cell_type": "code",
      "metadata": {
        "id": "tF8MgxlM4Kdl",
        "colab_type": "code",
        "outputId": "b8149b4c-7ef5-4be3-f68b-7ae5d60e98b6",
        "colab": {
          "base_uri": "https://localhost:8080/",
          "height": 354
        }
      },
      "source": [
        "x_pred, y_pred = predict_data(q_w, model)\n",
        "y_pred_train = predict(q_w, model, x_train_norm, 10)\n",
        "\n",
        "fig, axes = plt.subplots(1, 3, figsize=(15, 5))\n",
        "print(len(axes))\n",
        "axes[0].plot(x_train_norm.numpy(), y_train.numpy(), 'o')\n",
        "axes[1].plot(x_train_norm.numpy(), y_pred_train.numpy(), 'o')\n",
        "axes[2].plot(x_pred.numpy(), y_pred.numpy(), 'o')"
      ],
      "execution_count": 34,
      "outputs": [
        {
          "output_type": "stream",
          "text": [
            "3\n"
          ],
          "name": "stdout"
        },
        {
          "output_type": "execute_result",
          "data": {
            "text/plain": [
              "[<matplotlib.lines.Line2D at 0x7f33fbdd2198>]"
            ]
          },
          "metadata": {
            "tags": []
          },
          "execution_count": 34
        },
        {
          "output_type": "display_data",
          "data": {
            "image/png": "[encoded data removed]",
            "text/plain": [
              "<Figure size 1080x360 with 3 Axes>"
            ]
          },
          "metadata": {
            "tags": [],
            "needs_background": "light"
          }
        }
      ]
    },
    {
      "cell_type": "code",
      "metadata": {
        "id": "04oj1yPC4Kdp",
        "colab_type": "code",
        "colab": {}
      },
      "source": [
        ""
      ],
      "execution_count": 0,
      "outputs": []
    },
    {
      "cell_type": "code",
      "metadata": {
        "id": "pPwyJ8S-4Kd0",
        "colab_type": "code",
        "colab": {}
      },
      "source": [
        ""
      ],
      "execution_count": 0,
      "outputs": []
    }
  ]
}