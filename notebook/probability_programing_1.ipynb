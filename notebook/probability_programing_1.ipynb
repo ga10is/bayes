{
 "cells": [
  {
   "cell_type": "code",
   "execution_count": 1,
   "metadata": {},
   "outputs": [],
   "source": [
    "import numpy as np\n",
    "import matplotlib.pyplot as plt\n",
    "import torch\n",
    "import torch.distributions as torchdist\n",
    "import torch.nn as nn"
   ]
  },
  {
   "cell_type": "code",
   "execution_count": 2,
   "metadata": {},
   "outputs": [],
   "source": [
    "normal_dist = torchdist.Normal(loc=torch.tensor(0.), scale=torch.tensor(1.))"
   ]
  },
  {
   "cell_type": "code",
   "execution_count": 3,
   "metadata": {},
   "outputs": [],
   "source": [
    "x = normal_dist.sample()"
   ]
  },
  {
   "cell_type": "code",
   "execution_count": 4,
   "metadata": {},
   "outputs": [
    {
     "data": {
      "text/plain": [
       "tensor(0.4063)"
      ]
     },
     "execution_count": 4,
     "metadata": {},
     "output_type": "execute_result"
    }
   ],
   "source": [
    "x"
   ]
  },
  {
   "cell_type": "code",
   "execution_count": 5,
   "metadata": {},
   "outputs": [],
   "source": [
    "x = normal_dist.sample([100])"
   ]
  },
  {
   "cell_type": "code",
   "execution_count": 6,
   "metadata": {},
   "outputs": [
    {
     "data": {
      "text/plain": [
       "tensor([ 1.6774,  0.1234, -0.9912,  0.8905, -0.0122, -0.2393,  0.0310, -0.8617,\n",
       "        -0.0675,  0.2600,  2.5545, -0.9863, -1.3105,  1.5854, -1.5111,  0.1622,\n",
       "         0.8510,  0.5085, -1.5999,  0.1563,  1.6149,  2.2838,  0.2451, -0.6598,\n",
       "         0.7310,  0.4014,  0.6186, -0.6048, -0.5232, -3.1592,  0.1353,  1.3936,\n",
       "        -1.4316,  0.6467, -0.8830,  0.8399, -0.1304, -1.9118,  2.2981, -1.2245,\n",
       "         0.0082, -0.1333,  0.2701,  1.1446, -1.9061, -0.2110, -0.7822, -0.8235,\n",
       "         0.1951, -1.3258,  0.1363, -0.9456, -0.3342, -1.4718, -0.8263, -0.6666,\n",
       "         0.0183,  1.5397,  1.9987,  0.1263, -0.2642,  0.8645, -0.2346, -0.3788,\n",
       "         1.1588,  1.0861, -0.7055,  0.3127,  0.2434,  0.9194, -1.1752, -0.3657,\n",
       "        -0.1713, -0.3522, -0.8703, -0.6205, -0.9794,  1.6203,  1.5940,  0.7790,\n",
       "         0.9093,  0.2838, -1.5926, -0.9124, -0.9167,  0.1538,  0.9462, -0.7947,\n",
       "        -0.7261,  0.9435,  1.8771, -0.7844, -0.5561, -1.6134,  0.3184, -1.4624,\n",
       "        -0.0561,  0.7969,  0.1454,  0.9457])"
      ]
     },
     "execution_count": 6,
     "metadata": {},
     "output_type": "execute_result"
    }
   ],
   "source": [
    "x"
   ]
  },
  {
   "cell_type": "code",
   "execution_count": 7,
   "metadata": {},
   "outputs": [
    {
     "data": {
      "text/plain": [
       "(array([ 1.,  0.,  8., 12., 19., 25., 12., 12.,  7.,  4.]),\n",
       " array([-3.1592069 , -2.587833  , -2.0164587 , -1.4450848 , -0.87371075,\n",
       "        -0.3023367 ,  0.26903734,  0.84041137,  1.4117854 ,  1.9831594 ,\n",
       "         2.5545335 ], dtype=float32),\n",
       " <a list of 10 Patch objects>)"
      ]
     },
     "execution_count": 7,
     "metadata": {},
     "output_type": "execute_result"
    },
    {
     "data": {
      "image/png": "[encoded data removed]",
      "text/plain": [
       "<Figure size 432x288 with 1 Axes>"
      ]
     },
     "metadata": {
      "needs_background": "light"
     },
     "output_type": "display_data"
    }
   ],
   "source": [
    "plt.hist(x.detach().numpy())"
   ]
  },
  {
   "cell_type": "code",
   "execution_count": 8,
   "metadata": {},
   "outputs": [],
   "source": [
    "def toy_poly():\n",
    "    x = 5 * torch.rand(100, 1)\n",
    "    linear_op = -3 - 4*x + x**2\n",
    "    y = torchdist.Normal(linear_op, 1).sample()\n",
    "    return x, y\n",
    "\n",
    "x_train, y_train = toy_poly()"
   ]
  },
  {
   "cell_type": "code",
   "execution_count": 9,
   "metadata": {},
   "outputs": [
    {
     "data": {
      "text/plain": [
       "[<matplotlib.lines.Line2D at 0x2c55ccaccf8>]"
      ]
     },
     "execution_count": 9,
     "metadata": {},
     "output_type": "execute_result"
    },
    {
     "data": {
      "image/png": "[encoded data removed]",
      "text/plain": [
       "<Figure size 432x288 with 1 Axes>"
      ]
     },
     "metadata": {
      "needs_background": "light"
     },
     "output_type": "display_data"
    }
   ],
   "source": [
    "plt.plot(x_train.numpy(), y_train.numpy(), 'o')"
   ]
  },
  {
   "cell_type": "markdown",
   "metadata": {},
   "source": [
    "## model"
   ]
  },
  {
   "cell_type": "code",
   "execution_count": 10,
   "metadata": {},
   "outputs": [],
   "source": [
    "class LinearNet(nn.Module):\n",
    "    def __init__(self):\n",
    "        super(LinearNet, self).__init__()\n",
    "        \n",
    "    def forward(self, w, x):\n",
    "        \"\"\"\n",
    "        w: shape of (3,)\n",
    "        x: shape of (batch,)\n",
    "        \"\"\"\n",
    "        #         phi_x = torch.tensor([])\n",
    "        y = w[0] + w[1]*x + w[2]*x**2\n",
    "        return y"
   ]
  },
  {
   "cell_type": "code",
   "execution_count": 11,
   "metadata": {},
   "outputs": [],
   "source": [
    "class VImodel(nn.Module):\n",
    "    \"\"\"\n",
    "    q(w; eta)\n",
    "    \"\"\"\n",
    "    def __init__(self):\n",
    "        super(VImodel, self).__init__()\n",
    "        self.eta_mu = nn.Parameter(torch.tensor([0., 0., 0.]))\n",
    "        self.eta_log_sigma = nn.Parameter(torch.tensor([0., 0., 0.]))\n",
    "    \n",
    "    def dist(self):\n",
    "        eta_sigma = torch.exp(self.eta_log_sigma)\n",
    "        q_w = torchdist.Normal(self.eta_mu, eta_sigma)\n",
    "        \n",
    "        return q_w\n",
    "    '''\n",
    "    def rsample(self):\n",
    "        eta_sigma = torch.exp(self.eta_log_sigma)\n",
    "        q_w = torchdist.Normal(self.eta_mu, eta_sigma)\n",
    "        \n",
    "        # shape of w: (3,)\n",
    "        w = q_w.rsample()\n",
    "        \n",
    "        return w\n",
    "    '''"
   ]
  },
  {
   "cell_type": "code",
   "execution_count": 12,
   "metadata": {},
   "outputs": [],
   "source": [
    "def kl_divergence(vmodel, model, x, y):\n",
    "    q_w = vmodel.dist()\n",
    "    w_sample = q_w.rsample()    \n",
    "    \n",
    "    output = model(w_sample, x)    \n",
    "    \n",
    "    # p(y|x,w) = N(f(x; w), 1)\n",
    "    p_y_xw = torchdist.Normal(output, torch.ones_like(output))\n",
    "    # p(w) = N(0, 10)\n",
    "    p_w = torchdist.Normal(torch.tensor([0., 0., 0.]), torch.tensor([10., 10., 10.]))\n",
    "    \n",
    "    # log(p(w, x, y)) = log(p(w)) + 1/n * sigma(log(p(y|x,w)))\n",
    "    # val_log_joint_prob = p_w.log_prob(w_sample).sum() + p_y_xw.log_prob(y).mean()\n",
    "    val_log_joint_prob = p_w.log_prob(w_sample).sum() + p_y_xw.log_prob(y).sum()\n",
    "    \n",
    "    val_log_q_w = q_w.log_prob(w_sample).sum()\n",
    "    \n",
    "    return val_log_q_w - val_log_joint_prob"
   ]
  },
  {
   "cell_type": "code",
   "execution_count": 25,
   "metadata": {},
   "outputs": [],
   "source": [
    "vimodel = VImodel()\n",
    "model = LinearNet()\n",
    "optimizer = torch.optim.SGD(params=vimodel.parameters(), lr=1e-4)"
   ]
  },
  {
   "cell_type": "code",
   "execution_count": 26,
   "metadata": {},
   "outputs": [
    {
     "name": "stdout",
     "output_type": "stream",
     "text": [
      "loss: 7410.587402 mu: [-0.11472235 -0.3671161  -1.3746064 ] sigma: [0.88104063 1.4720646  0.2835545 ]\n",
      "loss: 227.094376 mu: [-3.4117908 -3.6606874  1.0593758] sigma: [0.33737305 0.08521175 0.0291636 ]\n",
      "loss: 214.765579 mu: [-3.4714441 -3.8375568  1.0088277] sigma: [0.23361993 0.06739791 0.01954787]\n",
      "loss: 206.256485 mu: [-3.4237854 -3.8548126  1.0481541] sigma: [0.19583374 0.05809425 0.01580062]\n",
      "loss: 189.038986 mu: [-3.3965683 -3.8799932  1.0411365] sigma: [0.17246889 0.05366513 0.01389741]\n",
      "loss: 268.155579 mu: [-3.3695724 -3.887896   1.0651734] sigma: [0.16302271 0.04982423 0.01279021]\n",
      "loss: 168.008713 mu: [-3.3643274 -3.9135516  1.045206 ] sigma: [0.15023619 0.04680781 0.01186986]\n",
      "loss: 180.547974 mu: [-3.3593822  -3.9449773   0.94493395] sigma: [0.1424612  0.04479468 0.01161086]\n",
      "loss: 181.986801 mu: [-3.3562214 -3.9334843  1.0584545] sigma: [0.13734509 0.04235882 0.0109703 ]\n",
      "loss: 177.640549 mu: [-3.3502862 -3.941318   1.0203962] sigma: [0.13217112 0.04005216 0.01063151]\n",
      "loss: 172.632019 mu: [-3.3512816  -3.9568532   0.97875506] sigma: [0.12796997 0.04009316 0.01041658]\n",
      "loss: 188.191147 mu: [-3.3426487 -3.9554842  0.9712771] sigma: [0.12401813 0.03835433 0.01013077]\n",
      "loss: 178.349548 mu: [-3.3373744 -3.9377856  1.0430415] sigma: [0.12080399 0.03722681 0.00995395]\n",
      "loss: 168.798477 mu: [-3.3382773  -3.9519792   0.99357426] sigma: [0.11812624 0.03666902 0.00973198]\n",
      "loss: 166.346085 mu: [-3.3383877 -3.9515207  1.0128996] sigma: [0.11487526 0.03584487 0.00941752]\n",
      "loss: 172.465485 mu: [-3.3316152 -3.9490414  1.0006021] sigma: [0.11497888 0.03576632 0.00929233]\n",
      "loss: 163.506363 mu: [-3.3363998 -3.956453   0.9904497] sigma: [0.11418044 0.03553433 0.00924106]\n",
      "loss: 191.672852 mu: [-3.3430188 -3.9645529  0.9752984] sigma: [0.11263017 0.03488695 0.00916016]\n",
      "loss: 164.767883 mu: [-3.3288174 -3.943467   1.015835 ] sigma: [0.11177237 0.0345476  0.0091054 ]\n",
      "loss: 181.078552 mu: [-3.3355799 -3.9453106  1.0482574] sigma: [0.10933279 0.03413361 0.00902662]\n",
      "loss: 160.564163 mu: [-3.33551   -3.9499307  1.018366 ] sigma: [0.10767578 0.03375605 0.00890995]\n"
     ]
    }
   ],
   "source": [
    "for i in range(10000):\n",
    "    optimizer.zero_grad()\n",
    "    loss = kl_divergence(vimodel, model, x_train, y_train)\n",
    "    loss.backward()\n",
    "    optimizer.step()\n",
    "    \n",
    "    if (i+1) % 500 == 0 or (i==0):\n",
    "        mu = vimodel.eta_mu.detach().numpy()\n",
    "        sigma = torch.exp(vimodel.eta_log_sigma.detach()).numpy()\n",
    "        print('loss: %f mu: %s sigma: %s' % (loss.detach().numpy(), str(mu), str(sigma)))"
   ]
  },
  {
   "cell_type": "code",
   "execution_count": 27,
   "metadata": {},
   "outputs": [
    {
     "data": {
      "text/plain": [
       "Parameter containing:\n",
       "tensor([-3.3355, -3.9499,  1.0184], requires_grad=True)"
      ]
     },
     "execution_count": 27,
     "metadata": {},
     "output_type": "execute_result"
    }
   ],
   "source": [
    "vimodel.eta_mu"
   ]
  },
  {
   "cell_type": "code",
   "execution_count": 24,
   "metadata": {},
   "outputs": [
    {
     "data": {
      "text/plain": [
       "tensor([0.1034, 0.0347, 0.0087], grad_fn=<ExpBackward>)"
      ]
     },
     "execution_count": 24,
     "metadata": {},
     "output_type": "execute_result"
    }
   ],
   "source": [
    "torch.exp(vimodel.eta_log_sigma)"
   ]
  },
  {
   "cell_type": "code",
   "execution_count": null,
   "metadata": {},
   "outputs": [],
   "source": []
  },
  {
   "cell_type": "code",
   "execution_count": null,
   "metadata": {},
   "outputs": [],
   "source": []
  },
  {
   "cell_type": "code",
   "execution_count": 17,
   "metadata": {},
   "outputs": [],
   "source": [
    "q = torchdist.Normal(torch.tensor([0., 10.]), torch.tensor([1., 1.]))\n",
    "w = q.sample()"
   ]
  },
  {
   "cell_type": "code",
   "execution_count": 18,
   "metadata": {},
   "outputs": [
    {
     "data": {
      "text/plain": [
       "torch.Size([2])"
      ]
     },
     "execution_count": 18,
     "metadata": {},
     "output_type": "execute_result"
    }
   ],
   "source": [
    "w.size()"
   ]
  },
  {
   "cell_type": "code",
   "execution_count": 19,
   "metadata": {},
   "outputs": [
    {
     "ename": "IndexError",
     "evalue": "too many indices for tensor of dimension 1",
     "output_type": "error",
     "traceback": [
      "\u001b[1;31m---------------------------------------------------------------------------\u001b[0m",
      "\u001b[1;31mIndexError\u001b[0m                                Traceback (most recent call last)",
      "\u001b[1;32m<ipython-input-19-7bd9a2a563bd>\u001b[0m in \u001b[0;36m<module>\u001b[1;34m\u001b[0m\n\u001b[1;32m----> 1\u001b[1;33m \u001b[0mplt\u001b[0m\u001b[1;33m.\u001b[0m\u001b[0mhist\u001b[0m\u001b[1;33m(\u001b[0m\u001b[0mw\u001b[0m\u001b[1;33m[\u001b[0m\u001b[1;33m:\u001b[0m\u001b[1;33m,\u001b[0m\u001b[1;36m1\u001b[0m\u001b[1;33m]\u001b[0m\u001b[1;33m.\u001b[0m\u001b[0mnumpy\u001b[0m\u001b[1;33m(\u001b[0m\u001b[1;33m)\u001b[0m\u001b[1;33m)\u001b[0m\u001b[1;33m\u001b[0m\u001b[0m\n\u001b[0m",
      "\u001b[1;31mIndexError\u001b[0m: too many indices for tensor of dimension 1"
     ]
    }
   ],
   "source": [
    "plt.hist(w[:,1].numpy())"
   ]
  },
  {
   "cell_type": "code",
   "execution_count": null,
   "metadata": {},
   "outputs": [],
   "source": [
    "def log_joint_prob(w0, w1, w2, x, y):\n",
    "    prior_w0 = torchdist.Normal(torch.tensor(0.), 10*torch.tensor(1.))\n",
    "    prior_w1 = torchdist.Normal(torch.tensor(0.), 10*torch.tensor(1.))\n",
    "    prior_w2 = torchdist.Normal(torch.tensor(0.), 10*torch.tensor(1.))\n",
    "    \n",
    "    linear = w0 + w1*x + w2*x**2\n",
    "    likelihood = torchdist.Normal(linear, torch.ones_like(linear))\n",
    "    \n",
    "    return (\n",
    "        prior_w0.log_prob(w0) +\n",
    "        prior_w1.log_prob(w1) +\n",
    "        prior_w2.log_prob(w2) +\n",
    "        likelihood.log_prob(y).mean()\n",
    "    )"
   ]
  },
  {
   "cell_type": "code",
   "execution_count": null,
   "metadata": {},
   "outputs": [],
   "source": [
    "w0 = torch.nn.Parameter(torch.tensor(1.))\n",
    "w1 = torch.nn.Parameter(torch.tensor(1.))\n",
    "w2 = torch.nn.Parameter(torch.tensor(1.))\n",
    "\n",
    "optimizer = torch.optim.Adam(params=[w0, w1, w2], lr=1e-3)\n",
    "\n",
    "for i in range(30000):\n",
    "    optimizer.zero_grad()\n",
    "    log_joint_prob_value = log_joint_prob(w0, w1, w2, x_train, y_train)\n",
    "    loss_value = - log_joint_prob_value\n",
    "    loss_value.backward()\n",
    "    optimizer.step()\n",
    "    \n",
    "    if (i+1) % 1000 == 0 or (i==0):\n",
    "        print(loss_value.detach().numpy())"
   ]
  },
  {
   "cell_type": "code",
   "execution_count": null,
   "metadata": {},
   "outputs": [],
   "source": [
    "print(w0)\n",
    "print(w1)\n",
    "print(w2)"
   ]
  },
  {
   "cell_type": "code",
   "execution_count": null,
   "metadata": {},
   "outputs": [],
   "source": []
  }
 ],
 "metadata": {
  "kernelspec": {
   "display_name": "py36",
   "language": "python",
   "name": "py36"
  },
  "language_info": {
   "codemirror_mode": {
    "name": "ipython",
    "version": 3
   },
   "file_extension": ".py",
   "mimetype": "text/x-python",
   "name": "python",
   "nbconvert_exporter": "python",
   "pygments_lexer": "ipython3",
   "version": "3.6.4"
  },
  "toc": {
   "base_numbering": 1,
   "nav_menu": {},
   "number_sections": true,
   "sideBar": true,
   "skip_h1_title": false,
   "title_cell": "Table of Contents",
   "title_sidebar": "Contents",
   "toc_cell": false,
   "toc_position": {},
   "toc_section_display": true,
   "toc_window_display": false
  }
 },
 "nbformat": 4,
 "nbformat_minor": 2
}
