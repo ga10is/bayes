{
  "nbformat": 4,
  "nbformat_minor": 0,
  "metadata": {
    "kernelspec": {
      "display_name": "py36",
      "language": "python",
      "name": "py36"
    },
    "language_info": {
      "codemirror_mode": {
        "name": "ipython",
        "version": 3
      },
      "file_extension": ".py",
      "mimetype": "text/x-python",
      "name": "python",
      "nbconvert_exporter": "python",
      "pygments_lexer": "ipython3",
      "version": "3.6.4"
    },
    "toc": {
      "base_numbering": 1,
      "nav_menu": {},
      "number_sections": true,
      "sideBar": true,
      "skip_h1_title": false,
      "title_cell": "Table of Contents",
      "title_sidebar": "Contents",
      "toc_cell": false,
      "toc_position": {},
      "toc_section_display": true,
      "toc_window_display": false
    },
    "colab": {
      "name": "probability_programing_1.ipynb",
      "provenance": [],
      "collapsed_sections": []
    }
  },
  "cells": [
    {
      "cell_type": "code",
      "metadata": {
        "id": "-FHS5gW_4KcW",
        "colab_type": "code",
        "colab": {}
      },
      "source": [
        "from functools import reduce\n",
        "import numpy as np\n",
        "import matplotlib.pyplot as plt\n",
        "import torch\n",
        "import torch.distributions as torchdist\n",
        "import torch.nn as nn\n",
        "import torch.nn.functional as F\n",
        "import itertools\n",
        "from collections import OrderedDict\n",
        "from sklearn.preprocessing import StandardScaler"
      ],
      "execution_count": 0,
      "outputs": []
    },
    {
      "cell_type": "code",
      "metadata": {
        "id": "A8XQBW0912Lr",
        "colab_type": "code",
        "colab": {}
      },
      "source": [
        ""
      ],
      "execution_count": 0,
      "outputs": []
    },
    {
      "cell_type": "code",
      "metadata": {
        "id": "5j1cEvK_116n",
        "colab_type": "code",
        "outputId": "b0df7a92-7844-453a-c726-0f0da9b966ad",
        "colab": {
          "base_uri": "https://localhost:8080/",
          "height": 51
        }
      },
      "source": [
        "x = torch.tensor([1., 2., 3.], requires_grad=True)\n",
        "y = - 2*x + 2\n",
        "loss = y.mean()\n",
        "\n",
        "\n",
        "loss.backward()\n",
        "print(loss)\n",
        "print(x.grad)"
      ],
      "execution_count": 2,
      "outputs": [
        {
          "output_type": "stream",
          "text": [
            "tensor(-2., grad_fn=<MeanBackward0>)\n",
            "tensor([-0.6667, -0.6667, -0.6667])\n"
          ],
          "name": "stdout"
        }
      ]
    },
    {
      "cell_type": "code",
      "metadata": {
        "id": "T36Hg7RW11h_",
        "colab_type": "code",
        "colab": {}
      },
      "source": [
        ""
      ],
      "execution_count": 0,
      "outputs": []
    },
    {
      "cell_type": "code",
      "metadata": {
        "id": "HHXusc_94Kce",
        "colab_type": "code",
        "colab": {}
      },
      "source": [
        "normal_dist = torchdist.Normal(loc=torch.tensor(0.), scale=torch.tensor(1.))"
      ],
      "execution_count": 0,
      "outputs": []
    },
    {
      "cell_type": "code",
      "metadata": {
        "id": "arqd0dwN4Kcj",
        "colab_type": "code",
        "colab": {}
      },
      "source": [
        "x = normal_dist.sample()"
      ],
      "execution_count": 0,
      "outputs": []
    },
    {
      "cell_type": "code",
      "metadata": {
        "id": "bRUN8aC74Kcn",
        "colab_type": "code",
        "outputId": "5ea49b96-f99f-44c1-82e3-475307f2753c",
        "colab": {
          "base_uri": "https://localhost:8080/",
          "height": 34
        }
      },
      "source": [
        "x"
      ],
      "execution_count": 5,
      "outputs": [
        {
          "output_type": "execute_result",
          "data": {
            "text/plain": [
              "tensor(-1.1633)"
            ]
          },
          "metadata": {
            "tags": []
          },
          "execution_count": 5
        }
      ]
    },
    {
      "cell_type": "code",
      "metadata": {
        "id": "EHfTqG-_4Kcu",
        "colab_type": "code",
        "colab": {}
      },
      "source": [
        "x = normal_dist.sample([100])"
      ],
      "execution_count": 0,
      "outputs": []
    },
    {
      "cell_type": "code",
      "metadata": {
        "id": "RUcBotC74Kcw",
        "colab_type": "code",
        "outputId": "5f259b96-c07d-4cb5-e4a6-b6d9a1da3174",
        "colab": {
          "base_uri": "https://localhost:8080/",
          "height": 238
        }
      },
      "source": [
        "x"
      ],
      "execution_count": 7,
      "outputs": [
        {
          "output_type": "execute_result",
          "data": {
            "text/plain": [
              "tensor([ 0.7176,  0.7875, -1.0450, -1.0880,  0.6338,  0.0638, -0.1421, -1.5516,\n",
              "        -0.4203, -0.4884,  1.2134, -0.2616,  1.0978, -0.1536,  0.2361, -1.7389,\n",
              "         0.0677,  0.2455,  1.3653, -0.3311, -1.1249, -0.4979, -0.3671, -1.1101,\n",
              "        -0.6793, -1.5149,  0.8415,  0.8318, -1.1590,  0.2680, -0.8280, -0.4499,\n",
              "        -0.0746, -1.3415, -0.7082,  0.1255,  0.5114,  1.5247,  0.5709, -0.1615,\n",
              "        -1.2992, -2.1411, -2.1242, -0.1964,  0.0306,  0.5368,  1.0270,  0.6433,\n",
              "        -2.1179, -0.1193, -1.7845, -0.2055,  0.0825,  0.1521,  0.1837, -1.3152,\n",
              "         1.8508,  0.1427, -0.0293,  0.3428, -0.3671,  0.4262,  0.6435, -0.7293,\n",
              "         0.4646, -0.3417, -0.1088, -0.4001,  1.0656, -0.6416,  0.2840,  0.0987,\n",
              "        -0.0935,  1.1079,  0.6413,  0.7379, -0.8857,  1.1964, -0.2614,  0.1920,\n",
              "         0.8002, -1.0080, -1.7792, -1.5931, -0.2673, -1.0484,  0.7604, -0.0179,\n",
              "        -0.9082,  0.9920,  2.0099, -0.2575, -0.6555,  0.8035, -1.1301,  0.3129,\n",
              "        -1.2775, -0.3695, -1.0376, -0.7927])"
            ]
          },
          "metadata": {
            "tags": []
          },
          "execution_count": 7
        }
      ]
    },
    {
      "cell_type": "code",
      "metadata": {
        "id": "7vqfszqY4Kc0",
        "colab_type": "code",
        "outputId": "8d0d0400-367e-424f-d6c5-688aa7ec6250",
        "colab": {
          "base_uri": "https://localhost:8080/",
          "height": 350
        }
      },
      "source": [
        "plt.hist(x.detach().numpy())"
      ],
      "execution_count": 8,
      "outputs": [
        {
          "output_type": "execute_result",
          "data": {
            "text/plain": [
              "(array([ 6.,  5., 12., 10., 21., 18., 12., 10.,  4.,  2.]),\n",
              " array([-2.141126  , -1.72602   , -1.310914  , -0.8958081 , -0.48070216,\n",
              "        -0.06559622,  0.34950972,  0.76461565,  1.1797216 ,  1.5948275 ,\n",
              "         2.0099335 ], dtype=float32),\n",
              " <a list of 10 Patch objects>)"
            ]
          },
          "metadata": {
            "tags": []
          },
          "execution_count": 8
        },
        {
          "output_type": "display_data",
          "data": {
            "image/png": "[encoded data removed]",
            "text/plain": [
              "<Figure size 432x288 with 1 Axes>"
            ]
          },
          "metadata": {
            "tags": [],
            "needs_background": "light"
          }
        }
      ]
    },
    {
      "cell_type": "code",
      "metadata": {
        "id": "8T29uQgj4Kc3",
        "colab_type": "code",
        "colab": {}
      },
      "source": [
        "def toy_poly():\n",
        "    x = 5 * torch.rand(100, 1)\n",
        "    # linear_op = -3 - 4*x + x**2\n",
        "    # linear_op = -3 - 4*x + 2*x**2 - x*x*x / 5\n",
        "    linear_op = 4 * torch.sin(x*2)\n",
        "    y = torchdist.Normal(linear_op, 0.5).sample()\n",
        "    return x, y\n",
        "\n",
        "x_train, y_train = toy_poly()"
      ],
      "execution_count": 0,
      "outputs": []
    },
    {
      "cell_type": "code",
      "metadata": {
        "id": "-uBU48pX4Kc9",
        "colab_type": "code",
        "outputId": "53c9a181-c5b9-43eb-add5-8f12d129b0d0",
        "colab": {
          "base_uri": "https://localhost:8080/",
          "height": 282
        }
      },
      "source": [
        "plt.plot(x_train.numpy(), y_train.numpy(), 'o')"
      ],
      "execution_count": 10,
      "outputs": [
        {
          "output_type": "execute_result",
          "data": {
            "text/plain": [
              "[<matplotlib.lines.Line2D at 0x7f0f11450b38>]"
            ]
          },
          "metadata": {
            "tags": []
          },
          "execution_count": 10
        },
        {
          "output_type": "display_data",
          "data": {
            "image/png": "[encoded data removed]",
            "text/plain": [
              "<Figure size 432x288 with 1 Axes>"
            ]
          },
          "metadata": {
            "tags": [],
            "needs_background": "light"
          }
        }
      ]
    },
    {
      "cell_type": "markdown",
      "metadata": {
        "id": "SacrOGtmAxEt",
        "colab_type": "text"
      },
      "source": [
        "### Normalizing Flows"
      ]
    },
    {
      "cell_type": "markdown",
      "metadata": {
        "id": "WVSqMJx8RkyY",
        "colab_type": "text"
      },
      "source": [
        "Calculate prediction distribution\n",
        "\n",
        "\\begin{align}\n",
        "q(z') = q(z) \\left| \\mathrm{det} \\frac{\\partial f}{\\partial z'} \\right| = q(z) \\left| \\mathrm{det} \\frac{\\partial f}{\\partial z} \\right|^{-1}\n",
        "\\end{align}\n",
        "\n",
        "\\begin{align}\n",
        "\\ln q_K(z_K) = \\ln q_0(z_0) - \\sum_{k=1}^{K} \\ln \\left| \\mathrm{det} \\frac{\\partial f_k}{\\partial z_k} \\right|\n",
        "\\end{align}\n",
        "\n",
        "planar flow\n",
        "\\begin{align}\n",
        "f(z) = z + uh(w^\\top z + b)\n",
        "\\end{align}\n",
        "\\begin{align}\n",
        "\\mathrm{det} \\left| \\frac{\\partial f}{\\partial z} \\right| = |\\mathrm{det}(I + u\\psi(z)^\\top)| = |1 + u^\\top \\psi(z)|\n",
        "\\end{align}\n",
        "\\begin{align}\n",
        "\\psi(z) = h'(w^\\top z + b)w\n",
        "\\end{align}"
      ]
    },
    {
      "cell_type": "code",
      "metadata": {
        "id": "kHSGmEYg94QU",
        "colab_type": "code",
        "colab": {}
      },
      "source": [
        "class CustomNormal(torch.distributions.Normal):\n",
        "    def __init__(self, loc, scale, validate_args=None, eps=1e-6):\n",
        "        super(CustomNormal, self).__init__(loc, scale, validate_args)\n",
        "        self.eps = eps\n",
        "\n",
        "    def __getattribute__(self, name):        \n",
        "        if name == 'scale':            \n",
        "            # return torch.exp(object.__getattribute__(self, name)).clamp(min=self.eps)\n",
        "            return torch.exp(object.__getattribute__(self, name)) + self.eps\n",
        "        else:            \n",
        "            return object.__getattribute__(self, name)\n"
      ],
      "execution_count": 0,
      "outputs": []
    },
    {
      "cell_type": "code",
      "metadata": {
        "id": "VAKYYp1sIT2d",
        "colab_type": "code",
        "colab": {}
      },
      "source": [
        "class CustomMultivariateNormal(torch.distributions.MultivariateNormal):\n",
        "    def __init__(self, loc, covariance_matrix=None, precision_matrix=None, scale_tril=None, validate_args=None):\n",
        "        super(CustomMultivariateNormal, self).__init__(\n",
        "            loc, covariance_matrix, precision_matrix, scale_tril, validate_args)\n",
        "        self.eps = torch.eye(loc.size(0)) * 1e-4\n",
        "\n",
        "    def __getattribute__(self, name):        \n",
        "        if name == '_unbroadcasted_scale_tril':            \n",
        "            # return F.relu(object.__getattribute__(self, name)) + 1e-4\n",
        "            # return F.relu(object.__getattribute__(self, name)).clamp(min=1e-8)\n",
        "            return F.relu(object.__getattribute__(self, name)) + self.eps\n",
        "            # return torch.exp(object.__getattribute__(self, name))\n",
        "        else:            \n",
        "            return object.__getattribute__(self, name)"
      ],
      "execution_count": 0,
      "outputs": []
    },
    {
      "cell_type": "code",
      "metadata": {
        "id": "xx1QdHSv9t1A",
        "colab_type": "code",
        "colab": {}
      },
      "source": [
        "class PlanarFlow(nn.Module):\n",
        "    def __init__(self, n, u_normalize=False):\n",
        "        super().__init__()\n",
        "        self.u = nn.Parameter(torch.randn(1, n).normal_(0, 0.01))\n",
        "        self.w = nn.Parameter(torch.randn(1, n).normal_(0, 0.01))\n",
        "        self.b = nn.Parameter(torch.zeros(1))\n",
        "\n",
        "        torch.nn.init.kaiming_normal_(self.u)\n",
        "        torch.nn.init.kaiming_normal_(self.w)\n",
        "\n",
        "        self.u_normalize = u_normalize\n",
        "\n",
        "    def forward(self, z):\n",
        "        u_hat = self.norm_u() if self.u_normalize else self.u        \n",
        "\n",
        "        f_z = z + u_hat * torch.tanh(z @ self.w.t() + self.b)\n",
        "        f_z = f_z.squeeze()\n",
        "        return f_z\n",
        "\n",
        "    def log_det(self, z):\n",
        "        u_hat = self.norm_u() if self.u_normalize else self.u        \n",
        "\n",
        "        psi = (1 - torch.tanh(z @ self.w.t() + self.b)**2) * self.w\n",
        "        det = 1 + u_hat @ psi.t()\n",
        "        log_abs_det_jacobians = torch.log(torch.abs(det) + 1e-6).squeeze()\n",
        "\n",
        "        return log_abs_det_jacobians\n",
        "\n",
        "    def norm_u(self):\n",
        "        wtu = (self.w @ self.u.t()).squeeze()\n",
        "        m_wtu = - 1 + torch.log1p(wtu.exp())\n",
        "        u_hat = self.u + (m_wtu - wtu) * self.w / (self.w @ self.w.t())\n",
        "\n",
        "        return u_hat\n",
        "\n",
        "class FlowDistribution(nn.Module):\n",
        "    def __init__(self, loc, scale):\n",
        "        super().__init__()\n",
        "\n",
        "        self.normal = CustomNormal(loc=loc, scale=scale)\n",
        "        n_dims = loc.size(0)\n",
        "        self.flows = nn.ModuleList([PlanarFlow(n_dims, u_normalize=False) for _ in range(32)])        \n",
        "\n",
        "    def sample(self):\n",
        "        with torch.no_grad():        \n",
        "            zs = self.rsample()\n",
        "        return zs\n",
        "\n",
        "    def rsample(self):\n",
        "        zs = []\n",
        "        z = self.normal.rsample()\n",
        "\n",
        "        zs.append(z)\n",
        "        for flow in self.flows:\n",
        "            z = flow(z)\n",
        "            zs.append(z)\n",
        "\n",
        "        return zs\n",
        "\n",
        "    def log_prob(self, zs):\n",
        "        # zs\n",
        "        z_0 = zs[0]\n",
        "        z_ks = zs[1:]\n",
        "\n",
        "        if len(self.flows) != len(z_ks):\n",
        "            raise ValueError\n",
        "\n",
        "        sum_log_det = 0\n",
        "        for flow, z in zip(self.flows, z_ks):\n",
        "            sum_log_det += flow.log_det(z)\n",
        "\n",
        "        return self.normal.log_prob(z_0).sum() - sum_log_det\n",
        "\n",
        "def transform_param(w, loc_dict):\n",
        "    param_dict = OrderedDict()\n",
        "    for n, loc_info in loc_dict.items():\n",
        "        loc = loc_info['loc']\n",
        "        size = loc_info['size']\n",
        "        sample = w[slice(*loc)]\n",
        "        param_dict[n] = sample.view(*size)\n",
        "\n",
        "    return param_dict\n",
        "\n",
        "\n",
        "class VIModel2(nn.Module):\n",
        "    def __init__(self, model):\n",
        "        super(VIModel2, self).__init__()\n",
        "        self.loc_dict, n_dim = self.extract_param(model)\n",
        "        \n",
        "        self.mu = nn.Parameter(torch.zeros(n_dim))        \n",
        "        self.log_sigma = nn.Parameter(torch.zeros(n_dim))\n",
        "        \n",
        "        self.dist = FlowDistribution(loc=self.mu, scale=self.log_sigma)\n",
        "\n",
        "    def extract_param(self, model):\n",
        "        start = 0\n",
        "        loc_dict = OrderedDict()\n",
        "        for n, p in model.named_parameters():\n",
        "            num = reduce(lambda x, y: x*y, p.size())\n",
        "            end = start + num\n",
        "            loc_info = {\n",
        "                'size': p.size(),\n",
        "                'loc': (start, end)\n",
        "            }\n",
        "            start = end\n",
        "            \n",
        "            loc_dict[n] = loc_info\n",
        "        \n",
        "        n_dim = start\n",
        "        print(loc_dict)\n",
        "        print(n_dim)\n",
        "        return loc_dict, n_dim\n",
        "\n",
        "def normal_prior_distV2(model):\n",
        "    n_dim = 0\n",
        "    for n, p in model.named_parameters():\n",
        "        num = reduce(lambda x, y: x*y, p.size())\n",
        "        n_dim += num\n",
        "\n",
        "    mu = torch.zeros(n_dim)\n",
        "    # log_sigma = torch.zeros(n_dim)\n",
        "    # dist = CustomNormal(loc=mu, scale=log_sigma)\n",
        "    sigma = torch.ones(n_dim) * 10\n",
        "    dist = torchdist.Normal(loc=mu, scale=sigma)\n",
        "    # sigma = torch.eye(n_dim) * 10\n",
        "    # dist = torchdist.MultivariateNormal(loc=mu, scale_tril=sigma)\n",
        "    # dist = CustomMultivariateNormal(loc=mu, scale_tril=sigma)\n",
        "    return dist\n",
        "\n",
        "def kl_divergenceV2(q_w, p_w, loc_dict, model, x, y, idx):\n",
        "\n",
        "    # sampling from q(w)\n",
        "    zs = q_w.rsample()\n",
        "    # z_0 = zs[0]\n",
        "    w_sample = zs[-1]\n",
        "\n",
        "    param_dict = transform_param(w_sample, loc_dict)\n",
        "    model.set_params(param_dict)\n",
        "\n",
        "    # calculate f(x)\n",
        "    # p(y|x,w) = N(f(x; w), 1)\n",
        "    out1, out2 = model(x)\n",
        "    if out1.size(-1) != 1:\n",
        "        raise ValueError\n",
        "    \n",
        "    p_y_xw = torchdist.Normal(out1, torch.ones_like(out1) / 2)\n",
        "    # p_y_xw = torchdist.Normal(out1, out2)\n",
        "\n",
        "    temp = lambda i: min(1, 0.01 + i/10000)\n",
        "\n",
        "    # log(p(w, x, y)) = log(p(w)) + sum(log(p(y|x,w)))\n",
        "    val_log_p_w = p_w.log_prob(w_sample).sum()  \n",
        "    val_log_p_y_xw = p_y_xw.log_prob(y).sum()\n",
        "    val_log_q_w = q_w.log_prob(zs)\n",
        "    # val_log_q_w = -q_w.entropy()    \n",
        "\n",
        "    if (idx+1) % 100 == 0:\n",
        "        out_desc = out1.detach()\n",
        "        print('%d loss q(w) %f p(w) %f p(y|xw) %f min %f mean %f max %f' \n",
        "              % (idx, val_log_q_w.item(), val_log_p_w.item(), val_log_p_y_xw.item(), \n",
        "                 out_desc.min(), out_desc.mean(), out_desc.max()))\n",
        "    \n",
        "    # return val_log_q_w - temp(idx) * (val_log_p_w + val_log_p_y_xw)\n",
        "    return val_log_q_w -  (val_log_p_w + val_log_p_y_xw)\n",
        "    # return val_log_q_w - val_log_p_y_xw\n",
        "    # return - val_log_p_y_xw"
      ],
      "execution_count": 0,
      "outputs": []
    },
    {
      "cell_type": "markdown",
      "metadata": {
        "id": "H1o0zKSIvJGJ",
        "colab_type": "text"
      },
      "source": [
        "## module"
      ]
    },
    {
      "cell_type": "code",
      "metadata": {
        "id": "cTV0IcEsvItt",
        "colab_type": "code",
        "colab": {}
      },
      "source": [
        "class TensorModule:\n",
        "    def __init__(self):\n",
        "        self.training = True\n",
        "        self._parameters = OrderedDict()\n",
        "        self._modules = OrderedDict()\n",
        "        self._tmodules = OrderedDict()\n",
        "        self._buffers = OrderedDict()\n",
        "\n",
        "    def __call__(self, *input, **kwargs):\n",
        "        result = self.forward(*input, **kwargs)\n",
        "        return result\n",
        "    \n",
        "    def forward(self, *input):\n",
        "        raise NotImplementedError\n",
        "\n",
        "    def __setattr__(self, name, value):\n",
        "        def remove_from(*dicts):\n",
        "            for d in dicts:\n",
        "                if name in d:\n",
        "                    del d[name]\n",
        "\n",
        "        params = self.__dict__.get('_parameters')\n",
        "        if name.startswith('p_') and isinstance(value, torch.Tensor):\n",
        "            if params is None:\n",
        "                raise AttributeError\n",
        "            remove_from(self.__dict__, self._buffers, self._modules)\n",
        "            self.register_parameter(name, value)\n",
        "        elif params is not None and name in params:\n",
        "            if value is not None:\n",
        "                raise TypeError\n",
        "            self.register_parameter(name, value)\n",
        "        else:\n",
        "            modules = self.__dict__.get('_modules')\n",
        "            if isinstance(value, TensorModule):\n",
        "                if modules is None:\n",
        "                    raise AttributeError\n",
        "                remove_from(self.__dict__, self._parameters, self._buffers)\n",
        "                modules[name] = value\n",
        "            elif modules is not None and name in modules:\n",
        "                if value is not None:\n",
        "                    raise TypeError\n",
        "                modules[name] = value\n",
        "            else:\n",
        "                buffers = self.__dict__.get('_buffers')\n",
        "                if buffers is not None and name in buffers:\n",
        "                    if value is not None and not isinstance(value, torch.Tensor):\n",
        "                        raise TypeError\n",
        "                    buffers[name] = value\n",
        "                else:\n",
        "                    object.__setattr__(self, name, value)\n",
        "\n",
        "    def __getattr__(self, name):\n",
        "        if '_parameters' in self.__dict__:\n",
        "            _parameters = self.__dict__['_parameters']\n",
        "            if name in _parameters:\n",
        "                return _parameters[name]\n",
        "\n",
        "        if '_buffers' in self.__dict__:\n",
        "            _buffers = self.__dict__['_buffers']\n",
        "            if name in _buffers:\n",
        "                return _buffers[name]\n",
        "        \n",
        "        if '_modules' in self.__dict__:\n",
        "            _modules = self.__dict__['_modules']\n",
        "            if name in _modules:\n",
        "                return _modules[name]\n",
        "\n",
        "    def register_parameter(self, name, param):\n",
        "        # debug\n",
        "        if name in self._parameters:\n",
        "            prev_param = self._parameters[name]\n",
        "        else:\n",
        "            prev_param = None\n",
        "        # print('%s: %s -> %s' % (name, str(prev_param), str(param)))\n",
        "\n",
        "        if '.' in name:\n",
        "            raise KeyError\n",
        "\n",
        "        if param is None:\n",
        "            self._parameters[name] = None\n",
        "        elif not isinstance(param, torch.Tensor):\n",
        "            raise TypeError\n",
        "        else:\n",
        "            self._parameters[name] = param\n",
        "\n",
        "    def register_buffer(self, name, tensor):\n",
        "        if '.' in name:\n",
        "            raise KeyError\n",
        "        elif tensor is not None and not isinstance(tensor, torch.Tensor):\n",
        "            raise TypeError\n",
        "        else:\n",
        "            self._buffers[name] = tensor\n",
        "\n",
        "    def named_modules(self, memo=None, prefix=''):\n",
        "        if memo is None:\n",
        "            memo = set()\n",
        "        if self not in memo:\n",
        "            memo.add(self)\n",
        "            yield prefix, self\n",
        "            for name, module in self._modules.items():\n",
        "                if module is None:\n",
        "                    continue\n",
        "                submodule_prefix = prefix + ('.' if prefix else '') + name\n",
        "                for m in module.named_modules(memo, submodule_prefix):\n",
        "                    yield m   \n",
        "\n",
        "    def _named_members(self, get_members_fn, prefix='', recurse=True):\n",
        "        memo = set()\n",
        "        modules = self.named_modules(prefix=prefix) if recurse else [(prefix, self)]\n",
        "        for module_prefix, module in modules:\n",
        "            members = get_members_fn(module)\n",
        "            for k, v in members:\n",
        "                if v is None or v in memo:\n",
        "                    continue\n",
        "                memo.add(v)\n",
        "                name = module_prefix + ('.' if module_prefix else '') + k\n",
        "                yield name, v\n",
        "\n",
        "    def named_parameters(self, prefix='', recurse=True):\n",
        "        gen = self._named_members(\n",
        "            lambda module: module._parameters.items(),\n",
        "            prefix=prefix, recurse=True\n",
        "        )\n",
        "        for elem in gen:\n",
        "            yield elem\n",
        "\n",
        "    def _load_from_state_dict(self, state_dict, prefix):\n",
        "        local_name_params = itertools.chain(self._parameters.items(), self._buffers.items())\n",
        "        local_state = {k: v for k, v in local_name_params if v is not None}\n",
        "\n",
        "        for name, param in local_state.items():\n",
        "            key = prefix + name\n",
        "            if key in state_dict:\n",
        "                input_param = state_dict[key]\n",
        "                setattr(self, name, input_param)\n",
        "                # with torch.no_grad():                        \n",
        "                # param.copy_(input_param)\n",
        "\n",
        "    def set_params(self, state_dict):\n",
        "        def load(module, prefix=''):\n",
        "            module._load_from_state_dict(state_dict, prefix)\n",
        "        \n",
        "            for name, child in module._modules.items():\n",
        "                if child is not None:\n",
        "                    load(child, prefix + name + '.')\n",
        "        load(self)\n",
        "        load = None\n",
        "        \n",
        "    def train(self, mode=True):\n",
        "        self.training =  mode\n",
        "        for module in self.children():\n",
        "            module.train(mode)\n",
        "        return self\n",
        "\n",
        "    def eval(self):\n",
        "        return self.train(False)\n",
        "\n",
        "    def children(self):\n",
        "        for name, module in self.named_children():\n",
        "            yield module\n",
        "\n",
        "    def named_children(self):\n",
        "        memo = set()\n",
        "        for name, module in self._modules.items():\n",
        "            if module is not None and module not in memo:\n",
        "                memo.add(module)\n",
        "                yield name, module\n",
        "\n",
        "class TensorLinear(TensorModule):\n",
        "    def __init__(self, in_features, out_features, bias=True):\n",
        "        super(TensorLinear, self).__init__()\n",
        "\n",
        "        self.in_features = in_features\n",
        "        self.out_features = out_features\n",
        "        # self.weight = TensorParameter((out_features, in_features))\n",
        "        self.p_weight = torch.zeros((out_features, in_features), dtype=torch.float32)\n",
        "        if bias:\n",
        "            self.p_bias = torch.zeros((out_features, ), dtype=torch.float32)\n",
        "        else:\n",
        "            # original self.register_parameter('bias', None)\n",
        "            self.p_bias = None\n",
        "\n",
        "    def forward(self, input):\n",
        "        return F.linear(input, self.p_weight, self.p_bias)"
      ],
      "execution_count": 0,
      "outputs": []
    },
    {
      "cell_type": "code",
      "metadata": {
        "id": "Sq8VmrS7g_WM",
        "colab_type": "code",
        "colab": {}
      },
      "source": [
        "class _NormBase(TensorModule):\n",
        "    def __init__(self, num_features, eps=1e-5, momentum=0.1, affine=True,\n",
        "                 track_running_stats=True):\n",
        "        super(_NormBase, self).__init__()\n",
        "        self.num_features = num_features\n",
        "        self.eps = eps\n",
        "        self.momentum = momentum\n",
        "        self.affine = affine\n",
        "        self.track_running_stats = track_running_stats\n",
        "        if self.affine:\n",
        "            self.p_weight = torch.Tensor(num_features)\n",
        "            self.p_bias = torch.Tensor(num_features)\n",
        "        else:\n",
        "            self.register_parameter('p_weight', None)\n",
        "            self.register_parameter('p_bias', None)\n",
        "        if self.track_running_stats:\n",
        "            self.register_buffer('running_mean', torch.zeros(num_features))\n",
        "            self.register_buffer('running_var', torch.ones(num_features))\n",
        "            self.register_buffer('num_batches_tracked', torch.tensor(0, dtype=torch.long))\n",
        "        else:\n",
        "            self.register_parameter('running_mean', None)\n",
        "            self.register_parameter('running_var', None)\n",
        "            self.register_parameter('num_batches_tracked', None)\n",
        "        self.reset_parameters()\n",
        "\n",
        "    def reset_running_stats(self):\n",
        "        if self.track_running_stats:\n",
        "            self.running_mean.zero_()\n",
        "            self.running_var.fill_(1)\n",
        "            self.num_batches_tracked.zero_()\n",
        "\n",
        "    def reset_parameters(self):\n",
        "        self.reset_running_stats()\n",
        "        if self.affine:\n",
        "            torch.nn.init.ones_(self.p_weight)\n",
        "            torch.nn.init.zeros_(self.p_bias)\n",
        "\n",
        "class _BatchNorm(_NormBase):\n",
        "    def __init__(self, num_features, eps=1e-5, momentum=0.1, affine=True, \n",
        "                 track_running_stats=True):\n",
        "        super(_BatchNorm, self).__init__(num_features, eps, momentum, affine,\n",
        "                                         track_running_stats)\n",
        "    \n",
        "    def forward(self, input):\n",
        "        self._check_input_dim(input)\n",
        "\n",
        "        if self.momentum is None:\n",
        "            exponential_average_factor = 0.0\n",
        "        else:\n",
        "            exponential_average_factor = self.momentum\n",
        "\n",
        "        if self.training and self.track_running_stats:            \n",
        "            if self.num_batches_tracked is not None:\n",
        "                self.num_batches_tracked = self.num_batches_tracked + 1\n",
        "                if self.momentum is None:  # use cumulative moving average\n",
        "                    exponential_average_factor = 1.0 / float(self.num_batches_tracked)\n",
        "                else:  # use exponential moving average\n",
        "                    exponential_average_factor = self.momentum\n",
        "\n",
        "        return F.batch_norm(\n",
        "            input, self.running_mean, self.running_var, self.p_weight, self.p_bias,\n",
        "            self.training or not self.track_running_stats,\n",
        "            exponential_average_factor, self.eps)\n",
        "        \n",
        "\n",
        "class TensorBatchNorm1d(_BatchNorm):\n",
        "    def _check_input_dim(self, input):\n",
        "        if input.dim() != 2 and input.dim() !=3:\n",
        "            raise ValueError('invalid dim')"
      ],
      "execution_count": 0,
      "outputs": []
    },
    {
      "cell_type": "code",
      "metadata": {
        "id": "rnsg0P_Kttn6",
        "colab_type": "code",
        "colab": {}
      },
      "source": [
        "class TensorLinearNet(TensorModule):\n",
        "    def __init__(self):\n",
        "        super(TensorLinearNet, self).__init__()\n",
        "        n = 4\n",
        "        self.linear1 = TensorLinear(1, n)\n",
        "        self.linear2 = TensorLinear(n, n)\n",
        "        self.linear3 = TensorLinear(n, n)\n",
        "        self.linear4 = TensorLinear(n, n)\n",
        "\n",
        "        self.last_layer = TensorLinear(n, 1)\n",
        "\n",
        "        self.bn1 = TensorBatchNorm1d(n, affine=False)\n",
        "        self.bn2 = TensorBatchNorm1d(n, affine=False)\n",
        "        self.bn3 = TensorBatchNorm1d(n, affine=False)\n",
        "        self.bn4 = TensorBatchNorm1d(n, affine=False)\n",
        "\n",
        "    def forward(self, x):\n",
        "        x = self.linear1(x)\n",
        "        x = self.bn1(x)\n",
        "        x = F.relu(x)\n",
        "\n",
        "        x = self.linear2(x)\n",
        "        x = self.bn2(x)\n",
        "        x = F.relu(x)\n",
        "\n",
        "        x = self.linear3(x)\n",
        "        x = self.bn3(x)\n",
        "        x = F.relu(x)\n",
        "\n",
        "        x = self.linear4(x)\n",
        "        x = self.bn4(x)\n",
        "        x = F.relu(x)\n",
        "\n",
        "        x = self.last_layer(x)\n",
        "\n",
        "        x1 = x\n",
        "        x2 = None\n",
        "\n",
        "        return x1, x2"
      ],
      "execution_count": 0,
      "outputs": []
    },
    {
      "cell_type": "markdown",
      "metadata": {
        "id": "ezTSw0Np4KdA",
        "colab_type": "text"
      },
      "source": [
        "## model"
      ]
    },
    {
      "cell_type": "code",
      "metadata": {
        "id": "LjMlRDMN4KdH",
        "colab_type": "code",
        "colab": {}
      },
      "source": [
        "def kl_divergence_nsamples(q_w, p_w, loc_dict, model, x, y, idx):\n",
        "\n",
        "    val_loss = 0\n",
        "    n_samples = 30\n",
        "    for _ in range(n_samples):\n",
        "        val_loss += kl_divergenceV2(q_w, p_w, loc_dict, model, x, y, idx) / n_samples\n",
        "    return val_loss\n",
        "\n",
        "\n",
        "def write_graph(writer, model, x):\n",
        "    writer.add_graph(model, input_to_model=x)\n",
        "\n",
        "def predict(q_w, loc_dict, model, x, n_samples):    \n",
        "    \n",
        "    approx_y = 0  \n",
        "    # model.eval()\n",
        "    with torch.no_grad():\n",
        "        for i in range(n_samples):\n",
        "            # sampling from q(w)\n",
        "            w_sample = q_w.sample()[-1]\n",
        "\n",
        "            param_dict = transform_param(w_sample, loc_dict)\n",
        "            model.set_params(param_dict)\n",
        "            # calculate f(x)\n",
        "            out1, out2 = model(x)\n",
        "            \n",
        "            y_sample = out1\n",
        "\n",
        "            approx_y += y_sample / n_samples\n",
        "    \n",
        "    return approx_y\n",
        "\n",
        "def plt_prediction(q_w, loc_dict, model, x, y_true, n_smaples):\n",
        "    y_pred = predict(q_w, loc_dict, model, x, n_smaples)\n",
        "\n",
        "    fig, axes = plt.subplots(1, 2, figsize=(15, 5))\n",
        "    axes[0].plot(x.numpy(), y_true.numpy(), 'o')\n",
        "    axes[0].plot(x.numpy(), y_pred.numpy(), 'o')\n",
        "    plt.show()"
      ],
      "execution_count": 0,
      "outputs": []
    },
    {
      "cell_type": "markdown",
      "metadata": {
        "id": "IEMKHByHrdgv",
        "colab_type": "text"
      },
      "source": [
        "## exec"
      ]
    },
    {
      "cell_type": "markdown",
      "metadata": {
        "id": "3xDgvNTsoAN-",
        "colab_type": "text"
      },
      "source": [
        "Calculate prediction distribution\n",
        "$$\n",
        "\\begin{align}\n",
        "& KL[q(W; \\eta)||p(W|X, Y)] \\\\\n",
        "&= \\int q(W; \\eta) \\log \\frac{q(W; \\eta)}{p(W|X, Y)} dW\\\\\n",
        "&= \\int q(W; \\eta) \\log q(W; \\eta)dW - \\int q(W; \\eta) \\log \\frac{p(Y|W, X)p(W)}{p(Y|X)}dW \\\\\n",
        "&= \\int q(W; \\eta) \\log q(W; \\eta)dW - \\int q(W; \\eta) \\log p(Y|W, X)dW - \\int q(W; \\eta) \\log p(W)dW + const.\\\\\n",
        "&= E[\\log q(W; \\eta)] - E[\\log p(Y|W, X)] - E[\\log p(W)] + const.\n",
        "\\end{align}\n",
        "$$\n",
        "\n",
        "\\begin{align}\n",
        "E[\\log p(Y|W, X)] = E\\left[\\sum log p(y_i|W, x_i)\\right]\n",
        "\\end{align}"
      ]
    },
    {
      "cell_type": "code",
      "metadata": {
        "scrolled": true,
        "id": "87ydpXz34KdS",
        "colab_type": "code",
        "outputId": "c6bb3852-bc20-4cfb-89aa-15285d7dbd88",
        "colab": {
          "base_uri": "https://localhost:8080/",
          "height": 1000
        }
      },
      "source": [
        "def train():\n",
        "    scaler = StandardScaler()\n",
        "    x_train_norm = torch.tensor(scaler.fit_transform(x_train), dtype=torch.float32)\n",
        "\n",
        "    # model = LinearNet2()\n",
        "    model = TensorLinearNet()\n",
        "    vimodel = VIModel2(model)\n",
        "    q_w = vimodel.dist\n",
        "    p_w = normal_prior_distV2(model)\n",
        "\n",
        "    # optimizer = torch.optim.Adam(params=vimodel.parameters(), lr=1e-4)\n",
        "    optimizer = torch.optim.SGD(params=vimodel.parameters(), lr=1e-5, \n",
        "                                momentum=0.9,\n",
        "                                weight_decay=1e-4)\n",
        "    for i in range(10000):\n",
        "        model.train()\n",
        "        with torch.set_grad_enabled(True): \n",
        "            optimizer.zero_grad()        \n",
        "            loss = kl_divergence_nsamples(q_w, p_w, vimodel.loc_dict, model, x_train_norm, y_train, i)\n",
        "            loss.backward()\n",
        "            optimizer.step()        \n",
        "            \n",
        "        if str(loss.item()) == 'nan':\n",
        "            break\n",
        "\n",
        "        if (i+1) % 100== 0:\n",
        "            # mu = vimodel.eta_mu.detach().numpy()\n",
        "            # sigma = torch.exp(vimodel.eta_log_sigma.detach()).numpy()\n",
        "            # print('loss: %f mu: %s sigma: %s' % (loss.detach().numpy(), str(mu), str(sigma)))\n",
        "            # print(loss.size())\n",
        "            print('iter: %d loss: %f ' % (i, loss.item(),))\n",
        "\n",
        "            plt_prediction(q_w, vimodel.loc_dict, model, x_train_norm, y_train, 30)\n",
        "\n",
        "train()"
      ],
      "execution_count": 18,
      "outputs": [
        {
          "output_type": "stream",
          "text": [
            "OrderedDict([('linear1.p_weight', {'size': torch.Size([4, 1]), 'loc': (0, 4)}), ('linear1.p_bias', {'size': torch.Size([4]), 'loc': (4, 8)}), ('linear2.p_weight', {'size': torch.Size([4, 4]), 'loc': (8, 24)}), ('linear2.p_bias', {'size': torch.Size([4]), 'loc': (24, 28)}), ('linear3.p_weight', {'size': torch.Size([4, 4]), 'loc': (28, 44)}), ('linear3.p_bias', {'size': torch.Size([4]), 'loc': (44, 48)}), ('linear4.p_weight', {'size': torch.Size([4, 4]), 'loc': (48, 64)}), ('linear4.p_bias', {'size': torch.Size([4]), 'loc': (64, 68)}), ('last_layer.p_weight', {'size': torch.Size([1, 4]), 'loc': (68, 72)}), ('last_layer.p_bias', {'size': torch.Size([1]), 'loc': (72, 73)})])\n",
            "73\n",
            "99 loss q(w) -99.714294 p(w) -236.789337 p(y|xw) -664.915405 min -3.384802 mean 1.155527 max 2.594073\n",
            "99 loss q(w) -97.101120 p(w) -236.920822 p(y|xw) -537.845886 min -5.479810 mean -0.190337 max 2.168585\n",
            "99 loss q(w) -109.341713 p(w) -236.695160 p(y|xw) -751.008362 min -5.102763 mean 0.058787 max 1.807944\n",
            "99 loss q(w) -90.460594 p(w) -236.607529 p(y|xw) -412.984650 min -2.901764 mean 1.364987 max 3.034364\n",
            "99 loss q(w) -105.899414 p(w) -236.914276 p(y|xw) -358.743774 min -6.451787 mean 0.503169 max 2.430512\n",
            "99 loss q(w) -90.041985 p(w) -236.749802 p(y|xw) -1653.270142 min -1.382185 mean 0.785914 max 5.525296\n",
            "99 loss q(w) -97.302605 p(w) -236.534729 p(y|xw) -379.112457 min -5.837967 mean 0.478439 max 2.969307\n",
            "99 loss q(w) -100.653862 p(w) -236.658981 p(y|xw) -1192.886475 min -1.956094 mean 1.351901 max 4.684867\n",
            "99 loss q(w) -103.059128 p(w) -236.618256 p(y|xw) -497.136902 min -1.912031 mean 1.247540 max 2.582440\n",
            "99 loss q(w) -89.749641 p(w) -236.377975 p(y|xw) -392.332092 min -4.294595 mean 0.409515 max 2.336700\n",
            "99 loss q(w) -102.226494 p(w) -236.846252 p(y|xw) -686.006653 min -5.374821 mean 0.330037 max 2.801579\n",
            "99 loss q(w) -99.218712 p(w) -236.444382 p(y|xw) -452.782196 min -4.634746 mean 0.710762 max 3.589092\n",
            "99 loss q(w) -90.391640 p(w) -236.876831 p(y|xw) -690.776489 min -5.433258 mean 0.555453 max 2.524160\n",
            "99 loss q(w) -97.376587 p(w) -236.208878 p(y|xw) -1094.454956 min -0.052387 mean 1.003172 max 1.702718\n",
            "99 loss q(w) -101.769814 p(w) -236.802536 p(y|xw) -683.217468 min -2.066572 mean 1.020362 max 3.161098\n",
            "99 loss q(w) -94.687767 p(w) -237.116455 p(y|xw) -997.058228 min -1.375205 mean 2.222253 max 5.146124\n",
            "99 loss q(w) -93.188164 p(w) -236.828369 p(y|xw) -394.183289 min -5.116091 mean 0.564471 max 2.695385\n",
            "99 loss q(w) -104.775284 p(w) -236.554688 p(y|xw) -1855.039185 min -1.082026 mean 1.093274 max 5.620446\n",
            "99 loss q(w) -92.465065 p(w) -236.825485 p(y|xw) -507.535583 min -7.544387 mean 0.572572 max 2.670946\n",
            "99 loss q(w) -107.843628 p(w) -236.862366 p(y|xw) -795.560547 min -3.598907 mean 1.851407 max 5.032758\n",
            "99 loss q(w) -97.791466 p(w) -236.208298 p(y|xw) -1036.105713 min 0.496404 mean 1.428219 max 2.106383\n",
            "99 loss q(w) -105.376114 p(w) -236.821701 p(y|xw) -473.798401 min -5.736671 mean 1.121914 max 2.891751\n",
            "99 loss q(w) -88.147270 p(w) -236.716202 p(y|xw) -547.894287 min -2.568484 mean 1.141106 max 2.965313\n",
            "99 loss q(w) -98.671150 p(w) -236.965988 p(y|xw) -612.876648 min -8.337438 mean 0.034748 max 2.110411\n",
            "99 loss q(w) -94.109024 p(w) -236.697495 p(y|xw) -781.034180 min -5.362579 mean 0.612445 max 2.642651\n",
            "99 loss q(w) -95.410545 p(w) -236.506912 p(y|xw) -1309.049072 min -0.038354 mean 1.176011 max 5.220482\n",
            "99 loss q(w) -96.152405 p(w) -235.815796 p(y|xw) -853.428894 min -3.100117 mean 1.140826 max 3.419678\n",
            "99 loss q(w) -92.167641 p(w) -236.589981 p(y|xw) -545.266968 min -4.337310 mean 0.883692 max 2.320644\n",
            "99 loss q(w) -91.157547 p(w) -236.726837 p(y|xw) -622.055725 min -3.144915 mean 0.645680 max 2.567358\n",
            "99 loss q(w) -100.422745 p(w) -236.893036 p(y|xw) -558.667358 min -5.950051 mean 0.501360 max 2.069849\n",
            "iter: 99 loss: 883.684448 \n"
          ],
          "name": "stdout"
        },
        {
          "output_type": "display_data",
          "data": {
            "image/png": "[encoded data removed]",
            "text/plain": [
              "<Figure size 1080x360 with 2 Axes>"
            ]
          },
          "metadata": {
            "tags": [],
            "needs_background": "light"
          }
        },
        {
          "output_type": "stream",
          "text": [
            "199 loss q(w) -92.786209 p(w) -237.941193 p(y|xw) -278.745514 min -3.687078 mean 0.594254 max 2.812898\n",
            "199 loss q(w) -92.773613 p(w) -238.061722 p(y|xw) -511.308350 min -7.455134 mean 0.068319 max 3.404699\n",
            "199 loss q(w) -86.979691 p(w) -237.816818 p(y|xw) -378.055664 min -4.925817 mean -0.026228 max 2.789037\n",
            "199 loss q(w) -81.784027 p(w) -237.692673 p(y|xw) -499.946014 min -4.668678 mean 1.106770 max 4.203257\n",
            "199 loss q(w) -92.522125 p(w) -237.115646 p(y|xw) -260.555389 min -1.931048 mean 1.011900 max 3.786606\n",
            "199 loss q(w) -81.104591 p(w) -237.689880 p(y|xw) -314.592072 min -4.083479 mean 0.578690 max 3.070418\n",
            "199 loss q(w) -88.715698 p(w) -237.444031 p(y|xw) -241.525909 min -4.276033 mean 0.962270 max 4.620787\n",
            "199 loss q(w) -103.258705 p(w) -237.695343 p(y|xw) -482.781006 min -6.690575 mean 0.563942 max 4.180344\n",
            "199 loss q(w) -94.545006 p(w) -237.926300 p(y|xw) -343.878479 min -3.568864 mean 1.569874 max 3.759991\n",
            "199 loss q(w) -87.056061 p(w) -237.744614 p(y|xw) -230.636490 min -5.447735 mean 0.575816 max 3.322364\n",
            "199 loss q(w) -90.728851 p(w) -237.622589 p(y|xw) -321.239288 min -5.682759 mean 0.353452 max 3.073585\n",
            "199 loss q(w) -92.082138 p(w) -237.486252 p(y|xw) -185.173187 min -3.678293 mean 0.998447 max 3.462393\n",
            "199 loss q(w) -87.305695 p(w) -237.616135 p(y|xw) -239.263123 min -4.499005 mean 1.321197 max 4.361464\n",
            "199 loss q(w) -95.522797 p(w) -237.726959 p(y|xw) -337.289551 min -4.010982 mean 1.491375 max 4.320588\n",
            "199 loss q(w) -96.656250 p(w) -238.094574 p(y|xw) -383.098663 min -5.546398 mean 0.307197 max 3.061152\n",
            "199 loss q(w) -92.104149 p(w) -237.513992 p(y|xw) -292.863434 min -3.396533 mean 0.556437 max 3.256428\n",
            "199 loss q(w) -93.036346 p(w) -237.731964 p(y|xw) -317.414062 min -2.365738 mean 1.014079 max 3.437265\n",
            "199 loss q(w) -85.710876 p(w) -237.684464 p(y|xw) -426.795380 min -6.951086 mean 0.195932 max 3.831918\n",
            "199 loss q(w) -94.390007 p(w) -237.601059 p(y|xw) -471.673401 min -1.874151 mean 1.690266 max 4.073732\n",
            "199 loss q(w) -88.419777 p(w) -237.679214 p(y|xw) -299.488953 min -5.165872 mean 0.352735 max 3.281894\n",
            "199 loss q(w) -89.538467 p(w) -237.656387 p(y|xw) -247.616165 min -3.785196 mean 0.524749 max 3.430614\n",
            "199 loss q(w) -78.857925 p(w) -237.476593 p(y|xw) -228.477097 min -3.352997 mean 0.898762 max 3.377322\n",
            "199 loss q(w) -85.668770 p(w) -237.476364 p(y|xw) -241.277740 min -3.590293 mean 0.643378 max 3.619625\n",
            "199 loss q(w) -85.280624 p(w) -237.878769 p(y|xw) -238.996780 min -3.269137 mean 1.185437 max 3.709523\n",
            "199 loss q(w) -93.491631 p(w) -237.832214 p(y|xw) -278.538666 min -5.890190 mean 0.728950 max 3.248738\n",
            "199 loss q(w) -90.903831 p(w) -237.748672 p(y|xw) -504.735504 min -6.378326 mean 0.540655 max 4.444779\n",
            "199 loss q(w) -85.022888 p(w) -237.772766 p(y|xw) -265.825775 min -4.271127 mean 0.826801 max 2.865963\n",
            "199 loss q(w) -86.867744 p(w) -237.829514 p(y|xw) -327.595367 min -2.453936 mean 1.316328 max 3.494153\n",
            "199 loss q(w) -88.461525 p(w) -237.618362 p(y|xw) -288.181763 min -3.222417 mean 1.068787 max 3.420726\n",
            "199 loss q(w) -79.188286 p(w) -237.577026 p(y|xw) -211.600998 min -3.925248 mean 1.155236 max 3.989908\n",
            "iter: 199 loss: 469.971893 \n"
          ],
          "name": "stdout"
        },
        {
          "output_type": "display_data",
          "data": {
            "image/png": "[encoded data removed]",
            "text/plain": [
              "<Figure size 1080x360 with 2 Axes>"
            ]
          },
          "metadata": {
            "tags": [],
            "needs_background": "light"
          }
        },
        {
          "output_type": "stream",
          "text": [
            "299 loss q(w) -85.243515 p(w) -238.399826 p(y|xw) -169.270401 min -4.248158 mean 0.405691 max 3.362979\n",
            "299 loss q(w) -89.267036 p(w) -238.600815 p(y|xw) -170.684647 min -5.248058 mean 0.342748 max 3.513043\n",
            "299 loss q(w) -83.365295 p(w) -238.566162 p(y|xw) -171.904465 min -4.221054 mean 0.755812 max 4.492682\n",
            "299 loss q(w) -80.521004 p(w) -238.094131 p(y|xw) -165.463989 min -4.890818 mean 0.497199 max 3.175674\n",
            "299 loss q(w) -81.862373 p(w) -238.180908 p(y|xw) -184.714005 min -3.791474 mean 1.394500 max 4.419838\n",
            "299 loss q(w) -85.486740 p(w) -238.002487 p(y|xw) -286.640900 min -2.546195 mean 1.169660 max 3.729835\n",
            "299 loss q(w) -93.840538 p(w) -237.668472 p(y|xw) -543.622070 min -1.821106 mean 1.616180 max 4.259736\n",
            "299 loss q(w) -89.224236 p(w) -238.290298 p(y|xw) -143.597794 min -3.299784 mean 0.821335 max 3.706228\n",
            "299 loss q(w) -93.690643 p(w) -238.213364 p(y|xw) -226.647324 min -3.498205 mean 1.019913 max 4.221206\n",
            "299 loss q(w) -93.954239 p(w) -238.274353 p(y|xw) -135.864502 min -4.960150 mean 0.913887 max 4.334980\n",
            "299 loss q(w) -83.729134 p(w) -238.295715 p(y|xw) -107.953842 min -3.329483 mean 1.023076 max 4.431486\n",
            "299 loss q(w) -85.944901 p(w) -238.284882 p(y|xw) -167.390366 min -4.955045 mean 1.136132 max 4.125155\n",
            "299 loss q(w) -94.099495 p(w) -238.311279 p(y|xw) -189.187317 min -2.566368 mean 1.066718 max 4.508672\n",
            "299 loss q(w) -92.699661 p(w) -238.264725 p(y|xw) -205.504150 min -4.881285 mean 0.539268 max 3.638569\n",
            "299 loss q(w) -88.022606 p(w) -238.393219 p(y|xw) -123.073769 min -4.540051 mean 0.551265 max 3.385018\n",
            "299 loss q(w) -97.128799 p(w) -237.826874 p(y|xw) -157.667465 min -4.841592 mean 1.255496 max 4.807262\n",
            "299 loss q(w) -95.029556 p(w) -238.522110 p(y|xw) -387.199677 min -6.209326 mean -0.069662 max 2.760598\n",
            "299 loss q(w) -85.716728 p(w) -238.418457 p(y|xw) -254.722809 min -4.331714 mean 1.019523 max 4.289658\n",
            "299 loss q(w) -92.688606 p(w) -238.511658 p(y|xw) -229.935577 min -5.415315 mean 0.708134 max 3.820251\n",
            "299 loss q(w) -93.572479 p(w) -238.107727 p(y|xw) -93.364548 min -4.206641 mean 0.726711 max 3.861520\n",
            "299 loss q(w) -96.196632 p(w) -238.298218 p(y|xw) -187.259949 min -3.533613 mean 0.901664 max 4.363890\n",
            "299 loss q(w) -84.283997 p(w) -237.814758 p(y|xw) -316.540009 min -2.322068 mean 1.540481 max 4.465982\n",
            "299 loss q(w) -92.775169 p(w) -238.027527 p(y|xw) -241.618301 min -2.968437 mean 0.780765 max 3.430269\n",
            "299 loss q(w) -85.643036 p(w) -238.506927 p(y|xw) -186.670853 min -4.867040 mean 0.647374 max 3.665346\n",
            "299 loss q(w) -95.320328 p(w) -238.608414 p(y|xw) -176.672836 min -4.398193 mean 0.689414 max 3.111007\n",
            "299 loss q(w) -85.396820 p(w) -238.487564 p(y|xw) -151.935715 min -3.554444 mean 1.131004 max 4.108925\n",
            "299 loss q(w) -91.813805 p(w) -238.453033 p(y|xw) -196.275024 min -2.649491 mean 1.322926 max 4.053309\n",
            "299 loss q(w) -87.888428 p(w) -238.771194 p(y|xw) -149.916687 min -3.506752 mean 0.732529 max 3.245008\n",
            "299 loss q(w) -89.807716 p(w) -238.140579 p(y|xw) -192.928970 min -4.924870 mean 0.787120 max 3.337989\n",
            "299 loss q(w) -88.011330 p(w) -238.209244 p(y|xw) -180.963837 min -4.745132 mean 0.892897 max 3.672676\n",
            "iter: 299 loss: 352.050354 \n"
          ],
          "name": "stdout"
        },
        {
          "output_type": "display_data",
          "data": {
            "image/png": "[encoded data removed]",
            "text/plain": [
              "<Figure size 1080x360 with 2 Axes>"
            ]
          },
          "metadata": {
            "tags": [],
            "needs_background": "light"
          }
        },
        {
          "output_type": "stream",
          "text": [
            "399 loss q(w) -91.864441 p(w) -238.461609 p(y|xw) -217.122101 min -2.770694 mean 1.335680 max 4.168368\n",
            "399 loss q(w) -98.171860 p(w) -238.854599 p(y|xw) -140.929932 min -4.531683 mean 0.648166 max 3.588193\n",
            "399 loss q(w) -86.276917 p(w) -238.911743 p(y|xw) -105.710457 min -3.755299 mean 0.971698 max 4.033427\n",
            "399 loss q(w) -76.015419 p(w) -238.565979 p(y|xw) -129.010025 min -4.966601 mean 0.979505 max 3.844723\n",
            "399 loss q(w) -86.920845 p(w) -238.647125 p(y|xw) -176.388626 min -2.594271 mean 0.932739 max 4.056918\n",
            "399 loss q(w) -103.184746 p(w) -238.318832 p(y|xw) -256.941711 min -2.753658 mean 1.130542 max 3.643122\n",
            "399 loss q(w) -84.364044 p(w) -238.437439 p(y|xw) -150.387375 min -5.548216 mean 0.772975 max 3.789802\n",
            "399 loss q(w) -75.984726 p(w) -238.586349 p(y|xw) -195.777069 min -6.457928 mean 0.390146 max 3.718029\n",
            "399 loss q(w) -86.699509 p(w) -238.638779 p(y|xw) -165.908218 min -5.202804 mean 0.640859 max 3.737038\n",
            "399 loss q(w) -100.288292 p(w) -238.976166 p(y|xw) -164.877899 min -3.704413 mean 0.735558 max 3.641012\n",
            "399 loss q(w) -86.318092 p(w) -239.116135 p(y|xw) -145.017532 min -3.033333 mean 0.977505 max 4.151453\n",
            "399 loss q(w) -83.355293 p(w) -238.703735 p(y|xw) -154.638214 min -5.195366 mean 0.307484 max 3.575154\n",
            "399 loss q(w) -83.827278 p(w) -238.862289 p(y|xw) -154.784378 min -3.114496 mean 0.721253 max 3.590819\n",
            "399 loss q(w) -85.301941 p(w) -238.683640 p(y|xw) -138.064926 min -5.050227 mean 0.778851 max 3.593891\n",
            "399 loss q(w) -87.568283 p(w) -238.803497 p(y|xw) -226.511047 min -4.504059 mean 0.968573 max 3.569996\n",
            "399 loss q(w) -85.508682 p(w) -238.361023 p(y|xw) -216.890350 min -6.115966 mean 0.539411 max 3.834539\n",
            "399 loss q(w) -80.152206 p(w) -238.807083 p(y|xw) -120.630569 min -3.653160 mean 1.106310 max 4.471049\n",
            "399 loss q(w) -78.737778 p(w) -238.525208 p(y|xw) -119.113426 min -2.729185 mean 1.091210 max 4.246003\n",
            "399 loss q(w) -90.178406 p(w) -238.704514 p(y|xw) -239.232178 min -4.474701 mean 0.291962 max 3.151274\n",
            "399 loss q(w) -89.717995 p(w) -238.820465 p(y|xw) -157.303635 min -5.434227 mean 0.449973 max 3.818589\n",
            "399 loss q(w) -90.479485 p(w) -238.944611 p(y|xw) -112.170052 min -4.079709 mean 0.779341 max 4.114726\n",
            "399 loss q(w) -88.510124 p(w) -238.691483 p(y|xw) -104.930771 min -4.604041 mean 0.828396 max 4.296220\n",
            "399 loss q(w) -87.102150 p(w) -238.447617 p(y|xw) -183.433014 min -5.616620 mean 0.492420 max 3.627470\n",
            "399 loss q(w) -78.141090 p(w) -238.613647 p(y|xw) -199.054825 min -3.709204 mean 0.563093 max 3.251251\n",
            "399 loss q(w) -89.114105 p(w) -239.040131 p(y|xw) -132.633255 min -5.014948 mean 0.776005 max 3.466657\n",
            "399 loss q(w) -80.014801 p(w) -238.897858 p(y|xw) -84.873276 min -4.366857 mean 0.881886 max 4.218274\n",
            "399 loss q(w) -104.689957 p(w) -238.490433 p(y|xw) -178.241501 min -3.619335 mean 0.635434 max 3.236432\n",
            "399 loss q(w) -97.248642 p(w) -238.673492 p(y|xw) -215.599594 min -2.886732 mean 1.304652 max 4.132866\n",
            "399 loss q(w) -88.605141 p(w) -238.614441 p(y|xw) -250.369354 min -3.934147 mean 0.608900 max 3.624403\n",
            "399 loss q(w) -88.001266 p(w) -239.132614 p(y|xw) -155.708511 min -5.053139 mean 0.416439 max 3.603492\n",
            "iter: 399 loss: 317.374756 \n"
          ],
          "name": "stdout"
        },
        {
          "output_type": "display_data",
          "data": {
            "image/png": "[encoded data removed]",
            "text/plain": [
              "<Figure size 1080x360 with 2 Axes>"
            ]
          },
          "metadata": {
            "tags": [],
            "needs_background": "light"
          }
        },
        {
          "output_type": "stream",
          "text": [
            "499 loss q(w) -91.004730 p(w) -244.179245 p(y|xw) -169.865173 min -5.140184 mean 0.302969 max 3.802577\n",
            "499 loss q(w) -81.980576 p(w) -244.063538 p(y|xw) -130.122849 min -4.951797 mean 1.010161 max 4.212626\n",
            "499 loss q(w) -87.041245 p(w) -243.593079 p(y|xw) -185.276138 min -5.184991 mean 0.593711 max 4.404165\n",
            "499 loss q(w) -85.040375 p(w) -243.811157 p(y|xw) -419.502350 min -8.414510 mean 0.430808 max 4.017148\n",
            "499 loss q(w) -103.859367 p(w) -242.668060 p(y|xw) -160.978424 min -3.224178 mean 1.089106 max 4.466637\n",
            "499 loss q(w) -86.193604 p(w) -244.015244 p(y|xw) -155.019867 min -3.393543 mean 0.509820 max 3.764335\n",
            "499 loss q(w) -85.036278 p(w) -244.004623 p(y|xw) -111.890244 min -3.221102 mean 1.026363 max 4.237421\n",
            "499 loss q(w) -84.595421 p(w) -243.690598 p(y|xw) -151.439865 min -4.499094 mean 0.368301 max 3.592020\n",
            "499 loss q(w) -100.223953 p(w) -243.678757 p(y|xw) -137.114685 min -3.616181 mean 1.015173 max 4.361062\n",
            "499 loss q(w) -81.965271 p(w) -243.248581 p(y|xw) -181.258942 min -3.573086 mean 1.097683 max 4.029815\n",
            "499 loss q(w) -81.402336 p(w) -243.848175 p(y|xw) -144.745560 min -4.194737 mean 1.188948 max 4.217626\n",
            "499 loss q(w) -88.576569 p(w) -243.746140 p(y|xw) -123.524185 min -5.012874 mean 0.965946 max 4.470771\n",
            "499 loss q(w) -82.543594 p(w) -243.806351 p(y|xw) -154.470215 min -3.948724 mean 0.758347 max 4.237655\n",
            "499 loss q(w) -79.895348 p(w) -244.090149 p(y|xw) -151.968140 min -4.074085 mean 1.077792 max 4.558308\n",
            "499 loss q(w) -81.874489 p(w) -243.420670 p(y|xw) -146.196732 min -4.463098 mean 1.135461 max 4.360780\n",
            "499 loss q(w) -86.401001 p(w) -243.360245 p(y|xw) -142.052521 min -4.519889 mean 0.905158 max 3.833043\n",
            "499 loss q(w) -89.289581 p(w) -243.660583 p(y|xw) -121.675301 min -3.987035 mean 0.989462 max 4.842174\n",
            "499 loss q(w) -82.951866 p(w) -243.867310 p(y|xw) -105.205254 min -4.571056 mean 0.719968 max 4.070912\n",
            "499 loss q(w) -85.999146 p(w) -243.764282 p(y|xw) -215.528839 min -3.309964 mean 1.104838 max 4.272337\n",
            "499 loss q(w) -73.104828 p(w) -243.567154 p(y|xw) -105.575478 min -3.984615 mean 0.763606 max 3.773390\n",
            "499 loss q(w) -80.021400 p(w) -243.399796 p(y|xw) -99.650208 min -4.260657 mean 0.622077 max 3.725589\n",
            "499 loss q(w) -89.191132 p(w) -243.541687 p(y|xw) -156.627274 min -3.243780 mean 0.587387 max 3.801886\n",
            "499 loss q(w) -92.398697 p(w) -243.471954 p(y|xw) -119.100067 min -4.783196 mean 0.790411 max 4.157747\n",
            "499 loss q(w) -79.090065 p(w) -243.905670 p(y|xw) -151.500519 min -5.092611 mean 0.554228 max 4.039660\n",
            "499 loss q(w) -84.080017 p(w) -243.980865 p(y|xw) -121.958092 min -4.874516 mean 0.613424 max 4.277413\n",
            "499 loss q(w) -79.296448 p(w) -243.787369 p(y|xw) -125.517738 min -2.925420 mean 1.050837 max 4.276032\n",
            "499 loss q(w) -86.453789 p(w) -243.865311 p(y|xw) -128.511215 min -2.965634 mean 1.140523 max 4.073124\n",
            "499 loss q(w) -87.400978 p(w) -243.814209 p(y|xw) -227.906570 min -6.186565 mean 0.761784 max 4.226803\n",
            "499 loss q(w) -82.521225 p(w) -243.654877 p(y|xw) -197.393585 min -2.997739 mean 1.377970 max 4.455403\n",
            "499 loss q(w) -90.171989 p(w) -243.468597 p(y|xw) -168.439468 min -2.470025 mean 1.325079 max 4.718769\n",
            "iter: 499 loss: 315.046173 \n"
          ],
          "name": "stdout"
        },
        {
          "output_type": "display_data",
          "data": {
            "image/png": "[encoded data removed]",
            "text/plain": [
              "<Figure size 1080x360 with 2 Axes>"
            ]
          },
          "metadata": {
            "tags": [],
            "needs_background": "light"
          }
        },
        {
          "output_type": "stream",
          "text": [
            "599 loss q(w) -72.271980 p(w) -243.929977 p(y|xw) -90.725594 min -4.165316 mean 1.047227 max 4.214746\n",
            "599 loss q(w) -96.964516 p(w) -244.330276 p(y|xw) -135.254150 min -3.001315 mean 1.064237 max 4.195511\n",
            "599 loss q(w) -100.651062 p(w) -244.688553 p(y|xw) -138.834412 min -4.960094 mean 0.599658 max 3.584381\n",
            "599 loss q(w) -92.343063 p(w) -243.901993 p(y|xw) -209.365494 min -7.262740 mean 0.443196 max 3.649653\n",
            "599 loss q(w) -77.231956 p(w) -244.690781 p(y|xw) -164.754486 min -4.298972 mean 1.052917 max 4.639665\n",
            "599 loss q(w) -82.746506 p(w) -244.651901 p(y|xw) -81.070892 min -4.142557 mean 0.777999 max 4.336551\n",
            "599 loss q(w) -81.471794 p(w) -244.712555 p(y|xw) -123.396675 min -4.371943 mean 0.644748 max 3.960146\n",
            "599 loss q(w) -82.286812 p(w) -244.352310 p(y|xw) -204.653610 min -2.913107 mean 0.599204 max 3.630847\n",
            "599 loss q(w) -91.987442 p(w) -244.754379 p(y|xw) -120.432281 min -3.443690 mean 1.078579 max 4.143362\n",
            "599 loss q(w) -89.750755 p(w) -244.281891 p(y|xw) -157.975815 min -5.766404 mean 0.820102 max 4.147599\n",
            "599 loss q(w) -92.881775 p(w) -243.755356 p(y|xw) -110.936501 min -5.079261 mean 0.861023 max 3.977169\n",
            "599 loss q(w) -81.488121 p(w) -244.091843 p(y|xw) -100.639572 min -4.363456 mean 0.884550 max 4.012362\n",
            "599 loss q(w) -79.633606 p(w) -244.725525 p(y|xw) -121.766663 min -3.998414 mean 0.809972 max 3.982590\n",
            "599 loss q(w) -87.322563 p(w) -244.193130 p(y|xw) -116.650719 min -4.621879 mean 0.886198 max 4.219875\n",
            "599 loss q(w) -83.479340 p(w) -244.165161 p(y|xw) -117.886940 min -5.935228 mean 0.859661 max 4.384040\n",
            "599 loss q(w) -82.814369 p(w) -244.131332 p(y|xw) -134.284531 min -3.336841 mean 1.014606 max 4.233863\n",
            "599 loss q(w) -78.860374 p(w) -243.833771 p(y|xw) -108.109100 min -3.991112 mean 0.664495 max 4.053677\n",
            "599 loss q(w) -86.100731 p(w) -244.143417 p(y|xw) -114.004044 min -4.013726 mean 0.981620 max 4.291944\n",
            "599 loss q(w) -83.442047 p(w) -244.239700 p(y|xw) -94.532547 min -4.152189 mean 0.840883 max 4.006000\n",
            "599 loss q(w) -85.003792 p(w) -244.373184 p(y|xw) -102.375870 min -3.329821 mean 0.975339 max 4.028158\n",
            "599 loss q(w) -85.411491 p(w) -243.656219 p(y|xw) -84.550354 min -4.924885 mean 0.798417 max 3.941319\n",
            "599 loss q(w) -76.000359 p(w) -244.186279 p(y|xw) -102.831146 min -3.977890 mean 1.002228 max 4.228516\n",
            "599 loss q(w) -85.253204 p(w) -243.318787 p(y|xw) -104.203590 min -4.009200 mean 1.016798 max 4.116910\n",
            "599 loss q(w) -79.079002 p(w) -244.340164 p(y|xw) -103.355324 min -4.447210 mean 1.056066 max 4.299608\n",
            "599 loss q(w) -74.671951 p(w) -243.563492 p(y|xw) -183.123535 min -2.897128 mean 1.497091 max 4.373508\n",
            "599 loss q(w) -85.254776 p(w) -244.034760 p(y|xw) -150.161163 min -4.675673 mean 1.285270 max 4.386655\n",
            "599 loss q(w) -84.638817 p(w) -244.317825 p(y|xw) -171.075836 min -3.200759 mean 0.529444 max 3.897410\n",
            "599 loss q(w) -79.715172 p(w) -244.419296 p(y|xw) -97.795135 min -4.380774 mean 0.745584 max 4.018280\n",
            "599 loss q(w) -91.641251 p(w) -243.947464 p(y|xw) -136.913422 min -3.601831 mean 0.735432 max 4.145835\n",
            "599 loss q(w) -94.447433 p(w) -243.880325 p(y|xw) -151.648254 min -6.838827 mean 0.882903 max 4.205242\n",
            "iter: 599 loss: 287.135773 \n"
          ],
          "name": "stdout"
        },
        {
          "output_type": "display_data",
          "data": {
            "image/png": "[encoded data removed]",
            "text/plain": [
              "<Figure size 1080x360 with 2 Axes>"
            ]
          },
          "metadata": {
            "tags": [],
            "needs_background": "light"
          }
        },
        {
          "output_type": "error",
          "ename": "KeyboardInterrupt",
          "evalue": "ignored",
          "traceback": [
            "\u001b[0;31m---------------------------------------------------------------------------\u001b[0m",
            "\u001b[0;31mKeyboardInterrupt\u001b[0m                         Traceback (most recent call last)",
            "\u001b[0;32m<ipython-input-18-338c28d4c01c>\u001b[0m in \u001b[0;36m<module>\u001b[0;34m()\u001b[0m\n\u001b[1;32m     33\u001b[0m             \u001b[0mplt_prediction\u001b[0m\u001b[0;34m(\u001b[0m\u001b[0mq_w\u001b[0m\u001b[0;34m,\u001b[0m \u001b[0mvimodel\u001b[0m\u001b[0;34m.\u001b[0m\u001b[0mloc_dict\u001b[0m\u001b[0;34m,\u001b[0m \u001b[0mmodel\u001b[0m\u001b[0;34m,\u001b[0m \u001b[0mx_train_norm\u001b[0m\u001b[0;34m,\u001b[0m \u001b[0my_train\u001b[0m\u001b[0;34m,\u001b[0m \u001b[0;36m30\u001b[0m\u001b[0;34m)\u001b[0m\u001b[0;34m\u001b[0m\u001b[0;34m\u001b[0m\u001b[0m\n\u001b[1;32m     34\u001b[0m \u001b[0;34m\u001b[0m\u001b[0m\n\u001b[0;32m---> 35\u001b[0;31m \u001b[0mtrain\u001b[0m\u001b[0;34m(\u001b[0m\u001b[0;34m)\u001b[0m\u001b[0;34m\u001b[0m\u001b[0;34m\u001b[0m\u001b[0m\n\u001b[0m",
            "\u001b[0;32m<ipython-input-18-338c28d4c01c>\u001b[0m in \u001b[0;36mtrain\u001b[0;34m()\u001b[0m\n\u001b[1;32m     18\u001b[0m             \u001b[0moptimizer\u001b[0m\u001b[0;34m.\u001b[0m\u001b[0mzero_grad\u001b[0m\u001b[0;34m(\u001b[0m\u001b[0;34m)\u001b[0m\u001b[0;34m\u001b[0m\u001b[0;34m\u001b[0m\u001b[0m\n\u001b[1;32m     19\u001b[0m             \u001b[0mloss\u001b[0m \u001b[0;34m=\u001b[0m \u001b[0mkl_divergence_nsamples\u001b[0m\u001b[0;34m(\u001b[0m\u001b[0mq_w\u001b[0m\u001b[0;34m,\u001b[0m \u001b[0mp_w\u001b[0m\u001b[0;34m,\u001b[0m \u001b[0mvimodel\u001b[0m\u001b[0;34m.\u001b[0m\u001b[0mloc_dict\u001b[0m\u001b[0;34m,\u001b[0m \u001b[0mmodel\u001b[0m\u001b[0;34m,\u001b[0m \u001b[0mx_train_norm\u001b[0m\u001b[0;34m,\u001b[0m \u001b[0my_train\u001b[0m\u001b[0;34m,\u001b[0m \u001b[0mi\u001b[0m\u001b[0;34m)\u001b[0m\u001b[0;34m\u001b[0m\u001b[0;34m\u001b[0m\u001b[0m\n\u001b[0;32m---> 20\u001b[0;31m             \u001b[0mloss\u001b[0m\u001b[0;34m.\u001b[0m\u001b[0mbackward\u001b[0m\u001b[0;34m(\u001b[0m\u001b[0;34m)\u001b[0m\u001b[0;34m\u001b[0m\u001b[0;34m\u001b[0m\u001b[0m\n\u001b[0m\u001b[1;32m     21\u001b[0m             \u001b[0moptimizer\u001b[0m\u001b[0;34m.\u001b[0m\u001b[0mstep\u001b[0m\u001b[0;34m(\u001b[0m\u001b[0;34m)\u001b[0m\u001b[0;34m\u001b[0m\u001b[0;34m\u001b[0m\u001b[0m\n\u001b[1;32m     22\u001b[0m \u001b[0;34m\u001b[0m\u001b[0m\n",
            "\u001b[0;32m/usr/local/lib/python3.6/dist-packages/torch/tensor.py\u001b[0m in \u001b[0;36mbackward\u001b[0;34m(self, gradient, retain_graph, create_graph)\u001b[0m\n\u001b[1;32m    196\u001b[0m                 \u001b[0mproducts\u001b[0m\u001b[0;34m.\u001b[0m \u001b[0mDefaults\u001b[0m \u001b[0mto\u001b[0m\u001b[0;31m \u001b[0m\u001b[0;31m`\u001b[0m\u001b[0;31m`\u001b[0m\u001b[0;32mFalse\u001b[0m\u001b[0;31m`\u001b[0m\u001b[0;31m`\u001b[0m\u001b[0;34m.\u001b[0m\u001b[0;34m\u001b[0m\u001b[0;34m\u001b[0m\u001b[0m\n\u001b[1;32m    197\u001b[0m         \"\"\"\n\u001b[0;32m--> 198\u001b[0;31m         \u001b[0mtorch\u001b[0m\u001b[0;34m.\u001b[0m\u001b[0mautograd\u001b[0m\u001b[0;34m.\u001b[0m\u001b[0mbackward\u001b[0m\u001b[0;34m(\u001b[0m\u001b[0mself\u001b[0m\u001b[0;34m,\u001b[0m \u001b[0mgradient\u001b[0m\u001b[0;34m,\u001b[0m \u001b[0mretain_graph\u001b[0m\u001b[0;34m,\u001b[0m \u001b[0mcreate_graph\u001b[0m\u001b[0;34m)\u001b[0m\u001b[0;34m\u001b[0m\u001b[0;34m\u001b[0m\u001b[0m\n\u001b[0m\u001b[1;32m    199\u001b[0m \u001b[0;34m\u001b[0m\u001b[0m\n\u001b[1;32m    200\u001b[0m     \u001b[0;32mdef\u001b[0m \u001b[0mregister_hook\u001b[0m\u001b[0;34m(\u001b[0m\u001b[0mself\u001b[0m\u001b[0;34m,\u001b[0m \u001b[0mhook\u001b[0m\u001b[0;34m)\u001b[0m\u001b[0;34m:\u001b[0m\u001b[0;34m\u001b[0m\u001b[0;34m\u001b[0m\u001b[0m\n",
            "\u001b[0;32m/usr/local/lib/python3.6/dist-packages/torch/autograd/__init__.py\u001b[0m in \u001b[0;36mbackward\u001b[0;34m(tensors, grad_tensors, retain_graph, create_graph, grad_variables)\u001b[0m\n\u001b[1;32m     98\u001b[0m     Variable._execution_engine.run_backward(\n\u001b[1;32m     99\u001b[0m         \u001b[0mtensors\u001b[0m\u001b[0;34m,\u001b[0m \u001b[0mgrad_tensors\u001b[0m\u001b[0;34m,\u001b[0m \u001b[0mretain_graph\u001b[0m\u001b[0;34m,\u001b[0m \u001b[0mcreate_graph\u001b[0m\u001b[0;34m,\u001b[0m\u001b[0;34m\u001b[0m\u001b[0;34m\u001b[0m\u001b[0m\n\u001b[0;32m--> 100\u001b[0;31m         allow_unreachable=True)  # allow_unreachable flag\n\u001b[0m\u001b[1;32m    101\u001b[0m \u001b[0;34m\u001b[0m\u001b[0m\n\u001b[1;32m    102\u001b[0m \u001b[0;34m\u001b[0m\u001b[0m\n",
            "\u001b[0;31mKeyboardInterrupt\u001b[0m: "
          ]
        }
      ]
    },
    {
      "cell_type": "code",
      "metadata": {
        "id": "vRu7Nbrn2gFl",
        "colab_type": "code",
        "colab": {}
      },
      "source": [
        "for n, p in vimodel.named_parameters():\n",
        "    print(n, p)"
      ],
      "execution_count": 0,
      "outputs": []
    },
    {
      "cell_type": "markdown",
      "metadata": {
        "id": "d9mOfcn24Kdg",
        "colab_type": "text"
      },
      "source": [
        "## prediction\n",
        "\n",
        "Calculate prediction distribution\n",
        "$$\n",
        "\\begin{align}\n",
        "p(y_*| x_*, X, Y) &= \\int p(y_*| x_*, W) p(W| X, Y) dW \\\\\n",
        "&\\approx \\int p(y_*| x_*, W) q(W; \\eta) dW \n",
        "\\end{align}\n",
        "$$"
      ]
    },
    {
      "cell_type": "code",
      "metadata": {
        "id": "O-T_EbsM4Kdj",
        "colab_type": "code",
        "colab": {}
      },
      "source": [
        "def predict_data(q_w, loc_dict, model, n_samples):    \n",
        "    x_pred = 5 * torch.rand(100, 1)\n",
        "    x_pred = torch.tensor(scaler.transform(x_pred), dtype=torch.float32)\n",
        "    y_pred = predict(q_w, loc_dict, model, x_pred, n_samples)\n",
        "    \n",
        "    return x_pred, y_pred\n"
      ],
      "execution_count": 0,
      "outputs": []
    },
    {
      "cell_type": "code",
      "metadata": {
        "id": "tF8MgxlM4Kdl",
        "colab_type": "code",
        "colab": {}
      },
      "source": [
        "x_pred, y_pred = predict_data(q_w, vimodel.loc_dict, model, 10)\n",
        "y_pred_train = predict(q_w, vimodel.loc_dict, model, x_train_norm, 10)\n",
        "\n",
        "fig, axes = plt.subplots(1, 3, figsize=(15, 5))\n",
        "print(len(axes))\n",
        "axes[0].plot(x_train_norm.numpy(), y_train.numpy(), 'o')\n",
        "axes[0].plot(x_train_norm.numpy(), y_pred_train.numpy(), 'o')\n",
        "axes[0].plot(x_pred.numpy(), y_pred.numpy(), 'o')"
      ],
      "execution_count": 0,
      "outputs": []
    },
    {
      "cell_type": "code",
      "metadata": {
        "id": "04oj1yPC4Kdp",
        "colab_type": "code",
        "colab": {}
      },
      "source": [
        ""
      ],
      "execution_count": 0,
      "outputs": []
    },
    {
      "cell_type": "code",
      "metadata": {
        "id": "pPwyJ8S-4Kd0",
        "colab_type": "code",
        "colab": {}
      },
      "source": [
        ""
      ],
      "execution_count": 0,
      "outputs": []
    }
  ]
}