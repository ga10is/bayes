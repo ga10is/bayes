{
  "nbformat": 4,
  "nbformat_minor": 0,
  "metadata": {
    "kernelspec": {
      "display_name": "py36",
      "language": "python",
      "name": "py36"
    },
    "language_info": {
      "codemirror_mode": {
        "name": "ipython",
        "version": 3
      },
      "file_extension": ".py",
      "mimetype": "text/x-python",
      "name": "python",
      "nbconvert_exporter": "python",
      "pygments_lexer": "ipython3",
      "version": "3.6.4"
    },
    "toc": {
      "base_numbering": 1,
      "nav_menu": {},
      "number_sections": true,
      "sideBar": true,
      "skip_h1_title": false,
      "title_cell": "Table of Contents",
      "title_sidebar": "Contents",
      "toc_cell": false,
      "toc_position": {},
      "toc_section_display": true,
      "toc_window_display": false
    },
    "colab": {
      "name": "probability_programing_1.ipynb",
      "provenance": [],
      "collapsed_sections": []
    }
  },
  "cells": [
    {
      "cell_type": "code",
      "metadata": {
        "id": "-FHS5gW_4KcW",
        "colab_type": "code",
        "colab": {}
      },
      "source": [
        "import numpy as np\n",
        "import matplotlib.pyplot as plt\n",
        "import torch\n",
        "import torch.distributions as torchdist\n",
        "import torch.nn as nn\n",
        "import torch.nn.functional as F\n",
        "import itertools\n",
        "from collections import OrderedDict"
      ],
      "execution_count": 0,
      "outputs": []
    },
    {
      "cell_type": "code",
      "metadata": {
        "id": "HHXusc_94Kce",
        "colab_type": "code",
        "colab": {}
      },
      "source": [
        "normal_dist = torchdist.Normal(loc=torch.tensor(0.), scale=torch.tensor(1.))"
      ],
      "execution_count": 0,
      "outputs": []
    },
    {
      "cell_type": "code",
      "metadata": {
        "id": "arqd0dwN4Kcj",
        "colab_type": "code",
        "colab": {}
      },
      "source": [
        "x = normal_dist.sample()"
      ],
      "execution_count": 0,
      "outputs": []
    },
    {
      "cell_type": "code",
      "metadata": {
        "id": "bRUN8aC74Kcn",
        "colab_type": "code",
        "outputId": "f079ef65-ec07-49d9-9b11-4c740787a899",
        "colab": {
          "base_uri": "https://localhost:8080/",
          "height": 35
        }
      },
      "source": [
        "x"
      ],
      "execution_count": 4,
      "outputs": [
        {
          "output_type": "execute_result",
          "data": {
            "text/plain": [
              "tensor(0.9751)"
            ]
          },
          "metadata": {
            "tags": []
          },
          "execution_count": 4
        }
      ]
    },
    {
      "cell_type": "code",
      "metadata": {
        "id": "EHfTqG-_4Kcu",
        "colab_type": "code",
        "colab": {}
      },
      "source": [
        "x = normal_dist.sample([100])"
      ],
      "execution_count": 0,
      "outputs": []
    },
    {
      "cell_type": "code",
      "metadata": {
        "id": "RUcBotC74Kcw",
        "colab_type": "code",
        "outputId": "c4606ceb-564f-4090-baa5-09c6bf043b6d",
        "colab": {
          "base_uri": "https://localhost:8080/",
          "height": 242
        }
      },
      "source": [
        "x"
      ],
      "execution_count": 6,
      "outputs": [
        {
          "output_type": "execute_result",
          "data": {
            "text/plain": [
              "tensor([-0.2297, -1.4699, -0.9743,  1.4647,  1.2115, -1.1523, -1.0646, -0.2574,\n",
              "        -0.1789, -1.0827, -0.4084,  0.2708,  0.8100, -0.3153, -0.3835,  0.9930,\n",
              "        -0.1224,  1.7591, -0.7908,  1.1788, -0.9725,  1.3558,  1.2006,  0.2354,\n",
              "         1.3564, -0.5836, -0.7023, -2.4646, -0.1629,  1.3149, -1.2432,  0.2330,\n",
              "         0.5294, -0.5055,  1.3809,  0.1236, -0.2933, -0.1012,  0.5671, -1.0663,\n",
              "        -0.5349,  0.5125, -0.2929,  0.0641,  0.1939,  0.9018, -2.3981,  0.6396,\n",
              "         0.8196,  1.1254,  1.3049,  1.6517,  0.6842, -0.9109, -0.5889, -1.3594,\n",
              "         1.1598, -0.4645, -0.3729,  0.4805, -1.0582, -1.5714, -0.7112,  1.5706,\n",
              "         0.6616, -1.0496,  0.0435,  0.9069, -1.0480, -0.0199, -0.8753,  2.0985,\n",
              "        -2.7476,  0.0074,  0.6425, -0.8499,  0.8746,  1.2590,  0.1568,  0.7747,\n",
              "        -0.0616, -0.0844, -0.5466, -0.2322,  1.0783, -1.2464,  0.9450,  0.1424,\n",
              "         2.4970,  0.5442, -0.0945,  0.6857,  1.3560, -0.7441,  1.5916,  2.0834,\n",
              "        -0.6256,  1.7943,  2.6379, -0.7257])"
            ]
          },
          "metadata": {
            "tags": []
          },
          "execution_count": 6
        }
      ]
    },
    {
      "cell_type": "code",
      "metadata": {
        "id": "7vqfszqY4Kc0",
        "colab_type": "code",
        "outputId": "ad149a51-2b79-48ba-be8f-d3a4cdb5bb98",
        "colab": {
          "base_uri": "https://localhost:8080/",
          "height": 351
        }
      },
      "source": [
        "plt.hist(x.detach().numpy())"
      ],
      "execution_count": 7,
      "outputs": [
        {
          "output_type": "execute_result",
          "data": {
            "text/plain": [
              "(array([ 3.,  0.,  6., 17., 22., 12., 17., 14.,  7.,  2.]),\n",
              " array([-2.7476368 , -2.2090864 , -1.6705363 , -1.1319859 , -0.59343565,\n",
              "        -0.05488539,  0.4836649 ,  1.0222151 ,  1.5607655 ,  2.0993156 ,\n",
              "         2.637866  ], dtype=float32),\n",
              " <a list of 10 Patch objects>)"
            ]
          },
          "metadata": {
            "tags": []
          },
          "execution_count": 7
        },
        {
          "output_type": "display_data",
          "data": {
            "image/png": "[encoded data removed]",
            "text/plain": [
              "<Figure size 432x288 with 1 Axes>"
            ]
          },
          "metadata": {
            "tags": [],
            "needs_background": "light"
          }
        }
      ]
    },
    {
      "cell_type": "code",
      "metadata": {
        "id": "8T29uQgj4Kc3",
        "colab_type": "code",
        "colab": {}
      },
      "source": [
        "def toy_poly():\n",
        "    x = 5 * torch.rand(100, 1)\n",
        "    linear_op = -3 - 4*x + x**2\n",
        "    y = torchdist.Normal(linear_op, 1).sample()\n",
        "    return x, y\n",
        "\n",
        "x_train, y_train = toy_poly()"
      ],
      "execution_count": 0,
      "outputs": []
    },
    {
      "cell_type": "code",
      "metadata": {
        "id": "-uBU48pX4Kc9",
        "colab_type": "code",
        "outputId": "e3ac50d7-0868-48ef-c96b-90ac580e8342",
        "colab": {
          "base_uri": "https://localhost:8080/",
          "height": 282
        }
      },
      "source": [
        "plt.plot(x_train.numpy(), y_train.numpy(), 'o')"
      ],
      "execution_count": 9,
      "outputs": [
        {
          "output_type": "execute_result",
          "data": {
            "text/plain": [
              "[<matplotlib.lines.Line2D at 0x7fabf813bdd8>]"
            ]
          },
          "metadata": {
            "tags": []
          },
          "execution_count": 9
        },
        {
          "output_type": "display_data",
          "data": {
            "image/png": "[encoded data removed]",
            "text/plain": [
              "<Figure size 432x288 with 1 Axes>"
            ]
          },
          "metadata": {
            "tags": [],
            "needs_background": "light"
          }
        }
      ]
    },
    {
      "cell_type": "markdown",
      "metadata": {
        "id": "H1o0zKSIvJGJ",
        "colab_type": "text"
      },
      "source": [
        "## module"
      ]
    },
    {
      "cell_type": "code",
      "metadata": {
        "id": "FrX5D9WaOSut",
        "colab_type": "code",
        "colab": {
          "base_uri": "https://localhost:8080/",
          "height": 35
        },
        "outputId": "8bfcae2f-5c47-41ae-8bc5-13860dcd9dd5"
      },
      "source": [
        "var_mu = torch.tensor([0., 0.], requires_grad=True)\n",
        "var_sigma = torch.tensor([1., 1.], requires_grad=True)\n",
        "var_mu = nn.Parameter(var_mu)\n",
        "var_sigma = nn.Parameter(var_sigma)\n",
        "\n",
        "normal_dist = torchdist.Normal(loc=var_mu, scale=var_sigma)\n",
        "\n",
        "normal_dist.rsample()"
      ],
      "execution_count": 10,
      "outputs": [
        {
          "output_type": "execute_result",
          "data": {
            "text/plain": [
              "tensor([-0.7757,  1.3155], grad_fn=<AddBackward0>)"
            ]
          },
          "metadata": {
            "tags": []
          },
          "execution_count": 10
        }
      ]
    },
    {
      "cell_type": "code",
      "metadata": {
        "id": "cIV6kKqELcbM",
        "colab_type": "code",
        "colab": {}
      },
      "source": [
        "a = torch.tensor([1.0], requires_grad=True)\n",
        "\n",
        "optimizer = torch.optim.SGD(params=[a], lr=1e-2)\n",
        "\n",
        "optimizer.zero_grad()\n",
        "\n",
        "a_dash = a + torch.tensor([2.0])\n",
        "b = torch.tensor([1.0], requires_grad=False)\n",
        "c = a_dash * b\n",
        "loss = c.mean()\n",
        "loss.backward()\n",
        "optimizer.step()\n",
        "\n",
        "optimizer.zero_grad()\n",
        "c = a_dash * b\n",
        "loss = c.mean()\n",
        "loss.backward()\n",
        "optimizer.step()\n"
      ],
      "execution_count": 0,
      "outputs": []
    },
    {
      "cell_type": "code",
      "metadata": {
        "id": "YB0z4xOQRLmg",
        "colab_type": "code",
        "colab": {}
      },
      "source": [
        "var_mu = torch.tensor([0., 0.], requires_grad=True)\n",
        "var_sigma = torch.tensor([1., 1.], requires_grad=True)\n",
        "var_mu = nn.Parameter(var_mu)\n",
        "var_sigma = nn.Parameter(var_sigma)\n",
        "\n",
        "normal_dist = torchdist.Normal(loc=var_mu, scale=var_sigma)\n",
        "\n",
        "# a_dash = a + torch.tensor([2.0])\n",
        "w_sample = normal_dist.rsample()\n",
        "b = torch.tensor([1.0], requires_grad=False)\n",
        "c1 = w_sample * b\n",
        "c1.mean().backward()\n",
        "\n",
        "w_sample = normal_dist.rsample()\n",
        "c2 = w_sample * b\n",
        "c2.mean().backward()"
      ],
      "execution_count": 0,
      "outputs": []
    },
    {
      "cell_type": "code",
      "metadata": {
        "id": "kHSGmEYg94QU",
        "colab_type": "code",
        "colab": {}
      },
      "source": [
        "class CustomNormal(torch.distributions.Normal):\n",
        "    def __init__(self, loc, scale, validate_args=None):        \n",
        "        super(CustomNormal, self).__init__(loc, scale, validate_args)                \n",
        "\n",
        "    def __getattribute__(self, name):        \n",
        "        if name == 'scale':            \n",
        "            return torch.exp(object.__getattribute__(self, name))\n",
        "        else:            \n",
        "            return object.__getattribute__(self, name)\n"
      ],
      "execution_count": 0,
      "outputs": []
    },
    {
      "cell_type": "code",
      "metadata": {
        "id": "fPME2DFCasPt",
        "colab_type": "code",
        "colab": {
          "base_uri": "https://localhost:8080/",
          "height": 173
        },
        "outputId": "ad5b6486-434d-473a-d725-035a56127cc3"
      },
      "source": [
        "var_mu = torch.tensor([0., 0.], requires_grad=True)\n",
        "var_sigma = torch.tensor([1., 1.], requires_grad=True)\n",
        "var_mu = nn.Parameter(var_mu)\n",
        "var_sigma = nn.Parameter(var_sigma)\n",
        "# var_sigma_pos = torch.distributions.transforms.ExpTransform()(var_sigma)\n",
        "# var_sigma_pos = torch.exp(var_sigma)\n",
        "\n",
        "# normal_dist = torchdist.Normal(loc=var_mu, scale=var_sigma_pos)\n",
        "normal_dist = CustomNormal(loc=var_mu, scale=var_sigma)\n",
        "\n",
        "optimizer = torch.optim.SGD(params=[var_mu, var_sigma], lr=1e-2)\n",
        "\n",
        "class MyClass:\n",
        "    def __init__(self):\n",
        "        self.param = torch.Tensor([0., 0.])\n",
        "\n",
        "obj = MyClass()\n",
        "# param = torch.Tensor([0., 0.])\n",
        "\n",
        "print(obj.param)\n",
        "\n",
        "for i in range(2):\n",
        "    optimizer.zero_grad()\n",
        "\n",
        "    \n",
        "    w_sample = normal_dist.rsample()\n",
        "    print('w_sample', w_sample)\n",
        "    # param.copy_(w_sample)\n",
        "    # obj.param = w_sample\n",
        "    \n",
        "    setattr(obj, 'param', w_sample)\n",
        "\n",
        "    x = torch.Tensor([2.])\n",
        "\n",
        "    y = obj.param * x\n",
        "    print(y)\n",
        "\n",
        "    loss = y.mean()\n",
        "    print(loss.detach().numpy())\n",
        "\n",
        "    loss.backward()\n",
        "    optimizer.step()\n",
        "\n",
        "    print(var_mu.detach(), var_sigma.detach())"
      ],
      "execution_count": 14,
      "outputs": [
        {
          "output_type": "stream",
          "text": [
            "tensor([0., 0.])\n",
            "w_sample tensor([-3.1503,  2.5689], grad_fn=<AddBackward0>)\n",
            "tensor([-6.3006,  5.1378], grad_fn=<MulBackward0>)\n",
            "-0.5814147\n",
            "tensor([-0.0100, -0.0100]) tensor([1.0315, 0.9743])\n",
            "w_sample tensor([2.3903, 1.5684], grad_fn=<AddBackward0>)\n",
            "tensor([4.7806, 3.1368], grad_fn=<MulBackward0>)\n",
            "3.958694\n",
            "tensor([-0.0200, -0.0200]) tensor([1.0075, 0.9585])\n"
          ],
          "name": "stdout"
        }
      ]
    },
    {
      "cell_type": "code",
      "metadata": {
        "id": "cTV0IcEsvItt",
        "colab_type": "code",
        "colab": {}
      },
      "source": [
        "class TensorModule:\n",
        "    def __init__(self):\n",
        "        self.training = True\n",
        "        self._parameters = OrderedDict()\n",
        "        self._modules = OrderedDict()\n",
        "        self._buffers = OrderedDict()\n",
        "\n",
        "    def __call__(self, *input, **kwargs):\n",
        "        result = self.forward(*input, **kwargs)\n",
        "        return result\n",
        "    \n",
        "    def forward(self, *input):\n",
        "        raise NotImplementedError\n",
        "\n",
        "    def __setattr__(self, name, value):\n",
        "        def remove_from(*dicts):\n",
        "            for d in dicts:\n",
        "                if name in d:\n",
        "                    del d[name]\n",
        "\n",
        "        params = self.__dict__.get('_parameters')\n",
        "        if name.startswith('p_') and isinstance(value, torch.Tensor):\n",
        "            if params is None:\n",
        "                raise AttributeError\n",
        "            remove_from(self.__dict__, self._buffers, self._modules)\n",
        "            self.register_parameter(name, value)\n",
        "        elif params is not None and name in params:\n",
        "            if value is not None:\n",
        "                raise TypeError\n",
        "            self.register_parameter(name, value)\n",
        "        else:\n",
        "            modules = self.__dict__.get('_modules')\n",
        "            if isinstance(value, TensorModule):\n",
        "                if modules is None:\n",
        "                    raise AttributeError\n",
        "                remove_from(self.__dict__, self._parameters, self._buffers)\n",
        "                modules[name] = value\n",
        "            elif modules is not None and name in modules:\n",
        "                if value is not None:\n",
        "                    raise TypeError\n",
        "                modules[name] = value\n",
        "            else:\n",
        "                buffers = self.__dict__.get('_buffers')\n",
        "                if buffers is not None and name in buffers:\n",
        "                    if value is not None and not isinstance(value, torch.Tensor):\n",
        "                        raise TypeError\n",
        "                    buffers[name] = value\n",
        "                else:\n",
        "                    object.__setattr__(self, name, value)\n",
        "\n",
        "    def __getattr__(self, name):\n",
        "        if '_parameters' in self.__dict__:\n",
        "            _parameters = self.__dict__['_parameters']\n",
        "            if name in _parameters:\n",
        "                return _parameters[name]\n",
        "\n",
        "        if '_buffers' in self.__dict__:\n",
        "            _buffers = self.__dict__['_buffers']\n",
        "            if name in _buffers:\n",
        "                return _buffers[name]\n",
        "        \n",
        "        if '_modules' in self.__dict__:\n",
        "            _modules = self.__dict__['_modules']\n",
        "            if name in _modules:\n",
        "                return _modules[name]\n",
        "\n",
        "    def register_parameter(self, name, param):\n",
        "        # debug\n",
        "        if name in self._parameters:\n",
        "            prev_param = self._parameters[name]\n",
        "        else:\n",
        "            prev_param = None\n",
        "        # print('%s: %s -> %s' % (name, str(prev_param), str(param)))\n",
        "\n",
        "        if '.' in name:\n",
        "            raise KeyError\n",
        "\n",
        "        if param is None:\n",
        "            self._parameters[name] = None\n",
        "        elif not isinstance(param, torch.Tensor):\n",
        "            raise TypeError\n",
        "        else:\n",
        "            self._parameters[name] = param\n",
        "\n",
        "    def named_modules(self, memo=None, prefix=''):\n",
        "        if memo is None:\n",
        "            memo = set()\n",
        "        if self not in memo:\n",
        "            memo.add(self)\n",
        "            yield prefix, self\n",
        "            for name, module in self._modules.items():\n",
        "                if module is None:\n",
        "                    continue\n",
        "                submodule_prefix = prefix + ('.' if prefix else '') + name\n",
        "                for m in module.named_modules(memo, submodule_prefix):\n",
        "                    yield m   \n",
        "\n",
        "    def _named_members(self, get_members_fn, prefix='', recurse=True):\n",
        "        memo = set()\n",
        "        modules = self.named_modules(prefix=prefix) if recurse else [(prefix, self)]\n",
        "        for module_prefix, module in modules:\n",
        "            members = get_members_fn(module)\n",
        "            for k, v in members:\n",
        "                if v is None or v in memo:\n",
        "                    continue\n",
        "                memo.add(v)\n",
        "                name = module_prefix + ('.' if module_prefix else '') + k\n",
        "                yield name, v\n",
        "\n",
        "    def named_parameters(self, prefix='', recurse=True):\n",
        "        gen = self._named_members(\n",
        "            lambda module: module._parameters.items(),\n",
        "            prefix=prefix, recurse=True\n",
        "        )\n",
        "        for elem in gen:\n",
        "            yield elem\n",
        "\n",
        "    def _load_from_state_dict(self, state_dict, prefix):\n",
        "        local_name_params = itertools.chain(self._parameters.items(), self._buffers.items())\n",
        "        local_state = {k: v for k, v in local_name_params if v is not None}\n",
        "\n",
        "        for name, param in local_state.items():\n",
        "            key = prefix + name\n",
        "            if key in state_dict:\n",
        "                input_param = state_dict[key]\n",
        "                setattr(self, name, input_param)\n",
        "                # with torch.no_grad():                        \n",
        "                # param.copy_(input_param)\n",
        "            else:\n",
        "                print('miss key: %s' % key)\n",
        "\n",
        "\n",
        "    def set_params(self, state_dict):\n",
        "        def load(module, prefix=''):\n",
        "            module._load_from_state_dict(state_dict, prefix)\n",
        "        \n",
        "            for name, child in module._modules.items():\n",
        "                if child is not None:\n",
        "                    load(child, prefix + name + '.')\n",
        "        load(self)\n",
        "        load = None\n",
        "        \n",
        "    def train(self, mode=True):\n",
        "        self.training =  mode\n",
        "        for module in self.children():\n",
        "            module.train(mode)\n",
        "        return self\n",
        "\n",
        "    def eval(self):\n",
        "        return self.train(False)\n",
        "\n",
        "    def children(self):\n",
        "        for name, module in self.named_children():\n",
        "            yield module\n",
        "\n",
        "    def named_children(self):\n",
        "        memo = set()\n",
        "        for name, module in self._modules.items():\n",
        "            if module is not None and module not in memo:\n",
        "                memo.add(module)\n",
        "                yield name, module\n",
        "\n",
        "class TensorLinear(TensorModule):\n",
        "    def __init__(self, in_features, out_features, bias=True):\n",
        "        super(TensorLinear, self).__init__()\n",
        "\n",
        "        self.in_features = in_features\n",
        "        self.out_features = out_features\n",
        "        # self.weight = TensorParameter((out_features, in_features))\n",
        "        self.p_weight = torch.zeros((out_features, in_features), dtype=torch.float32)\n",
        "        if bias:\n",
        "            self.p_bias = torch.zeros((out_features, ), dtype=torch.float32)\n",
        "        else:\n",
        "            # original self.register_parameter('bias', None)\n",
        "            self.p_bias = None\n",
        "\n",
        "    def forward(self, input):\n",
        "        return F.linear(input, self.p_weight, self.p_bias)\n",
        "\n",
        "class TensorLinearNet(TensorModule):\n",
        "    def __init__(self):\n",
        "        super(TensorLinearNet, self).__init__()\n",
        "        self.linear1 = TensorLinear(1, 16)\n",
        "        self.linear2 = TensorLinear(16, 1)\n",
        "        self.linear3 = TensorLinear(16, 1)\n",
        "        self.relu = nn.ReLU()        \n",
        "\n",
        "    def forward(self, x):\n",
        "        x = self.linear1(x)\n",
        "        x = self.relu(x)\n",
        "        x = self.linear2(x)\n",
        "        # x = self.relu(x)\n",
        "        # x = self.linear3(x)\n",
        "\n",
        "        return x"
      ],
      "execution_count": 0,
      "outputs": []
    },
    {
      "cell_type": "markdown",
      "metadata": {
        "id": "ezTSw0Np4KdA",
        "colab_type": "text"
      },
      "source": [
        "## model"
      ]
    },
    {
      "cell_type": "code",
      "metadata": {
        "id": "4_vkvU5W4KdA",
        "colab_type": "code",
        "colab": {}
      },
      "source": [
        "class LinearNet(nn.Module):\n",
        "    def __init__(self):\n",
        "        super(LinearNet, self).__init__()\n",
        "        \n",
        "    def forward(self, w, x):\n",
        "        \"\"\"\n",
        "        w: shape of (3,)\n",
        "        x: shape of (batch,)\n",
        "        \"\"\"\n",
        "        #         phi_x = torch.tensor([])\n",
        "        y = w[0] + w[1]*x + w[2]*x**2\n",
        "        return y\n",
        "\n",
        "class LinearNet2(nn.Module):\n",
        "    def __init__(self):\n",
        "        super(LinearNet2, self).__init__()\n",
        "\n",
        "        self.linear1 = nn.Linear(1, 8)\n",
        "        self.linear2 = nn.Linear(8, 1)\n",
        "\n",
        "    def forward(self, x):\n",
        "        x = self.linear1(x)\n",
        "        x = self.linear2(x)\n",
        "\n",
        "        return x"
      ],
      "execution_count": 0,
      "outputs": []
    },
    {
      "cell_type": "code",
      "metadata": {
        "id": "N7fdgqQI4KdD",
        "colab_type": "code",
        "colab": {}
      },
      "source": [
        "class VImodel_org(nn.Module):\n",
        "    \"\"\"\n",
        "    q(w; eta)\n",
        "    \"\"\"\n",
        "    def __init__(self, model):\n",
        "        super(VImodel, self).__init__()\n",
        "\n",
        "        self.model = model\n",
        "        self.eta_mu = nn.Parameter(torch.tensor([0., 0., 0.]))\n",
        "        self.eta_log_sigma = nn.Parameter(torch.tensor([0., 0., 0.]))\n",
        "    \n",
        "    def dist(self):\n",
        "        eta_sigma = torch.exp(self.eta_log_sigma)\n",
        "        q_w = torchdist.Normal(self.eta_mu, eta_sigma)\n",
        "        \n",
        "        return q_w\n",
        "    '''\n",
        "    def rsample(self):\n",
        "        eta_sigma = torch.exp(self.eta_log_sigma)\n",
        "        q_w = torchdist.Normal(self.eta_mu, eta_sigma)\n",
        "        \n",
        "        # shape of w: (3,)\n",
        "        w = q_w.rsample()\n",
        "        \n",
        "        return w\n",
        "    '''\n",
        "\n",
        "class ParameterDistribution:\n",
        "    def __init__(self, dist):\n",
        "        \"\"\"\n",
        "        Parameters\n",
        "        ----------\n",
        "        dist: dict\n",
        "            key: paramter name\n",
        "            value: torch.distributions.distribution.Distribution\n",
        "        \"\"\"\n",
        "        if not isinstance(dist, OrderedDict):\n",
        "            raise ValueError('dist must be OrderedDict')\n",
        "        self.dist = dist\n",
        "\n",
        "    def sample(self):\n",
        "        w_sample = OrderedDict()\n",
        "        for n, d in self.dist.items():\n",
        "            w_sample[n] = d.sample()\n",
        "\n",
        "        return w_sample\n",
        "\n",
        "    def rsample(self):\n",
        "        w_sample = OrderedDict()\n",
        "        for n, d in self.dist.items():\n",
        "            w_sample[n] = d.rsample()\n",
        "\n",
        "        return w_sample\n",
        "\n",
        "    def log_prob(self, w):\n",
        "        \"\"\"\n",
        "        Parameters\n",
        "        ----------\n",
        "        w: dict\n",
        "            key: parameter name\n",
        "            value: torch.Tensor\n",
        "        \"\"\"\n",
        "        sum_log_prob = 0\n",
        "        for k, v in w.items():\n",
        "            distribution = self.dist[k]\n",
        "            sum_log_prob += distribution.log_prob(v).sum()\n",
        "\n",
        "        return sum_log_prob\n",
        "\n",
        "class VIModel(nn.Module):\n",
        "    def __init__(self, model):\n",
        "        super(VIModel, self).__init__()\n",
        "        # set param\n",
        "\n",
        "        param_dict = self.get_params(model)\n",
        "        self.dist = self.normal_dist(param_dict)        \n",
        "        self.__setparams(param_dict)        \n",
        "\n",
        "    def get_params(self, model):\n",
        "        param_dict = OrderedDict()\n",
        "        for n, p in model.named_parameters():\n",
        "            mu = nn.Parameter(torch.zeros_like(p.data))\n",
        "            log_sigma = nn.Parameter(torch.zeros_like(p.data))\n",
        "            \n",
        "            eta_dict = {\n",
        "                'mu': mu,\n",
        "                'log_sigma': log_sigma\n",
        "            }\n",
        "            param_dict[n] = eta_dict\n",
        "\n",
        "        return param_dict\n",
        "\n",
        "    def normal_dist(self, param_dict):\n",
        "        dist = OrderedDict()\n",
        "        for n, eta_dict in param_dict.items():\n",
        "            mu = eta_dict['mu']\n",
        "            log_sigma = eta_dict['log_sigma']\n",
        "            # sigma = torch.exp(log_sigma)\n",
        "\n",
        "            # dist[n] = torchdist.Normal(mu, sigma)\n",
        "            dist[n] = CustomNormal(mu, log_sigma)\n",
        "\n",
        "        return dist\n",
        "\n",
        "    def __setparams(self, param_dict):\n",
        "        for n, eta_dict in param_dict.items():\n",
        "            for eta_name, eta_param in eta_dict.items():\n",
        "                # parameter\n",
        "                name =  '_'.join([n.replace('.', '_'), eta_name])\n",
        "                setattr(self, name, eta_param)\n",
        "                \n",
        "\n",
        "def normal_dist(model):\n",
        "    dist = OrderedDict()\n",
        "    for n, p in model.named_parameters():\n",
        "        mu = nn.Parameter(torch.zeros_like(p.data))\n",
        "        sigma = torch.exp(nn.Parameter(torch.zeros_like(p.data)))        \n",
        "        dist[n] = torchdist.Normal(mu, sigma)\n",
        "\n",
        "    return dist\n",
        "\n",
        "def normal_prior_dist(model):\n",
        "    dist = OrderedDict()\n",
        "    for n, p in model.named_parameters():\n",
        "        param_size = p.size()        \n",
        "        mu = torch.zeros(param_size)\n",
        "        # [10, 10, ...]\n",
        "        sigma = torch.zeros((1,)).new_full(param_size, 10.0)\n",
        "        dist[n] = torchdist.Normal(mu, sigma)\n",
        "\n",
        "    return dist"
      ],
      "execution_count": 0,
      "outputs": []
    },
    {
      "cell_type": "code",
      "metadata": {
        "id": "LjMlRDMN4KdH",
        "colab_type": "code",
        "colab": {}
      },
      "source": [
        "def kl_divergence(q_w, p_w, model, x, y):\n",
        "\n",
        "    # sampling from q(w)\n",
        "    w_sample = q_w.rsample()\n",
        "    \n",
        "    # l1_p_w = w_sample['linear1.p_weight']\n",
        "    # print(l1_p_w, id(l1_p_w))\n",
        "    # print(model.linear1.p_weight, id(model.linear1.p_weight))\n",
        "\n",
        "    # print('w_sample', w_sample)\n",
        "    # model.load_state_dict(w_sample)\n",
        "    # freeze_param(model)\n",
        "    # printw(model)\n",
        "    # setw(model, w_sample, '') \n",
        "    model.set_params(w_sample)\n",
        "\n",
        "    # l1_p_w = model.linear1._parameters['p_weight']\n",
        "    # print(l1_p_w, id(l1_p_w))\n",
        "    # print(model.linear1.p_weight, id(model.linear1.p_weight))\n",
        "    \n",
        "    # calculate f(x)\n",
        "    # p(y|x,w) = N(f(x; w), 1)\n",
        "    output = model(x)\n",
        "\n",
        "    # print('output', output)\n",
        "    p_y_xw = torchdist.Normal(output, torch.ones_like(output))\n",
        "\n",
        "    # log(p(w, x, y)) = log(p(w)) + sum(log(p(y|x,w)))    \n",
        "    val_log_joint_prob = p_w.log_prob(w_sample) + p_y_xw.log_prob(y).sum()\n",
        "\n",
        "    val_log_q_w = q_w.log_prob(w_sample)\n",
        "    \n",
        "    return val_log_q_w - val_log_joint_prob\n",
        "\n",
        "\n",
        "def loss_func(model, x, y):\n",
        "    y_pred = model(x)\n",
        "    loss = ((y - y_pred)**2).mean()\n",
        "    return loss\n",
        "\n",
        "def freeze_param(model):\n",
        "    for p in model.parameters():\n",
        "        p.requires_grad = False\n",
        "\n",
        "def setw(module, w_dict, prefix):\n",
        "    var_names = list(module._parameters.keys())\n",
        "    for var_name in var_names:\n",
        "        if prefix == '':\n",
        "            full_name = var_name\n",
        "        else:\n",
        "            full_name = '.'.join([prefix, var_name])\n",
        "        print(full_name)\n",
        "        value = w_dict[full_name]        \n",
        "        # module.__setattr__ == \n",
        "        \n",
        "        # value_param =  nn.Parameter(value, requires_grad=False)\n",
        "        # dengerous process\n",
        "        value.__class__ = nn.Parameter\n",
        "        setattr(module, var_name, value)\n",
        "        print('test')\n",
        "        # module.register_parameter(var_name, value_param)\n",
        "        # module._parameters[var_name] = value\n",
        "        \n",
        "    for child_name, child_module in module._modules.items():\n",
        "        if prefix == '':\n",
        "            child_full_name = child_name\n",
        "        else:\n",
        "            child_full_name = '.'.join([prefix, child_name])\n",
        "        setw(child_module, w_dict, child_full_name)\n",
        "\n",
        "def printw(module, prefix=''):\n",
        "    var_names = list(module._parameters.keys())\n",
        "    for var_name in var_names:        \n",
        "        if prefix == '':\n",
        "            full_name = var_name\n",
        "        else:\n",
        "            full_name = '.'.join([prefix, var_name])\n",
        "        print(full_name)\n",
        "        print(getattr(module, var_name))        \n",
        "\n",
        "    for child_name, child_module in module._modules.items():\n",
        "        if prefix == '':\n",
        "            child_full_name = child_name\n",
        "        else:\n",
        "            child_full_name = '.'.join([prefix, child_name])\n",
        "        printw(child_module, child_full_name)\n",
        "\n",
        "def write_graph(writer, model, x):\n",
        "    writer.add_graph(model, input_to_model=x)"
      ],
      "execution_count": 0,
      "outputs": []
    },
    {
      "cell_type": "markdown",
      "metadata": {
        "id": "IEMKHByHrdgv",
        "colab_type": "text"
      },
      "source": [
        "## exec"
      ]
    },
    {
      "cell_type": "code",
      "metadata": {
        "id": "1Pn6FEfV4KdQ",
        "colab_type": "code",
        "colab": {}
      },
      "source": [
        "# model = LinearNet2()\n",
        "model = TensorLinearNet()\n",
        "vimodel = VIModel(model)\n",
        "q_w = ParameterDistribution(vimodel.dist)\n",
        "p_w = ParameterDistribution(normal_prior_dist(model))\n",
        "\n",
        "optimizer = torch.optim.SGD(params=vimodel.parameters(), lr=1e-4)"
      ],
      "execution_count": 0,
      "outputs": []
    },
    {
      "cell_type": "code",
      "metadata": {
        "scrolled": true,
        "id": "87ydpXz34KdS",
        "colab_type": "code",
        "outputId": "bd199c8e-0920-4960-dc05-77dde428fc54",
        "colab": {
          "base_uri": "https://localhost:8080/",
          "height": 1000
        }
      },
      "source": [
        "model.train()\n",
        "for i in range(10000):    \n",
        "    with torch.set_grad_enabled(True):    \n",
        "        optimizer.zero_grad()\n",
        "        # loss = kl_divergence2(q_w, p_w, vimodel, x_train, y_train)\n",
        "        loss = kl_divergence(q_w, p_w, model, x_train, y_train)        \n",
        "        # loss = loss_func(model, x_train, y_train)\n",
        "        loss.backward()\n",
        "        optimizer.step()\n",
        "        \n",
        "    \n",
        "    if (i+1) % 100 == 0:\n",
        "        # mu = vimodel.eta_mu.detach().numpy()\n",
        "        # sigma = torch.exp(vimodel.eta_log_sigma.detach()).numpy()\n",
        "        # print('loss: %f mu: %s sigma: %s' % (loss.detach().numpy(), str(mu), str(sigma)))\n",
        "        # print(loss.size())\n",
        "        print('iter: %d loss: %f ' % (i, loss.item(),))"
      ],
      "execution_count": 20,
      "outputs": [
        {
          "output_type": "stream",
          "text": [
            "iter: 99 loss: 772.380493 \n",
            "iter: 199 loss: 653.631958 \n",
            "iter: 299 loss: 585.818054 \n",
            "iter: 399 loss: 639.038391 \n",
            "iter: 499 loss: 645.086365 \n",
            "iter: 599 loss: 614.361755 \n",
            "iter: 699 loss: 593.973877 \n",
            "iter: 799 loss: 594.942566 \n",
            "iter: 899 loss: 520.285034 \n",
            "iter: 999 loss: 572.937073 \n",
            "iter: 1099 loss: 573.818665 \n",
            "iter: 1199 loss: 581.060364 \n",
            "iter: 1299 loss: 507.344910 \n",
            "iter: 1399 loss: 573.329529 \n",
            "iter: 1499 loss: 567.001282 \n",
            "iter: 1599 loss: 582.096558 \n",
            "iter: 1699 loss: 578.445312 \n",
            "iter: 1799 loss: 573.031799 \n",
            "iter: 1899 loss: 586.380920 \n",
            "iter: 1999 loss: 562.461975 \n",
            "iter: 2099 loss: 593.880676 \n",
            "iter: 2199 loss: 528.276672 \n",
            "iter: 2299 loss: 567.287903 \n",
            "iter: 2399 loss: 563.055603 \n",
            "iter: 2499 loss: 558.969849 \n",
            "iter: 2599 loss: 581.409485 \n",
            "iter: 2699 loss: 577.058716 \n",
            "iter: 2799 loss: 577.416382 \n",
            "iter: 2899 loss: 572.287781 \n",
            "iter: 2999 loss: 573.747559 \n",
            "iter: 3099 loss: 570.390503 \n",
            "iter: 3199 loss: 550.226685 \n",
            "iter: 3299 loss: 572.549194 \n",
            "iter: 3399 loss: 573.384399 \n",
            "iter: 3499 loss: 560.764832 \n",
            "iter: 3599 loss: 577.071716 \n",
            "iter: 3699 loss: 566.533936 \n",
            "iter: 3799 loss: 552.322327 \n",
            "iter: 3899 loss: 575.149109 \n",
            "iter: 3999 loss: 562.129089 \n",
            "iter: 4099 loss: 553.386841 \n",
            "iter: 4199 loss: 559.478638 \n",
            "iter: 4299 loss: 551.935974 \n",
            "iter: 4399 loss: 548.111572 \n",
            "iter: 4499 loss: 557.098938 \n",
            "iter: 4599 loss: 558.016602 \n",
            "iter: 4699 loss: 556.339294 \n",
            "iter: 4799 loss: 562.883850 \n",
            "iter: 4899 loss: 577.605408 \n",
            "iter: 4999 loss: 546.836121 \n",
            "iter: 5099 loss: 565.441711 \n",
            "iter: 5199 loss: 772.497314 \n",
            "iter: 5299 loss: 575.151001 \n",
            "iter: 5399 loss: 525.846069 \n",
            "iter: 5499 loss: 496.648041 \n",
            "iter: 5599 loss: 539.842529 \n",
            "iter: 5699 loss: 566.181152 \n",
            "iter: 5799 loss: 532.900024 \n",
            "iter: 5899 loss: 846.522339 \n",
            "iter: 5999 loss: 550.587463 \n",
            "iter: 6099 loss: 482.161896 \n",
            "iter: 6199 loss: 559.349854 \n",
            "iter: 6299 loss: 539.224243 \n",
            "iter: 6399 loss: 538.752197 \n",
            "iter: 6499 loss: 569.310425 \n",
            "iter: 6599 loss: 484.507782 \n",
            "iter: 6699 loss: 566.163452 \n",
            "iter: 6799 loss: 558.237000 \n",
            "iter: 6899 loss: 568.100098 \n",
            "iter: 6999 loss: 567.452881 \n",
            "iter: 7099 loss: 566.824524 \n",
            "iter: 7199 loss: 553.619324 \n",
            "iter: 7299 loss: 506.459320 \n",
            "iter: 7399 loss: 541.594666 \n",
            "iter: 7499 loss: 499.898621 \n",
            "iter: 7599 loss: 530.069336 \n",
            "iter: 7699 loss: 500.438904 \n",
            "iter: 7799 loss: 494.681702 \n",
            "iter: 7899 loss: 519.150818 \n",
            "iter: 7999 loss: 434.295868 \n",
            "iter: 8099 loss: 441.341156 \n",
            "iter: 8199 loss: 455.330200 \n",
            "iter: 8299 loss: 462.558899 \n",
            "iter: 8399 loss: 430.339600 \n",
            "iter: 8499 loss: 416.395599 \n",
            "iter: 8599 loss: 447.707397 \n",
            "iter: 8699 loss: 387.952637 \n",
            "iter: 8799 loss: 381.960358 \n",
            "iter: 8899 loss: 407.871765 \n",
            "iter: 8999 loss: 383.724152 \n",
            "iter: 9099 loss: 405.061829 \n",
            "iter: 9199 loss: 389.122467 \n",
            "iter: 9299 loss: 376.816040 \n",
            "iter: 9399 loss: 435.214722 \n",
            "iter: 9499 loss: 369.486450 \n",
            "iter: 9599 loss: 425.712463 \n",
            "iter: 9699 loss: 386.431946 \n",
            "iter: 9799 loss: 344.502960 \n",
            "iter: 9899 loss: 403.398071 \n",
            "iter: 9999 loss: 348.919891 \n"
          ],
          "name": "stdout"
        }
      ]
    },
    {
      "cell_type": "code",
      "metadata": {
        "id": "gQWSlcCF4Kdc",
        "colab_type": "code",
        "colab": {}
      },
      "source": [
        ""
      ],
      "execution_count": 0,
      "outputs": []
    },
    {
      "cell_type": "markdown",
      "metadata": {
        "id": "d9mOfcn24Kdg",
        "colab_type": "text"
      },
      "source": [
        "## prediction\n",
        "\n",
        "Calculate prediction distribution\n",
        "$$\n",
        "\\begin{align}\n",
        "p(y_*| x_*, X, Y) &= \\int p(y_*| x_*, W) p(W| X, Y) dW \\\\\n",
        "&\\approx \\int p(y_*| x_*, W) q(W; \\eta) dW \n",
        "\\end{align}\n",
        "$$"
      ]
    },
    {
      "cell_type": "code",
      "metadata": {
        "id": "skswvUkj4Kdg",
        "colab_type": "code",
        "colab": {}
      },
      "source": [
        "def predict(q_w, model, x, n_samples):    \n",
        "    \n",
        "    approx_y = 0    \n",
        "    with torch.no_grad():\n",
        "        for i in range(n_samples):\n",
        "            # sampling from q(w)\n",
        "            w_sample = q_w.sample()\n",
        "            model.set_params(w_sample)\n",
        "            # calculate f(x)\n",
        "            output = model(x)\n",
        "\n",
        "            # p(y|x,w) = N(f(x; w), 1)\n",
        "            p_y_xw = torchdist.Normal(output, torch.ones_like(output))\n",
        "\n",
        "            # sampling from p(y, w)\n",
        "            y_sample = p_y_xw.sample()\n",
        "\n",
        "            approx_y += y_sample / n_samples\n",
        "    \n",
        "    return approx_y"
      ],
      "execution_count": 0,
      "outputs": []
    },
    {
      "cell_type": "code",
      "metadata": {
        "id": "O-T_EbsM4Kdj",
        "colab_type": "code",
        "colab": {}
      },
      "source": [
        "def predict_data(q_w, model):\n",
        "    n_samples = 100\n",
        "    x_pred = 5 * torch.rand(100, 1)\n",
        "    y_pred = predict(q_w, model, x_pred, n_samples)\n",
        "    \n",
        "    return x_pred, y_pred\n",
        "\n",
        "x_pred, y_pred = predict_data(q_w, model)"
      ],
      "execution_count": 0,
      "outputs": []
    },
    {
      "cell_type": "code",
      "metadata": {
        "id": "tF8MgxlM4Kdl",
        "colab_type": "code",
        "colab": {
          "base_uri": "https://localhost:8080/",
          "height": 355
        },
        "outputId": "e269c34b-339e-4e65-93d9-ec0269e37db3"
      },
      "source": [
        "fig, axes = plt.subplots(1, 2, figsize=(12, 5))\n",
        "print(len(axes))\n",
        "axes[0].plot(x_train.numpy(), y_train.numpy(), 'o')\n",
        "axes[1].plot(x_pred.numpy(), y_pred.numpy(), 'o')"
      ],
      "execution_count": 26,
      "outputs": [
        {
          "output_type": "stream",
          "text": [
            "2\n"
          ],
          "name": "stdout"
        },
        {
          "output_type": "execute_result",
          "data": {
            "text/plain": [
              "[<matplotlib.lines.Line2D at 0x7fabf6fb47b8>]"
            ]
          },
          "metadata": {
            "tags": []
          },
          "execution_count": 26
        },
        {
          "output_type": "display_data",
          "data": {
            "image/png": "[encoded data removed]",
            "text/plain": [
              "<Figure size 864x360 with 2 Axes>"
            ]
          },
          "metadata": {
            "tags": [],
            "needs_background": "light"
          }
        }
      ]
    },
    {
      "cell_type": "code",
      "metadata": {
        "id": "04oj1yPC4Kdp",
        "colab_type": "code",
        "colab": {}
      },
      "source": [
        ""
      ],
      "execution_count": 0,
      "outputs": []
    },
    {
      "cell_type": "code",
      "metadata": {
        "id": "2UOCXFKe4Kdv",
        "colab_type": "code",
        "colab": {}
      },
      "source": [
        "def log_joint_prob(w0, w1, w2, x, y):\n",
        "    prior_w0 = torchdist.Normal(torch.tensor(0.), 10*torch.tensor(1.))\n",
        "    prior_w1 = torchdist.Normal(torch.tensor(0.), 10*torch.tensor(1.))\n",
        "    prior_w2 = torchdist.Normal(torch.tensor(0.), 10*torch.tensor(1.))\n",
        "    \n",
        "    linear = w0 + w1*x + w2*x**2\n",
        "    likelihood = torchdist.Normal(linear, torch.ones_like(linear))\n",
        "    \n",
        "    return (\n",
        "        prior_w0.log_prob(w0) +\n",
        "        prior_w1.log_prob(w1) +\n",
        "        prior_w2.log_prob(w2) +\n",
        "        likelihood.log_prob(y).mean()\n",
        "    )"
      ],
      "execution_count": 0,
      "outputs": []
    },
    {
      "cell_type": "code",
      "metadata": {
        "id": "V6bGlFup4Kdx",
        "colab_type": "code",
        "colab": {}
      },
      "source": [
        "'''\n",
        "w0 = torch.nn.Parameter(torch.tensor(1.))\n",
        "w1 = torch.nn.Parameter(torch.tensor(1.))\n",
        "w2 = torch.nn.Parameter(torch.tensor(1.))\n",
        "\n",
        "optimizer = torch.optim.Adam(params=[w0, w1, w2], lr=1e-3)\n",
        "\n",
        "for i in range(30000):\n",
        "    optimizer.zero_grad()\n",
        "    log_joint_prob_value = log_joint_prob(w0, w1, w2, x_train, y_train)\n",
        "    loss_value = - log_joint_prob_value\n",
        "    loss_value.backward()\n",
        "    optimizer.step()\n",
        "    \n",
        "    if (i+1) % 1000 == 0 or (i==0):\n",
        "        print(loss_value.detach().numpy())\n",
        "'''"
      ],
      "execution_count": 0,
      "outputs": []
    },
    {
      "cell_type": "code",
      "metadata": {
        "id": "pPwyJ8S-4Kd0",
        "colab_type": "code",
        "colab": {}
      },
      "source": [
        ""
      ],
      "execution_count": 0,
      "outputs": []
    }
  ]
}