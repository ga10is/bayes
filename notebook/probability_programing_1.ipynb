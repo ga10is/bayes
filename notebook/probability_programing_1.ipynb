{
 "cells": [
  {
   "cell_type": "code",
   "execution_count": 1,
   "metadata": {},
   "outputs": [],
   "source": [
    "import numpy as np\n",
    "import matplotlib.pyplot as plt\n",
    "import torch\n",
    "import torch.distributions as torchdist\n",
    "import torch.nn as nn"
   ]
  },
  {
   "cell_type": "code",
   "execution_count": 2,
   "metadata": {},
   "outputs": [],
   "source": [
    "normal_dist = torchdist.Normal(loc=torch.tensor(0.), scale=torch.tensor(1.))"
   ]
  },
  {
   "cell_type": "code",
   "execution_count": 3,
   "metadata": {},
   "outputs": [],
   "source": [
    "x = normal_dist.sample()"
   ]
  },
  {
   "cell_type": "code",
   "execution_count": 4,
   "metadata": {},
   "outputs": [
    {
     "data": {
      "text/plain": [
       "tensor(-1.6541)"
      ]
     },
     "execution_count": 4,
     "metadata": {},
     "output_type": "execute_result"
    }
   ],
   "source": [
    "x"
   ]
  },
  {
   "cell_type": "code",
   "execution_count": 5,
   "metadata": {},
   "outputs": [],
   "source": [
    "x = normal_dist.sample([100])"
   ]
  },
  {
   "cell_type": "code",
   "execution_count": 6,
   "metadata": {},
   "outputs": [
    {
     "data": {
      "text/plain": [
       "tensor([ 0.0771, -1.5466,  0.2884,  1.0425,  0.5454, -0.7535, -0.8863, -1.9649,\n",
       "         1.4845, -1.2679,  1.5053,  0.3087,  0.8753, -0.7226, -0.2196, -0.7932,\n",
       "        -1.7360, -2.8748,  0.6508,  0.6414, -0.1379,  0.5310,  0.7292,  1.0037,\n",
       "         0.3915, -0.3077, -1.6156, -1.0584,  0.3957,  2.3781,  0.0935, -2.0646,\n",
       "        -0.5939, -0.1284, -0.1470,  0.9330, -0.7404,  1.4943, -0.1264,  0.5002,\n",
       "         0.3606,  1.1733, -1.0369, -0.1545,  1.6796, -0.1438, -0.5004,  0.1363,\n",
       "         0.3740, -1.0412,  0.1299, -0.2962, -1.4899, -2.0192, -0.0910, -0.3518,\n",
       "         2.6431,  1.1347, -0.4285,  0.1258,  0.8439, -0.7216, -0.1777, -0.9818,\n",
       "        -0.5263,  0.4214, -1.2704,  0.5404, -0.5254, -1.1265, -1.7954, -0.9965,\n",
       "         0.7182, -2.6893,  0.3045, -0.5148, -0.1577, -0.1463, -0.0425, -0.2962,\n",
       "         0.2282,  1.2408, -1.7098, -1.0748,  0.0246,  0.3392, -0.7891,  0.0578,\n",
       "         0.0186, -2.2881,  0.2632,  1.7177, -0.5182,  0.8976, -0.1576,  1.5942,\n",
       "         0.7322,  0.2230, -0.6350, -1.1250])"
      ]
     },
     "execution_count": 6,
     "metadata": {},
     "output_type": "execute_result"
    }
   ],
   "source": [
    "x"
   ]
  },
  {
   "cell_type": "code",
   "execution_count": 7,
   "metadata": {},
   "outputs": [
    {
     "data": {
      "text/plain": [
       "(array([ 2.,  5.,  7., 15., 23., 22., 13.,  8.,  3.,  2.]),\n",
       " array([-2.8748193 , -2.323025  , -1.7712307 , -1.2194365 , -0.66764224,\n",
       "        -0.11584795,  0.43594632,  0.9877406 ,  1.5395348 ,  2.091329  ,\n",
       "         2.6431234 ], dtype=float32),\n",
       " <a list of 10 Patch objects>)"
      ]
     },
     "execution_count": 7,
     "metadata": {},
     "output_type": "execute_result"
    },
    {
     "data": {
      "image/png": "[encoded data removed]",
      "text/plain": [
       "<Figure size 432x288 with 1 Axes>"
      ]
     },
     "metadata": {
      "needs_background": "light"
     },
     "output_type": "display_data"
    }
   ],
   "source": [
    "plt.hist(x.detach().numpy())"
   ]
  },
  {
   "cell_type": "code",
   "execution_count": 8,
   "metadata": {},
   "outputs": [],
   "source": [
    "def toy_poly():\n",
    "    x = 5 * torch.rand(100, 1)\n",
    "    linear_op = -3 - 4*x + x**2\n",
    "    y = torchdist.Normal(linear_op, 1).sample()\n",
    "    return x, y\n",
    "\n",
    "x_train, y_train = toy_poly()"
   ]
  },
  {
   "cell_type": "code",
   "execution_count": 9,
   "metadata": {},
   "outputs": [
    {
     "data": {
      "text/plain": [
       "[<matplotlib.lines.Line2D at 0x2421aa66080>]"
      ]
     },
     "execution_count": 9,
     "metadata": {},
     "output_type": "execute_result"
    },
    {
     "data": {
      "image/png": "[encoded data removed]",
      "text/plain": [
       "<Figure size 432x288 with 1 Axes>"
      ]
     },
     "metadata": {
      "needs_background": "light"
     },
     "output_type": "display_data"
    }
   ],
   "source": [
    "plt.plot(x_train.numpy(), y_train.numpy(), 'o')"
   ]
  },
  {
   "cell_type": "markdown",
   "metadata": {},
   "source": [
    "## model"
   ]
  },
  {
   "cell_type": "code",
   "execution_count": 10,
   "metadata": {},
   "outputs": [],
   "source": [
    "class LinearNet(nn.Module):\n",
    "    def __init__(self):\n",
    "        super(LinearNet, self).__init__()\n",
    "        \n",
    "    def forward(self, w, x):\n",
    "        \"\"\"\n",
    "        w: shape of (3,)\n",
    "        x: shape of (batch,)\n",
    "        \"\"\"\n",
    "        #         phi_x = torch.tensor([])\n",
    "        y = w[0] + w[1]*x + w[2]*x**2\n",
    "        return y"
   ]
  },
  {
   "cell_type": "code",
   "execution_count": 11,
   "metadata": {},
   "outputs": [],
   "source": [
    "class VImodel(nn.Module):\n",
    "    \"\"\"\n",
    "    q(w; eta)\n",
    "    \"\"\"\n",
    "    def __init__(self):\n",
    "        super(VImodel, self).__init__()\n",
    "        self.eta_mu = nn.Parameter(torch.tensor([0., 0., 0.]))\n",
    "        self.eta_log_sigma = nn.Parameter(torch.tensor([0., 0., 0.]))\n",
    "    \n",
    "    def dist(self):\n",
    "        eta_sigma = torch.exp(self.eta_log_sigma)\n",
    "        q_w = torchdist.Normal(self.eta_mu, eta_sigma)\n",
    "        \n",
    "        return q_w\n",
    "    '''\n",
    "    def rsample(self):\n",
    "        eta_sigma = torch.exp(self.eta_log_sigma)\n",
    "        q_w = torchdist.Normal(self.eta_mu, eta_sigma)\n",
    "        \n",
    "        # shape of w: (3,)\n",
    "        w = q_w.rsample()\n",
    "        \n",
    "        return w\n",
    "    '''"
   ]
  },
  {
   "cell_type": "code",
   "execution_count": 12,
   "metadata": {},
   "outputs": [],
   "source": [
    "def kl_divergence(vmodel, model, x, y):\n",
    "    q_w = vmodel.dist()\n",
    "    w_sample = q_w.rsample()    \n",
    "    \n",
    "    output = model(w_sample, x)    \n",
    "    \n",
    "    # p(y|x,w) = N(f(x; w), 1)\n",
    "    p_y_xw = torchdist.Normal(output, torch.ones_like(output))\n",
    "    # p(w) = N(0, 10)\n",
    "    p_w = torchdist.Normal(torch.tensor([0., 0., 0.]), torch.tensor([10., 10., 10.]))\n",
    "    \n",
    "    # log(p(w, x, y)) = log(p(w)) + 1/n * sigma(log(p(y|x,w)))\n",
    "    val_log_joint_prob = p_w.log_prob(w_sample).sum() + p_y_xw.log_prob(y).mean()\n",
    "    \n",
    "    val_log_q_w = q_w.log_prob(w_sample).sum()\n",
    "    \n",
    "    return val_log_q_w - val_log_joint_prob"
   ]
  },
  {
   "cell_type": "code",
   "execution_count": 20,
   "metadata": {},
   "outputs": [],
   "source": [
    "vimodel = VImodel()\n",
    "model = LinearNet()\n",
    "optimizer = torch.optim.SGD(params=vimodel.parameters(), lr=1e-4)"
   ]
  },
  {
   "cell_type": "code",
   "execution_count": 21,
   "metadata": {},
   "outputs": [
    {
     "name": "stdout",
     "output_type": "stream",
     "text": [
      "loss: 26.812496 mu: [-0.00021048  0.0002079   0.00241458]\n",
      "loss: 18.832735 mu: [-0.15953322 -0.20465852 -0.18758607]\n",
      "loss: 21.290607 mu: [-0.29363307 -0.3346249  -0.11052269]\n",
      "loss: 17.090652 mu: [-0.42486292 -0.47146088 -0.09016807]\n",
      "loss: 17.018867 mu: [-0.54783016 -0.590821   -0.02180043]\n",
      "loss: 17.026001 mu: [-0.66617954 -0.70755076  0.03447024]\n",
      "loss: 20.906048 mu: [-0.7864518 -0.8387914  0.0219383]\n",
      "loss: 25.302828 mu: [-0.89560825 -0.9479581   0.06749553]\n",
      "loss: 16.262108 mu: [-1.0036962  -1.0597554   0.09145799]\n",
      "loss: 18.547161 mu: [-1.0997602  -1.1511965   0.15948977]\n",
      "loss: 20.494411 mu: [-1.1986444  -1.255567    0.16997397]\n",
      "loss: 14.492522 mu: [-1.2912115 -1.3467085  0.2169843]\n",
      "loss: 14.101868 mu: [-1.3817797  -1.443674    0.22008407]\n",
      "loss: 15.475110 mu: [-1.4657048  -1.5261906   0.26431867]\n",
      "loss: 14.671127 mu: [-1.5480297 -1.6125643  0.2782606]\n",
      "loss: 14.154516 mu: [-1.6239567  -1.6860789   0.32570735]\n",
      "loss: 14.538898 mu: [-1.6999624 -1.7652081  0.3416909]\n",
      "loss: 12.164493 mu: [-1.7707897 -1.8361855  0.3735126]\n",
      "loss: 13.901186 mu: [-1.8430278 -1.916199   0.3618573]\n",
      "loss: 13.985053 mu: [-1.9054612 -1.9755219  0.4087339]\n",
      "loss: 18.355547 mu: [-1.9703377 -2.0457497  0.4100106]\n",
      "loss: 13.386320 mu: [-2.0280795 -2.0995965  0.4592466]\n",
      "loss: 12.252517 mu: [-2.0861564  -2.1607811   0.47023782]\n",
      "loss: 12.241352 mu: [-2.1454096  -2.225496    0.46723303]\n",
      "loss: 13.052933 mu: [-2.195121  -2.2732413  0.5044382]\n",
      "loss: 12.425845 mu: [-2.2466457  -2.3260067   0.52269095]\n",
      "loss: 14.000224 mu: [-2.2949955 -2.3761187  0.53807  ]\n",
      "loss: 12.601088 mu: [-2.3418465 -2.4240332  0.5556693]\n",
      "loss: 13.163125 mu: [-2.3868797  -2.4714336   0.56506443]\n",
      "loss: 11.224277 mu: [-2.4281554 -2.5131664  0.5846881]\n",
      "loss: 11.104707 mu: [-2.4678693 -2.5512335  0.6149209]\n",
      "loss: 12.275169 mu: [-2.5071878 -2.594176   0.6167446]\n",
      "loss: 11.734338 mu: [-2.5449755 -2.6334603  0.6289828]\n",
      "loss: 11.848306 mu: [-2.5823495  -2.675983    0.62021995]\n",
      "loss: 11.946148 mu: [-2.6169267  -2.7096872   0.64349616]\n",
      "loss: 11.916880 mu: [-2.6483824 -2.7412443  0.6620727]\n",
      "loss: 12.052802 mu: [-2.6793983  -2.7753642   0.66403437]\n",
      "loss: 12.592891 mu: [-2.711026  -2.8118641  0.6556121]\n",
      "loss: 14.674116 mu: [-2.737246   -2.8347723   0.69003767]\n",
      "loss: 12.393883 mu: [-2.7657955 -2.8653345  0.6955381]\n",
      "loss: 12.279412 mu: [-2.7946131 -2.900038   0.6795271]\n",
      "loss: 7.459534 mu: [-2.81776   -2.9159415  0.7333964]\n",
      "loss: 10.574296 mu: [-2.8435202  -2.9479446   0.71410036]\n",
      "loss: 13.896599 mu: [-2.865333  -2.9698539  0.72949  ]\n",
      "loss: 12.216817 mu: [-2.8870428 -2.9916036  0.7446845]\n",
      "loss: 14.162481 mu: [-2.9081552 -3.0130649  0.7574414]\n",
      "loss: 9.998183 mu: [-2.9301646 -3.0391471  0.7490604]\n",
      "loss: 11.848566 mu: [-2.9504435  -3.0595567   0.76207685]\n",
      "loss: 11.133087 mu: [-2.9695363  -3.0816617   0.75879043]\n",
      "loss: 12.475505 mu: [-2.9881191  -3.1043315   0.75034297]\n",
      "loss: 11.543226 mu: [-3.004307  -3.1175861  0.7782321]\n",
      "loss: 11.919758 mu: [-3.0215337  -3.1372056   0.77872187]\n",
      "loss: 11.688233 mu: [-3.0354161 -3.151624   0.7887686]\n",
      "loss: 10.409632 mu: [-3.0500157 -3.1688874  0.7862526]\n",
      "loss: 11.722592 mu: [-3.063758  -3.1817935  0.802561 ]\n",
      "loss: 10.835610 mu: [-3.077655  -3.1982415  0.800734 ]\n",
      "loss: 11.092027 mu: [-3.089892   -3.2095249   0.81700957]\n",
      "loss: 10.058978 mu: [-3.1033826 -3.2256773  0.8133192]\n",
      "loss: 11.284060 mu: [-3.1161773 -3.2417257  0.8066631]\n",
      "loss: 11.356926 mu: [-3.1272626  -3.2535107   0.81354725]\n",
      "loss: 11.390866 mu: [-3.1378572  -3.262726    0.83098584]\n",
      "loss: 9.473508 mu: [-3.1458817  -3.2687924   0.85185224]\n",
      "loss: 12.671476 mu: [-3.1562257 -3.2837012  0.8377734]\n",
      "loss: 11.954254 mu: [-3.1678576 -3.2998137  0.822908 ]\n",
      "loss: 12.717437 mu: [-3.1759584  -3.3066912   0.83908004]\n",
      "loss: 12.837530 mu: [-3.1873813  -3.3207855   0.83414596]\n",
      "loss: 10.473426 mu: [-3.1927736 -3.3215606  0.868564 ]\n",
      "loss: 10.767300 mu: [-3.200865  -3.331502   0.8682629]\n",
      "loss: 15.053724 mu: [-3.2126799 -3.3514457  0.8336664]\n",
      "loss: 11.806514 mu: [-3.2186306 -3.3513517  0.8748387]\n",
      "loss: 12.305711 mu: [-3.2243764  -3.3591151   0.87319404]\n",
      "loss: 11.199943 mu: [-3.2340224  -3.3756688   0.84534985]\n",
      "loss: 11.048465 mu: [-3.239019  -3.3801143  0.8574055]\n",
      "loss: 17.599552 mu: [-3.2484539 -3.3927588  0.8481001]\n",
      "loss: 11.683100 mu: [-3.2512672  -3.391831    0.87705284]\n",
      "loss: 11.467859 mu: [-3.2594872  -3.4062364   0.85202307]\n",
      "loss: 14.513137 mu: [-3.2631152  -3.408921    0.86657435]\n",
      "loss: 12.043767 mu: [-3.2664814  -3.4113328   0.87986857]\n",
      "loss: 12.665663 mu: [-3.2730632  -3.4227314   0.86198235]\n",
      "loss: 12.817554 mu: [-3.2752147 -3.423178   0.8788344]\n",
      "loss: 11.484714 mu: [-3.2803545 -3.4300246  0.8778138]\n",
      "loss: 10.459853 mu: [-3.2855382 -3.436892   0.8763038]\n",
      "loss: 12.824031 mu: [-3.2892232 -3.4418733  0.8773661]\n",
      "loss: 12.653494 mu: [-3.2932422 -3.4453824  0.8872422]\n",
      "loss: 10.608104 mu: [-3.2976062  -3.4513066   0.88604975]\n",
      "loss: 10.350547 mu: [-3.2997997  -3.4537284   0.89224833]\n",
      "loss: 11.508862 mu: [-3.3031754 -3.4592466  0.8874906]\n",
      "loss: 10.299715 mu: [-3.3048751  -3.460987    0.89493316]\n",
      "loss: 11.516034 mu: [-3.3085406 -3.4672403  0.8880299]\n",
      "loss: 11.010504 mu: [-3.3115344  -3.4706824   0.89263743]\n",
      "loss: 11.811999 mu: [-3.3126667 -3.469482   0.9126643]\n",
      "loss: 12.633848 mu: [-3.3176103 -3.480395   0.8869929]\n",
      "loss: 12.322564 mu: [-3.3208902  -3.4866993   0.87773347]\n",
      "loss: 11.528634 mu: [-3.3217108  -3.4840689   0.90295714]\n",
      "loss: 10.575814 mu: [-3.3231745  -3.4876246   0.89894396]\n",
      "loss: 11.694347 mu: [-3.3247576  -3.4885077   0.90872973]\n",
      "loss: 10.175838 mu: [-3.3284826 -3.4947143  0.9021247]\n",
      "loss: 10.225866 mu: [-3.3298767 -3.4956574  0.9107026]\n",
      "loss: 12.069822 mu: [-3.3309746 -3.5008647  0.8956144]\n",
      "loss: 11.872923 mu: [-3.3324773 -3.5024314  0.9012023]\n",
      "loss: 12.102298 mu: [-3.3345754  -3.5081463   0.88851625]\n",
      "loss: 11.828833 mu: [-3.3356357  -3.509869    0.89140207]\n",
      "loss: 12.367976 mu: [-3.3348408  -3.5085826   0.90116084]\n",
      "loss: 11.410131 mu: [-3.3359518  -3.5088167   0.91194004]\n",
      "loss: 13.224559 mu: [-3.3376148  -3.516183    0.88796556]\n",
      "loss: 13.400390 mu: [-3.3387327  -3.5170517   0.89582855]\n",
      "loss: 11.925136 mu: [-3.3394835 -3.5167994  0.9070719]\n",
      "loss: 11.128916 mu: [-3.3403115  -3.5212808   0.89394766]\n",
      "loss: 11.194156 mu: [-3.342417  -3.5267382  0.8822145]\n",
      "loss: 11.684545 mu: [-3.3406625  -3.51852     0.92279696]\n",
      "loss: 12.902004 mu: [-3.3422205  -3.5234408   0.91120535]\n",
      "loss: 11.812960 mu: [-3.3418057 -3.5254033  0.905049 ]\n",
      "loss: 10.784203 mu: [-3.341877  -3.5250633  0.9133159]\n",
      "loss: 9.768022 mu: [-3.342913   -3.528838    0.90561575]\n",
      "loss: 10.075880 mu: [-3.3453677 -3.5337346  0.8984257]\n",
      "loss: 14.221076 mu: [-3.3447235 -3.5345154  0.8977561]\n",
      "loss: 9.550406 mu: [-3.346823  -3.5388732  0.8919702]\n",
      "loss: 14.068097 mu: [-3.3454344  -3.5365012   0.90412503]\n",
      "loss: 11.044363 mu: [-3.3463507  -3.5390537   0.90194863]\n",
      "loss: 11.424930 mu: [-3.3455124  -3.538909    0.90461904]\n",
      "loss: 11.514423 mu: [-3.3456032 -3.5380218  0.9154221]\n",
      "loss: 18.396418 mu: [-3.3472016 -3.5420341  0.9081393]\n",
      "loss: 11.397233 mu: [-3.3469498 -3.5392518  0.92718  ]\n",
      "loss: 14.124281 mu: [-3.3491642 -3.5487714  0.8938507]\n",
      "loss: 12.012840 mu: [-3.3510516  -3.5508394   0.89806265]\n",
      "loss: 12.425160 mu: [-3.347372   -3.5411758   0.93625474]\n",
      "loss: 10.523733 mu: [-3.3487828 -3.5460608  0.9237223]\n",
      "loss: 11.994990 mu: [-3.3519368 -3.5573156  0.8864763]\n",
      "loss: 11.507030 mu: [-3.3505442  -3.5497987   0.92442536]\n",
      "loss: 11.318528 mu: [-3.3515182 -3.5553112  0.906188 ]\n",
      "loss: 10.885575 mu: [-3.3508909 -3.553298   0.9189776]\n",
      "loss: 11.470119 mu: [-3.3522954 -3.5572593  0.9114813]\n",
      "loss: 13.777523 mu: [-3.3525076 -3.5570533  0.9191983]\n",
      "loss: 11.072863 mu: [-3.3534052 -3.5594983  0.9164754]\n",
      "loss: 11.395103 mu: [-3.3513386  -3.556705    0.92657393]\n",
      "loss: 9.537954 mu: [-3.3506105 -3.5593016  0.9147   ]\n",
      "loss: 10.795897 mu: [-3.3513887  -3.562194    0.90860355]\n",
      "loss: 12.145736 mu: [-3.352563  -3.5649526  0.9046275]\n",
      "loss: 9.184980 mu: [-3.3517957 -3.5624208  0.9196521]\n",
      "loss: 16.160542 mu: [-3.351531  -3.5643208  0.9134989]\n",
      "loss: 9.739652 mu: [-3.350416  -3.560391   0.9337001]\n",
      "loss: 12.240701 mu: [-3.351846   -3.564074    0.92622256]\n",
      "loss: 10.823115 mu: [-3.3535767  -3.5697227   0.91036993]\n",
      "loss: 11.335590 mu: [-3.3524878 -3.5679507  0.9199239]\n",
      "loss: 10.903345 mu: [-3.3556237 -3.5780096  0.8874002]\n",
      "loss: 11.631480 mu: [-3.3538506 -3.5719254  0.9155397]\n"
     ]
    },
    {
     "name": "stdout",
     "output_type": "stream",
     "text": [
      "loss: 11.719726 mu: [-3.353878  -3.573086   0.9146844]\n",
      "loss: 12.809627 mu: [-3.3543918 -3.576275   0.9060949]\n",
      "loss: 12.064063 mu: [-3.3511655 -3.5696478  0.9301079]\n",
      "loss: 11.568466 mu: [-3.3513844  -3.5737927   0.91373783]\n",
      "loss: 11.628743 mu: [-3.353008  -3.5788558  0.9000982]\n",
      "loss: 9.330519 mu: [-3.3528156 -3.5770175  0.9141305]\n",
      "loss: 15.873258 mu: [-3.3541765  -3.5800843   0.90932024]\n",
      "loss: 13.402539 mu: [-3.3521583  -3.5752175   0.92895955]\n",
      "loss: 11.002305 mu: [-3.351418   -3.576003    0.92601264]\n",
      "loss: 11.248577 mu: [-3.3505647  -3.5751953   0.93055385]\n",
      "loss: 13.229175 mu: [-3.3516867 -3.5799909  0.9157701]\n",
      "loss: 12.989222 mu: [-3.3521278  -3.5828052   0.90816045]\n",
      "loss: 11.116403 mu: [-3.351585   -3.5824256   0.91232663]\n",
      "loss: 11.413358 mu: [-3.350495   -3.5806277   0.92090446]\n",
      "loss: 12.359845 mu: [-3.3501978 -3.5803056  0.9251296]\n",
      "loss: 13.074423 mu: [-3.3473878 -3.5753076  0.94213  ]\n",
      "loss: 12.771024 mu: [-3.3478196 -3.5803118  0.9224297]\n",
      "loss: 13.472776 mu: [-3.3506873 -3.5892558  0.8942492]\n",
      "loss: 10.833201 mu: [-3.348521  -3.584759   0.9116851]\n",
      "loss: 11.391124 mu: [-3.347314  -3.5821788  0.9239029]\n",
      "loss: 12.181921 mu: [-3.3484743 -3.5848813  0.9189225]\n",
      "loss: 11.957655 mu: [-3.3458421  -3.5807714   0.93187654]\n",
      "loss: 10.912582 mu: [-3.3477619  -3.5881033   0.90784407]\n",
      "loss: 10.790586 mu: [-3.3461168 -3.5838752  0.9268898]\n",
      "loss: 11.752793 mu: [-3.3462753  -3.5875192   0.91273284]\n",
      "loss: 11.832411 mu: [-3.3440514 -3.582769   0.9317607]\n",
      "loss: 11.615628 mu: [-3.344884  -3.5889118  0.908565 ]\n",
      "loss: 11.789757 mu: [-3.3435056  -3.586709    0.91782314]\n",
      "loss: 12.812436 mu: [-3.3422604 -3.5838268  0.9314051]\n",
      "loss: 11.620658 mu: [-3.3423984 -3.587571   0.9164484]\n",
      "loss: 16.106888 mu: [-3.3408446 -3.585716   0.9226823]\n",
      "loss: 13.677861 mu: [-3.3405387 -3.5864773  0.9215461]\n",
      "loss: 12.159468 mu: [-3.337602  -3.5793033  0.9491551]\n",
      "loss: 13.517860 mu: [-3.3387163 -3.587257   0.9178763]\n",
      "loss: 12.251504 mu: [-3.3408356 -3.5951772  0.8917069]\n",
      "loss: 12.909048 mu: [-3.3407145  -3.5928292   0.90783256]\n",
      "loss: 15.672203 mu: [-3.3392055  -3.5877516   0.93094844]\n",
      "loss: 12.803358 mu: [-3.3407855 -3.59213    0.9199856]\n",
      "loss: 10.513634 mu: [-3.338732  -3.5878093  0.9367192]\n",
      "loss: 12.566525 mu: [-3.3407385 -3.5942185  0.9167443]\n",
      "loss: 12.800892 mu: [-3.3400214 -3.5929244  0.9241352]\n",
      "loss: 11.777431 mu: [-3.3393176  -3.5921743   0.92872477]\n",
      "loss: 12.309189 mu: [-3.3396935 -3.5947177  0.9219483]\n",
      "loss: 11.526999 mu: [-3.339015  -3.5951278  0.9208963]\n",
      "loss: 10.902375 mu: [-3.3388062 -3.595835   0.921158 ]\n",
      "loss: 12.031676 mu: [-3.3392746 -3.5964956  0.9239434]\n",
      "loss: 13.258431 mu: [-3.3368156 -3.5929334  0.9350157]\n",
      "loss: 13.233713 mu: [-3.3361    -3.5931778  0.9338081]\n",
      "loss: 11.925227 mu: [-3.3388014 -3.6022358  0.9035785]\n",
      "loss: 11.256767 mu: [-3.3365412 -3.5962567  0.9288612]\n",
      "loss: 10.016872 mu: [-3.3380744  -3.601807    0.91206175]\n",
      "loss: 12.413913 mu: [-3.3366969 -3.5980783  0.9286507]\n",
      "loss: 11.639041 mu: [-3.3369017 -3.5982246  0.9335285]\n",
      "loss: 11.294836 mu: [-3.3350194 -3.597398   0.9329147]\n",
      "loss: 12.902403 mu: [-3.3357291 -3.602567   0.912869 ]\n"
     ]
    }
   ],
   "source": [
    "for i in range(10000):\n",
    "    optimizer.zero_grad()\n",
    "    loss = kl_divergence(vimodel, model, x_train, y_train)\n",
    "    loss.backward()\n",
    "    optimizer.step()\n",
    "    \n",
    "    if (i+1) % 500 == 0 or (i==0):\n",
    "        print('loss: %f mu: %s' % (loss.detach().numpy(), str(vimodel.eta_mu.detach().numpy())))"
   ]
  },
  {
   "cell_type": "code",
   "execution_count": 15,
   "metadata": {},
   "outputs": [
    {
     "data": {
      "text/plain": [
       "Parameter containing:\n",
       "tensor([-1.8370, -1.9110,  0.3676], requires_grad=True)"
      ]
     },
     "execution_count": 15,
     "metadata": {},
     "output_type": "execute_result"
    }
   ],
   "source": [
    "vimodel.eta_mu"
   ]
  },
  {
   "cell_type": "code",
   "execution_count": 16,
   "metadata": {},
   "outputs": [
    {
     "data": {
      "text/plain": [
       "Parameter containing:\n",
       "tensor([ 4.8414e-04, -9.9436e-01, -2.3029e+00], requires_grad=True)"
      ]
     },
     "execution_count": 16,
     "metadata": {},
     "output_type": "execute_result"
    }
   ],
   "source": [
    "vimodel.eta_log_sigma"
   ]
  },
  {
   "cell_type": "code",
   "execution_count": null,
   "metadata": {},
   "outputs": [],
   "source": []
  },
  {
   "cell_type": "code",
   "execution_count": null,
   "metadata": {},
   "outputs": [],
   "source": []
  },
  {
   "cell_type": "code",
   "execution_count": 21,
   "metadata": {},
   "outputs": [],
   "source": [
    "q = torchdist.Normal(torch.tensor([0., 10.]), torch.tensor([1., 1.]))\n",
    "w = q.sample()"
   ]
  },
  {
   "cell_type": "code",
   "execution_count": 22,
   "metadata": {},
   "outputs": [
    {
     "data": {
      "text/plain": [
       "torch.Size([2])"
      ]
     },
     "execution_count": 22,
     "metadata": {},
     "output_type": "execute_result"
    }
   ],
   "source": [
    "w.size()"
   ]
  },
  {
   "cell_type": "code",
   "execution_count": 20,
   "metadata": {},
   "outputs": [
    {
     "data": {
      "text/plain": [
       "(array([ 5.,  5., 13., 25., 17., 14.,  9.,  4.,  3.,  5.]),\n",
       " array([ 8.144145 ,  8.580228 ,  9.016312 ,  9.4523945,  9.888477 ,\n",
       "        10.32456  , 10.760644 , 11.196727 , 11.63281  , 12.068893 ,\n",
       "        12.504976 ], dtype=float32),\n",
       " <a list of 10 Patch objects>)"
      ]
     },
     "execution_count": 20,
     "metadata": {},
     "output_type": "execute_result"
    },
    {
     "data": {
      "image/png": "[encoded data removed]",
      "text/plain": [
       "<Figure size 432x288 with 1 Axes>"
      ]
     },
     "metadata": {
      "needs_background": "light"
     },
     "output_type": "display_data"
    }
   ],
   "source": [
    "plt.hist(w[:,1].numpy())"
   ]
  },
  {
   "cell_type": "code",
   "execution_count": 12,
   "metadata": {},
   "outputs": [],
   "source": [
    "def log_joint_prob(w0, w1, w2, x, y):\n",
    "    prior_w0 = torchdist.Normal(torch.tensor(0.), 10*torch.tensor(1.))\n",
    "    prior_w1 = torchdist.Normal(torch.tensor(0.), 10*torch.tensor(1.))\n",
    "    prior_w2 = torchdist.Normal(torch.tensor(0.), 10*torch.tensor(1.))\n",
    "    \n",
    "    linear = w0 + w1*x + w2*x**2\n",
    "    likelihood = torchdist.Normal(linear, torch.ones_like(linear))\n",
    "    \n",
    "    return (\n",
    "        prior_w0.log_prob(w0) +\n",
    "        prior_w1.log_prob(w1) +\n",
    "        prior_w2.log_prob(w2) +\n",
    "        likelihood.log_prob(y).mean()\n",
    "    )"
   ]
  },
  {
   "cell_type": "code",
   "execution_count": 13,
   "metadata": {},
   "outputs": [
    {
     "name": "stdout",
     "output_type": "stream",
     "text": [
      "174.15164\n",
      "38.347015\n",
      "20.815247\n",
      "18.843868\n",
      "16.873156\n",
      "14.854201\n",
      "13.132132\n",
      "11.94904\n",
      "11.34323\n",
      "11.142217\n",
      "11.097228\n",
      "11.072759\n",
      "11.048522\n",
      "11.029579\n",
      "11.019746\n",
      "11.017018\n",
      "11.01674\n",
      "11.016734\n",
      "11.016733\n",
      "11.016733\n",
      "11.016733\n",
      "11.016733\n",
      "11.016733\n",
      "11.016733\n",
      "11.016734\n",
      "11.016734\n",
      "11.016733\n",
      "11.016734\n",
      "11.016733\n",
      "11.016733\n",
      "11.016733\n"
     ]
    }
   ],
   "source": [
    "w0 = torch.nn.Parameter(torch.tensor(1.))\n",
    "w1 = torch.nn.Parameter(torch.tensor(1.))\n",
    "w2 = torch.nn.Parameter(torch.tensor(1.))\n",
    "\n",
    "optimizer = torch.optim.Adam(params=[w0, w1, w2], lr=1e-3)\n",
    "\n",
    "for i in range(30000):\n",
    "    optimizer.zero_grad()\n",
    "    log_joint_prob_value = log_joint_prob(w0, w1, w2, x_train, y_train)\n",
    "    loss_value = - log_joint_prob_value\n",
    "    loss_value.backward()\n",
    "    optimizer.step()\n",
    "    \n",
    "    if (i+1) % 1000 == 0 or (i==0):\n",
    "        print(loss_value.detach().numpy())"
   ]
  },
  {
   "cell_type": "code",
   "execution_count": 15,
   "metadata": {},
   "outputs": [
    {
     "name": "stdout",
     "output_type": "stream",
     "text": [
      "Parameter containing:\n",
      "tensor(-2.8305, requires_grad=True)\n",
      "Parameter containing:\n",
      "tensor(-3.9310, requires_grad=True)\n",
      "Parameter containing:\n",
      "tensor(0.9795, requires_grad=True)\n"
     ]
    }
   ],
   "source": [
    "print(w0)\n",
    "print(w1)\n",
    "print(w2)"
   ]
  },
  {
   "cell_type": "code",
   "execution_count": null,
   "metadata": {},
   "outputs": [],
   "source": []
  }
 ],
 "metadata": {
  "kernelspec": {
   "display_name": "py36",
   "language": "python",
   "name": "py36"
  },
  "language_info": {
   "codemirror_mode": {
    "name": "ipython",
    "version": 3
   },
   "file_extension": ".py",
   "mimetype": "text/x-python",
   "name": "python",
   "nbconvert_exporter": "python",
   "pygments_lexer": "ipython3",
   "version": "3.6.4"
  },
  "toc": {
   "base_numbering": 1,
   "nav_menu": {},
   "number_sections": true,
   "sideBar": true,
   "skip_h1_title": false,
   "title_cell": "Table of Contents",
   "title_sidebar": "Contents",
   "toc_cell": false,
   "toc_position": {},
   "toc_section_display": true,
   "toc_window_display": false
  }
 },
 "nbformat": 4,
 "nbformat_minor": 2
}
